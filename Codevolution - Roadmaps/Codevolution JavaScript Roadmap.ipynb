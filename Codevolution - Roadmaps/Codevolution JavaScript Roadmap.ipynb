{
 "cells": [
  {
   "cell_type": "markdown",
   "metadata": {},
   "source": [
    "## Running JavaScript\n",
    "\n",
    "1. Script Tag\n",
    "    ```html\n",
    "    <script>console.log(\"Hello World\")</script>\n",
    "    ```\n",
    "2. Link External File\n",
    "    ```html\n",
    "    <script src=\"index.js\"/>\n",
    "    ```\n",
    "3. Browser Console\n",
    "4. With Node.js\n",
    "    ```bash\n",
    "    node index.js\n",
    "    ```"
   ]
  },
  {
   "cell_type": "markdown",
   "metadata": {},
   "source": [
    "# Variables"
   ]
  },
  {
   "cell_type": "markdown",
   "metadata": {},
   "source": [
    "## Declarations\n",
    "[Link](https://medium.com/swlh/the-difference-of-var-vs-let-vs-const-in-javascript-abe37e214d66)\n"
   ]
  },
  {
   "cell_type": "markdown",
   "metadata": {},
   "source": [
    "### `var`\n",
    "- Values inside a var varibale can be changed.\n",
    "- It can be scoped locally or globally. Global scope means the a variable can be scoped outside a function since it is defined outside a function, while local scope means that a variable is defined inside a funciton locally, and cannot be called outside a function."
   ]
  },
  {
   "cell_type": "code",
   "execution_count": 1,
   "metadata": {},
   "outputs": [
    {
     "name": "stdout",
     "output_type": "stream",
     "text": [
      "Welcome to the rice fields mfer\n",
      "I am local\n",
      "Welcome to the rice fields mfer\n"
     ]
    },
    {
     "name": "stderr",
     "output_type": "stream",
     "text": [
      "localVar doesn't exist in scope!\n",
      " ReferenceError: localVar is not defined\n",
      "    at evalmachine.<anonymous>:17:15\n",
      "    at Script.runInThisContext (node:vm:129:12)\n",
      "    at Object.runInThisContext (node:vm:313:38)\n",
      "    at run ([eval]:1020:15)\n",
      "    at onRunRequest ([eval]:864:18)\n",
      "    at onMessage ([eval]:828:13)\n",
      "    at process.emit (node:events:513:28)\n",
      "    at emit (node:internal/child_process:937:14)\n",
      "    at process.processTicksAndRejections (node:internal/process/task_queues:83:21)\n"
     ]
    },
    {
     "name": "stdout",
     "output_type": "stream",
     "text": [
      "Imma take you to the rice fields tonite\n",
      "Hoisted Value: undefined\n",
      "Imma take you to the ranch tonight\n"
     ]
    }
   ],
   "source": [
    "// Declaring variable using var\n",
    "var welcome = \"Welcome to the rice fields mfer\";\n",
    "console.log(welcome);\n",
    "\n",
    "// Creating a local scope using a function\n",
    "function localScope() {\n",
    "  var localVar = \"I am local\";\n",
    "  // Local Var\n",
    "  console.log(localVar);\n",
    "  // Can access global var\n",
    "  console.log(welcome);\n",
    "}\n",
    "localScope(); // Call the function\n",
    "\n",
    "// Locally defined var is not available outside the context it was defined in.\n",
    "try {\n",
    "  console.log(localVar);\n",
    "} catch (e) {\n",
    "  console.error(\"localVar doesn't exist in scope!\\n\", e);\n",
    "}\n",
    "\n",
    "// Can be redeclared\n",
    "var welcome = \"Imma take you to the rice fields tonite\";\n",
    "console.log(welcome);\n",
    "\n",
    "// Hoisting with var will initialize the variable to undefined\n",
    "function sampleHoisting() {\n",
    "  // I Accidently used welcome to show hoisting, even though it was declared.\n",
    "  // This problem is fixed by using let\n",
    "  console.log(`Hoisted Value: ${sup}`); // undefined\n",
    "  var sup = \"Imma take you to the ranch tonight\";\n",
    "  console.log(sup);\n",
    "}\n",
    "sampleHoisting();\n"
   ]
  },
  {
   "cell_type": "markdown",
   "metadata": {},
   "source": [
    "### `let`\n",
    "\n",
    "- Let is block scoped. A block is anything within curly braces.\n",
    "- Like `var`, `let` can be updated, but unlike `var`, it cannot redeclared.\n",
    "- However, Redeclaring inside different scope is allowed.\n",
    "- Hoisting results in `ReferenceError`.\n"
   ]
  },
  {
   "cell_type": "code",
   "execution_count": 2,
   "metadata": {},
   "outputs": [
    {
     "name": "stdout",
     "output_type": "stream",
     "text": [
      "Welcome to the rice fields mfer\n",
      "I am local\n",
      "Welcome to the rice fields mfer\n"
     ]
    },
    {
     "name": "stderr",
     "output_type": "stream",
     "text": [
      "localLet doesn't exist in scope!\n",
      " ReferenceError: localLet is not defined\n",
      "    at evalmachine.<anonymous>:17:15\n",
      "    at Script.runInThisContext (node:vm:129:12)\n",
      "    at Object.runInThisContext (node:vm:313:38)\n",
      "    at run ([eval]:1020:15)\n",
      "    at onRunRequest ([eval]:864:18)\n",
      "    at onMessage ([eval]:828:13)\n",
      "    at process.emit (node:events:513:28)\n",
      "    at emit (node:internal/child_process:937:14)\n",
      "    at process.processTicksAndRejections (node:internal/process/task_queues:83:21)\n"
     ]
    },
    {
     "name": "stdout",
     "output_type": "stream",
     "text": [
      "Imma take you to the rice fields tonite\n"
     ]
    },
    {
     "ename": "ReferenceError",
     "evalue": "Cannot access 'sup' before initialization",
     "output_type": "error",
     "traceback": [
      "evalmachine.<anonymous>:35",
      "  console.log(`Hoisted Value: ${sup}`);",
      "                                ^",
      "",
      "ReferenceError: Cannot access 'sup' before initialization",
      "    at sampleHoisting (evalmachine.<anonymous>:35:33)",
      "    at evalmachine.<anonymous>:39:1",
      "    at Script.runInThisContext (node:vm:129:12)",
      "    at Object.runInThisContext (node:vm:313:38)",
      "    at run ([eval]:1020:15)",
      "    at onRunRequest ([eval]:864:18)",
      "    at onMessage ([eval]:828:13)",
      "    at process.emit (node:events:513:28)",
      "    at emit (node:internal/child_process:937:14)",
      "    at process.processTicksAndRejections (node:internal/process/task_queues:83:21)"
     ]
    }
   ],
   "source": [
    "// Declaring variable using let\n",
    "let welcomeAgain = \"Welcome to the rice fields mfer\";\n",
    "console.log(welcomeAgain);\n",
    "\n",
    "// Creating a local scope using a function\n",
    "function localScope() {\n",
    "  let localLet = \"I am local\";\n",
    "  // Local Let\n",
    "  console.log(localLet);\n",
    "  // Can access global let\n",
    "  console.log(welcomeAgain);\n",
    "}\n",
    "localScope(); // Call the function\n",
    "\n",
    "// Locally defined let is not available outside the context it was defined in.\n",
    "try {\n",
    "  console.log(localLet);\n",
    "} catch (e) {\n",
    "  console.error(\"localLet doesn't exist in scope!\\n\", e);\n",
    "}\n",
    "\n",
    "// Cannot be redeclared\n",
    "try {\n",
    "  let welcomeAgain = \"Imma take you to the rice fields tonite\";\n",
    "  console.log(welcomeAgain);\n",
    "} catch (e) {\n",
    "  console.error(\n",
    "    \"welcomeAgain alredy exist in scope, and cannot be redeclared!\\n\",\n",
    "    e\n",
    "  );\n",
    "}\n",
    "\n",
    "// Hoisting with let will initialize the variable to undefined\n",
    "function sampleHoisting() {\n",
    "  console.log(`Hoisted Value: ${sup}`);\n",
    "  let sup = \"Imma take you to the ranch tonight\";\n",
    "  console.log(sup);\n",
    "}\n",
    "sampleHoisting();\n"
   ]
  },
  {
   "cell_type": "code",
   "execution_count": 3,
   "metadata": {},
   "outputs": [
    {
     "name": "stdout",
     "output_type": "stream",
     "text": [
      "5\n"
     ]
    },
    {
     "ename": "ReferenceError",
     "evalue": "j is not defined",
     "output_type": "error",
     "traceback": [
      "evalmachine.<anonymous>:11",
      "  console.log(j);",
      "              ^",
      "",
      "ReferenceError: j is not defined",
      "    at letLoop (evalmachine.<anonymous>:11:15)",
      "    at evalmachine.<anonymous>:13:1",
      "    at Script.runInThisContext (node:vm:129:12)",
      "    at Object.runInThisContext (node:vm:313:38)",
      "    at run ([eval]:1020:15)",
      "    at onRunRequest ([eval]:864:18)",
      "    at onMessage ([eval]:828:13)",
      "    at process.emit (node:events:513:28)",
      "    at emit (node:internal/child_process:937:14)",
      "    at process.processTicksAndRejections (node:internal/process/task_queues:83:21)"
     ]
    }
   ],
   "source": [
    "// Difference between var and let\n",
    "\n",
    "function varLoop() {\n",
    "  for (var i = 0; i < 5; i++) {}\n",
    "  console.log(i); // 5\n",
    "}\n",
    "varLoop();\n",
    "\n",
    "function letLoop() {\n",
    "  for (let j = 0; j < 5; j++) {}\n",
    "  console.log(j);\n",
    "}\n",
    "letLoop();\n"
   ]
  },
  {
   "cell_type": "markdown",
   "metadata": {},
   "source": [
    "### `const`\n",
    "\n",
    "- `const` variables remain constant values, and cannot be updated.\n",
    "- Like `let`, const are block scoped.\n",
    "- Like `let`, const are not initialized when hoisted to top.\n",
    "- Like `let`, const cannot be redeclared."
   ]
  },
  {
   "cell_type": "code",
   "execution_count": 4,
   "metadata": {},
   "outputs": [
    {
     "name": "stdout",
     "output_type": "stream",
     "text": [
      "3.141592653589793\n",
      "😏\n",
      "3.141592653589793\n"
     ]
    },
    {
     "name": "stderr",
     "output_type": "stream",
     "text": [
      "creamPi doesn't exist in scope!\n",
      " ReferenceError: creamPi is not defined\n",
      "    at evalmachine.<anonymous>:17:15\n",
      "    at Script.runInThisContext (node:vm:129:12)\n",
      "    at Object.runInThisContext (node:vm:313:38)\n",
      "    at run ([eval]:1020:15)\n",
      "    at onRunRequest ([eval]:864:18)\n",
      "    at onMessage ([eval]:828:13)\n",
      "    at process.emit (node:events:513:28)\n",
      "    at emit (node:internal/child_process:937:14)\n",
      "    at process.processTicksAndRejections (node:internal/process/task_queues:83:21)\n"
     ]
    },
    {
     "name": "stdout",
     "output_type": "stream",
     "text": [
      "69.420666\n"
     ]
    },
    {
     "ename": "ReferenceError",
     "evalue": "Cannot access 'sup' before initialization",
     "output_type": "error",
     "traceback": [
      "evalmachine.<anonymous>:35",
      "  console.log(`Hoisted Value: ${sup}`); // undefined",
      "                                ^",
      "",
      "ReferenceError: Cannot access 'sup' before initialization",
      "    at sampleHoisting (evalmachine.<anonymous>:35:33)",
      "    at evalmachine.<anonymous>:39:1",
      "    at Script.runInThisContext (node:vm:129:12)",
      "    at Object.runInThisContext (node:vm:313:38)",
      "    at run ([eval]:1020:15)",
      "    at onRunRequest ([eval]:864:18)",
      "    at onMessage ([eval]:828:13)",
      "    at process.emit (node:events:513:28)",
      "    at emit (node:internal/child_process:937:14)",
      "    at process.processTicksAndRejections (node:internal/process/task_queues:83:21)"
     ]
    }
   ],
   "source": [
    "// Declaring variable using let\n",
    "const pi = \"3.141592653589793\";\n",
    "console.log(pi);\n",
    "\n",
    "// Creating a local scope using a function\n",
    "function localScope() {\n",
    "  const creamPi = \"😏\";\n",
    "  // Local Const\n",
    "  console.log(creamPi);\n",
    "  // Can access global const\n",
    "  console.log(pi);\n",
    "}\n",
    "localScope(); // Call the function\n",
    "\n",
    "// Locally defined const is not available outside the context it was defined in.\n",
    "try {\n",
    "  console.log(creamPi);\n",
    "} catch (e) {\n",
    "  console.error(\"creamPi doesn't exist in scope!\\n\", e);\n",
    "}\n",
    "\n",
    "// Cannot be redeclared\n",
    "try {\n",
    "  let pi = \"69.420666\";\n",
    "  console.log(pi);\n",
    "} catch (e) {\n",
    "  console.error(\n",
    "    \"pi alredy exist in scope, and cannot be redeclared!\\n\",\n",
    "    e\n",
    "  );\n",
    "}\n",
    "\n",
    "// Hoisting with let will initialize the variable to undefined\n",
    "function sampleHoisting() {\n",
    "  console.log(`Hoisted Value: ${sup}`); // undefined\n",
    "  const sup = \"Imma take you to the ranch tonight\";\n",
    "  console.log(sup);\n",
    "}\n",
    "sampleHoisting();\n"
   ]
  }
 ],
 "metadata": {
  "kernelspec": {
   "display_name": "JavaScript (Node.js)",
   "language": "javascript",
   "name": "javascript"
  },
  "language_info": {
   "file_extension": ".js",
   "mimetype": "application/javascript",
   "name": "javascript",
   "version": "18.6.0"
  },
  "orig_nbformat": 4
 },
 "nbformat": 4,
 "nbformat_minor": 2
}
