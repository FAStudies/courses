{
 "cells": [
  {
   "cell_type": "markdown",
   "metadata": {},
   "source": [
    "# Zero to Hero with TensorFlow (TF Fall 2020 Updates)"
   ]
  },
  {
   "cell_type": "markdown",
   "metadata": {},
   "source": [
    "## Optional - Check if TensorFlow is available"
   ]
  },
  {
   "cell_type": "code",
   "execution_count": 3,
   "metadata": {},
   "outputs": [],
   "source": [
    "try:\n",
    "    %tensorflow_version 2.x\n",
    "except Exception:\n",
    "    pass"
   ]
  },
  {
   "cell_type": "code",
   "execution_count": 8,
   "metadata": {},
   "outputs": [],
   "source": [
    "import os\n",
    "import zipfile\n",
    "\n",
    "local_zip = './horse-or-human.zip'\n",
    "zip_ref = zipfile.ZipFile(local_zip, 'r')\n",
    "zip_ref.extractall('./horse-or-human')\n",
    "local_zip = './validation-horse-or-human.zip'\n",
    "zip_ref = zipfile.ZipFile(local_zip, 'r')\n",
    "zip_ref.extractall('./validation-horse-or-human')\n",
    "zip_ref.close()"
   ]
  },
  {
   "cell_type": "markdown",
   "metadata": {},
   "source": [
    "## Import TensorFlow"
   ]
  },
  {
   "cell_type": "code",
   "execution_count": 9,
   "metadata": {},
   "outputs": [],
   "source": [
    "import tensorflow as tf"
   ]
  },
  {
   "cell_type": "code",
   "execution_count": 11,
   "metadata": {},
   "outputs": [],
   "source": [
    "model = tf.keras.models.Sequential([\n",
    "    # Note the input_Shape is the desired size of the Image 150x150 with 3 bytes color\n",
    "\n",
    "    # This is the First Convolution\n",
    "    tf.keras.layers.Conv2D(16, (3,3), activation='relu', input_shape=(150, 150, 3)),\n",
    "    tf.keras.layers.MaxPooling2D(2,2),\n",
    "    \n",
    "    # This is the Second Convolution\n",
    "    tf.keras.layers.Conv2D(32, (3,3), activation='relu'),\n",
    "    tf.keras.layers.MaxPooling2D(2,2),\n",
    "    \n",
    "    # This is the Third Convolution\n",
    "    tf.keras.layers.Conv2D(64, (3,3), activation='relu'),\n",
    "    tf.keras.layers.MaxPooling2D(2,2),\n",
    "    \n",
    "    # This is the Fourth Convolution\n",
    "    tf.keras.layers.Conv2D(64, (3,3), activation='relu'),\n",
    "    tf.keras.layers.MaxPooling2D(2,2),\n",
    "    \n",
    "    # Flatten the results to feed into a DNN\n",
    "    tf.keras.layers.Flatten(),\n",
    "    \n",
    "    # 512 Neuron Hidden Layer\n",
    "    tf.keras.layers.Dense(512, activation='relu'),\n",
    "    \n",
    "    # Only 1 output neuron. \n",
    "    # It will contain a value between 0...1 where 0 for class 1 (Horses) and 1 for class 2 (Human)\n",
    "    tf.keras.layers.Dense(1, activation='sigmoid'),\n",
    "])"
   ]
  },
  {
   "cell_type": "code",
   "execution_count": 16,
   "metadata": {},
   "outputs": [],
   "source": [
    "from tensorflow.keras.optimizers import RMSprop\n",
    "\n",
    "model.compile(\n",
    "    loss='binary_crossentropy',\n",
    "    optimizer=RMSprop(lr=0.001),\n",
    "    metrics=['acc']\n",
    ")"
   ]
  },
  {
   "cell_type": "code",
   "execution_count": 22,
   "metadata": {},
   "outputs": [
    {
     "name": "stdout",
     "output_type": "stream",
     "text": [
      "Found 1027 images belonging to 2 classes.\n",
      "Found 1027 images belonging to 2 classes.\n"
     ]
    }
   ],
   "source": [
    "from tensorflow.keras.preprocessing.image import ImageDataGenerator\n",
    "\n",
    "# All Images will be Augmented\n",
    "train_datagen = ImageDataGenerator(\n",
    "    rescale=1./255,\n",
    "    rotation_range=40,\n",
    "    width_shift_range=0.2,\n",
    "    height_shift_range=0.2,\n",
    "    shear_range=0.2,\n",
    "    zoom_range=0.2,\n",
    "    horizontal_flip=True,\n",
    "    fill_mode='nearest',\n",
    ")\n",
    "\n",
    "# Flow training images in batches of 128 using train_datagen generator\n",
    "train_generator = train_datagen.flow_from_directory(\n",
    "    './horse-or-human/',         # Source Directory for Training Images\n",
    "    target_size=(150, 150),      # All images will be resized to 150x150\n",
    "    batch_size=128,\n",
    "    # Since we used binary_crossentropy, we need binary labels\n",
    "    class_mode = 'binary',\n",
    ")\n",
    "\n",
    "validation_datagen = ImageDataGenerator(rescale=1/255)\n",
    "\n",
    "validation_generator = train_datagen.flow_from_directory(\n",
    "    './horse-or-human/',         # Source Directory for Validation Images\n",
    "    target_size=(150, 150),      # All images will be resized to 150x150\n",
    "    # Since we used binary_crossentropy, we need binary labels\n",
    "    class_mode = 'binary',\n",
    ")"
   ]
  },
  {
   "cell_type": "code",
   "execution_count": 23,
   "metadata": {},
   "outputs": [
    {
     "name": "stdout",
     "output_type": "stream",
     "text": [
      "WARNING:tensorflow:From <ipython-input-23-1f2ff9fd6ea4>:1: Model.fit_generator (from tensorflow.python.keras.engine.training) is deprecated and will be removed in a future version.\n",
      "Instructions for updating:\n",
      "Please use Model.fit, which supports generators.\n",
      "Epoch 1/15\n",
      "8/8 [==============================] - 17s 2s/step - loss: 1.0509 - acc: 0.5206 - val_loss: 0.7542 - val_acc: 0.4869\n",
      "Epoch 2/15\n",
      "8/8 [==============================] - 16s 2s/step - loss: 0.7043 - acc: 0.5384 - val_loss: 0.6779 - val_acc: 0.5492\n",
      "Epoch 3/15\n",
      "8/8 [==============================] - 17s 2s/step - loss: 0.6780 - acc: 0.5873 - val_loss: 0.6565 - val_acc: 0.6660\n",
      "Epoch 4/15\n",
      "8/8 [==============================] - 19s 2s/step - loss: 0.6707 - acc: 0.6045 - val_loss: 0.6487 - val_acc: 0.6534\n",
      "Epoch 5/15\n",
      "8/8 [==============================] - 16s 2s/step - loss: 0.6887 - acc: 0.6307 - val_loss: 0.6191 - val_acc: 0.7390\n",
      "Epoch 6/15\n",
      "8/8 [==============================] - 19s 2s/step - loss: 0.5809 - acc: 0.7100 - val_loss: 0.4941 - val_acc: 0.7303\n",
      "Epoch 7/15\n",
      "8/8 [==============================] - 17s 2s/step - loss: 0.6289 - acc: 0.6585 - val_loss: 0.4967 - val_acc: 0.8053\n",
      "Epoch 8/15\n",
      "8/8 [==============================] - 18s 2s/step - loss: 0.5731 - acc: 0.7129 - val_loss: 0.4785 - val_acc: 0.7751\n",
      "Epoch 9/15\n",
      "8/8 [==============================] - 17s 2s/step - loss: 0.5258 - acc: 0.7620 - val_loss: 0.3988 - val_acc: 0.8082\n",
      "Epoch 10/15\n",
      "8/8 [==============================] - 20s 3s/step - loss: 0.6177 - acc: 0.7041 - val_loss: 0.4332 - val_acc: 0.7907\n",
      "Epoch 11/15\n",
      "8/8 [==============================] - 20s 2s/step - loss: 0.4535 - acc: 0.7753 - val_loss: 0.3693 - val_acc: 0.8393\n",
      "Epoch 12/15\n",
      "8/8 [==============================] - 17s 2s/step - loss: 0.4012 - acc: 0.8098 - val_loss: 0.3668 - val_acc: 0.8413\n",
      "Epoch 13/15\n",
      "8/8 [==============================] - 18s 2s/step - loss: 0.3631 - acc: 0.8398 - val_loss: 0.3213 - val_acc: 0.8510\n",
      "Epoch 14/15\n",
      "8/8 [==============================] - 18s 2s/step - loss: 0.6273 - acc: 0.7875 - val_loss: 0.2813 - val_acc: 0.8802\n",
      "Epoch 15/15\n",
      "8/8 [==============================] - 16s 2s/step - loss: 0.5904 - acc: 0.8298 - val_loss: 0.3819 - val_acc: 0.8238\n"
     ]
    }
   ],
   "source": [
    "history = model.fit_generator(\n",
    "    train_generator,\n",
    "    steps_per_epoch=8,\n",
    "    epochs=15,\n",
    "    verbose=1,\n",
    "    validation_data=validation_generator\n",
    ")"
   ]
  },
  {
   "cell_type": "code",
   "execution_count": 35,
   "metadata": {},
   "outputs": [
    {
     "name": "stdin",
     "output_type": "stream",
     "text": [
      "Image: >  test.jpg\n"
     ]
    },
    {
     "name": "stdout",
     "output_type": "stream",
     "text": [
      "Human\n"
     ]
    },
    {
     "name": "stdin",
     "output_type": "stream",
     "text": [
      "Image: >  test1.jpg\n"
     ]
    },
    {
     "name": "stdout",
     "output_type": "stream",
     "text": [
      "Horse\n"
     ]
    },
    {
     "name": "stdin",
     "output_type": "stream",
     "text": [
      "Image: >  quit\n"
     ]
    }
   ],
   "source": [
    "import numpy as np\n",
    "from keras.preprocessing import image\n",
    "\n",
    "while True:\n",
    "    file = input('Image: > ')\n",
    "    if file == 'quit':\n",
    "        break\n",
    "\n",
    "    img = image.load_img(file, target_size=(150,150))\n",
    "    x = image.img_to_array(img)\n",
    "    x = np.expand_dims(x, axis=0)\n",
    "    image_tensor = np.vstack([x])\n",
    "\n",
    "    classes = model.predict(image_tensor)\n",
    "#     print(classes)\n",
    "#     print(classes[0])\n",
    "    if classes[0] > 0.5:\n",
    "        print('Human')\n",
    "    else: print('Horse')"
   ]
  },
  {
   "cell_type": "code",
   "execution_count": null,
   "metadata": {},
   "outputs": [],
   "source": []
  }
 ],
 "metadata": {
  "kernelspec": {
   "display_name": "Python 3",
   "language": "python",
   "name": "python3"
  },
  "language_info": {
   "codemirror_mode": {
    "name": "ipython",
    "version": 3
   },
   "file_extension": ".py",
   "mimetype": "text/x-python",
   "name": "python",
   "nbconvert_exporter": "python",
   "pygments_lexer": "ipython3",
   "version": "3.8.5"
  }
 },
 "nbformat": 4,
 "nbformat_minor": 4
}
