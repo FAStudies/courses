{
 "cells": [
  {
   "cell_type": "markdown",
   "metadata": {},
   "source": [
    "# Data Structures\n",
    "A way to **store**, organise and **manage** information (or data) in a way that allows you the programmer to easily **access** or **modify** the values within them. "
   ]
  },
  {
   "cell_type": "markdown",
   "metadata": {},
   "source": [
    "## Types of Data Structures\n",
    "### Basic Data Structures\n",
    "Example:\n",
    "1. Password Databases\n",
    "2. Online Directories\n",
    "\n",
    "### Advanced Data Structures\n",
    "Example:\n",
    "1. Undo/Redo Function\n",
    "2. Spell Check\n",
    "3. Text Searching\n"
   ]
  },
  {
   "cell_type": "markdown",
   "metadata": {},
   "source": [
    "# Measuring Efficiency\n",
    "We want a quantifiable way to measure how efficient certain data structures are at different tasks we might ask of it:\n",
    "- Searching Through\n",
    "- Modifying\n",
    "- Accessing\n",
    "\n",
    "The Industry Standard for this kind of measurement is the Big O Notation.   "
   ]
  },
  {
   "cell_type": "markdown",
   "metadata": {},
   "source": [
    "# The BigO Notation\n",
    "BigO is a way to score a data structure based on 4 different criteria.\n",
    "\n",
    "The most commin functions you might want from a data structure are:\n",
    "- Accessing Elements\n",
    "- Searching for an Element\n",
    "- Inserting an Element\n",
    "- Deleting an element\n",
    "\n",
    "By measuring how efficiently a data structure can do these 4 things, we can create a report card."
   ]
  },
  {
   "cell_type": "markdown",
   "metadata": {},
   "source": [
    "## BigO Notation Time Complexity Equations\n",
    "A Time Complexity Equation works by inserting the size of the data-set as an integer $n$, and returning the number of operations that need to be conducted by the computer before the function can finish. \n",
    "$$ n = \\mbox{Size of Data Set}$$\n",
    "\n",
    "We always use the worst case scenerio when judging these data structures.\n",
    "\n",
    "Its called BigO Notation becuase the syntax for the Time Complexity equations includes a Big O and then a set of Parantheses.\n",
    "- The Parantheses houses the function\n",
    "\n",
    "$$O(6) = \\mbox{O of 6}$$\n",
    "$$O(9) = \\mbox{O of 9}$$\n",
    "\n",
    "Most of the time, our integer n, is going to have some adverse effect on how many operations it takes.\n",
    "Larger Dataset generally means More Instructions.\n",
    "\n",
    "We measure efficiency in the number of operations performed becuase measuring how long the function takes to run would be silly. \n",
    "- Measuring by time is biased towards better hardware\n",
    "\n",
    "A Data Structure Efficiency isnt the end all be all for deciding on which data structure to use in your program. \n",
    "Some have specific quarks or features which seperate them."
   ]
  },
  {
   "cell_type": "markdown",
   "metadata": {},
   "source": [
    "The absolute best a data structure can \"score\" on each criteria is O(1)"
   ]
  }
 ],
 "metadata": {
  "kernelspec": {
   "display_name": "Python 3",
   "language": "python",
   "name": "python3"
  },
  "language_info": {
   "codemirror_mode": {
    "name": "ipython",
    "version": 3
   },
   "file_extension": ".py",
   "mimetype": "text/x-python",
   "name": "python",
   "nbconvert_exporter": "python",
   "pygments_lexer": "ipython3",
   "version": "3.8.3"
  }
 },
 "nbformat": 4,
 "nbformat_minor": 4
}
