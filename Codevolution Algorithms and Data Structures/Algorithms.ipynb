{
 "cells": [
  {
   "cell_type": "markdown",
   "metadata": {},
   "source": [
    "# Algorithms\n",
    "**Codevolition** | **[Link](https://www.youtube.com/playlist?list=PLC3y8-rFHvwjPxNAKvZpdnsr41E0fCMMP)**"
   ]
  },
  {
   "cell_type": "markdown",
   "metadata": {},
   "source": [
    "## Notations\n",
    "- **Big O:** Worst Case Complexity\n",
    "- **Big Ω:** Best Case Complexity\n",
    "- **Big θ:** Average Case Complexity"
   ]
  },
  {
   "cell_type": "code",
   "execution_count": null,
   "metadata": {},
   "outputs": [],
   "source": [
    "function summation(n) {\n",
    "  let sum = 0;\n",
    "  for (let i = 0; i < n; i++) {\n",
    "    sum += i;\n",
    "  }\n",
    "  return sum;\n",
    "}"
   ]
  },
  {
   "cell_type": "code",
   "execution_count": null,
   "metadata": {},
   "outputs": [],
   "source": [
    "function summation(n) {\n",
    "  let sum = 0;\n",
    "  for (let i = 0; i < n; i++) {\n",
    "    sum += i;\n",
    "  }\n",
    "  return sum;\n",
    "}"
   ]
  },
  {
   "cell_type": "markdown",
   "metadata": {},
   "source": [
    "**Complexity:** $O(n+2) = O(n)$"
   ]
  },
  {
   "cell_type": "code",
   "execution_count": null,
   "metadata": {},
   "outputs": [],
   "source": [
    "function summation2(n) {\n",
    "  return (n * (n - 1)) / 2;\n",
    "}"
   ]
  },
  {
   "cell_type": "markdown",
   "metadata": {},
   "source": [
    "**Complexity:** $O(1)$\n"
   ]
  },
  {
   "cell_type": "markdown",
   "metadata": {},
   "source": [
    "## Time Complexities\n",
    "\n",
    "### Objects\n",
    "\n",
    "| Operation | Complexity |\n",
    "| --------- | ---------- |\n",
    "| Insert    | O(1)       |\n",
    "| Remoce    | O(1)       |\n",
    "| Access    | O(1)       |\n",
    "| Search    | O(n)       |\n",
    "| keys()    | O(n)       |\n",
    "| values()  | O(n)       |\n",
    "| entries() | O(n)       |\n",
    "\n",
    "### Arrays\n",
    "\n",
    "| Operation  | Complexity |\n",
    "| ---------- | ---------- |\n",
    "| Insert     | O(n)       |\n",
    "| Remoce     | O(n)       |\n",
    "| Access     | O(1)       |\n",
    "| Insert [0] | O(n)       |\n",
    "| Remoce [0] | O(n)       |\n",
    "| Search     | O(n)       |\n",
    "| push()     | O(1)       |\n",
    "| pop()      | O(1)       |\n",
    "| shift()    | O(n)       |\n",
    "| unshift()  | O(n)       |\n",
    "| concat()   | O(n)       |\n",
    "| slice()    | O(n)       |\n",
    "| splice()   | O(n)       |\n",
    "| forEach()  | O(n)       |\n",
    "| map()      | O(n)       |\n",
    "| filter()   | O(n)       |\n",
    "| reduce()   | O(n)       |\n",
    "| sort()     | O(n log n) |\n",
    "| reverse()  | O(n)       |\n",
    "| indexOf()  | O(n)       |\n",
    "| includes() | O(n)       |\n",
    "| find()     | O(n)       |\n",
    "| findIndex()| O(n)       |\n",
    "| every()    | O(n)       |\n",
    "\n",
    "\n"
   ]
  },
  {
   "cell_type": "markdown",
   "metadata": {},
   "source": [
    "## Big-O Cheatsheet\n",
    "- **Calculation not dependent on input side:** $O(1)$\n",
    "- **loop:** $O(n)$\n",
    "- **nested loops:** $O(n^2)$\n",
    "- **Input size reduced by half:** $O(\\log{n})$"
   ]
  },
  {
   "cell_type": "markdown",
   "metadata": {},
   "source": [
    "## Math Algorithms"
   ]
  },
  {
   "cell_type": "markdown",
   "metadata": {},
   "source": [
    "### Topics\n",
    "1. Fibonacci Sequence\n",
    "2. Factorial of a number\n",
    "3. Prime number\n",
    "4. Power of two\n",
    "5. Recursion\n",
    "6. Fibonacci Sequence using Recursion\n",
    "7. Factorial of a number using Recursion"
   ]
  },
  {
   "cell_type": "markdown",
   "metadata": {},
   "source": [
    "## Fibonacci Sequence\n",
    "\n",
    "**Problem:** Given a number 'n', find the first 'n' elements of the Fibonacci Sequence\n",
    "\n",
    "In mathematics, the Fibonacci Swquence is a Sequence in which each number is the sum of the two preceeding ones.  \n",
    "The first two numbers is the sequence are 0 and 1.  \n",
    "\n",
    "- **fibonacci(2)** = \\[0,1\\]    \n",
    "- **fibonacci(3)** = \\[0,1,1\\]    \n",
    "- **fibonacci(7)** = \\[0,1,1,2,3,5,8\\]    "
   ]
  },
  {
   "cell_type": "code",
   "execution_count": null,
   "metadata": {},
   "outputs": [],
   "source": [
    "function fibonacci(n) {\n",
    "  const fib = [0, 1];\n",
    "  for (let i = 2; i <= n; i++) {\n",
    "    fib.push(fib[i - 1] + fib[i - 2]);\n",
    "  }\n",
    "  return fib;\n",
    "}\n"
   ]
  },
  {
   "cell_type": "code",
   "execution_count": null,
   "metadata": {},
   "outputs": [],
   "source": [
    "console.log(fibonacci(2));\n",
    "console.log(fibonacci(3));\n",
    "console.log(fibonacci(7));"
   ]
  },
  {
   "cell_type": "markdown",
   "metadata": {},
   "source": [
    "## Factorial of a number\n",
    "\n",
    "**Problem:** Given a number 'n', find the factorial of 'n'\n",
    "\n",
    "In mathematics, the factorial of a non-negative integer 'n' denoted n! is the product of all positive integers less than or equal to 'n'.\n",
    "\n",
    "- **factorial(0)** = 1\n",
    "- **factorial(1)** = 1\n",
    "- **factorial(4)** = 24\n",
    "- **factorial(5)** = 120"
   ]
  },
  {
   "cell_type": "code",
   "execution_count": null,
   "metadata": {},
   "outputs": [],
   "source": [
    "function factorial(n) {\n",
    "  let result = 1;\n",
    "  for (let i = 2; i <= n; i++) {\n",
    "    result *= i;\n",
    "  }\n",
    "  return result;\n",
    "}"
   ]
  },
  {
   "cell_type": "code",
   "execution_count": null,
   "metadata": {},
   "outputs": [],
   "source": [
    "console.log(factorial(0));\n",
    "console.log(factorial(1));\n",
    "console.log(factorial(5));"
   ]
  },
  {
   "cell_type": "markdown",
   "metadata": {},
   "source": [
    "**Complexity:** O(n)\n"
   ]
  },
  {
   "cell_type": "markdown",
   "metadata": {},
   "source": [
    "## Prime Number\n",
    "**Problem:** Given a natural number 'n', determine if the number is prime or not.\n",
    "\n",
    "A prime number is a natural number greater than 1 that is not a product of two samller natural numbers.\n",
    "\n",
    "- **prime(5)** = `true`\n",
    "- **prime(4)** = `false`"
   ]
  },
  {
   "cell_type": "code",
   "execution_count": null,
   "metadata": {},
   "outputs": [],
   "source": [
    "function isPrime(n) {\n",
    "    if (n < 2) return false;\n",
    "    for (let i = 2; i < n; i++) {\n",
    "        if (n % i === 0) return false;\n",
    "    }\n",
    "    return true;\n",
    "}"
   ]
  },
  {
   "cell_type": "code",
   "execution_count": null,
   "metadata": {},
   "outputs": [],
   "source": [
    "console.log(isPrime(1))\n",
    "console.log(isPrime(5))\n",
    "console.log(isPrime(4))"
   ]
  },
  {
   "cell_type": "markdown",
   "metadata": {},
   "source": [
    "**Complexity:** $O(n)$"
   ]
  },
  {
   "cell_type": "markdown",
   "metadata": {},
   "source": [
    "### Optimised Primality Check\n",
    "Integers larger than the square root do not need to be checked because whenever $n=a*b$, one of the two factors `a` and `b` is less than or equal to the square root of `n`."
   ]
  },
  {
   "cell_type": "code",
   "execution_count": null,
   "metadata": {},
   "outputs": [],
   "source": [
    "function isPrime(n) {\n",
    "    if (n < 2) return false;\n",
    "    for (let i = 2; i <= Math.sqrt(n); i++) {\n",
    "        if (n % i === 0) return false;\n",
    "    }\n",
    "    return true;\n",
    "}"
   ]
  },
  {
   "cell_type": "markdown",
   "metadata": {},
   "source": [
    "**Complexity:** $O(\\sqrt{n})$"
   ]
  },
  {
   "cell_type": "markdown",
   "metadata": {},
   "source": [
    "## Power of Two\n",
    "\n",
    "**Problem:** Given a positive integer `n`, determine if the number is a power of 2 or not.\n",
    "\n",
    "An integer is a power of two if there exists an integer `x` such that $n=2^x$\n",
    "\n",
    "- **isPowerOfTwo(1)** = `true`\n",
    "- **isPowerOfTwo(2)** = `true`\n",
    "- **isPowerOfTwo(5)** = `true`"
   ]
  },
  {
   "cell_type": "code",
   "execution_count": null,
   "metadata": {},
   "outputs": [],
   "source": [
    "function isPowerOfTwo(n) {\n",
    "    if (n < 1) return false;\n",
    "    while (n % 2 === 0) {\n",
    "        n /= 2;\n",
    "    }\n",
    "    return n === 1;\n",
    "}"
   ]
  },
  {
   "cell_type": "code",
   "execution_count": null,
   "metadata": {},
   "outputs": [],
   "source": [
    "console.log(isPowerOfTwo(1));\n",
    "console.log(isPowerOfTwo(2));\n",
    "console.log(isPowerOfTwo(5));\n"
   ]
  },
  {
   "cell_type": "markdown",
   "metadata": {},
   "source": [
    "**Complexity:** $O(\\log{n})$"
   ]
  },
  {
   "cell_type": "markdown",
   "metadata": {},
   "source": [
    "### Optimised Power of Two"
   ]
  },
  {
   "cell_type": "code",
   "execution_count": null,
   "metadata": {},
   "outputs": [],
   "source": [
    "function isPowerOfTwoBitwise(n) {\n",
    "    if (n < 1) return false;\n",
    "    return (n & (n - 1)) === 0 ;\n",
    "}"
   ]
  },
  {
   "cell_type": "code",
   "execution_count": null,
   "metadata": {},
   "outputs": [],
   "source": [
    "console.log(isPowerOfTwoBitwise(1));\n",
    "console.log(isPowerOfTwoBitwise(2));\n",
    "console.log(isPowerOfTwoBitwise(5));\n"
   ]
  },
  {
   "cell_type": "markdown",
   "metadata": {},
   "source": [
    "**Complexity:** $O(1)$"
   ]
  },
  {
   "cell_type": "markdown",
   "metadata": {},
   "source": [
    "## Recursion\n",
    "\n",
    "### What\n",
    "\n",
    "- Recursion is a problem solving techhnique where the solution depends on solutions to smaller instances of the same problem.\n",
    "- Recursion is when a function calls itself.\n",
    "\n",
    "### Why\n",
    "\n",
    "- A great techhnique to simplify your solutions.\n",
    "- If you find yourself breaking down the problem into smaller versions of same problem, recursion is very useful."
   ]
  },
  {
   "cell_type": "markdown",
   "metadata": {},
   "source": [
    "### A few points about recursion\n",
    "- Every recursive solution needs to have a base case - a condition to terminate the recursion.\n",
    "- Recursion might simplify solving a problem, but it does not always translate to a faster solution. A recursive solution might be far worse compared to an iterative solution.\n",
    "- Recursion is a topic that is not the most straightforward to understand."
   ]
  },
  {
   "cell_type": "markdown",
   "metadata": {},
   "source": [
    "# Recursive Fibonacci Sequence\n",
    "\n",
    "**Problem:** Given a number `n`, find the $n^{th}$ element of the Fibonacci Sequence.\n",
    "\n",
    "In mathematics, the Fibonacci Sequence is a Sequence in which each number is the sum of the two preceeding ones.  \n",
    "The first two numbers is the sequence are 0 and 1.\n",
    "\n",
    "- **recursiveFibonacci(0)** = 0\n",
    "- **recursiveFibonacci(1)** = 1\n",
    "- **recursiveFibonacci(6)** = 8"
   ]
  },
  {
   "cell_type": "code",
   "execution_count": null,
   "metadata": {},
   "outputs": [],
   "source": [
    "function recursiveFibonacci(n) {\n",
    "    if (n < 2) return n;\n",
    "    return recursiveFibonacci(n - 1) + recursiveFibonacci(n - 2);\n",
    "}"
   ]
  },
  {
   "cell_type": "code",
   "execution_count": null,
   "metadata": {},
   "outputs": [],
   "source": [
    "console.log(recursiveFibonacci(2));\n",
    "console.log(recursiveFibonacci(3));\n",
    "console.log(recursiveFibonacci(7));"
   ]
  },
  {
   "cell_type": "markdown",
   "metadata": {},
   "source": [
    "**Complexity:** <span style=\"color:red\">$O(2^n)$</span>"
   ]
  },
  {
   "cell_type": "markdown",
   "metadata": {},
   "source": [
    "# Recursive Factorial of a Number\n",
    "\n",
    "**Problem:** Given an integer 'n', find the factorial of 'n'.\n",
    "\n",
    "The factorial of a non-negative integer 'n' denoted n! is the product of all positive integers less than or equal to 'n'.    \n",
    "Factorial of zero is 1.\n",
    "\n",
    "- **recursiveFactorial(4)** = 24\n",
    "- **recursiveFactorial(5)** = 120"
   ]
  },
  {
   "cell_type": "code",
   "execution_count": null,
   "metadata": {},
   "outputs": [],
   "source": [
    "function recursiveFactorial(n) {\n",
    "    if (n < 2) return 1;\n",
    "    return n * recursiveFactorial(n - 1);\n",
    "}"
   ]
  },
  {
   "cell_type": "code",
   "execution_count": null,
   "metadata": {},
   "outputs": [],
   "source": []
  },
  {
   "cell_type": "markdown",
   "metadata": {},
   "source": []
  }
 ],
 "metadata": {
  "kernelspec": {
   "display_name": "JavaScript (Node.js)",
   "language": "javascript",
   "name": "javascript"
  },
  "language_info": {
   "codemirror_mode": {
    "name": "ipython",
    "version": 3
   },
   "file_extension": ".py",
   "mimetype": "text/x-python",
   "name": "javascript",
   "nbconvert_exporter": "python",
   "pygments_lexer": "ipython3",
   "version": "3.10.6"
  },
  "orig_nbformat": 4,
  "vscode": {
   "interpreter": {
    "hash": "b0fa6594d8f4cbf19f97940f81e996739fb7646882a419484c72d19e05852a7e"
   }
  }
 },
 "nbformat": 4,
 "nbformat_minor": 2
}
