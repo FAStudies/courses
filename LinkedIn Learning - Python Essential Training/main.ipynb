{
 "cells": [
  {
   "attachments": {},
   "cell_type": "markdown",
   "metadata": {},
   "source": [
    "# Python Essential Training"
   ]
  },
  {
   "cell_type": "markdown",
   "metadata": {},
   "source": [
    "### Display Value on Screen"
   ]
  },
  {
   "cell_type": "code",
   "execution_count": 2,
   "metadata": {},
   "outputs": [
    {
     "name": "stdout",
     "output_type": "stream",
     "text": [
      "Doing some Data Science\n"
     ]
    }
   ],
   "source": [
    "print(\"Doing some Data Science\")"
   ]
  },
  {
   "attachments": {},
   "cell_type": "markdown",
   "metadata": {},
   "source": [
    "### Defining a Variable"
   ]
  },
  {
   "cell_type": "code",
   "execution_count": 3,
   "metadata": {},
   "outputs": [],
   "source": [
    "x = 5\n",
    "name = \"Ryan\"\n",
    "\n",
    "print(type(name))\n",
    "print(type(1.5))\n",
    "\n",
    "print(1.23456789)\n",
    "print(12345678.9)\n",
    "\n",
    "print(type(2j))\n",
    "print(1j * 1j)\n",
    "\n"
   ]
  },
  {
   "cell_type": "markdown",
   "metadata": {},
   "source": [
    "#### Strings"
   ]
  },
  {
   "cell_type": "code",
   "execution_count": 100,
   "metadata": {},
   "outputs": [
    {
     "ename": "SyntaxError",
     "evalue": "invalid syntax (474614126.py, line 7)",
     "output_type": "error",
     "traceback": [
      "\u001b[0;36m  Cell \u001b[0;32mIn[100], line 7\u001b[0;36m\u001b[0m\n\u001b[0;31m    print(\"TypeError: can only concatenate str (not \"int\") to str\")\u001b[0m\n\u001b[0m                                                     ^\u001b[0m\n\u001b[0;31mSyntaxError\u001b[0m\u001b[0;31m:\u001b[0m invalid syntax\n"
     ]
    }
   ],
   "source": [
    "'String 1' + 'String 1'\n",
    "\"1\" + \"1\"\n",
    "\n",
    "try:\n",
    "  \"1\" + 1 # Throw Error\n",
    "except: # Catch Error\n",
    "  print(\"TypeError: can only concatenate str (not \"int\") to str\")"
   ]
  },
  {
   "attachments": {},
   "cell_type": "markdown",
   "metadata": {},
   "source": [
    "### Data Structures"
   ]
  },
  {
   "cell_type": "markdown",
   "metadata": {},
   "source": [
    "#### Lists"
   ]
  },
  {
   "cell_type": "code",
   "execution_count": 103,
   "metadata": {},
   "outputs": [
    {
     "name": "stdout",
     "output_type": "stream",
     "text": [
      "[1, 2, 3, 4, 5]\n",
      "\n",
      "['list', 'of', 'strings']\n",
      "\n",
      "[1, 2, 'three', 'four', False, True, ['sup']]\n",
      "Elements in list: 7\n"
     ]
    }
   ],
   "source": [
    "my_list = [1,2,3,4,5]\n",
    "print(my_list, end=\"\\n\\n\")\n",
    "\n",
    "my_list = [\"list\", \"of\", \"strings\"]\n",
    "print(my_list, end=\"\\n\\n\")\n",
    "\n",
    "my_list = [1,2, \"three\", \"four\", False, True, [\"sup\"]]\n",
    "print(my_list)\n",
    "print(f\"Elements in list: {len(my_list)}\")"
   ]
  },
  {
   "attachments": {},
   "cell_type": "markdown",
   "metadata": {},
   "source": [
    "#### Sets"
   ]
  },
  {
   "cell_type": "code",
   "execution_count": 83,
   "metadata": {},
   "outputs": [
    {
     "name": "stdout",
     "output_type": "stream",
     "text": [
      "{1, 2, 3, 4, 5}\n",
      "<class 'set'>\n",
      "5\n",
      "2\n",
      "{1, 2}\n",
      "False\n",
      "True\n"
     ]
    }
   ],
   "source": [
    "my_set = {1,2,3,4,5}\n",
    "print(my_set)\n",
    "print(type(my_set))\n",
    "print(len(my_set))\n",
    "\n",
    "my_set = {1,1,2,2}\n",
    "print(len(my_set))\n",
    "print(my_set)\n",
    "\n",
    "print([1,2] == [2,1])\n",
    "print({1,2} == {2,1})"
   ]
  },
  {
   "attachments": {},
   "cell_type": "markdown",
   "metadata": {},
   "source": [
    "#### Tuples"
   ]
  },
  {
   "cell_type": "code",
   "execution_count": 92,
   "metadata": {},
   "outputs": [
    {
     "name": "stdout",
     "output_type": "stream",
     "text": [
      "(1, 2, 3)\n",
      "False\n",
      "ERROR: Can't add element to tuple\n"
     ]
    }
   ],
   "source": [
    "my_tuples = (1,2,3)\n",
    "print(my_tuples)\n",
    "\n",
    "print((1,2) == (2,1))\n",
    "len(my_tuples)\n",
    "\n",
    "try:\n",
    "  my_tuples.append(4) # Throws Error\n",
    "except: # Catches Error\n",
    "  print(\"ERROR: Can't add element to tuple\")"
   ]
  },
  {
   "attachments": {},
   "cell_type": "markdown",
   "metadata": {},
   "source": [
    "**Tuples are Immutable, Hence Memory Efficient**"
   ]
  },
  {
   "attachments": {},
   "cell_type": "markdown",
   "metadata": {},
   "source": [
    "#### Dictionaries"
   ]
  },
  {
   "cell_type": "code",
   "execution_count": 95,
   "metadata": {},
   "outputs": [
    {
     "name": "stdout",
     "output_type": "stream",
     "text": [
      "A red fruit\n",
      "A green fruit\n"
     ]
    }
   ],
   "source": [
    "my_dictionary = {\n",
    "  'apple': \"A red fruit\",\n",
    "  \"bear\": \"A scary animal\"\n",
    "}\n",
    "\n",
    "print(my_dictionary[\"apple\"])\n",
    "\n",
    "my_dictionary = {\n",
    "  'apple': \"A red fruit\",\n",
    "  \"bear\": \"A scary animal\",\n",
    "  'apple': \"A green fruit\"\n",
    "}\n",
    "print(my_dictionary[\"apple\"])"
   ]
  },
  {
   "attachments": {},
   "cell_type": "markdown",
   "metadata": {},
   "source": [
    "### Operators"
   ]
  },
  {
   "attachments": {},
   "cell_type": "markdown",
   "metadata": {},
   "source": [
    "#### Arithmetic Operators"
   ]
  },
  {
   "cell_type": "code",
   "execution_count": 79,
   "metadata": {},
   "outputs": [
    {
     "name": "stdout",
     "output_type": "stream",
     "text": [
      "2\n",
      "1\n",
      "20\n",
      "25\n",
      "5.0\n",
      "2\n"
     ]
    }
   ],
   "source": [
    "print(1 + 1) # Addition\n",
    "print(2 - 1) # Subtraction\n",
    "print(4 * 5) # Multiplication\n",
    "print(5 ** 2) # Exponent\n",
    "print(20 / 4) # Get quotient (division operator)\n",
    "print(20 % 6) # Get remainder (modulus operator)"
   ]
  },
  {
   "attachments": {},
   "cell_type": "markdown",
   "metadata": {},
   "source": [
    "**Division always returns float**"
   ]
  },
  {
   "attachments": {},
   "cell_type": "markdown",
   "metadata": {},
   "source": [
    "##### Arithmetic Operators with String"
   ]
  },
  {
   "cell_type": "code",
   "execution_count": 76,
   "metadata": {},
   "outputs": [
    {
     "name": "stdout",
     "output_type": "stream",
     "text": [
      "pandapanda\n",
      "panda-panda-panda-panda-\n"
     ]
    },
    {
     "ename": "TypeError",
     "evalue": "can only concatenate str (not \"int\") to str",
     "output_type": "error",
     "traceback": [
      "\u001b[0;31m---------------------------------------------------------------------------\u001b[0m",
      "\u001b[0;31mTypeError\u001b[0m                                 Traceback (most recent call last)",
      "Cell \u001b[0;32mIn[76], line 3\u001b[0m\n\u001b[1;32m      1\u001b[0m \u001b[39mprint\u001b[39m(\u001b[39m\"\u001b[39m\u001b[39mpanda\u001b[39m\u001b[39m\"\u001b[39m \u001b[39m+\u001b[39m \u001b[39m\"\u001b[39m\u001b[39mpanda\u001b[39m\u001b[39m\"\u001b[39m)\n\u001b[1;32m      2\u001b[0m \u001b[39mprint\u001b[39m(\u001b[39m\"\u001b[39m\u001b[39mpanda-\u001b[39m\u001b[39m\"\u001b[39m \u001b[39m*\u001b[39m \u001b[39m4\u001b[39m)\n\u001b[0;32m----> 3\u001b[0m \u001b[39mprint\u001b[39m(\u001b[39m'\u001b[39;49m\u001b[39m 1\u001b[39;49m\u001b[39m'\u001b[39;49m \u001b[39m+\u001b[39;49m \u001b[39m4\u001b[39;49m)\n",
      "\u001b[0;31mTypeError\u001b[0m: can only concatenate str (not \"int\") to str"
     ]
    }
   ],
   "source": [
    "print(\"panda\" + \"panda\")\n",
    "print(\"panda-\" * 4)\n",
    "print(' 1' + 4)"
   ]
  },
  {
   "attachments": {},
   "cell_type": "markdown",
   "metadata": {},
   "source": [
    "#### Comparison, Logical and Membership Operators"
   ]
  },
  {
   "cell_type": "code",
   "execution_count": 75,
   "metadata": {},
   "outputs": [
    {
     "name": "stdout",
     "output_type": "stream",
     "text": [
      "True\n",
      "True\n",
      "True\n",
      "True\n",
      "False\n"
     ]
    }
   ],
   "source": [
    "print(True == True)\n",
    "print(4 < 5)\n",
    "print(5 <= 5)\n",
    "print(5 > 2)\n",
    "print(3 >= 4)"
   ]
  },
  {
   "cell_type": "code",
   "execution_count": 70,
   "metadata": {},
   "outputs": [
    {
     "name": "stdout",
     "output_type": "stream",
     "text": [
      "True\n",
      "False\n",
      "True\n",
      "False\n",
      "False\n",
      "True\n"
     ]
    }
   ],
   "source": [
    "print(True and True)\n",
    "print(True and False)\n",
    "print(True or False)\n",
    "print(False or False)\n",
    "print(not True)\n",
    "print(not False)"
   ]
  },
  {
   "cell_type": "code",
   "execution_count": 80,
   "metadata": {},
   "outputs": [
    {
     "name": "stdout",
     "output_type": "stream",
     "text": [
      "True\n",
      "False\n",
      "True\n",
      "True\n",
      "True\n"
     ]
    }
   ],
   "source": [
    "print(1 in [1,2,3,4,5])\n",
    "print(10 in [1,2,3,4,5])\n",
    "print(10 not in [1,2,3,4,5])\n",
    "print('cat' in \"my pet cat\")\n",
    "print('cat' in \"concat\")"
   ]
  },
  {
   "attachments": {},
   "cell_type": "markdown",
   "metadata": {},
   "source": [
    "### Control Flow"
   ]
  },
  {
   "attachments": {},
   "cell_type": "markdown",
   "metadata": {},
   "source": [
    "#### If/Else"
   ]
  },
  {
   "cell_type": "code",
   "execution_count": 65,
   "metadata": {},
   "outputs": [
    {
     "name": "stdout",
     "output_type": "stream",
     "text": [
      "It is true!\n",
      "Also print this\n",
      "Both a and b are true\n",
      "Always Print This\n"
     ]
    }
   ],
   "source": [
    "a = True\n",
    "b = True\n",
    "c = False\n",
    "\n",
    "if a:\n",
    "  print(\"It is true!\")\n",
    "  print(\"Also print this\")\n",
    "  if b:\n",
    "    print(\"Both a and b are true\")\n",
    "    if c:\n",
    "      print(\"c is also true\")\n",
    "else:\n",
    "  print(\"It is false\")\n",
    "print(\"Always Print This\")"
   ]
  },
  {
   "attachments": {},
   "cell_type": "markdown",
   "metadata": {},
   "source": [
    "#### For Loops"
   ]
  },
  {
   "cell_type": "code",
   "execution_count": 105,
   "metadata": {},
   "outputs": [
    {
     "name": "stdout",
     "output_type": "stream",
     "text": [
      "1, 2, 3, 4, 5, "
     ]
    }
   ],
   "source": [
    "a = [1,2,3,4,5]\n",
    "for item in a:\n",
    "  print(item, end=\", \")"
   ]
  },
  {
   "attachments": {},
   "cell_type": "markdown",
   "metadata": {},
   "source": [
    "#### While Loop"
   ]
  },
  {
   "cell_type": "code",
   "execution_count": 1,
   "metadata": {},
   "outputs": [
    {
     "name": "stdout",
     "output_type": "stream",
     "text": [
      "0, 1, 2, 3, 4, "
     ]
    }
   ],
   "source": [
    "a = 0\n",
    "\n",
    "while a < 5:\n",
    "  print(a, end=\", \")\n",
    "  a = a + 1 # Removing this will make it run infinitely"
   ]
  },
  {
   "attachments": {},
   "cell_type": "markdown",
   "metadata": {},
   "source": [
    "### Functions"
   ]
  },
  {
   "cell_type": "code",
   "execution_count": 6,
   "metadata": {},
   "outputs": [],
   "source": [
    "def multiplyByThree(val):\n",
    "  return 3 * val\n",
    "\n",
    "def multiply(val1, val2):\n",
    "  return val1*val2\n",
    "\n",
    "\n",
    "def appendFour(myList):\n",
    "  myList.append(4)"
   ]
  },
  {
   "cell_type": "code",
   "execution_count": 11,
   "metadata": {},
   "outputs": [
    {
     "name": "stdout",
     "output_type": "stream",
     "text": [
      "3 5\n",
      "12\n",
      "\n",
      "None\n",
      "[1, 2, 3, 4]\n"
     ]
    }
   ],
   "source": [
    "print(3,5)\n",
    "print(multiplyByThree(4), end=\"\\n\\n\")\n",
    "\n",
    "myList = [1,2,3]\n",
    "print(appendFour(myList)) # Prints None, as function doesn't return anything\n",
    "print(myList) # It Works"
   ]
  },
  {
   "attachments": {},
   "cell_type": "markdown",
   "metadata": {},
   "source": [
    "### Classes"
   ]
  },
  {
   "cell_type": "code",
   "execution_count": 20,
   "metadata": {},
   "outputs": [
    {
     "name": "stdout",
     "output_type": "stream",
     "text": [
      "Rover says Bark\n",
      "Fluffy says Bark\n"
     ]
    }
   ],
   "source": [
    "class Dog:\n",
    "  def __init__(self, name):\n",
    "    self.name = name\n",
    "    self.legs = 4\n",
    "\n",
    "  def speak(self):\n",
    "    print(self.name + \" says Bark\")\n",
    "\n",
    "my_dog = Dog(\"Rover\")\n",
    "another_dog = Dog(\"Fluffy\")\n",
    "\n",
    "my_dog.speak()\n",
    "another_dog.speak()\n"
   ]
  },
  {
   "attachments": {},
   "cell_type": "markdown",
   "metadata": {},
   "source": [
    "### Factorial Function"
   ]
  },
  {
   "attachments": {},
   "cell_type": "markdown",
   "metadata": {},
   "source": [
    "#### Iterative"
   ]
  },
  {
   "cell_type": "code",
   "execution_count": 56,
   "metadata": {},
   "outputs": [],
   "source": [
    "def factorialIterative(n):\n",
    "  if type(n) != int or n < 0: return None\n",
    "  val = 1\n",
    "  for i in range(1, n+1): val *= i\n",
    "  return val\n",
    "\n",
    "def factorialRecursive(n):\n",
    "  if type(n) != int or n < 0: return None\n",
    "  return n if n in [1, 0]  else n * factorialRecursive(n - 1)"
   ]
  },
  {
   "attachments": {},
   "cell_type": "markdown",
   "metadata": {},
   "source": [
    "#### Recursive"
   ]
  },
  {
   "cell_type": "code",
   "execution_count": 60,
   "metadata": {},
   "outputs": [
    {
     "name": "stdout",
     "output_type": "stream",
     "text": [
      "Factorial of 5: 120\n",
      "Factorial of 6: 720\n",
      "Factorial of 0: 1\n",
      "Factorial of -2: None\n",
      "Factorial of 1.2: None\n",
      "Factorial of spam spam spam spam spam: None\n"
     ]
    }
   ],
   "source": [
    "factorialFunction = factorialIterative\n",
    "values_to_check = [5, 6, 0, -2, 1.2, \"spam spam spam spam spam\"]\n",
    "\n",
    "for value in values_to_check:\n",
    "  print(f'Factorial of {value}: {factorialFunction(value)}')"
   ]
  },
  {
   "attachments": {},
   "cell_type": "markdown",
   "metadata": {},
   "source": [
    "### Floats"
   ]
  },
  {
   "cell_type": "code",
   "execution_count": 68,
   "metadata": {},
   "outputs": [
    {
     "name": "stdout",
     "output_type": "stream",
     "text": [
      "256.0\n",
      "256\n",
      "8\n",
      "0.19999999999999996\n"
     ]
    },
    {
     "data": {
      "text/plain": [
       "0.2"
      ]
     },
     "execution_count": 68,
     "metadata": {},
     "output_type": "execute_result"
    }
   ],
   "source": [
    "print(4**4.0) \n",
    "print(int(4**4.0))\n",
    "\n",
    "print(int(8.9))\n",
    "round(8.9)\n",
    "\n",
    "print(1.2 - 1.0)\n",
    "round(1.2 - 1.0, 2)"
   ]
  },
  {
   "cell_type": "code",
   "execution_count": null,
   "metadata": {},
   "outputs": [],
   "source": []
  }
 ],
 "metadata": {
  "kernelspec": {
   "display_name": "Python 3",
   "language": "python",
   "name": "python3"
  },
  "language_info": {
   "codemirror_mode": {
    "name": "ipython",
    "version": 3
   },
   "file_extension": ".py",
   "mimetype": "text/x-python",
   "name": "python",
   "nbconvert_exporter": "python",
   "pygments_lexer": "ipython3",
   "version": "3.9.6"
  },
  "orig_nbformat": 4
 },
 "nbformat": 4,
 "nbformat_minor": 2
}
