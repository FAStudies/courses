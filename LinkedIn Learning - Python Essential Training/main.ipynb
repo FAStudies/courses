{
 "cells": [
  {
   "attachments": {},
   "cell_type": "markdown",
   "metadata": {},
   "source": [
    "# Python Essential Training\n"
   ]
  },
  {
   "attachments": {},
   "cell_type": "markdown",
   "metadata": {},
   "source": [
    "### Display Value on Screen\n"
   ]
  },
  {
   "cell_type": "code",
   "execution_count": 6,
   "metadata": {},
   "outputs": [
    {
     "name": "stdout",
     "output_type": "stream",
     "text": [
      "Doing some Data Science\n"
     ]
    }
   ],
   "source": [
    "print(\"Doing some Data Science\")"
   ]
  },
  {
   "attachments": {},
   "cell_type": "markdown",
   "metadata": {},
   "source": [
    "### Defining a Variable\n"
   ]
  },
  {
   "cell_type": "code",
   "execution_count": 7,
   "metadata": {},
   "outputs": [
    {
     "name": "stdout",
     "output_type": "stream",
     "text": [
      "<class 'str'>\n",
      "<class 'float'>\n",
      "1.23456789\n",
      "12345678.9\n",
      "<class 'complex'>\n",
      "(-1+0j)\n"
     ]
    }
   ],
   "source": [
    "x = 5\n",
    "name = \"Ryan\"\n",
    "\n",
    "print(type(name))\n",
    "print(type(1.5))\n",
    "\n",
    "print(1.23456789)\n",
    "print(12345678.9)\n",
    "\n",
    "print(type(2j))\n",
    "print(1j * 1j)"
   ]
  },
  {
   "attachments": {},
   "cell_type": "markdown",
   "metadata": {},
   "source": [
    "#### Strings\n"
   ]
  },
  {
   "cell_type": "code",
   "execution_count": 8,
   "metadata": {},
   "outputs": [
    {
     "ename": "SyntaxError",
     "evalue": "invalid syntax (474614126.py, line 7)",
     "output_type": "error",
     "traceback": [
      "\u001b[0;36m  Cell \u001b[0;32mIn[8], line 7\u001b[0;36m\u001b[0m\n\u001b[0;31m    print(\"TypeError: can only concatenate str (not \"int\") to str\")\u001b[0m\n\u001b[0m                                                     ^\u001b[0m\n\u001b[0;31mSyntaxError\u001b[0m\u001b[0;31m:\u001b[0m invalid syntax\n"
     ]
    }
   ],
   "source": [
    "'String 1' + 'String 1'\n",
    "\"1\" + \"1\"\n",
    "\n",
    "try:\n",
    "  \"1\" + 1 # Throw Error\n",
    "except: # Catch Error\n",
    "  print(\"TypeError: can only concatenate str (not \"int\") to str\")"
   ]
  },
  {
   "attachments": {},
   "cell_type": "markdown",
   "metadata": {},
   "source": [
    "### Data Structures\n"
   ]
  },
  {
   "attachments": {},
   "cell_type": "markdown",
   "metadata": {},
   "source": [
    "#### Lists\n"
   ]
  },
  {
   "cell_type": "code",
   "execution_count": 9,
   "metadata": {},
   "outputs": [
    {
     "name": "stdout",
     "output_type": "stream",
     "text": [
      "[1, 2, 3, 4, 5]\n",
      "\n",
      "['list', 'of', 'strings']\n",
      "\n",
      "[1, 2, 'three', 'four', False, True, ['sup']]\n",
      "Elements in list: 7\n"
     ]
    }
   ],
   "source": [
    "my_list = [1, 2, 3, 4, 5]\n",
    "print(my_list, end=\"\\n\\n\")\n",
    "\n",
    "my_list = [\"list\", \"of\", \"strings\"]\n",
    "print(my_list, end=\"\\n\\n\")\n",
    "\n",
    "my_list = [1, 2, \"three\", \"four\", False, True, [\"sup\"]]\n",
    "print(my_list)\n",
    "print(f\"Elements in list: {len(my_list)}\")"
   ]
  },
  {
   "attachments": {},
   "cell_type": "markdown",
   "metadata": {},
   "source": [
    "#### Sets\n"
   ]
  },
  {
   "cell_type": "code",
   "execution_count": 10,
   "metadata": {},
   "outputs": [
    {
     "name": "stdout",
     "output_type": "stream",
     "text": [
      "{1, 2, 3, 4, 5}\n",
      "<class 'set'>\n",
      "5\n",
      "2\n",
      "{1, 2}\n",
      "False\n",
      "True\n"
     ]
    }
   ],
   "source": [
    "my_set = {1, 2, 3, 4, 5}\n",
    "print(my_set)\n",
    "print(type(my_set))\n",
    "print(len(my_set))\n",
    "\n",
    "my_set = {1, 1, 2, 2}\n",
    "print(len(my_set))\n",
    "print(my_set)\n",
    "\n",
    "print([1, 2] == [2, 1])\n",
    "print({1, 2} == {2, 1})"
   ]
  },
  {
   "attachments": {},
   "cell_type": "markdown",
   "metadata": {},
   "source": [
    "#### Tuples\n"
   ]
  },
  {
   "cell_type": "code",
   "execution_count": 11,
   "metadata": {},
   "outputs": [
    {
     "name": "stdout",
     "output_type": "stream",
     "text": [
      "(1, 2, 3)\n",
      "False\n",
      "ERROR: Can't add element to tuple\n"
     ]
    }
   ],
   "source": [
    "my_tuples = (1, 2, 3)\n",
    "print(my_tuples)\n",
    "\n",
    "print((1, 2) == (2, 1))\n",
    "len(my_tuples)\n",
    "\n",
    "try:\n",
    "    my_tuples.append(4)  # Throws Error\n",
    "except:  # Catches Error\n",
    "    print(\"ERROR: Can't add element to tuple\")"
   ]
  },
  {
   "attachments": {},
   "cell_type": "markdown",
   "metadata": {},
   "source": [
    "**Tuples are Immutable, Hence Memory Efficient**\n"
   ]
  },
  {
   "attachments": {},
   "cell_type": "markdown",
   "metadata": {},
   "source": [
    "#### Dictionaries\n"
   ]
  },
  {
   "cell_type": "code",
   "execution_count": 12,
   "metadata": {},
   "outputs": [
    {
     "name": "stdout",
     "output_type": "stream",
     "text": [
      "A red fruit\n",
      "A green fruit\n"
     ]
    }
   ],
   "source": [
    "my_dictionary = {\"apple\": \"A red fruit\", \"bear\": \"A scary animal\"}\n",
    "\n",
    "print(my_dictionary[\"apple\"])\n",
    "\n",
    "my_dictionary = {\n",
    "    \"apple\": \"A red fruit\",\n",
    "    \"bear\": \"A scary animal\",\n",
    "    \"apple\": \"A green fruit\",\n",
    "}\n",
    "print(my_dictionary[\"apple\"])"
   ]
  },
  {
   "attachments": {},
   "cell_type": "markdown",
   "metadata": {},
   "source": [
    "### Operators\n"
   ]
  },
  {
   "attachments": {},
   "cell_type": "markdown",
   "metadata": {},
   "source": [
    "#### Arithmetic Operators\n"
   ]
  },
  {
   "cell_type": "code",
   "execution_count": 13,
   "metadata": {},
   "outputs": [
    {
     "name": "stdout",
     "output_type": "stream",
     "text": [
      "2\n",
      "1\n",
      "20\n",
      "25\n",
      "5.0\n",
      "2\n"
     ]
    }
   ],
   "source": [
    "print(1 + 1)  # Addition\n",
    "print(2 - 1)  # Subtraction\n",
    "print(4 * 5)  # Multiplication\n",
    "print(5**2)  # Exponent\n",
    "print(20 / 4)  # Get quotient (division operator)\n",
    "print(20 % 6)  # Get remainder (modulus operator)"
   ]
  },
  {
   "attachments": {},
   "cell_type": "markdown",
   "metadata": {},
   "source": [
    "**Division always returns float**\n"
   ]
  },
  {
   "attachments": {},
   "cell_type": "markdown",
   "metadata": {},
   "source": [
    "##### Arithmetic Operators with String\n"
   ]
  },
  {
   "cell_type": "code",
   "execution_count": 14,
   "metadata": {},
   "outputs": [
    {
     "name": "stdout",
     "output_type": "stream",
     "text": [
      "pandapanda\n",
      "panda-panda-panda-panda-\n"
     ]
    },
    {
     "ename": "TypeError",
     "evalue": "can only concatenate str (not \"int\") to str",
     "output_type": "error",
     "traceback": [
      "\u001b[0;31m---------------------------------------------------------------------------\u001b[0m",
      "\u001b[0;31mTypeError\u001b[0m                                 Traceback (most recent call last)",
      "Cell \u001b[0;32mIn[14], line 3\u001b[0m\n\u001b[1;32m      1\u001b[0m \u001b[39mprint\u001b[39m(\u001b[39m\"\u001b[39m\u001b[39mpanda\u001b[39m\u001b[39m\"\u001b[39m \u001b[39m+\u001b[39m \u001b[39m\"\u001b[39m\u001b[39mpanda\u001b[39m\u001b[39m\"\u001b[39m)\n\u001b[1;32m      2\u001b[0m \u001b[39mprint\u001b[39m(\u001b[39m\"\u001b[39m\u001b[39mpanda-\u001b[39m\u001b[39m\"\u001b[39m \u001b[39m*\u001b[39m \u001b[39m4\u001b[39m)\n\u001b[0;32m----> 3\u001b[0m \u001b[39mprint\u001b[39m(\u001b[39m\"\u001b[39;49m\u001b[39m 1\u001b[39;49m\u001b[39m\"\u001b[39;49m \u001b[39m+\u001b[39;49m \u001b[39m4\u001b[39;49m)\n",
      "\u001b[0;31mTypeError\u001b[0m: can only concatenate str (not \"int\") to str"
     ]
    }
   ],
   "source": [
    "print(\"panda\" + \"panda\")\n",
    "print(\"panda-\" * 4)\n",
    "print(\" 1\" + 4)"
   ]
  },
  {
   "attachments": {},
   "cell_type": "markdown",
   "metadata": {},
   "source": [
    "#### Comparison, Logical and Membership Operators\n"
   ]
  },
  {
   "cell_type": "code",
   "execution_count": 15,
   "metadata": {},
   "outputs": [
    {
     "name": "stdout",
     "output_type": "stream",
     "text": [
      "True\n",
      "True\n",
      "True\n",
      "True\n",
      "False\n"
     ]
    }
   ],
   "source": [
    "print(True == True)\n",
    "print(4 < 5)\n",
    "print(5 <= 5)\n",
    "print(5 > 2)\n",
    "print(3 >= 4)"
   ]
  },
  {
   "cell_type": "code",
   "execution_count": 16,
   "metadata": {},
   "outputs": [
    {
     "name": "stdout",
     "output_type": "stream",
     "text": [
      "True\n",
      "False\n",
      "True\n",
      "False\n",
      "False\n",
      "True\n"
     ]
    }
   ],
   "source": [
    "print(True and True)\n",
    "print(True and False)\n",
    "print(True or False)\n",
    "print(False or False)\n",
    "print(not True)\n",
    "print(not False)"
   ]
  },
  {
   "cell_type": "code",
   "execution_count": 17,
   "metadata": {},
   "outputs": [
    {
     "name": "stdout",
     "output_type": "stream",
     "text": [
      "True\n",
      "False\n",
      "True\n",
      "True\n",
      "True\n"
     ]
    }
   ],
   "source": [
    "print(1 in [1, 2, 3, 4, 5])\n",
    "print(10 in [1, 2, 3, 4, 5])\n",
    "print(10 not in [1, 2, 3, 4, 5])\n",
    "print(\"cat\" in \"my pet cat\")\n",
    "print(\"cat\" in \"concat\")"
   ]
  },
  {
   "attachments": {},
   "cell_type": "markdown",
   "metadata": {},
   "source": [
    "### Control Flow\n"
   ]
  },
  {
   "attachments": {},
   "cell_type": "markdown",
   "metadata": {},
   "source": [
    "#### If/Else\n"
   ]
  },
  {
   "cell_type": "code",
   "execution_count": 18,
   "metadata": {},
   "outputs": [
    {
     "name": "stdout",
     "output_type": "stream",
     "text": [
      "It is true!\n",
      "Also print this\n",
      "Both a and b are true\n",
      "Always Print This\n"
     ]
    }
   ],
   "source": [
    "a = True\n",
    "b = True\n",
    "c = False\n",
    "\n",
    "if a:\n",
    "    print(\"It is true!\")\n",
    "    print(\"Also print this\")\n",
    "    if b:\n",
    "        print(\"Both a and b are true\")\n",
    "        if c:\n",
    "            print(\"c is also true\")\n",
    "else:\n",
    "    print(\"It is false\")\n",
    "print(\"Always Print This\")"
   ]
  },
  {
   "attachments": {},
   "cell_type": "markdown",
   "metadata": {},
   "source": [
    "#### For Loops\n"
   ]
  },
  {
   "cell_type": "code",
   "execution_count": 19,
   "metadata": {},
   "outputs": [
    {
     "name": "stdout",
     "output_type": "stream",
     "text": [
      "1, 2, 3, 4, 5, "
     ]
    }
   ],
   "source": [
    "a = [1, 2, 3, 4, 5]\n",
    "for item in a:\n",
    "    print(item, end=\", \")"
   ]
  },
  {
   "attachments": {},
   "cell_type": "markdown",
   "metadata": {},
   "source": [
    "#### While Loop\n"
   ]
  },
  {
   "cell_type": "code",
   "execution_count": 20,
   "metadata": {},
   "outputs": [
    {
     "name": "stdout",
     "output_type": "stream",
     "text": [
      "0, 1, 2, 3, 4, "
     ]
    }
   ],
   "source": [
    "a = 0\n",
    "\n",
    "while a < 5:\n",
    "    print(a, end=\", \")\n",
    "    a = a + 1  # Removing this will make it run infinitely"
   ]
  },
  {
   "attachments": {},
   "cell_type": "markdown",
   "metadata": {},
   "source": [
    "### Functions\n"
   ]
  },
  {
   "cell_type": "code",
   "execution_count": 21,
   "metadata": {},
   "outputs": [],
   "source": [
    "def multiplyByThree(val):\n",
    "    return 3 * val\n",
    "\n",
    "\n",
    "def multiply(val1, val2):\n",
    "    return val1 * val2\n",
    "\n",
    "\n",
    "def appendFour(myList):\n",
    "    myList.append(4)"
   ]
  },
  {
   "cell_type": "code",
   "execution_count": 22,
   "metadata": {},
   "outputs": [
    {
     "name": "stdout",
     "output_type": "stream",
     "text": [
      "3 5\n",
      "12\n",
      "\n",
      "None\n",
      "[1, 2, 3, 4]\n"
     ]
    }
   ],
   "source": [
    "print(3, 5)\n",
    "print(multiplyByThree(4), end=\"\\n\\n\")\n",
    "\n",
    "myList = [1, 2, 3]\n",
    "print(appendFour(myList))  # Prints None, as function doesn't return anything\n",
    "print(myList)  # It Works"
   ]
  },
  {
   "attachments": {},
   "cell_type": "markdown",
   "metadata": {},
   "source": [
    "### Classes\n"
   ]
  },
  {
   "cell_type": "code",
   "execution_count": 23,
   "metadata": {},
   "outputs": [
    {
     "name": "stdout",
     "output_type": "stream",
     "text": [
      "Rover says Bark\n",
      "Fluffy says Bark\n"
     ]
    }
   ],
   "source": [
    "class Dog:\n",
    "    def __init__(self, name):\n",
    "        self.name = name\n",
    "        self.legs = 4\n",
    "\n",
    "    def speak(self):\n",
    "        print(self.name + \" says Bark\")\n",
    "\n",
    "\n",
    "my_dog = Dog(\"Rover\")\n",
    "another_dog = Dog(\"Fluffy\")\n",
    "\n",
    "my_dog.speak()\n",
    "another_dog.speak()"
   ]
  },
  {
   "attachments": {},
   "cell_type": "markdown",
   "metadata": {},
   "source": [
    "### Factorial Function\n"
   ]
  },
  {
   "attachments": {},
   "cell_type": "markdown",
   "metadata": {},
   "source": [
    "#### Iterative\n"
   ]
  },
  {
   "cell_type": "code",
   "execution_count": 24,
   "metadata": {},
   "outputs": [],
   "source": [
    "def factorialIterative(n):\n",
    "    if type(n) != int or n < 0:\n",
    "        return None\n",
    "    val = 1\n",
    "    for i in range(1, n + 1):\n",
    "        val *= i\n",
    "    return val\n",
    "\n",
    "\n",
    "def factorialRecursive(n):\n",
    "    if type(n) != int or n < 0:\n",
    "        return None\n",
    "    return n if n in [1, 0] else n * factorialRecursive(n - 1)"
   ]
  },
  {
   "attachments": {},
   "cell_type": "markdown",
   "metadata": {},
   "source": [
    "#### Recursive\n"
   ]
  },
  {
   "cell_type": "code",
   "execution_count": 25,
   "metadata": {},
   "outputs": [
    {
     "name": "stdout",
     "output_type": "stream",
     "text": [
      "Factorial of 5: 120\n",
      "Factorial of 6: 720\n",
      "Factorial of 0: 1\n",
      "Factorial of -2: None\n",
      "Factorial of 1.2: None\n",
      "Factorial of spam spam spam spam spam: None\n"
     ]
    }
   ],
   "source": [
    "factorialFunction = factorialIterative\n",
    "values_to_check = [5, 6, 0, -2, 1.2, \"spam spam spam spam spam\"]\n",
    "\n",
    "for value in values_to_check:\n",
    "    print(f\"Factorial of {value}: {factorialFunction(value)}\")"
   ]
  },
  {
   "attachments": {},
   "cell_type": "markdown",
   "metadata": {},
   "source": [
    "### Floats\n"
   ]
  },
  {
   "cell_type": "code",
   "execution_count": 26,
   "metadata": {},
   "outputs": [
    {
     "name": "stdout",
     "output_type": "stream",
     "text": [
      "256.0\n",
      "256\n",
      "8\n",
      "0.19999999999999996\n"
     ]
    },
    {
     "data": {
      "text/plain": [
       "0.2"
      ]
     },
     "execution_count": 26,
     "metadata": {},
     "output_type": "execute_result"
    }
   ],
   "source": [
    "print(4**4.0)\n",
    "print(int(4**4.0))\n",
    "\n",
    "print(int(8.9))\n",
    "round(8.9)\n",
    "\n",
    "print(1.2 - 1.0)\n",
    "round(1.2 - 1.0, 2)"
   ]
  },
  {
   "attachments": {},
   "cell_type": "markdown",
   "metadata": {},
   "source": [
    "### Type Conversions\n"
   ]
  },
  {
   "cell_type": "code",
   "execution_count": 27,
   "metadata": {},
   "outputs": [
    {
     "name": "stdout",
     "output_type": "stream",
     "text": [
      "100\n",
      "100 in Binary (Base 2) is: 4\n",
      "1ab in Hexadecimal (Base 16) is: 427\n"
     ]
    }
   ],
   "source": [
    "print(int(\"100\"))\n",
    "print(\"100 in Binary (Base 2) is:\", int(\"100\", 2))\n",
    "print(\"1ab in Hexadecimal (Base 16) is:\", int(\"1ab\", 16))"
   ]
  },
  {
   "attachments": {},
   "cell_type": "markdown",
   "metadata": {},
   "source": [
    "### Decimal\n"
   ]
  },
  {
   "cell_type": "code",
   "execution_count": 28,
   "metadata": {},
   "outputs": [
    {
     "name": "stdout",
     "output_type": "stream",
     "text": [
      "3.3\n"
     ]
    },
    {
     "data": {
      "text/plain": [
       "Context(prec=28, rounding=ROUND_HALF_EVEN, Emin=-999999, Emax=999999, capitals=1, clamp=0, flags=[], traps=[InvalidOperation, DivisionByZero, Overflow])"
      ]
     },
     "execution_count": 28,
     "metadata": {},
     "output_type": "execute_result"
    }
   ],
   "source": [
    "from decimal import Decimal, getcontext\n",
    "\n",
    "print(Decimal(\"1.1\") + Decimal(\"2.2\"))\n",
    "getcontext()"
   ]
  },
  {
   "cell_type": "code",
   "execution_count": 29,
   "metadata": {},
   "outputs": [],
   "source": [
    "getcontext().prec = 2"
   ]
  },
  {
   "cell_type": "code",
   "execution_count": 30,
   "metadata": {},
   "outputs": [
    {
     "name": "stdout",
     "output_type": "stream",
     "text": [
      "0.33\n",
      "3.140000000000000124344978758017532527446746826171875\n",
      "3.14\n"
     ]
    }
   ],
   "source": [
    "print(Decimal(1) / Decimal(3))\n",
    "print(Decimal(3.14))\n",
    "print(Decimal(\"3.14\"))"
   ]
  },
  {
   "attachments": {},
   "cell_type": "markdown",
   "metadata": {},
   "source": [
    "### Boolean\n"
   ]
  },
  {
   "attachments": {},
   "cell_type": "markdown",
   "metadata": {},
   "source": [
    "#### Casting\n"
   ]
  },
  {
   "cell_type": "code",
   "execution_count": 31,
   "metadata": {},
   "outputs": [
    {
     "name": "stdout",
     "output_type": "stream",
     "text": [
      "1: True\n",
      "0: False\n",
      "-1: True\n",
      "1.2: True\n",
      "(): False\n",
      "\"\": False\n",
      "\" \": True\n",
      "\"Hello, World!\": True\n",
      "\"False\": True\n",
      "None:  False\n"
     ]
    }
   ],
   "source": [
    "print(f\"\"\"1: {bool(1)}\"\"\")\n",
    "print(f\"\"\"0: {bool(0)}\"\"\")\n",
    "print(f\"\"\"-1: {bool(-1)}\"\"\")\n",
    "print(f\"\"\"1.2: {bool(1.2)}\"\"\")\n",
    "print(f\"\"\"(): {bool()}\"\"\")\n",
    "print(f\"\"\"\"\": {bool(\"\")}\"\"\")\n",
    "print(f\"\"\"\" \": {bool(\" \")}\"\"\")\n",
    "print(f\"\"\"\"Hello, World!\\\": {bool(\"Hello, World!\")}\"\"\")\n",
    "print(f\"\"\"\"False\": {bool(\"False\")}\"\"\")\n",
    "print(\"None: \", bool(None))"
   ]
  },
  {
   "cell_type": "code",
   "execution_count": 32,
   "metadata": {},
   "outputs": [
    {
     "name": "stdout",
     "output_type": "stream",
     "text": [
      "[]:  False\n",
      "{}:  False\n",
      "[1]:  True\n",
      "{\"a\":1}:  True\n"
     ]
    }
   ],
   "source": [
    "print(\"[]: \", bool([]))\n",
    "print(\"{}: \", bool({}))\n",
    "print(\"[1]: \", bool([1]))\n",
    "print('{\"a\":1}: ', bool({\"a\": 1}))"
   ]
  },
  {
   "cell_type": "code",
   "execution_count": 33,
   "metadata": {},
   "outputs": [
    {
     "name": "stdout",
     "output_type": "stream",
     "text": [
      "Go for a Walk\n",
      "Go for a Walk\n",
      "Go for a Walk\n"
     ]
    }
   ],
   "source": [
    "weatherNice = False\n",
    "haveUmbrella = True\n",
    "\n",
    "if not haveUmbrella or weatherNice:\n",
    "    print(\"Stay Inside\")\n",
    "else:\n",
    "    print(\"Go for a Walk\")\n",
    "\n",
    "# Fixed\n",
    "if not (haveUmbrella or weatherNice):\n",
    "    print(\"Stay Inside\")\n",
    "else:\n",
    "    print(\"Go for a Walk\")\n",
    "\n",
    "# De Morgan's Law\n",
    "if not haveUmbrella and not weatherNice:\n",
    "    print(\"Stay Inside\")\n",
    "else:\n",
    "    print(\"Go for a Walk\")"
   ]
  },
  {
   "attachments": {},
   "cell_type": "markdown",
   "metadata": {},
   "source": [
    "### String\n"
   ]
  },
  {
   "attachments": {},
   "cell_type": "markdown",
   "metadata": {},
   "source": [
    "#### Slicing\n"
   ]
  },
  {
   "cell_type": "code",
   "execution_count": 34,
   "metadata": {},
   "outputs": [
    {
     "name": "stdout",
     "output_type": "stream",
     "text": [
      "A\n",
      "n\n",
      "And\n",
      "And\n",
      "his name is John Cena\n",
      "his name is John Cena\n",
      "a\n",
      "n\n",
      "And his name is John C\n",
      "ena\n",
      "And his name is John C\n",
      "ena\n"
     ]
    }
   ],
   "source": [
    "name = \"And his name is John Cena\"\n",
    "print(name[0])\n",
    "print(name[1])\n",
    "\n",
    "print(name[0:3])\n",
    "print(name[:3])\n",
    "\n",
    "print(name[4 : len(name)])\n",
    "print(name[4:])\n",
    "\n",
    "print(name[-1])\n",
    "print(name[-2])\n",
    "\n",
    "print(name[0:-3])\n",
    "print(name[-3 : len(name)])\n",
    "\n",
    "print(name[:-3])\n",
    "print(name[-3:])"
   ]
  },
  {
   "attachments": {},
   "cell_type": "markdown",
   "metadata": {},
   "source": [
    "#### Formatting\n"
   ]
  },
  {
   "cell_type": "code",
   "execution_count": 35,
   "metadata": {},
   "outputs": [
    {
     "ename": "NameError",
     "evalue": "name 'my_number' is not defined",
     "output_type": "error",
     "traceback": [
      "\u001b[0;31m---------------------------------------------------------------------------\u001b[0m",
      "\u001b[0;31mNameError\u001b[0m                                 Traceback (most recent call last)",
      "Cell \u001b[0;32mIn[35], line 2\u001b[0m\n\u001b[1;32m      1\u001b[0m pi \u001b[39m=\u001b[39m \u001b[39m3.14159\u001b[39m\n\u001b[0;32m----> 2\u001b[0m \u001b[39mprint\u001b[39m(\u001b[39m\"\u001b[39m\u001b[39mpi is \u001b[39m\u001b[39m\"\u001b[39m \u001b[39m+\u001b[39m \u001b[39mstr\u001b[39m(my_number))\n\u001b[1;32m      3\u001b[0m \u001b[39mprint\u001b[39m(\u001b[39mf\u001b[39m\u001b[39m\"\u001b[39m\u001b[39mpi is \u001b[39m\u001b[39m{\u001b[39;00mmy_number\u001b[39m:\u001b[39;00m\u001b[39m.2f\u001b[39m\u001b[39m}\u001b[39;00m\u001b[39m\"\u001b[39m)\n\u001b[1;32m      4\u001b[0m \u001b[39mprint\u001b[39m(\u001b[39m\"\u001b[39m\u001b[39mpi is \u001b[39m\u001b[39m{}\u001b[39;00m\u001b[39m\"\u001b[39m\u001b[39m.\u001b[39mformat(my_number))\n",
      "\u001b[0;31mNameError\u001b[0m: name 'my_number' is not defined"
     ]
    }
   ],
   "source": [
    "pi = 3.14159\n",
    "print(\"pi is \" + str(my_number))\n",
    "print(f\"pi is {my_number:.2f}\")\n",
    "print(\"pi is {}\".format(my_number))"
   ]
  },
  {
   "attachments": {},
   "cell_type": "markdown",
   "metadata": {},
   "source": [
    "#### Multi Line Strings\n"
   ]
  },
  {
   "cell_type": "code",
   "execution_count": 36,
   "metadata": {},
   "outputs": [
    {
     "name": "stdout",
     "output_type": "stream",
     "text": [
      "Saving People, Hunting Things\n",
      "The Family Business\n"
     ]
    }
   ],
   "source": [
    "my_string_1 = \"\"\"Saving People, Hunting Things\n",
    "The Family Business\"\"\"\n",
    "\n",
    "print(my_string_1)"
   ]
  },
  {
   "attachments": {},
   "cell_type": "markdown",
   "metadata": {},
   "source": [
    "### Byte\n",
    "\n",
    "- Used as data that gets passed around in a program\n",
    "- Rarely modified directly\n",
    "- Byte objects are a sequence of data\n",
    "- Commonly used for streaming files or transmitting text without knowing the encoding\n",
    "- Often used under the hood in python libraries\n",
    "- **Eg:** 10110001101011100\n"
   ]
  },
  {
   "cell_type": "code",
   "execution_count": 37,
   "metadata": {},
   "outputs": [],
   "source": [
    "bytes(4)  # Create an empty byte object of length 4 bytes\n",
    "smiley_byte = bytes(\"😂\", \"utf-8\")  # Create a byte object with given value and encoding"
   ]
  },
  {
   "attachments": {},
   "cell_type": "markdown",
   "metadata": {},
   "source": [
    "**Bytes are immutable. Create a bytearray for mutability**\n"
   ]
  },
  {
   "cell_type": "code",
   "execution_count": 38,
   "metadata": {},
   "outputs": [
    {
     "name": "stdout",
     "output_type": "stream",
     "text": [
      "bytearray(b'\\xf0\\x9f\\x98\\x82')\n",
      "😤\n"
     ]
    }
   ],
   "source": [
    "smiley_bytearray = bytearray(\n",
    "    \"😂\", \"utf-8\"\n",
    ")  # Create a bytearray object with given value and encoding\n",
    "print(smiley_bytearray)\n",
    "smiley_bytearray[3] = int(\"a4\", 16)\n",
    "print(smiley_bytearray.decode(\"utf-8\"))"
   ]
  },
  {
   "cell_type": "code",
   "execution_count": 39,
   "metadata": {},
   "outputs": [],
   "source": [
    "hex_numbers = {\n",
    "    \"0\": 0,\n",
    "    \"1\": 1,\n",
    "    \"2\": 2,\n",
    "    \"3\": 3,\n",
    "    \"4\": 4,\n",
    "    \"5\": 5,\n",
    "    \"6\": 6,\n",
    "    \"7\": 7,\n",
    "    \"8\": 8,\n",
    "    \"9\": 9,\n",
    "    \"a\": 10,\n",
    "    \"b\": 11,\n",
    "    \"c\": 12,\n",
    "    \"d\": 13,\n",
    "    \"e\": 14,\n",
    "    \"f\": 15,\n",
    "}\n",
    "\n",
    "\n",
    "def hexToDec(hexNum: str):\n",
    "    hexNum = hexNum.lower()\n",
    "    decNum = 0\n",
    "    for i in range(len(hexNum)):\n",
    "        if hexNum[i] not in hex_numbers:\n",
    "            return None\n",
    "        decNum += hex_numbers[hexNum[i]] * (16 ** (len(hexNum) - i - 1))\n",
    "    return decNum"
   ]
  },
  {
   "cell_type": "code",
   "execution_count": 40,
   "metadata": {},
   "outputs": [
    {
     "name": "stdout",
     "output_type": "stream",
     "text": [
      "26\n",
      "26\n"
     ]
    }
   ],
   "source": [
    "hexNum = \"1a\"\n",
    "\n",
    "print(hexToDec(hexNum))\n",
    "print(int(hexNum, 16))"
   ]
  },
  {
   "attachments": {},
   "cell_type": "markdown",
   "metadata": {},
   "source": [
    "#### Simpler Solution\n"
   ]
  },
  {
   "cell_type": "code",
   "execution_count": 41,
   "metadata": {},
   "outputs": [],
   "source": [
    "def hexToDec(hexNum):\n",
    "    decNum = 0\n",
    "    exponent = 0\n",
    "\n",
    "    for c in hexNum[::-1]:\n",
    "        if c not in hex_numbers:\n",
    "            return None\n",
    "        decNum += hex_numbers[c] * (16**exponent)\n",
    "        exponent += 1\n",
    "\n",
    "    return decNum"
   ]
  },
  {
   "cell_type": "code",
   "execution_count": 42,
   "metadata": {},
   "outputs": [
    {
     "name": "stdout",
     "output_type": "stream",
     "text": [
      "26\n"
     ]
    }
   ],
   "source": [
    "print(hexToDec(\"1a\"))"
   ]
  },
  {
   "attachments": {},
   "cell_type": "markdown",
   "metadata": {},
   "source": [
    "### Lists\n"
   ]
  },
  {
   "attachments": {},
   "cell_type": "markdown",
   "metadata": {},
   "source": [
    "#### Slicing\n"
   ]
  },
  {
   "cell_type": "code",
   "execution_count": 43,
   "metadata": {},
   "outputs": [
    {
     "name": "stdout",
     "output_type": "stream",
     "text": [
      "[1, 2, 3, 4, 5, 6, 7]\n",
      "[0, 1, 2, 3, 4, 5, 6, 7, 8, 9, 10, 11, 12, 13, 14, 15, 16, 17, 18, 19]\n",
      "[1, 3, 5]\n",
      "[0, 2, 4, 6, 8, 10, 12, 14, 16, 18]\n",
      "[19, 18, 17, 16, 15, 14, 13, 12, 11, 10, 9, 8, 7, 6, 5, 4, 3, 2, 1, 0]\n",
      "[0, 3, 6, 9, 12, 15]\n",
      "\n"
     ]
    }
   ],
   "source": [
    "my_list = [1, 2, 3, 4, 5, 6, 7]\n",
    "print(my_list)\n",
    "\n",
    "my_list = list(range(20))\n",
    "print(my_list)\n",
    "\n",
    "print(my_list[1:6:2])\n",
    "print(my_list[::2])\n",
    "\n",
    "print(my_list[::-1])\n",
    "\n",
    "print(my_list[0:-4:3])\n",
    "\n",
    "print()"
   ]
  },
  {
   "attachments": {},
   "cell_type": "markdown",
   "metadata": {},
   "source": [
    "### Modifying Lists\n"
   ]
  },
  {
   "cell_type": "code",
   "execution_count": 44,
   "metadata": {},
   "outputs": [
    {
     "name": "stdout",
     "output_type": "stream",
     "text": [
      "[1, 2, 3, 4, 3]\n",
      "[1, 2, 5, 3, 4, 3]\n",
      "[1, 2, 5, 4, 3]\n",
      "3\n",
      "[1, 2, 5, 4]\n",
      "5\n",
      "[1, 2, 4]\n",
      "0\n"
     ]
    }
   ],
   "source": [
    "my_list = [1, 2, 3, 4]\n",
    "\n",
    "my_list.append(3)\n",
    "print(my_list)\n",
    "\n",
    "my_list.insert(2, 5)\n",
    "print(my_list)\n",
    "\n",
    "my_list.remove(3)\n",
    "print(my_list)\n",
    "\n",
    "print(my_list.pop())\n",
    "print(my_list)\n",
    "\n",
    "print(my_list.pop(2))\n",
    "print(my_list)\n",
    "\n",
    "print(my_list.index(1))"
   ]
  },
  {
   "attachments": {},
   "cell_type": "markdown",
   "metadata": {},
   "source": [
    "**Lists are Reference Types**\n"
   ]
  },
  {
   "cell_type": "code",
   "execution_count": 45,
   "metadata": {},
   "outputs": [
    {
     "name": "stdout",
     "output_type": "stream",
     "text": [
      "[1, 2, 3, 4, 5, 6]\n"
     ]
    }
   ],
   "source": [
    "a = [1, 2, 3, 4, 5]\n",
    "b = a\n",
    "a.append(6)\n",
    "print(b)"
   ]
  },
  {
   "attachments": {},
   "cell_type": "markdown",
   "metadata": {},
   "source": [
    "_Creating a Shallow Copy:_\n"
   ]
  },
  {
   "cell_type": "code",
   "execution_count": 46,
   "metadata": {},
   "outputs": [
    {
     "name": "stdout",
     "output_type": "stream",
     "text": [
      "[1, 2, 3, 4, 5]\n"
     ]
    }
   ],
   "source": [
    "a = [1, 2, 3, 4, 5]\n",
    "b = a.copy()\n",
    "a.append(6)\n",
    "print(b)"
   ]
  },
  {
   "attachments": {},
   "cell_type": "markdown",
   "metadata": {},
   "source": [
    "#### List Comprehensions\n"
   ]
  },
  {
   "cell_type": "code",
   "execution_count": 47,
   "metadata": {},
   "outputs": [
    {
     "name": "stdout",
     "output_type": "stream",
     "text": [
      "[2, 4, 6, 8, 10]\n",
      "[0, 10, 20, 30, 40, 50, 60, 70, 80, 90]\n",
      "['My', 'Name', 'is', 'Sherlock', 'Holmes.', 'I', 'live', 'in', 'London']\n",
      "['My Name is Sherlock Holmes', ' I live in London']\n",
      "['name', 'sherlock', 'holmes.', 'live', 'london']\n",
      "[['my', 'name', 'is', 'sherlock', 'holmes'], ['i', 'live', 'in', 'london']]\n"
     ]
    }
   ],
   "source": [
    "mylist = [1, 2, 3, 4, 5]\n",
    "print([2 * item for item in mylist])\n",
    "\n",
    "# Filter\n",
    "my_another_list = list(range(100))\n",
    "print([item for item in my_another_list if item % 10 == 0])\n",
    "\n",
    "myString = \"My Name is Sherlock Holmes. I live in London\"\n",
    "print(myString.split())\n",
    "print(myString.split(\".\"))\n",
    "\n",
    "\n",
    "def cleanWord(word: str):\n",
    "    # Chain Operations\n",
    "    return word.replace(\",\", \" \").lower()\n",
    "\n",
    "\n",
    "print([cleanWord(word) for word in myString.split() if len(word) > 3])\n",
    "\n",
    "# Nested\n",
    "print(\n",
    "    [[cleanWord(word) for word in sentence.split()] for sentence in myString.split(\".\")]\n",
    ")"
   ]
  },
  {
   "attachments": {},
   "cell_type": "markdown",
   "metadata": {},
   "source": [
    "### Sets\n"
   ]
  },
  {
   "cell_type": "code",
   "execution_count": 48,
   "metadata": {},
   "outputs": [
    {
     "name": "stdout",
     "output_type": "stream",
     "text": [
      "{'a', 'b', 'c'}\n",
      "{'a', 'b', 'c'}\n",
      "{'a', 'b', 'c'}\n",
      "['a', 'b', 'c']\n"
     ]
    }
   ],
   "source": [
    "mySet = {\"a\", \"b\", \"c\"}\n",
    "print(mySet)\n",
    "\n",
    "# Set from List\n",
    "mySecondSet = set([\"a\", \"b\", \"c\"])\n",
    "print(mySecondSet)\n",
    "\n",
    "# Set from Tuple\n",
    "myThirdSet = set((\"a\", \"b\", \"c\"))\n",
    "print(myThirdSet)\n",
    "\n",
    "myList = [\"a\", \"b\", \"c\", \"b\", \"c\"]\n",
    "myDeDuplicatedList = list(set(myList))\n",
    "print(myDeDuplicatedList)"
   ]
  },
  {
   "attachments": {},
   "cell_type": "markdown",
   "metadata": {},
   "source": [
    "#### Subscriptable Object\n",
    "\n",
    "In python, a subscriptable object is an object that contains ordered accessbile elements, aka elements that can be accessed by an index.\n"
   ]
  },
  {
   "attachments": {},
   "cell_type": "markdown",
   "metadata": {},
   "source": [
    "**Set is not a Subscriptable Object**\n"
   ]
  },
  {
   "cell_type": "code",
   "execution_count": 49,
   "metadata": {},
   "outputs": [
    {
     "ename": "TypeError",
     "evalue": "'set' object is not subscriptable",
     "output_type": "error",
     "traceback": [
      "\u001b[0;31m---------------------------------------------------------------------------\u001b[0m",
      "\u001b[0;31mTypeError\u001b[0m                                 Traceback (most recent call last)",
      "Cell \u001b[0;32mIn[49], line 2\u001b[0m\n\u001b[1;32m      1\u001b[0m myset \u001b[39m=\u001b[39m {\u001b[39m1\u001b[39m, \u001b[39m2\u001b[39m, \u001b[39m3\u001b[39m}\n\u001b[0;32m----> 2\u001b[0m \u001b[39mprint\u001b[39m(myset[\u001b[39m1\u001b[39;49m])\n",
      "\u001b[0;31mTypeError\u001b[0m: 'set' object is not subscriptable"
     ]
    }
   ],
   "source": [
    "myset = {1, 2, 3}\n",
    "print(myset[1])"
   ]
  },
  {
   "cell_type": "code",
   "execution_count": 50,
   "metadata": {},
   "outputs": [
    {
     "ename": "TypeError",
     "evalue": "'int' object is not subscriptable",
     "output_type": "error",
     "traceback": [
      "\u001b[0;31m---------------------------------------------------------------------------\u001b[0m",
      "\u001b[0;31mTypeError\u001b[0m                                 Traceback (most recent call last)",
      "Cell \u001b[0;32mIn[50], line 2\u001b[0m\n\u001b[1;32m      1\u001b[0m number \u001b[39m=\u001b[39m \u001b[39m1\u001b[39m\n\u001b[0;32m----> 2\u001b[0m \u001b[39mprint\u001b[39m(number[\u001b[39m0\u001b[39;49m])\n",
      "\u001b[0;31mTypeError\u001b[0m: 'int' object is not subscriptable"
     ]
    }
   ],
   "source": [
    "number = 1\n",
    "print(number[0])"
   ]
  },
  {
   "cell_type": "code",
   "execution_count": 51,
   "metadata": {},
   "outputs": [
    {
     "name": "stdout",
     "output_type": "stream",
     "text": [
      "{1, 2, 3}\n",
      "{1, 2, 3, 4}\n",
      "True\n",
      "4\n",
      "1\n",
      "{2, 3, 4}\n",
      "{2, 4}\n",
      "0 1 2 3 4 5 6 7 8 9 10 11 12 13 14 15 16 17 18 19 "
     ]
    }
   ],
   "source": [
    "mySet = {1, 2, 3}\n",
    "print(mySet)\n",
    "\n",
    "mySet.add(4)\n",
    "print(mySet)\n",
    "\n",
    "print(3 in mySet)\n",
    "\n",
    "print(len(mySet))\n",
    "\n",
    "print(mySet.pop())  # Is Completely Random\n",
    "print(mySet)\n",
    "\n",
    "mySet.discard(3)\n",
    "print(mySet)\n",
    "\n",
    "mySet = set(range(20))\n",
    "\n",
    "while len(mySet):\n",
    "    print(mySet.pop(), end=\" \")"
   ]
  },
  {
   "attachments": {},
   "cell_type": "markdown",
   "metadata": {},
   "source": [
    "### Tuples\n"
   ]
  },
  {
   "cell_type": "code",
   "execution_count": 52,
   "metadata": {},
   "outputs": [
    {
     "name": "stdout",
     "output_type": "stream",
     "text": [
      "('a', 'b', 'c')\n",
      "(1, 2, 3)\n",
      "3\n"
     ]
    }
   ],
   "source": [
    "myTuple = (\"a\", \"b\", \"c\")\n",
    "print(myTuple)\n",
    "\n",
    "myTuple = 1, 2, 3  # Not considered best practice, but works!\n",
    "print(myTuple)\n",
    "\n",
    "print(myTuple[2])"
   ]
  },
  {
   "attachments": {},
   "cell_type": "markdown",
   "metadata": {},
   "source": [
    "**Tuples are Immutable**\n"
   ]
  },
  {
   "cell_type": "code",
   "execution_count": 53,
   "metadata": {},
   "outputs": [
    {
     "ename": "TypeError",
     "evalue": "'tuple' object does not support item assignment",
     "output_type": "error",
     "traceback": [
      "\u001b[0;31m---------------------------------------------------------------------------\u001b[0m",
      "\u001b[0;31mTypeError\u001b[0m                                 Traceback (most recent call last)",
      "Cell \u001b[0;32mIn[53], line 1\u001b[0m\n\u001b[0;32m----> 1\u001b[0m myTuple[\u001b[39m2\u001b[39;49m] \u001b[39m=\u001b[39m \u001b[39m5\u001b[39m\n",
      "\u001b[0;31mTypeError\u001b[0m: 'tuple' object does not support item assignment"
     ]
    }
   ],
   "source": [
    "myTuple[2] = 5"
   ]
  },
  {
   "attachments": {},
   "cell_type": "markdown",
   "metadata": {},
   "source": [
    "Functions that return multiple values use tuples\n"
   ]
  },
  {
   "cell_type": "code",
   "execution_count": 54,
   "metadata": {},
   "outputs": [
    {
     "name": "stdout",
     "output_type": "stream",
     "text": [
      "<class 'tuple'>\n"
     ]
    }
   ],
   "source": [
    "def returnMultipleValues():\n",
    "    return 1, 2, 3\n",
    "\n",
    "\n",
    "print(type(returnMultipleValues()))"
   ]
  },
  {
   "cell_type": "code",
   "execution_count": 55,
   "metadata": {},
   "outputs": [
    {
     "name": "stdout",
     "output_type": "stream",
     "text": [
      "1 2 3\n"
     ]
    }
   ],
   "source": [
    "a, b, c = returnMultipleValues()\n",
    "print(a, b, c)"
   ]
  },
  {
   "cell_type": "code",
   "execution_count": 56,
   "metadata": {},
   "outputs": [
    {
     "name": "stdout",
     "output_type": "stream",
     "text": [
      "{'a': 'aardvark', 'b': 'bear', 'c': 'cat'}\n",
      "aardvark\n",
      "{'a': 'aardvark', 'b': 'bear', 'c': 'cat', 'd': 'dog'}\n",
      "dict_keys(['a', 'b', 'c', 'd'])\n"
     ]
    }
   ],
   "source": [
    "animals = {\"a\": \"aardvark\", \"b\": \"bear\", \"c\": \"cat\"}\n",
    "print(animals)\n",
    "\n",
    "print(animals[\"a\"])\n",
    "\n",
    "animals[\"d\"] = \"dog\"\n",
    "print(animals)\n",
    "\n",
    "print(animals.keys())"
   ]
  },
  {
   "cell_type": "code",
   "execution_count": 57,
   "metadata": {},
   "outputs": [
    {
     "ename": "KeyError",
     "evalue": "'e'",
     "output_type": "error",
     "traceback": [
      "\u001b[0;31m---------------------------------------------------------------------------\u001b[0m",
      "\u001b[0;31mKeyError\u001b[0m                                  Traceback (most recent call last)",
      "Cell \u001b[0;32mIn[57], line 1\u001b[0m\n\u001b[0;32m----> 1\u001b[0m animals[\u001b[39m\"\u001b[39;49m\u001b[39me\u001b[39;49m\u001b[39m\"\u001b[39;49m]\n",
      "\u001b[0;31mKeyError\u001b[0m: 'e'"
     ]
    }
   ],
   "source": [
    "animals[\"e\"]"
   ]
  },
  {
   "cell_type": "code",
   "execution_count": 58,
   "metadata": {},
   "outputs": [],
   "source": [
    "animals.get(\"e\")"
   ]
  },
  {
   "cell_type": "code",
   "execution_count": 59,
   "metadata": {},
   "outputs": [
    {
     "data": {
      "text/plain": [
       "'No Value, so here is a default one'"
      ]
     },
     "execution_count": 59,
     "metadata": {},
     "output_type": "execute_result"
    }
   ],
   "source": [
    "animals.get(\"e\", \"No Value, so here is a default one\")"
   ]
  },
  {
   "cell_type": "code",
   "execution_count": 60,
   "metadata": {},
   "outputs": [
    {
     "name": "stdout",
     "output_type": "stream",
     "text": [
      "{'a': ['aardvark', 'antelope'], 'b': ['bear', 'bison']}\n"
     ]
    }
   ],
   "source": [
    "animals = {\n",
    "    \"a\": [\"aardvark\", \"antelope\"],\n",
    "    \"b\": [\"bear\"],\n",
    "}\n",
    "\n",
    "animals[\"b\"].append(\"bison\")\n",
    "print(animals)"
   ]
  },
  {
   "cell_type": "code",
   "execution_count": 61,
   "metadata": {},
   "outputs": [
    {
     "ename": "KeyError",
     "evalue": "'c'",
     "output_type": "error",
     "traceback": [
      "\u001b[0;31m---------------------------------------------------------------------------\u001b[0m",
      "\u001b[0;31mKeyError\u001b[0m                                  Traceback (most recent call last)",
      "Cell \u001b[0;32mIn[61], line 1\u001b[0m\n\u001b[0;32m----> 1\u001b[0m animals[\u001b[39m\"\u001b[39;49m\u001b[39mc\u001b[39;49m\u001b[39m\"\u001b[39;49m]\u001b[39m.\u001b[39mappend(\u001b[39m\"\u001b[39m\u001b[39mcat\u001b[39m\u001b[39m\"\u001b[39m)\n",
      "\u001b[0;31mKeyError\u001b[0m: 'c'"
     ]
    }
   ],
   "source": [
    "animals[\"c\"].append(\"cat\")"
   ]
  },
  {
   "cell_type": "code",
   "execution_count": 62,
   "metadata": {},
   "outputs": [],
   "source": [
    "if c not in animals:\n",
    "    animals[\"c\"] = []\n",
    "\n",
    "animals[\"c\"].append(\"cat\")"
   ]
  },
  {
   "attachments": {},
   "cell_type": "markdown",
   "metadata": {},
   "source": [
    "#### Default Dict\n"
   ]
  },
  {
   "cell_type": "code",
   "execution_count": 63,
   "metadata": {},
   "outputs": [
    {
     "name": "stdout",
     "output_type": "stream",
     "text": [
      "defaultdict(<class 'list'>, {})\n",
      "defaultdict(<class 'list'>, {'e': ['Elephant']})\n",
      "[]\n"
     ]
    }
   ],
   "source": [
    "from collections import defaultdict\n",
    "\n",
    "animals = defaultdict(list)\n",
    "print(animals)\n",
    "\n",
    "animals[\"e\"].append(\"Elephant\")\n",
    "print(animals)\n",
    "\n",
    "print(animals[\"b\"])"
   ]
  },
  {
   "attachments": {},
   "cell_type": "markdown",
   "metadata": {},
   "source": [
    "#### Dictionary Comprehensions\n"
   ]
  },
  {
   "cell_type": "code",
   "execution_count": 64,
   "metadata": {},
   "outputs": [
    {
     "name": "stdout",
     "output_type": "stream",
     "text": [
      "{'a': 'aardvark', 'b': 'bear', 'c': 'cat', 'd': 'dog'}\n",
      "{'a': 'aardvark', 'b': 'bear', 'c': 'cat', 'd': 'dog'}\n",
      "dict_items([('a', 'aardvark'), ('b', 'bear'), ('c', 'cat'), ('d', 'dog')])\n",
      "[('a', 'aardvark'), ('b', 'bear'), ('c', 'cat'), ('d', 'dog')]\n",
      "[{'letter': 'a', 'name': 'aardvark'}, {'letter': 'b', 'name': 'bear'}, {'letter': 'c', 'name': 'cat'}, {'letter': 'd', 'name': 'dog'}]\n"
     ]
    }
   ],
   "source": [
    "animalsList = [(\"a\", \"aardvark\"), (\"b\", \"bear\"), (\"c\", \"cat\"), (\"d\", \"dog\")]\n",
    "\n",
    "animals = {item[0]: item[1] for item in animalsList}\n",
    "print(animals)\n",
    "\n",
    "animals = {key: value for key, value in animalsList}\n",
    "print(animals)\n",
    "\n",
    "print(animals.items())\n",
    "print(list(animals.items()))\n",
    "\n",
    "print([{\"letter\": key, \"name\": value} for key, value in animals.items()])"
   ]
  },
  {
   "attachments": {},
   "cell_type": "markdown",
   "metadata": {},
   "source": [
    "### CHALLENGE: ASCII Art Encoding\n",
    "\n",
    "Write a function \"encodeString\" that will encode a string like 'AAAAABBBBAAA' as a list of tuples: [('A': 5), ('B': 4), ('A': 3)] meaning that the string has 5 A's, followed by 4 B's, followed by 3 A's.\n",
    "\n",
    "Then use that function to compress a string containing \"ASCII Art\" (https://wikipedia.org/wiki/ASCII_art )\n",
    "\n",
    "Write a corresponding function 'decodeString' that will take in a list of tuples and print the original string.\n"
   ]
  },
  {
   "cell_type": "code",
   "execution_count": 65,
   "metadata": {},
   "outputs": [],
   "source": [
    "def encodeString(string):\n",
    "    listEncoded = []\n",
    "    lastchar = string[0]\n",
    "    count = 0\n",
    "    for i in range(len(string)):\n",
    "        if lastchar == string[i]:\n",
    "            count += 1\n",
    "        else:\n",
    "            listEncoded.append((lastchar, count))\n",
    "            count = 1\n",
    "        lastchar = string[i]\n",
    "\n",
    "        if len(string) - 1 == i:\n",
    "            listEncoded.append((lastchar, count))\n",
    "\n",
    "    return listEncoded\n",
    "\n",
    "\n",
    "def decodeString(encodedArr):\n",
    "    string = \"\"\n",
    "    for key, val in encodedArr:\n",
    "        for _ in range(val):\n",
    "            string += key\n",
    "    return string"
   ]
  },
  {
   "cell_type": "code",
   "execution_count": 66,
   "metadata": {},
   "outputs": [],
   "source": [
    "# From Solution: Further optimisations\n",
    "def encodeString(string):\n",
    "    listEncoded = []\n",
    "    lastchar = string[0]\n",
    "    count = 0\n",
    "    for i in range(len(string)):\n",
    "        if lastchar != string[i]:\n",
    "            listEncoded.append((lastchar, count))\n",
    "            count = 0\n",
    "        lastchar = string[i]\n",
    "        count += 1\n",
    "\n",
    "    listEncoded.append((lastchar, count))\n",
    "    return listEncoded\n",
    "\n",
    "\n",
    "def decodeString(encodedArr):\n",
    "    string = \"\"\n",
    "    for key, val in encodedArr:\n",
    "        string += key * val\n",
    "    return string"
   ]
  },
  {
   "cell_type": "code",
   "execution_count": 67,
   "metadata": {},
   "outputs": [
    {
     "name": "stdout",
     "output_type": "stream",
     "text": [
      "[('A', 2), ('B', 4), ('A', 4)]\n",
      "AABBBBAAAA\n"
     ]
    }
   ],
   "source": [
    "encoded = encodeString(\"AABBBBAAAA\")\n",
    "decoded = decodeString(encoded)  # [('A',2), ('B',4), (\"A\",4)]\n",
    "\n",
    "print(encoded)\n",
    "print(decoded)"
   ]
  },
  {
   "attachments": {},
   "cell_type": "markdown",
   "metadata": {},
   "source": [
    "### If Statements with FizzBuzz\n"
   ]
  },
  {
   "cell_type": "code",
   "execution_count": 68,
   "metadata": {},
   "outputs": [
    {
     "name": "stdout",
     "output_type": "stream",
     "text": [
      "1\n",
      "2\n",
      "Fizz\n",
      "4\n",
      "Buzz\n",
      "Fizz\n",
      "7\n",
      "8\n",
      "Fizz\n",
      "Buzz\n",
      "11\n",
      "Fizz\n",
      "13\n",
      "14\n",
      "FizzBuzz\n",
      "16\n",
      "17\n",
      "Fizz\n",
      "19\n",
      "Buzz\n",
      "Fizz\n",
      "22\n",
      "23\n",
      "Fizz\n",
      "Buzz\n",
      "26\n",
      "Fizz\n",
      "28\n",
      "29\n",
      "FizzBuzz\n",
      "31\n",
      "32\n",
      "Fizz\n",
      "34\n",
      "Buzz\n",
      "Fizz\n",
      "37\n",
      "38\n",
      "Fizz\n",
      "Buzz\n",
      "41\n",
      "Fizz\n",
      "43\n",
      "44\n",
      "FizzBuzz\n",
      "46\n",
      "47\n",
      "Fizz\n",
      "49\n",
      "Buzz\n",
      "Fizz\n",
      "52\n",
      "53\n",
      "Fizz\n",
      "Buzz\n",
      "56\n",
      "Fizz\n",
      "58\n",
      "59\n",
      "FizzBuzz\n",
      "61\n",
      "62\n",
      "Fizz\n",
      "64\n",
      "Buzz\n",
      "Fizz\n",
      "67\n",
      "68\n",
      "Fizz\n",
      "Buzz\n",
      "71\n",
      "Fizz\n",
      "73\n",
      "74\n",
      "FizzBuzz\n",
      "76\n",
      "77\n",
      "Fizz\n",
      "79\n",
      "Buzz\n",
      "Fizz\n",
      "82\n",
      "83\n",
      "Fizz\n",
      "Buzz\n",
      "86\n",
      "Fizz\n",
      "88\n",
      "89\n",
      "FizzBuzz\n",
      "91\n",
      "92\n",
      "Fizz\n",
      "94\n",
      "Buzz\n",
      "Fizz\n",
      "97\n",
      "98\n",
      "Fizz\n",
      "Buzz\n"
     ]
    }
   ],
   "source": [
    "def fizzBuzz(count):\n",
    "    for i in range(1, count + 1):\n",
    "        if i % 3 == 0 and i % 5 == 0:\n",
    "            print(\"FizzBuzz\")\n",
    "        elif i % 3 == 0:\n",
    "            print(\"Fizz\")\n",
    "        elif i % 5 == 0:\n",
    "            print(\"Buzz\")\n",
    "        else:\n",
    "            print(i)\n",
    "\n",
    "\n",
    "fizzBuzz(100)"
   ]
  },
  {
   "cell_type": "code",
   "execution_count": 69,
   "metadata": {},
   "outputs": [
    {
     "data": {
      "text/plain": [
       "[1,\n",
       " 2,\n",
       " 'Fizz',\n",
       " 4,\n",
       " 'Buzz',\n",
       " 'Fizz',\n",
       " 7,\n",
       " 8,\n",
       " 'Fizz',\n",
       " 'Buzz',\n",
       " 11,\n",
       " 'Fizz',\n",
       " 13,\n",
       " 14,\n",
       " 'FizzBuzz',\n",
       " 16,\n",
       " 17,\n",
       " 'Fizz',\n",
       " 19,\n",
       " 'Buzz',\n",
       " 'Fizz',\n",
       " 22,\n",
       " 23,\n",
       " 'Fizz',\n",
       " 'Buzz',\n",
       " 26,\n",
       " 'Fizz',\n",
       " 28,\n",
       " 29,\n",
       " 'FizzBuzz']"
      ]
     },
     "execution_count": 69,
     "metadata": {},
     "output_type": "execute_result"
    }
   ],
   "source": [
    "def fizzBuzz(count):\n",
    "    return [\n",
    "        \"FizzBuzz\"\n",
    "        if (n % 3 == 0 and n % 5 == 0)\n",
    "        else \"Fizz\"\n",
    "        if n % 3 == 0\n",
    "        else \"Buzz\"\n",
    "        if n % 5 == 0\n",
    "        else n\n",
    "        for n in range(1, count + 1)\n",
    "    ]\n",
    "\n",
    "\n",
    "fizzBuzz(30)"
   ]
  },
  {
   "attachments": {},
   "cell_type": "markdown",
   "metadata": {},
   "source": [
    "### While Loop\n"
   ]
  },
  {
   "cell_type": "code",
   "execution_count": 70,
   "metadata": {},
   "outputs": [
    {
     "name": "stdout",
     "output_type": "stream",
     "text": [
      "We are at 2 seconds!\n"
     ]
    }
   ],
   "source": [
    "from datetime import datetime\n",
    "\n",
    "duration = 2\n",
    "wait_until = datetime.now().second + duration\n",
    "\n",
    "while datetime.now().second != wait_until:\n",
    "    pass\n",
    "print(f\"We are at {duration} seconds!\")"
   ]
  },
  {
   "attachments": {},
   "cell_type": "markdown",
   "metadata": {},
   "source": [
    "#### Break Statement\n"
   ]
  },
  {
   "cell_type": "code",
   "execution_count": 71,
   "metadata": {},
   "outputs": [
    {
     "name": "stdout",
     "output_type": "stream",
     "text": [
      "We are at 2 seconds!\n"
     ]
    }
   ],
   "source": [
    "from datetime import datetime\n",
    "\n",
    "duration = 2\n",
    "wait_until = datetime.now().second + duration\n",
    "\n",
    "while True:\n",
    "    if datetime.now().second == wait_until:\n",
    "        print(f\"We are at {duration} seconds!\")\n",
    "        break"
   ]
  },
  {
   "attachments": {},
   "cell_type": "markdown",
   "metadata": {},
   "source": [
    "#### Continue Statement\n"
   ]
  },
  {
   "cell_type": "code",
   "execution_count": 72,
   "metadata": {},
   "outputs": [
    {
     "name": "stdout",
     "output_type": "stream",
     "text": [
      "We are at 2 seconds!\n"
     ]
    }
   ],
   "source": [
    "from datetime import datetime\n",
    "\n",
    "duration = 2\n",
    "wait_until = datetime.now().second + duration\n",
    "\n",
    "while datetime.now().second != wait_until:\n",
    "    continue\n",
    "    print(\"Still waiting\")\n",
    "print(f\"We are at {duration} seconds!\")"
   ]
  },
  {
   "cell_type": "code",
   "execution_count": 74,
   "metadata": {},
   "outputs": [
    {
     "name": "stdout",
     "output_type": "stream",
     "text": [
      "We are at 2 seconds!\n"
     ]
    }
   ],
   "source": [
    "from datetime import datetime\n",
    "\n",
    "duration = 2\n",
    "wait_until = datetime.now().second + duration\n",
    "\n",
    "while True:\n",
    "    if datetime.now().second < wait_until:\n",
    "        continue\n",
    "    break\n",
    "\n",
    "print(f\"We are at {duration} seconds!\")"
   ]
  },
  {
   "attachments": {},
   "cell_type": "markdown",
   "metadata": {},
   "source": [
    "### For\n"
   ]
  },
  {
   "cell_type": "code",
   "execution_count": null,
   "metadata": {},
   "outputs": [],
   "source": [
    "myList = [1, 2, 3, 4]\n",
    "\n",
    "for item in myList:\n",
    "    print(item)"
   ]
  },
  {
   "attachments": {},
   "cell_type": "markdown",
   "metadata": {},
   "source": [
    "#### Continue\n"
   ]
  },
  {
   "cell_type": "code",
   "execution_count": null,
   "metadata": {},
   "outputs": [],
   "source": [
    "myList = list(range(20))\n",
    "\n",
    "for item in myList:\n",
    "    if item % 2 == 0:\n",
    "        continue\n",
    "    print(item, end=\" \")"
   ]
  },
  {
   "attachments": {},
   "cell_type": "markdown",
   "metadata": {},
   "source": [
    "#### Break\n"
   ]
  },
  {
   "cell_type": "code",
   "execution_count": null,
   "metadata": {},
   "outputs": [],
   "source": [
    "animals = {\n",
    "    \"goat\": 10,\n",
    "    \"sheep\": 20,\n",
    "    \"hen\": 5,\n",
    "    \"cow\": 0,\n",
    "    \"dog\": 2,\n",
    "    \"cat\": 4,\n",
    "    \"hamster\": 2,\n",
    "}\n",
    "\n",
    "for name, count in animals.items():\n",
    "    if count < 1:\n",
    "        print(f\"No {name} Found! Exiting...\")\n",
    "        break\n",
    "    else:\n",
    "        print(f\"{count} {name} found.\")"
   ]
  },
  {
   "attachments": {},
   "cell_type": "markdown",
   "metadata": {},
   "source": [
    "### Faster Prime Finding\n",
    "Write a function that returns a list of all primes upto a given number.\n",
    "\n",
    "For each number, in order ot determine if it is prime, take the following steps:\n",
    "1. Find the square root of the number\n",
    "2. Find all primes up to that square root\n",
    "3. Test to see if any of those primes are divisors\n",
    "\n",
    "If a number has no prime divisors, it is prime!"
   ]
  },
  {
   "cell_type": "code",
   "execution_count": null,
   "metadata": {},
   "outputs": [],
   "source": [
    "def allPrimesUpTo(num):\n",
    "  primes = [2]\n",
    "  for number in range(3, num):\n",
    "    sqrtNum = number ** 0.5\n",
    "\n",
    "    for factor in primes:\n",
    "      if number % factor == 0:\n",
    "        break\n",
    "      if factor > sqrtNum:\n",
    "        primes.append(number)\n",
    "        break\n",
    "  \n",
    "  return primes\n",
    "\n"
   ]
  },
  {
   "cell_type": "code",
   "execution_count": null,
   "metadata": {},
   "outputs": [],
   "source": [
    "print(allPrimesUpTo(100)) "
   ]
  },
  {
   "attachments": {},
   "cell_type": "markdown",
   "metadata": {},
   "source": [
    "### Functions"
   ]
  },
  {
   "cell_type": "code",
   "execution_count": null,
   "metadata": {},
   "outputs": [],
   "source": [
    "def performOperation(num1, num2, operation=\"sum\", message=\"Default Messages\"):\n",
    "  if operation == \"sum\":\n",
    "    return num1 + num2\n",
    "  if operation == \"multiply\":\n",
    "    return num1 * num2\n",
    "\n",
    "print(performOperation(2,3))\n",
    "\n",
    "print(performOperation(2,3,operation=\"multiply\"))\n",
    "print(performOperation(2,3,\"multiply\"))\n",
    "\n",
    "print(performOperation(2,3, message=\"New Message\", operation=\"multiply\"))"
   ]
  },
  {
   "attachments": {},
   "cell_type": "markdown",
   "metadata": {},
   "source": [
    "#### Variable Length Arguments"
   ]
  },
  {
   "cell_type": "code",
   "execution_count": null,
   "metadata": {},
   "outputs": [],
   "source": [
    "def performOperation(*args):\n",
    "  print(args)\n",
    "\n",
    "performOperation(1,2,3)"
   ]
  },
  {
   "cell_type": "code",
   "execution_count": null,
   "metadata": {},
   "outputs": [],
   "source": [
    "def performOperation(*args, **kwargs):\n",
    "  print(args)\n",
    "  print(kwargs)\n"
   ]
  },
  {
   "attachments": {},
   "cell_type": "markdown",
   "metadata": {},
   "source": [
    "#### Local and Global Scope"
   ]
  },
  {
   "cell_type": "code",
   "execution_count": 87,
   "metadata": {},
   "outputs": [
    {
     "name": "stdout",
     "output_type": "stream",
     "text": [
      "{'num1': 1, 'num2': 2, 'operation': 'multiply'}\n"
     ]
    },
    {
     "data": {
      "text/plain": [
       "{'__name__': '__main__',\n",
       " '__doc__': 'Automatically created module for IPython interactive environment',\n",
       " '__package__': None,\n",
       " '__loader__': None,\n",
       " '__spec__': None,\n",
       " '__builtin__': <module 'builtins' (built-in)>,\n",
       " '__builtins__': <module 'builtins' (built-in)>,\n",
       " '_ih': ['',\n",
       "  'def performOperation(num1, num2, operation=\"sum\"):\\n    print(locals())\\n\\n\\nperformOperation(1, 2, operation=\"multiply\")',\n",
       "  'def performOperation(num1, num2, operation=\"sum\"):\\n    print(locals())\\n\\n\\nperformOperation(1, 2, operation=\"multiply\")',\n",
       "  'def performOperation(num1, num2, operation=\"sum\"):\\n    print(locals())\\n\\nperformOperation(1, 2, operation=\"multiply\")',\n",
       "  'globals()',\n",
       "  'def performOperation(num1, num2, operation=\"sum\"):\\n    print(locals())\\n\\nperformOperation(1, 2, operation=\"multiply\", nigga=\"please\")',\n",
       "  'print(\"Doing some Data Science\")',\n",
       "  'x = 5\\nname = \"Ryan\"\\n\\nprint(type(name))\\nprint(type(1.5))\\n\\nprint(1.23456789)\\nprint(12345678.9)\\n\\nprint(type(2j))\\nprint(1j * 1j)',\n",
       "  '\\'String 1\\' + \\'String 1\\'\\n\"1\" + \"1\"\\n\\ntry:\\n  \"1\" + 1 # Throw Error\\nexcept: # Catch Error\\n  print(\"TypeError: can only concatenate str (not \"int\") to str\")',\n",
       "  'my_list = [1, 2, 3, 4, 5]\\nprint(my_list, end=\"\\\\n\\\\n\")\\n\\nmy_list = [\"list\", \"of\", \"strings\"]\\nprint(my_list, end=\"\\\\n\\\\n\")\\n\\nmy_list = [1, 2, \"three\", \"four\", False, True, [\"sup\"]]\\nprint(my_list)\\nprint(f\"Elements in list: {len(my_list)}\")',\n",
       "  'my_set = {1, 2, 3, 4, 5}\\nprint(my_set)\\nprint(type(my_set))\\nprint(len(my_set))\\n\\nmy_set = {1, 1, 2, 2}\\nprint(len(my_set))\\nprint(my_set)\\n\\nprint([1, 2] == [2, 1])\\nprint({1, 2} == {2, 1})',\n",
       "  'my_tuples = (1, 2, 3)\\nprint(my_tuples)\\n\\nprint((1, 2) == (2, 1))\\nlen(my_tuples)\\n\\ntry:\\n    my_tuples.append(4)  # Throws Error\\nexcept:  # Catches Error\\n    print(\"ERROR: Can\\'t add element to tuple\")',\n",
       "  'my_dictionary = {\"apple\": \"A red fruit\", \"bear\": \"A scary animal\"}\\n\\nprint(my_dictionary[\"apple\"])\\n\\nmy_dictionary = {\\n    \"apple\": \"A red fruit\",\\n    \"bear\": \"A scary animal\",\\n    \"apple\": \"A green fruit\",\\n}\\nprint(my_dictionary[\"apple\"])',\n",
       "  'print(1 + 1)  # Addition\\nprint(2 - 1)  # Subtraction\\nprint(4 * 5)  # Multiplication\\nprint(5**2)  # Exponent\\nprint(20 / 4)  # Get quotient (division operator)\\nprint(20 % 6)  # Get remainder (modulus operator)',\n",
       "  'print(\"panda\" + \"panda\")\\nprint(\"panda-\" * 4)\\nprint(\" 1\" + 4)',\n",
       "  'print(True == True)\\nprint(4 < 5)\\nprint(5 <= 5)\\nprint(5 > 2)\\nprint(3 >= 4)',\n",
       "  'print(True and True)\\nprint(True and False)\\nprint(True or False)\\nprint(False or False)\\nprint(not True)\\nprint(not False)',\n",
       "  'print(1 in [1, 2, 3, 4, 5])\\nprint(10 in [1, 2, 3, 4, 5])\\nprint(10 not in [1, 2, 3, 4, 5])\\nprint(\"cat\" in \"my pet cat\")\\nprint(\"cat\" in \"concat\")',\n",
       "  'a = True\\nb = True\\nc = False\\n\\nif a:\\n    print(\"It is true!\")\\n    print(\"Also print this\")\\n    if b:\\n        print(\"Both a and b are true\")\\n        if c:\\n            print(\"c is also true\")\\nelse:\\n    print(\"It is false\")\\nprint(\"Always Print This\")',\n",
       "  'a = [1, 2, 3, 4, 5]\\nfor item in a:\\n    print(item, end=\", \")',\n",
       "  'a = 0\\n\\nwhile a < 5:\\n    print(a, end=\", \")\\n    a = a + 1  # Removing this will make it run infinitely',\n",
       "  'def multiplyByThree(val):\\n    return 3 * val\\n\\n\\ndef multiply(val1, val2):\\n    return val1 * val2\\n\\n\\ndef appendFour(myList):\\n    myList.append(4)',\n",
       "  'print(3, 5)\\nprint(multiplyByThree(4), end=\"\\\\n\\\\n\")\\n\\nmyList = [1, 2, 3]\\nprint(appendFour(myList))  # Prints None, as function doesn\\'t return anything\\nprint(myList)  # It Works',\n",
       "  'class Dog:\\n    def __init__(self, name):\\n        self.name = name\\n        self.legs = 4\\n\\n    def speak(self):\\n        print(self.name + \" says Bark\")\\n\\n\\nmy_dog = Dog(\"Rover\")\\nanother_dog = Dog(\"Fluffy\")\\n\\nmy_dog.speak()\\nanother_dog.speak()',\n",
       "  'def factorialIterative(n):\\n    if type(n) != int or n < 0:\\n        return None\\n    val = 1\\n    for i in range(1, n + 1):\\n        val *= i\\n    return val\\n\\n\\ndef factorialRecursive(n):\\n    if type(n) != int or n < 0:\\n        return None\\n    return n if n in [1, 0] else n * factorialRecursive(n - 1)',\n",
       "  'factorialFunction = factorialIterative\\nvalues_to_check = [5, 6, 0, -2, 1.2, \"spam spam spam spam spam\"]\\n\\nfor value in values_to_check:\\n    print(f\"Factorial of {value}: {factorialFunction(value)}\")',\n",
       "  'print(4**4.0)\\nprint(int(4**4.0))\\n\\nprint(int(8.9))\\nround(8.9)\\n\\nprint(1.2 - 1.0)\\nround(1.2 - 1.0, 2)',\n",
       "  'print(int(\"100\"))\\nprint(\"100 in Binary (Base 2) is:\", int(\"100\", 2))\\nprint(\"1ab in Hexadecimal (Base 16) is:\", int(\"1ab\", 16))',\n",
       "  'from decimal import Decimal, getcontext\\n\\nprint(Decimal(\"1.1\") + Decimal(\"2.2\"))\\ngetcontext()',\n",
       "  'getcontext().prec = 2',\n",
       "  'print(Decimal(1) / Decimal(3))\\nprint(Decimal(3.14))\\nprint(Decimal(\"3.14\"))',\n",
       "  'print(f\"\"\"1: {bool(1)}\"\"\")\\nprint(f\"\"\"0: {bool(0)}\"\"\")\\nprint(f\"\"\"-1: {bool(-1)}\"\"\")\\nprint(f\"\"\"1.2: {bool(1.2)}\"\"\")\\nprint(f\"\"\"(): {bool()}\"\"\")\\nprint(f\"\"\"\"\": {bool(\"\")}\"\"\")\\nprint(f\"\"\"\" \": {bool(\" \")}\"\"\")\\nprint(f\"\"\"\"Hello, World!\\\\\": {bool(\"Hello, World!\")}\"\"\")\\nprint(f\"\"\"\"False\": {bool(\"False\")}\"\"\")\\nprint(\"None: \", bool(None))',\n",
       "  'print(\"[]: \", bool([]))\\nprint(\"{}: \", bool({}))\\nprint(\"[1]: \", bool([1]))\\nprint(\\'{\"a\":1}: \\', bool({\"a\": 1}))',\n",
       "  'weatherNice = False\\nhaveUmbrella = True\\n\\nif not haveUmbrella or weatherNice:\\n    print(\"Stay Inside\")\\nelse:\\n    print(\"Go for a Walk\")\\n\\n# Fixed\\nif not (haveUmbrella or weatherNice):\\n    print(\"Stay Inside\")\\nelse:\\n    print(\"Go for a Walk\")\\n\\n# De Morgan\\'s Law\\nif not haveUmbrella and not weatherNice:\\n    print(\"Stay Inside\")\\nelse:\\n    print(\"Go for a Walk\")',\n",
       "  'name = \"And his name is John Cena\"\\nprint(name[0])\\nprint(name[1])\\n\\nprint(name[0:3])\\nprint(name[:3])\\n\\nprint(name[4 : len(name)])\\nprint(name[4:])\\n\\nprint(name[-1])\\nprint(name[-2])\\n\\nprint(name[0:-3])\\nprint(name[-3 : len(name)])\\n\\nprint(name[:-3])\\nprint(name[-3:])',\n",
       "  'pi = 3.14159\\nprint(\"pi is \" + str(my_number))\\nprint(f\"pi is {my_number:.2f}\")\\nprint(\"pi is {}\".format(my_number))',\n",
       "  'my_string_1 = \"\"\"Saving People, Hunting Things\\nThe Family Business\"\"\"\\n\\nprint(my_string_1)',\n",
       "  'bytes(4)  # Create an empty byte object of length 4 bytes\\nsmiley_byte = bytes(\"😂\", \"utf-8\")  # Create a byte object with given value and encoding',\n",
       "  'smiley_bytearray = bytearray(\\n    \"😂\", \"utf-8\"\\n)  # Create a bytearray object with given value and encoding\\nprint(smiley_bytearray)\\nsmiley_bytearray[3] = int(\"a4\", 16)\\nprint(smiley_bytearray.decode(\"utf-8\"))',\n",
       "  'hex_numbers = {\\n    \"0\": 0,\\n    \"1\": 1,\\n    \"2\": 2,\\n    \"3\": 3,\\n    \"4\": 4,\\n    \"5\": 5,\\n    \"6\": 6,\\n    \"7\": 7,\\n    \"8\": 8,\\n    \"9\": 9,\\n    \"a\": 10,\\n    \"b\": 11,\\n    \"c\": 12,\\n    \"d\": 13,\\n    \"e\": 14,\\n    \"f\": 15,\\n}\\n\\n\\ndef hexToDec(hexNum: str):\\n    hexNum = hexNum.lower()\\n    decNum = 0\\n    for i in range(len(hexNum)):\\n        if hexNum[i] not in hex_numbers:\\n            return None\\n        decNum += hex_numbers[hexNum[i]] * (16 ** (len(hexNum) - i - 1))\\n    return decNum',\n",
       "  'hexNum = \"1a\"\\n\\nprint(hexToDec(hexNum))\\nprint(int(hexNum, 16))',\n",
       "  'def hexToDec(hexNum):\\n    decNum = 0\\n    exponent = 0\\n\\n    for c in hexNum[::-1]:\\n        if c not in hex_numbers:\\n            return None\\n        decNum += hex_numbers[c] * (16**exponent)\\n        exponent += 1\\n\\n    return decNum',\n",
       "  'print(hexToDec(\"1a\"))',\n",
       "  'my_list = [1, 2, 3, 4, 5, 6, 7]\\nprint(my_list)\\n\\nmy_list = list(range(20))\\nprint(my_list)\\n\\nprint(my_list[1:6:2])\\nprint(my_list[::2])\\n\\nprint(my_list[::-1])\\n\\nprint(my_list[0:-4:3])\\n\\nprint()',\n",
       "  'my_list = [1, 2, 3, 4]\\n\\nmy_list.append(3)\\nprint(my_list)\\n\\nmy_list.insert(2, 5)\\nprint(my_list)\\n\\nmy_list.remove(3)\\nprint(my_list)\\n\\nprint(my_list.pop())\\nprint(my_list)\\n\\nprint(my_list.pop(2))\\nprint(my_list)\\n\\nprint(my_list.index(1))',\n",
       "  'a = [1, 2, 3, 4, 5]\\nb = a\\na.append(6)\\nprint(b)',\n",
       "  'a = [1, 2, 3, 4, 5]\\nb = a.copy()\\na.append(6)\\nprint(b)',\n",
       "  'mylist = [1, 2, 3, 4, 5]\\nprint([2 * item for item in mylist])\\n\\n# Filter\\nmy_another_list = list(range(100))\\nprint([item for item in my_another_list if item % 10 == 0])\\n\\nmyString = \"My Name is Sherlock Holmes. I live in London\"\\nprint(myString.split())\\nprint(myString.split(\".\"))\\n\\n\\ndef cleanWord(word: str):\\n    # Chain Operations\\n    return word.replace(\",\", \" \").lower()\\n\\n\\nprint([cleanWord(word) for word in myString.split() if len(word) > 3])\\n\\n# Nested\\nprint(\\n    [[cleanWord(word) for word in sentence.split()] for sentence in myString.split(\".\")]\\n)',\n",
       "  'mySet = {\"a\", \"b\", \"c\"}\\nprint(mySet)\\n\\n# Set from List\\nmySecondSet = set([\"a\", \"b\", \"c\"])\\nprint(mySecondSet)\\n\\n# Set from Tuple\\nmyThirdSet = set((\"a\", \"b\", \"c\"))\\nprint(myThirdSet)\\n\\nmyList = [\"a\", \"b\", \"c\", \"b\", \"c\"]\\nmyDeDuplicatedList = list(set(myList))\\nprint(myDeDuplicatedList)',\n",
       "  'myset = {1, 2, 3}\\nprint(myset[1])',\n",
       "  'number = 1\\nprint(number[0])',\n",
       "  'mySet = {1, 2, 3}\\nprint(mySet)\\n\\nmySet.add(4)\\nprint(mySet)\\n\\nprint(3 in mySet)\\n\\nprint(len(mySet))\\n\\nprint(mySet.pop())  # Is Completely Random\\nprint(mySet)\\n\\nmySet.discard(3)\\nprint(mySet)\\n\\nmySet = set(range(20))\\n\\nwhile len(mySet):\\n    print(mySet.pop(), end=\" \")',\n",
       "  'myTuple = (\"a\", \"b\", \"c\")\\nprint(myTuple)\\n\\nmyTuple = 1, 2, 3  # Not considered best practice, but works!\\nprint(myTuple)\\n\\nprint(myTuple[2])',\n",
       "  'myTuple[2] = 5',\n",
       "  'def returnMultipleValues():\\n    return 1, 2, 3\\n\\n\\nprint(type(returnMultipleValues()))',\n",
       "  'a, b, c = returnMultipleValues()\\nprint(a, b, c)',\n",
       "  'animals = {\"a\": \"aardvark\", \"b\": \"bear\", \"c\": \"cat\"}\\nprint(animals)\\n\\nprint(animals[\"a\"])\\n\\nanimals[\"d\"] = \"dog\"\\nprint(animals)\\n\\nprint(animals.keys())',\n",
       "  'animals[\"e\"]',\n",
       "  'animals.get(\"e\")',\n",
       "  'animals.get(\"e\", \"No Value, so here is a default one\")',\n",
       "  'animals = {\\n    \"a\": [\"aardvark\", \"antelope\"],\\n    \"b\": [\"bear\"],\\n}\\n\\nanimals[\"b\"].append(\"bison\")\\nprint(animals)',\n",
       "  'animals[\"c\"].append(\"cat\")',\n",
       "  'if c not in animals:\\n    animals[\"c\"] = []\\n\\nanimals[\"c\"].append(\"cat\")',\n",
       "  'from collections import defaultdict\\n\\nanimals = defaultdict(list)\\nprint(animals)\\n\\nanimals[\"e\"].append(\"Elephant\")\\nprint(animals)\\n\\nprint(animals[\"b\"])',\n",
       "  'animalsList = [(\"a\", \"aardvark\"), (\"b\", \"bear\"), (\"c\", \"cat\"), (\"d\", \"dog\")]\\n\\nanimals = {item[0]: item[1] for item in animalsList}\\nprint(animals)\\n\\nanimals = {key: value for key, value in animalsList}\\nprint(animals)\\n\\nprint(animals.items())\\nprint(list(animals.items()))\\n\\nprint([{\"letter\": key, \"name\": value} for key, value in animals.items()])',\n",
       "  'def encodeString(string):\\n    listEncoded = []\\n    lastchar = string[0]\\n    count = 0\\n    for i in range(len(string)):\\n        if lastchar == string[i]:\\n            count += 1\\n        else:\\n            listEncoded.append((lastchar, count))\\n            count = 1\\n        lastchar = string[i]\\n\\n        if len(string) - 1 == i:\\n            listEncoded.append((lastchar, count))\\n\\n    return listEncoded\\n\\n\\ndef decodeString(encodedArr):\\n    string = \"\"\\n    for key, val in encodedArr:\\n        for _ in range(val):\\n            string += key\\n    return string',\n",
       "  '# From Solution: Further optimisations\\ndef encodeString(string):\\n    listEncoded = []\\n    lastchar = string[0]\\n    count = 0\\n    for i in range(len(string)):\\n        if lastchar != string[i]:\\n            listEncoded.append((lastchar, count))\\n            count = 0\\n        lastchar = string[i]\\n        count += 1\\n\\n    listEncoded.append((lastchar, count))\\n    return listEncoded\\n\\n\\ndef decodeString(encodedArr):\\n    string = \"\"\\n    for key, val in encodedArr:\\n        string += key * val\\n    return string',\n",
       "  'encoded = encodeString(\"AABBBBAAAA\")\\ndecoded = decodeString(encoded)  # [(\\'A\\',2), (\\'B\\',4), (\"A\",4)]\\n\\nprint(encoded)\\nprint(decoded)',\n",
       "  'def fizzBuzz(count):\\n    for i in range(1, count + 1):\\n        if i % 3 == 0 and i % 5 == 0:\\n            print(\"FizzBuzz\")\\n        elif i % 3 == 0:\\n            print(\"Fizz\")\\n        elif i % 5 == 0:\\n            print(\"Buzz\")\\n        else:\\n            print(i)\\n\\n\\nfizzBuzz(100)',\n",
       "  'def fizzBuzz(count):\\n    return [\\n        \"FizzBuzz\"\\n        if (n % 3 == 0 and n % 5 == 0)\\n        else \"Fizz\"\\n        if n % 3 == 0\\n        else \"Buzz\"\\n        if n % 5 == 0\\n        else n\\n        for n in range(1, count + 1)\\n    ]\\n\\n\\nfizzBuzz(30)',\n",
       "  'from datetime import datetime\\n\\nduration = 2\\nwait_until = datetime.now().second + duration\\n\\nwhile datetime.now().second != wait_until:\\n    pass\\nprint(f\"We are at {duration} seconds!\")',\n",
       "  'from datetime import datetime\\n\\nduration = 2\\nwait_until = datetime.now().second + duration\\n\\nwhile True:\\n    if datetime.now().second == wait_until:\\n        print(f\"We are at {duration} seconds!\")\\n        break',\n",
       "  'from datetime import datetime\\n\\nduration = 2\\nwait_until = datetime.now().second + duration\\n\\nwhile datetime.now().second != wait_until:\\n    continue\\n    print(\"Still waiting\")\\nprint(f\"We are at {duration} seconds!\")',\n",
       "  'from datetime import datetime\\n\\nduration = 2\\nwait_until = datetime.now().second + duration\\n\\nwhile True:\\n    if datetime.now().second < wait_until:\\n        continue\\n    break\\n\\nprint(f\"We are at {duration} seconds!\")',\n",
       "  'from datetime import datetime\\n\\nduration = 2\\nwait_until = datetime.now().second + duration\\n\\nwhile True:\\n    if datetime.now().second < wait_until:\\n        continue\\n    break\\n\\nprint(f\"We are at {duration} seconds!\")',\n",
       "  'def performOperation(num1, num2, operation=\"sum\"):\\n    print(locals())\\n\\nperformOperation(1, 2, operation=\"multiply\")',\n",
       "  'def performOperation(num1, num2, operation=\"sum\"):\\n    print(locals())\\n\\nperformOperation(1, 2, operation=\"multiply\")\\nglobals()',\n",
       "  'message = \"some global data\"\\n\\ndef fn1(vrA, vrB):\\n    print(message)\\n    print(locals())\\n\\ndef fn2(vrc, vrB):\\n    print(locals())\\n    print(message)',\n",
       "  'message = \"some global data\"\\n\\ndef fn1(vrA, vrB):\\n    print(message)\\n    print(locals())\\n\\ndef fn2(vrc, vrB):\\n    print(locals())\\n    print(message)\\n\\nfn1(1,2)',\n",
       "  'message = \"some global data\"\\n\\ndef fn1(vrA, vrB):\\n    print(message)\\n    print(locals())\\n\\ndef fn2(vrc, vrB):\\n    print(locals())\\n    print(message)\\n\\nfn1(1,2)\\nfn2(3,4)',\n",
       "  'message = \"some global data\"\\n\\n\\ndef fn1(vrA, vrB):\\n    print(vrA)\\n    print(message)\\n    print(locals())\\n\\n\\ndef fn2(vrc, vrB):\\n    print(vrA)\\n    print(message)\\n    print(locals())\\n\\n\\nfn1(1, 2)\\nfn2(3, 4)',\n",
       "  'message = \"some global data\"\\n\\n\\ndef fn1(vrA, vrB):\\n    print(vrA)\\n    print(message)\\n    print(locals())\\n\\n\\ndef fn2(vrc, vrB):\\n    print(vrA or None)\\n    print(message)\\n    print(locals())\\n\\n\\nfn1(1, 2)\\nfn2(3, 4)',\n",
       "  'message = \"some global data\"\\n\\n\\ndef fn1(vrA, vrB):\\n    print(vrA)\\n    print(message)\\n    print(locals())\\n\\n\\ndef fn2(vrc, vrB):\\n    # print(vrA)\\n    print(message)\\n    print(locals())\\n\\n\\nfn1(1, 2)\\nfn2(3, 4)',\n",
       "  'def fn1(varA, varB):\\n  message = \"Some Local Data\"\\n  print(varA)\\n  def fnInner(varA, varB):\\n    print(f\"Inner Function Local Scope: {locals()}\")',\n",
       "  'def fnOuter(varA, varB):\\n  message = \"Some Local Data\"\\n  print(varA)\\n  def fnInner(varA, varB):\\n    print(f\"Inner Function Local Scope: {locals()}\")\\n  \\n  fnInner(123,456)\\n\\nfnOuter(1,2)',\n",
       "  'def fnOuter(varA, varB):\\n  message = \"Some Local Data\"\\n  print(varA)\\n  def fnInner(varA, varB):\\n    print(f\"Inner Function Local Scope: {locals()}\")\\n  print(locals())\\n  fnInner(123,456)\\n\\nfnOuter(1,2)',\n",
       "  'def fnOuter(varA, varB):\\n  message = \"Some Local Data\"\\n  print(varA)\\n  def fnInner(varA, varB):\\n    print(f\"Inner Function Local Scope: {locals()}\")\\n  print(locals()) # fnInner is defined as a variable\\n  fnInner(123,456)\\n\\nfnOuter(1,2)',\n",
       "  'def performOperation(num1, num2, operation=\"sum\"):\\n    print(locals())\\n\\nperformOperation(1, 2, operation=\"multiply\")\\nglobals()'],\n",
       " '_oh': {4: {...},\n",
       "  26: 0.2,\n",
       "  28: Context(prec=2, rounding=ROUND_HALF_EVEN, Emin=-999999, Emax=999999, capitals=1, clamp=0, flags=[Inexact, FloatOperation, Rounded], traps=[InvalidOperation, DivisionByZero, Overflow]),\n",
       "  59: 'No Value, so here is a default one',\n",
       "  69: [1,\n",
       "   2,\n",
       "   'Fizz',\n",
       "   4,\n",
       "   'Buzz',\n",
       "   'Fizz',\n",
       "   7,\n",
       "   8,\n",
       "   'Fizz',\n",
       "   'Buzz',\n",
       "   11,\n",
       "   'Fizz',\n",
       "   13,\n",
       "   14,\n",
       "   'FizzBuzz',\n",
       "   16,\n",
       "   17,\n",
       "   'Fizz',\n",
       "   19,\n",
       "   'Buzz',\n",
       "   'Fizz',\n",
       "   22,\n",
       "   23,\n",
       "   'Fizz',\n",
       "   'Buzz',\n",
       "   26,\n",
       "   'Fizz',\n",
       "   28,\n",
       "   29,\n",
       "   'FizzBuzz'],\n",
       "  76: {...}},\n",
       " '_dh': [PosixPath('/Users/flamingarch/Developer/courses/LinkedIn Learning - Python Essential Training'),\n",
       "  PosixPath('/Users/flamingarch/Developer/courses/LinkedIn Learning - Python Essential Training')],\n",
       " 'In': ['',\n",
       "  'def performOperation(num1, num2, operation=\"sum\"):\\n    print(locals())\\n\\n\\nperformOperation(1, 2, operation=\"multiply\")',\n",
       "  'def performOperation(num1, num2, operation=\"sum\"):\\n    print(locals())\\n\\n\\nperformOperation(1, 2, operation=\"multiply\")',\n",
       "  'def performOperation(num1, num2, operation=\"sum\"):\\n    print(locals())\\n\\nperformOperation(1, 2, operation=\"multiply\")',\n",
       "  'globals()',\n",
       "  'def performOperation(num1, num2, operation=\"sum\"):\\n    print(locals())\\n\\nperformOperation(1, 2, operation=\"multiply\", nigga=\"please\")',\n",
       "  'print(\"Doing some Data Science\")',\n",
       "  'x = 5\\nname = \"Ryan\"\\n\\nprint(type(name))\\nprint(type(1.5))\\n\\nprint(1.23456789)\\nprint(12345678.9)\\n\\nprint(type(2j))\\nprint(1j * 1j)',\n",
       "  '\\'String 1\\' + \\'String 1\\'\\n\"1\" + \"1\"\\n\\ntry:\\n  \"1\" + 1 # Throw Error\\nexcept: # Catch Error\\n  print(\"TypeError: can only concatenate str (not \"int\") to str\")',\n",
       "  'my_list = [1, 2, 3, 4, 5]\\nprint(my_list, end=\"\\\\n\\\\n\")\\n\\nmy_list = [\"list\", \"of\", \"strings\"]\\nprint(my_list, end=\"\\\\n\\\\n\")\\n\\nmy_list = [1, 2, \"three\", \"four\", False, True, [\"sup\"]]\\nprint(my_list)\\nprint(f\"Elements in list: {len(my_list)}\")',\n",
       "  'my_set = {1, 2, 3, 4, 5}\\nprint(my_set)\\nprint(type(my_set))\\nprint(len(my_set))\\n\\nmy_set = {1, 1, 2, 2}\\nprint(len(my_set))\\nprint(my_set)\\n\\nprint([1, 2] == [2, 1])\\nprint({1, 2} == {2, 1})',\n",
       "  'my_tuples = (1, 2, 3)\\nprint(my_tuples)\\n\\nprint((1, 2) == (2, 1))\\nlen(my_tuples)\\n\\ntry:\\n    my_tuples.append(4)  # Throws Error\\nexcept:  # Catches Error\\n    print(\"ERROR: Can\\'t add element to tuple\")',\n",
       "  'my_dictionary = {\"apple\": \"A red fruit\", \"bear\": \"A scary animal\"}\\n\\nprint(my_dictionary[\"apple\"])\\n\\nmy_dictionary = {\\n    \"apple\": \"A red fruit\",\\n    \"bear\": \"A scary animal\",\\n    \"apple\": \"A green fruit\",\\n}\\nprint(my_dictionary[\"apple\"])',\n",
       "  'print(1 + 1)  # Addition\\nprint(2 - 1)  # Subtraction\\nprint(4 * 5)  # Multiplication\\nprint(5**2)  # Exponent\\nprint(20 / 4)  # Get quotient (division operator)\\nprint(20 % 6)  # Get remainder (modulus operator)',\n",
       "  'print(\"panda\" + \"panda\")\\nprint(\"panda-\" * 4)\\nprint(\" 1\" + 4)',\n",
       "  'print(True == True)\\nprint(4 < 5)\\nprint(5 <= 5)\\nprint(5 > 2)\\nprint(3 >= 4)',\n",
       "  'print(True and True)\\nprint(True and False)\\nprint(True or False)\\nprint(False or False)\\nprint(not True)\\nprint(not False)',\n",
       "  'print(1 in [1, 2, 3, 4, 5])\\nprint(10 in [1, 2, 3, 4, 5])\\nprint(10 not in [1, 2, 3, 4, 5])\\nprint(\"cat\" in \"my pet cat\")\\nprint(\"cat\" in \"concat\")',\n",
       "  'a = True\\nb = True\\nc = False\\n\\nif a:\\n    print(\"It is true!\")\\n    print(\"Also print this\")\\n    if b:\\n        print(\"Both a and b are true\")\\n        if c:\\n            print(\"c is also true\")\\nelse:\\n    print(\"It is false\")\\nprint(\"Always Print This\")',\n",
       "  'a = [1, 2, 3, 4, 5]\\nfor item in a:\\n    print(item, end=\", \")',\n",
       "  'a = 0\\n\\nwhile a < 5:\\n    print(a, end=\", \")\\n    a = a + 1  # Removing this will make it run infinitely',\n",
       "  'def multiplyByThree(val):\\n    return 3 * val\\n\\n\\ndef multiply(val1, val2):\\n    return val1 * val2\\n\\n\\ndef appendFour(myList):\\n    myList.append(4)',\n",
       "  'print(3, 5)\\nprint(multiplyByThree(4), end=\"\\\\n\\\\n\")\\n\\nmyList = [1, 2, 3]\\nprint(appendFour(myList))  # Prints None, as function doesn\\'t return anything\\nprint(myList)  # It Works',\n",
       "  'class Dog:\\n    def __init__(self, name):\\n        self.name = name\\n        self.legs = 4\\n\\n    def speak(self):\\n        print(self.name + \" says Bark\")\\n\\n\\nmy_dog = Dog(\"Rover\")\\nanother_dog = Dog(\"Fluffy\")\\n\\nmy_dog.speak()\\nanother_dog.speak()',\n",
       "  'def factorialIterative(n):\\n    if type(n) != int or n < 0:\\n        return None\\n    val = 1\\n    for i in range(1, n + 1):\\n        val *= i\\n    return val\\n\\n\\ndef factorialRecursive(n):\\n    if type(n) != int or n < 0:\\n        return None\\n    return n if n in [1, 0] else n * factorialRecursive(n - 1)',\n",
       "  'factorialFunction = factorialIterative\\nvalues_to_check = [5, 6, 0, -2, 1.2, \"spam spam spam spam spam\"]\\n\\nfor value in values_to_check:\\n    print(f\"Factorial of {value}: {factorialFunction(value)}\")',\n",
       "  'print(4**4.0)\\nprint(int(4**4.0))\\n\\nprint(int(8.9))\\nround(8.9)\\n\\nprint(1.2 - 1.0)\\nround(1.2 - 1.0, 2)',\n",
       "  'print(int(\"100\"))\\nprint(\"100 in Binary (Base 2) is:\", int(\"100\", 2))\\nprint(\"1ab in Hexadecimal (Base 16) is:\", int(\"1ab\", 16))',\n",
       "  'from decimal import Decimal, getcontext\\n\\nprint(Decimal(\"1.1\") + Decimal(\"2.2\"))\\ngetcontext()',\n",
       "  'getcontext().prec = 2',\n",
       "  'print(Decimal(1) / Decimal(3))\\nprint(Decimal(3.14))\\nprint(Decimal(\"3.14\"))',\n",
       "  'print(f\"\"\"1: {bool(1)}\"\"\")\\nprint(f\"\"\"0: {bool(0)}\"\"\")\\nprint(f\"\"\"-1: {bool(-1)}\"\"\")\\nprint(f\"\"\"1.2: {bool(1.2)}\"\"\")\\nprint(f\"\"\"(): {bool()}\"\"\")\\nprint(f\"\"\"\"\": {bool(\"\")}\"\"\")\\nprint(f\"\"\"\" \": {bool(\" \")}\"\"\")\\nprint(f\"\"\"\"Hello, World!\\\\\": {bool(\"Hello, World!\")}\"\"\")\\nprint(f\"\"\"\"False\": {bool(\"False\")}\"\"\")\\nprint(\"None: \", bool(None))',\n",
       "  'print(\"[]: \", bool([]))\\nprint(\"{}: \", bool({}))\\nprint(\"[1]: \", bool([1]))\\nprint(\\'{\"a\":1}: \\', bool({\"a\": 1}))',\n",
       "  'weatherNice = False\\nhaveUmbrella = True\\n\\nif not haveUmbrella or weatherNice:\\n    print(\"Stay Inside\")\\nelse:\\n    print(\"Go for a Walk\")\\n\\n# Fixed\\nif not (haveUmbrella or weatherNice):\\n    print(\"Stay Inside\")\\nelse:\\n    print(\"Go for a Walk\")\\n\\n# De Morgan\\'s Law\\nif not haveUmbrella and not weatherNice:\\n    print(\"Stay Inside\")\\nelse:\\n    print(\"Go for a Walk\")',\n",
       "  'name = \"And his name is John Cena\"\\nprint(name[0])\\nprint(name[1])\\n\\nprint(name[0:3])\\nprint(name[:3])\\n\\nprint(name[4 : len(name)])\\nprint(name[4:])\\n\\nprint(name[-1])\\nprint(name[-2])\\n\\nprint(name[0:-3])\\nprint(name[-3 : len(name)])\\n\\nprint(name[:-3])\\nprint(name[-3:])',\n",
       "  'pi = 3.14159\\nprint(\"pi is \" + str(my_number))\\nprint(f\"pi is {my_number:.2f}\")\\nprint(\"pi is {}\".format(my_number))',\n",
       "  'my_string_1 = \"\"\"Saving People, Hunting Things\\nThe Family Business\"\"\"\\n\\nprint(my_string_1)',\n",
       "  'bytes(4)  # Create an empty byte object of length 4 bytes\\nsmiley_byte = bytes(\"😂\", \"utf-8\")  # Create a byte object with given value and encoding',\n",
       "  'smiley_bytearray = bytearray(\\n    \"😂\", \"utf-8\"\\n)  # Create a bytearray object with given value and encoding\\nprint(smiley_bytearray)\\nsmiley_bytearray[3] = int(\"a4\", 16)\\nprint(smiley_bytearray.decode(\"utf-8\"))',\n",
       "  'hex_numbers = {\\n    \"0\": 0,\\n    \"1\": 1,\\n    \"2\": 2,\\n    \"3\": 3,\\n    \"4\": 4,\\n    \"5\": 5,\\n    \"6\": 6,\\n    \"7\": 7,\\n    \"8\": 8,\\n    \"9\": 9,\\n    \"a\": 10,\\n    \"b\": 11,\\n    \"c\": 12,\\n    \"d\": 13,\\n    \"e\": 14,\\n    \"f\": 15,\\n}\\n\\n\\ndef hexToDec(hexNum: str):\\n    hexNum = hexNum.lower()\\n    decNum = 0\\n    for i in range(len(hexNum)):\\n        if hexNum[i] not in hex_numbers:\\n            return None\\n        decNum += hex_numbers[hexNum[i]] * (16 ** (len(hexNum) - i - 1))\\n    return decNum',\n",
       "  'hexNum = \"1a\"\\n\\nprint(hexToDec(hexNum))\\nprint(int(hexNum, 16))',\n",
       "  'def hexToDec(hexNum):\\n    decNum = 0\\n    exponent = 0\\n\\n    for c in hexNum[::-1]:\\n        if c not in hex_numbers:\\n            return None\\n        decNum += hex_numbers[c] * (16**exponent)\\n        exponent += 1\\n\\n    return decNum',\n",
       "  'print(hexToDec(\"1a\"))',\n",
       "  'my_list = [1, 2, 3, 4, 5, 6, 7]\\nprint(my_list)\\n\\nmy_list = list(range(20))\\nprint(my_list)\\n\\nprint(my_list[1:6:2])\\nprint(my_list[::2])\\n\\nprint(my_list[::-1])\\n\\nprint(my_list[0:-4:3])\\n\\nprint()',\n",
       "  'my_list = [1, 2, 3, 4]\\n\\nmy_list.append(3)\\nprint(my_list)\\n\\nmy_list.insert(2, 5)\\nprint(my_list)\\n\\nmy_list.remove(3)\\nprint(my_list)\\n\\nprint(my_list.pop())\\nprint(my_list)\\n\\nprint(my_list.pop(2))\\nprint(my_list)\\n\\nprint(my_list.index(1))',\n",
       "  'a = [1, 2, 3, 4, 5]\\nb = a\\na.append(6)\\nprint(b)',\n",
       "  'a = [1, 2, 3, 4, 5]\\nb = a.copy()\\na.append(6)\\nprint(b)',\n",
       "  'mylist = [1, 2, 3, 4, 5]\\nprint([2 * item for item in mylist])\\n\\n# Filter\\nmy_another_list = list(range(100))\\nprint([item for item in my_another_list if item % 10 == 0])\\n\\nmyString = \"My Name is Sherlock Holmes. I live in London\"\\nprint(myString.split())\\nprint(myString.split(\".\"))\\n\\n\\ndef cleanWord(word: str):\\n    # Chain Operations\\n    return word.replace(\",\", \" \").lower()\\n\\n\\nprint([cleanWord(word) for word in myString.split() if len(word) > 3])\\n\\n# Nested\\nprint(\\n    [[cleanWord(word) for word in sentence.split()] for sentence in myString.split(\".\")]\\n)',\n",
       "  'mySet = {\"a\", \"b\", \"c\"}\\nprint(mySet)\\n\\n# Set from List\\nmySecondSet = set([\"a\", \"b\", \"c\"])\\nprint(mySecondSet)\\n\\n# Set from Tuple\\nmyThirdSet = set((\"a\", \"b\", \"c\"))\\nprint(myThirdSet)\\n\\nmyList = [\"a\", \"b\", \"c\", \"b\", \"c\"]\\nmyDeDuplicatedList = list(set(myList))\\nprint(myDeDuplicatedList)',\n",
       "  'myset = {1, 2, 3}\\nprint(myset[1])',\n",
       "  'number = 1\\nprint(number[0])',\n",
       "  'mySet = {1, 2, 3}\\nprint(mySet)\\n\\nmySet.add(4)\\nprint(mySet)\\n\\nprint(3 in mySet)\\n\\nprint(len(mySet))\\n\\nprint(mySet.pop())  # Is Completely Random\\nprint(mySet)\\n\\nmySet.discard(3)\\nprint(mySet)\\n\\nmySet = set(range(20))\\n\\nwhile len(mySet):\\n    print(mySet.pop(), end=\" \")',\n",
       "  'myTuple = (\"a\", \"b\", \"c\")\\nprint(myTuple)\\n\\nmyTuple = 1, 2, 3  # Not considered best practice, but works!\\nprint(myTuple)\\n\\nprint(myTuple[2])',\n",
       "  'myTuple[2] = 5',\n",
       "  'def returnMultipleValues():\\n    return 1, 2, 3\\n\\n\\nprint(type(returnMultipleValues()))',\n",
       "  'a, b, c = returnMultipleValues()\\nprint(a, b, c)',\n",
       "  'animals = {\"a\": \"aardvark\", \"b\": \"bear\", \"c\": \"cat\"}\\nprint(animals)\\n\\nprint(animals[\"a\"])\\n\\nanimals[\"d\"] = \"dog\"\\nprint(animals)\\n\\nprint(animals.keys())',\n",
       "  'animals[\"e\"]',\n",
       "  'animals.get(\"e\")',\n",
       "  'animals.get(\"e\", \"No Value, so here is a default one\")',\n",
       "  'animals = {\\n    \"a\": [\"aardvark\", \"antelope\"],\\n    \"b\": [\"bear\"],\\n}\\n\\nanimals[\"b\"].append(\"bison\")\\nprint(animals)',\n",
       "  'animals[\"c\"].append(\"cat\")',\n",
       "  'if c not in animals:\\n    animals[\"c\"] = []\\n\\nanimals[\"c\"].append(\"cat\")',\n",
       "  'from collections import defaultdict\\n\\nanimals = defaultdict(list)\\nprint(animals)\\n\\nanimals[\"e\"].append(\"Elephant\")\\nprint(animals)\\n\\nprint(animals[\"b\"])',\n",
       "  'animalsList = [(\"a\", \"aardvark\"), (\"b\", \"bear\"), (\"c\", \"cat\"), (\"d\", \"dog\")]\\n\\nanimals = {item[0]: item[1] for item in animalsList}\\nprint(animals)\\n\\nanimals = {key: value for key, value in animalsList}\\nprint(animals)\\n\\nprint(animals.items())\\nprint(list(animals.items()))\\n\\nprint([{\"letter\": key, \"name\": value} for key, value in animals.items()])',\n",
       "  'def encodeString(string):\\n    listEncoded = []\\n    lastchar = string[0]\\n    count = 0\\n    for i in range(len(string)):\\n        if lastchar == string[i]:\\n            count += 1\\n        else:\\n            listEncoded.append((lastchar, count))\\n            count = 1\\n        lastchar = string[i]\\n\\n        if len(string) - 1 == i:\\n            listEncoded.append((lastchar, count))\\n\\n    return listEncoded\\n\\n\\ndef decodeString(encodedArr):\\n    string = \"\"\\n    for key, val in encodedArr:\\n        for _ in range(val):\\n            string += key\\n    return string',\n",
       "  '# From Solution: Further optimisations\\ndef encodeString(string):\\n    listEncoded = []\\n    lastchar = string[0]\\n    count = 0\\n    for i in range(len(string)):\\n        if lastchar != string[i]:\\n            listEncoded.append((lastchar, count))\\n            count = 0\\n        lastchar = string[i]\\n        count += 1\\n\\n    listEncoded.append((lastchar, count))\\n    return listEncoded\\n\\n\\ndef decodeString(encodedArr):\\n    string = \"\"\\n    for key, val in encodedArr:\\n        string += key * val\\n    return string',\n",
       "  'encoded = encodeString(\"AABBBBAAAA\")\\ndecoded = decodeString(encoded)  # [(\\'A\\',2), (\\'B\\',4), (\"A\",4)]\\n\\nprint(encoded)\\nprint(decoded)',\n",
       "  'def fizzBuzz(count):\\n    for i in range(1, count + 1):\\n        if i % 3 == 0 and i % 5 == 0:\\n            print(\"FizzBuzz\")\\n        elif i % 3 == 0:\\n            print(\"Fizz\")\\n        elif i % 5 == 0:\\n            print(\"Buzz\")\\n        else:\\n            print(i)\\n\\n\\nfizzBuzz(100)',\n",
       "  'def fizzBuzz(count):\\n    return [\\n        \"FizzBuzz\"\\n        if (n % 3 == 0 and n % 5 == 0)\\n        else \"Fizz\"\\n        if n % 3 == 0\\n        else \"Buzz\"\\n        if n % 5 == 0\\n        else n\\n        for n in range(1, count + 1)\\n    ]\\n\\n\\nfizzBuzz(30)',\n",
       "  'from datetime import datetime\\n\\nduration = 2\\nwait_until = datetime.now().second + duration\\n\\nwhile datetime.now().second != wait_until:\\n    pass\\nprint(f\"We are at {duration} seconds!\")',\n",
       "  'from datetime import datetime\\n\\nduration = 2\\nwait_until = datetime.now().second + duration\\n\\nwhile True:\\n    if datetime.now().second == wait_until:\\n        print(f\"We are at {duration} seconds!\")\\n        break',\n",
       "  'from datetime import datetime\\n\\nduration = 2\\nwait_until = datetime.now().second + duration\\n\\nwhile datetime.now().second != wait_until:\\n    continue\\n    print(\"Still waiting\")\\nprint(f\"We are at {duration} seconds!\")',\n",
       "  'from datetime import datetime\\n\\nduration = 2\\nwait_until = datetime.now().second + duration\\n\\nwhile True:\\n    if datetime.now().second < wait_until:\\n        continue\\n    break\\n\\nprint(f\"We are at {duration} seconds!\")',\n",
       "  'from datetime import datetime\\n\\nduration = 2\\nwait_until = datetime.now().second + duration\\n\\nwhile True:\\n    if datetime.now().second < wait_until:\\n        continue\\n    break\\n\\nprint(f\"We are at {duration} seconds!\")',\n",
       "  'def performOperation(num1, num2, operation=\"sum\"):\\n    print(locals())\\n\\nperformOperation(1, 2, operation=\"multiply\")',\n",
       "  'def performOperation(num1, num2, operation=\"sum\"):\\n    print(locals())\\n\\nperformOperation(1, 2, operation=\"multiply\")\\nglobals()',\n",
       "  'message = \"some global data\"\\n\\ndef fn1(vrA, vrB):\\n    print(message)\\n    print(locals())\\n\\ndef fn2(vrc, vrB):\\n    print(locals())\\n    print(message)',\n",
       "  'message = \"some global data\"\\n\\ndef fn1(vrA, vrB):\\n    print(message)\\n    print(locals())\\n\\ndef fn2(vrc, vrB):\\n    print(locals())\\n    print(message)\\n\\nfn1(1,2)',\n",
       "  'message = \"some global data\"\\n\\ndef fn1(vrA, vrB):\\n    print(message)\\n    print(locals())\\n\\ndef fn2(vrc, vrB):\\n    print(locals())\\n    print(message)\\n\\nfn1(1,2)\\nfn2(3,4)',\n",
       "  'message = \"some global data\"\\n\\n\\ndef fn1(vrA, vrB):\\n    print(vrA)\\n    print(message)\\n    print(locals())\\n\\n\\ndef fn2(vrc, vrB):\\n    print(vrA)\\n    print(message)\\n    print(locals())\\n\\n\\nfn1(1, 2)\\nfn2(3, 4)',\n",
       "  'message = \"some global data\"\\n\\n\\ndef fn1(vrA, vrB):\\n    print(vrA)\\n    print(message)\\n    print(locals())\\n\\n\\ndef fn2(vrc, vrB):\\n    print(vrA or None)\\n    print(message)\\n    print(locals())\\n\\n\\nfn1(1, 2)\\nfn2(3, 4)',\n",
       "  'message = \"some global data\"\\n\\n\\ndef fn1(vrA, vrB):\\n    print(vrA)\\n    print(message)\\n    print(locals())\\n\\n\\ndef fn2(vrc, vrB):\\n    # print(vrA)\\n    print(message)\\n    print(locals())\\n\\n\\nfn1(1, 2)\\nfn2(3, 4)',\n",
       "  'def fn1(varA, varB):\\n  message = \"Some Local Data\"\\n  print(varA)\\n  def fnInner(varA, varB):\\n    print(f\"Inner Function Local Scope: {locals()}\")',\n",
       "  'def fnOuter(varA, varB):\\n  message = \"Some Local Data\"\\n  print(varA)\\n  def fnInner(varA, varB):\\n    print(f\"Inner Function Local Scope: {locals()}\")\\n  \\n  fnInner(123,456)\\n\\nfnOuter(1,2)',\n",
       "  'def fnOuter(varA, varB):\\n  message = \"Some Local Data\"\\n  print(varA)\\n  def fnInner(varA, varB):\\n    print(f\"Inner Function Local Scope: {locals()}\")\\n  print(locals())\\n  fnInner(123,456)\\n\\nfnOuter(1,2)',\n",
       "  'def fnOuter(varA, varB):\\n  message = \"Some Local Data\"\\n  print(varA)\\n  def fnInner(varA, varB):\\n    print(f\"Inner Function Local Scope: {locals()}\")\\n  print(locals()) # fnInner is defined as a variable\\n  fnInner(123,456)\\n\\nfnOuter(1,2)',\n",
       "  'def performOperation(num1, num2, operation=\"sum\"):\\n    print(locals())\\n\\nperformOperation(1, 2, operation=\"multiply\")\\nglobals()'],\n",
       " 'Out': {4: {...},\n",
       "  26: 0.2,\n",
       "  28: Context(prec=2, rounding=ROUND_HALF_EVEN, Emin=-999999, Emax=999999, capitals=1, clamp=0, flags=[Inexact, FloatOperation, Rounded], traps=[InvalidOperation, DivisionByZero, Overflow]),\n",
       "  59: 'No Value, so here is a default one',\n",
       "  69: [1,\n",
       "   2,\n",
       "   'Fizz',\n",
       "   4,\n",
       "   'Buzz',\n",
       "   'Fizz',\n",
       "   7,\n",
       "   8,\n",
       "   'Fizz',\n",
       "   'Buzz',\n",
       "   11,\n",
       "   'Fizz',\n",
       "   13,\n",
       "   14,\n",
       "   'FizzBuzz',\n",
       "   16,\n",
       "   17,\n",
       "   'Fizz',\n",
       "   19,\n",
       "   'Buzz',\n",
       "   'Fizz',\n",
       "   22,\n",
       "   23,\n",
       "   'Fizz',\n",
       "   'Buzz',\n",
       "   26,\n",
       "   'Fizz',\n",
       "   28,\n",
       "   29,\n",
       "   'FizzBuzz'],\n",
       "  76: {...}},\n",
       " 'get_ipython': <bound method InteractiveShell.get_ipython of <ipykernel.zmqshell.ZMQInteractiveShell object at 0x104d0d3a0>>,\n",
       " 'exit': <IPython.core.autocall.ZMQExitAutocall at 0x104d0dc70>,\n",
       " 'quit': <IPython.core.autocall.ZMQExitAutocall at 0x104d0dc70>,\n",
       " 'open': <function io.open(file, mode='r', buffering=-1, encoding=None, errors=None, newline=None, closefd=True, opener=None)>,\n",
       " '_': {...},\n",
       " '__': [1,\n",
       "  2,\n",
       "  'Fizz',\n",
       "  4,\n",
       "  'Buzz',\n",
       "  'Fizz',\n",
       "  7,\n",
       "  8,\n",
       "  'Fizz',\n",
       "  'Buzz',\n",
       "  11,\n",
       "  'Fizz',\n",
       "  13,\n",
       "  14,\n",
       "  'FizzBuzz',\n",
       "  16,\n",
       "  17,\n",
       "  'Fizz',\n",
       "  19,\n",
       "  'Buzz',\n",
       "  'Fizz',\n",
       "  22,\n",
       "  23,\n",
       "  'Fizz',\n",
       "  'Buzz',\n",
       "  26,\n",
       "  'Fizz',\n",
       "  28,\n",
       "  29,\n",
       "  'FizzBuzz'],\n",
       " '___': 'No Value, so here is a default one',\n",
       " '__vsc_ipynb_file__': '/Users/flamingarch/Developer/courses/LinkedIn Learning - Python Essential Training/main.ipynb',\n",
       " '_i': 'def fnOuter(varA, varB):\\n  message = \"Some Local Data\"\\n  print(varA)\\n  def fnInner(varA, varB):\\n    print(f\"Inner Function Local Scope: {locals()}\")\\n  print(locals()) # fnInner is defined as a variable\\n  fnInner(123,456)\\n\\nfnOuter(1,2)',\n",
       " '_ii': 'def fnOuter(varA, varB):\\n  message = \"Some Local Data\"\\n  print(varA)\\n  def fnInner(varA, varB):\\n    print(f\"Inner Function Local Scope: {locals()}\")\\n  print(locals())\\n  fnInner(123,456)\\n\\nfnOuter(1,2)',\n",
       " '_iii': 'def fnOuter(varA, varB):\\n  message = \"Some Local Data\"\\n  print(varA)\\n  def fnInner(varA, varB):\\n    print(f\"Inner Function Local Scope: {locals()}\")\\n  \\n  fnInner(123,456)\\n\\nfnOuter(1,2)',\n",
       " '_i1': 'def performOperation(num1, num2, operation=\"sum\"):\\n    print(locals())\\n\\n\\nperformOperation(1, 2, operation=\"multiply\")',\n",
       " 'performOperation': <function __main__.performOperation(num1, num2, operation='sum')>,\n",
       " '_i2': 'def performOperation(num1, num2, operation=\"sum\"):\\n    print(locals())\\n\\n\\nperformOperation(1, 2, operation=\"multiply\")',\n",
       " '_i3': 'def performOperation(num1, num2, operation=\"sum\"):\\n    print(locals())\\n\\nperformOperation(1, 2, operation=\"multiply\")',\n",
       " '_i4': 'globals()',\n",
       " '_4': {...},\n",
       " '_i5': 'def performOperation(num1, num2, operation=\"sum\"):\\n    print(locals())\\n\\nperformOperation(1, 2, operation=\"multiply\", nigga=\"please\")',\n",
       " '_i6': 'print(\"Doing some Data Science\")',\n",
       " '_i7': 'x = 5\\nname = \"Ryan\"\\n\\nprint(type(name))\\nprint(type(1.5))\\n\\nprint(1.23456789)\\nprint(12345678.9)\\n\\nprint(type(2j))\\nprint(1j * 1j)',\n",
       " 'x': 5,\n",
       " 'name': 'And his name is John Cena',\n",
       " '_i8': '\\'String 1\\' + \\'String 1\\'\\n\"1\" + \"1\"\\n\\ntry:\\n  \"1\" + 1 # Throw Error\\nexcept: # Catch Error\\n  print(\"TypeError: can only concatenate str (not \"int\") to str\")',\n",
       " '_i9': 'my_list = [1, 2, 3, 4, 5]\\nprint(my_list, end=\"\\\\n\\\\n\")\\n\\nmy_list = [\"list\", \"of\", \"strings\"]\\nprint(my_list, end=\"\\\\n\\\\n\")\\n\\nmy_list = [1, 2, \"three\", \"four\", False, True, [\"sup\"]]\\nprint(my_list)\\nprint(f\"Elements in list: {len(my_list)}\")',\n",
       " 'my_list': [1, 2, 4],\n",
       " '_i10': 'my_set = {1, 2, 3, 4, 5}\\nprint(my_set)\\nprint(type(my_set))\\nprint(len(my_set))\\n\\nmy_set = {1, 1, 2, 2}\\nprint(len(my_set))\\nprint(my_set)\\n\\nprint([1, 2] == [2, 1])\\nprint({1, 2} == {2, 1})',\n",
       " 'my_set': {1, 2},\n",
       " '_i11': 'my_tuples = (1, 2, 3)\\nprint(my_tuples)\\n\\nprint((1, 2) == (2, 1))\\nlen(my_tuples)\\n\\ntry:\\n    my_tuples.append(4)  # Throws Error\\nexcept:  # Catches Error\\n    print(\"ERROR: Can\\'t add element to tuple\")',\n",
       " 'my_tuples': (1, 2, 3),\n",
       " '_i12': 'my_dictionary = {\"apple\": \"A red fruit\", \"bear\": \"A scary animal\"}\\n\\nprint(my_dictionary[\"apple\"])\\n\\nmy_dictionary = {\\n    \"apple\": \"A red fruit\",\\n    \"bear\": \"A scary animal\",\\n    \"apple\": \"A green fruit\",\\n}\\nprint(my_dictionary[\"apple\"])',\n",
       " 'my_dictionary': {'apple': 'A green fruit', 'bear': 'A scary animal'},\n",
       " '_i13': 'print(1 + 1)  # Addition\\nprint(2 - 1)  # Subtraction\\nprint(4 * 5)  # Multiplication\\nprint(5**2)  # Exponent\\nprint(20 / 4)  # Get quotient (division operator)\\nprint(20 % 6)  # Get remainder (modulus operator)',\n",
       " '_i14': 'print(\"panda\" + \"panda\")\\nprint(\"panda-\" * 4)\\nprint(\" 1\" + 4)',\n",
       " '_i15': 'print(True == True)\\nprint(4 < 5)\\nprint(5 <= 5)\\nprint(5 > 2)\\nprint(3 >= 4)',\n",
       " '_i16': 'print(True and True)\\nprint(True and False)\\nprint(True or False)\\nprint(False or False)\\nprint(not True)\\nprint(not False)',\n",
       " '_i17': 'print(1 in [1, 2, 3, 4, 5])\\nprint(10 in [1, 2, 3, 4, 5])\\nprint(10 not in [1, 2, 3, 4, 5])\\nprint(\"cat\" in \"my pet cat\")\\nprint(\"cat\" in \"concat\")',\n",
       " '_i18': 'a = True\\nb = True\\nc = False\\n\\nif a:\\n    print(\"It is true!\")\\n    print(\"Also print this\")\\n    if b:\\n        print(\"Both a and b are true\")\\n        if c:\\n            print(\"c is also true\")\\nelse:\\n    print(\"It is false\")\\nprint(\"Always Print This\")',\n",
       " 'a': 1,\n",
       " 'b': 2,\n",
       " 'c': 3,\n",
       " '_i19': 'a = [1, 2, 3, 4, 5]\\nfor item in a:\\n    print(item, end=\", \")',\n",
       " 'item': 5,\n",
       " '_i20': 'a = 0\\n\\nwhile a < 5:\\n    print(a, end=\", \")\\n    a = a + 1  # Removing this will make it run infinitely',\n",
       " '_i21': 'def multiplyByThree(val):\\n    return 3 * val\\n\\n\\ndef multiply(val1, val2):\\n    return val1 * val2\\n\\n\\ndef appendFour(myList):\\n    myList.append(4)',\n",
       " 'multiplyByThree': <function __main__.multiplyByThree(val)>,\n",
       " 'multiply': <function __main__.multiply(val1, val2)>,\n",
       " 'appendFour': <function __main__.appendFour(myList)>,\n",
       " '_i22': 'print(3, 5)\\nprint(multiplyByThree(4), end=\"\\\\n\\\\n\")\\n\\nmyList = [1, 2, 3]\\nprint(appendFour(myList))  # Prints None, as function doesn\\'t return anything\\nprint(myList)  # It Works',\n",
       " 'myList': ['a', 'b', 'c', 'b', 'c'],\n",
       " '_i23': 'class Dog:\\n    def __init__(self, name):\\n        self.name = name\\n        self.legs = 4\\n\\n    def speak(self):\\n        print(self.name + \" says Bark\")\\n\\n\\nmy_dog = Dog(\"Rover\")\\nanother_dog = Dog(\"Fluffy\")\\n\\nmy_dog.speak()\\nanother_dog.speak()',\n",
       " 'Dog': __main__.Dog,\n",
       " 'my_dog': <__main__.Dog at 0x10511abb0>,\n",
       " 'another_dog': <__main__.Dog at 0x10511ad00>,\n",
       " '_i24': 'def factorialIterative(n):\\n    if type(n) != int or n < 0:\\n        return None\\n    val = 1\\n    for i in range(1, n + 1):\\n        val *= i\\n    return val\\n\\n\\ndef factorialRecursive(n):\\n    if type(n) != int or n < 0:\\n        return None\\n    return n if n in [1, 0] else n * factorialRecursive(n - 1)',\n",
       " 'factorialIterative': <function __main__.factorialIterative(n)>,\n",
       " 'factorialRecursive': <function __main__.factorialRecursive(n)>,\n",
       " '_i25': 'factorialFunction = factorialIterative\\nvalues_to_check = [5, 6, 0, -2, 1.2, \"spam spam spam spam spam\"]\\n\\nfor value in values_to_check:\\n    print(f\"Factorial of {value}: {factorialFunction(value)}\")',\n",
       " 'factorialFunction': <function __main__.factorialIterative(n)>,\n",
       " 'values_to_check': [5, 6, 0, -2, 1.2, 'spam spam spam spam spam'],\n",
       " 'value': 'spam spam spam spam spam',\n",
       " '_i26': 'print(4**4.0)\\nprint(int(4**4.0))\\n\\nprint(int(8.9))\\nround(8.9)\\n\\nprint(1.2 - 1.0)\\nround(1.2 - 1.0, 2)',\n",
       " '_26': 0.2,\n",
       " '_i27': 'print(int(\"100\"))\\nprint(\"100 in Binary (Base 2) is:\", int(\"100\", 2))\\nprint(\"1ab in Hexadecimal (Base 16) is:\", int(\"1ab\", 16))',\n",
       " '_i28': 'from decimal import Decimal, getcontext\\n\\nprint(Decimal(\"1.1\") + Decimal(\"2.2\"))\\ngetcontext()',\n",
       " 'Decimal': decimal.Decimal,\n",
       " 'getcontext': <function decimal.getcontext()>,\n",
       " '_28': Context(prec=2, rounding=ROUND_HALF_EVEN, Emin=-999999, Emax=999999, capitals=1, clamp=0, flags=[Inexact, FloatOperation, Rounded], traps=[InvalidOperation, DivisionByZero, Overflow]),\n",
       " '_i29': 'getcontext().prec = 2',\n",
       " '_i30': 'print(Decimal(1) / Decimal(3))\\nprint(Decimal(3.14))\\nprint(Decimal(\"3.14\"))',\n",
       " '_i31': 'print(f\"\"\"1: {bool(1)}\"\"\")\\nprint(f\"\"\"0: {bool(0)}\"\"\")\\nprint(f\"\"\"-1: {bool(-1)}\"\"\")\\nprint(f\"\"\"1.2: {bool(1.2)}\"\"\")\\nprint(f\"\"\"(): {bool()}\"\"\")\\nprint(f\"\"\"\"\": {bool(\"\")}\"\"\")\\nprint(f\"\"\"\" \": {bool(\" \")}\"\"\")\\nprint(f\"\"\"\"Hello, World!\\\\\": {bool(\"Hello, World!\")}\"\"\")\\nprint(f\"\"\"\"False\": {bool(\"False\")}\"\"\")\\nprint(\"None: \", bool(None))',\n",
       " '_i32': 'print(\"[]: \", bool([]))\\nprint(\"{}: \", bool({}))\\nprint(\"[1]: \", bool([1]))\\nprint(\\'{\"a\":1}: \\', bool({\"a\": 1}))',\n",
       " '_i33': 'weatherNice = False\\nhaveUmbrella = True\\n\\nif not haveUmbrella or weatherNice:\\n    print(\"Stay Inside\")\\nelse:\\n    print(\"Go for a Walk\")\\n\\n# Fixed\\nif not (haveUmbrella or weatherNice):\\n    print(\"Stay Inside\")\\nelse:\\n    print(\"Go for a Walk\")\\n\\n# De Morgan\\'s Law\\nif not haveUmbrella and not weatherNice:\\n    print(\"Stay Inside\")\\nelse:\\n    print(\"Go for a Walk\")',\n",
       " 'weatherNice': False,\n",
       " 'haveUmbrella': True,\n",
       " '_i34': 'name = \"And his name is John Cena\"\\nprint(name[0])\\nprint(name[1])\\n\\nprint(name[0:3])\\nprint(name[:3])\\n\\nprint(name[4 : len(name)])\\nprint(name[4:])\\n\\nprint(name[-1])\\nprint(name[-2])\\n\\nprint(name[0:-3])\\nprint(name[-3 : len(name)])\\n\\nprint(name[:-3])\\nprint(name[-3:])',\n",
       " '_i35': 'pi = 3.14159\\nprint(\"pi is \" + str(my_number))\\nprint(f\"pi is {my_number:.2f}\")\\nprint(\"pi is {}\".format(my_number))',\n",
       " 'pi': 3.14159,\n",
       " '_i36': 'my_string_1 = \"\"\"Saving People, Hunting Things\\nThe Family Business\"\"\"\\n\\nprint(my_string_1)',\n",
       " 'my_string_1': 'Saving People, Hunting Things\\nThe Family Business',\n",
       " '_i37': 'bytes(4)  # Create an empty byte object of length 4 bytes\\nsmiley_byte = bytes(\"😂\", \"utf-8\")  # Create a byte object with given value and encoding',\n",
       " 'smiley_byte': b'\\xf0\\x9f\\x98\\x82',\n",
       " '_i38': 'smiley_bytearray = bytearray(\\n    \"😂\", \"utf-8\"\\n)  # Create a bytearray object with given value and encoding\\nprint(smiley_bytearray)\\nsmiley_bytearray[3] = int(\"a4\", 16)\\nprint(smiley_bytearray.decode(\"utf-8\"))',\n",
       " 'smiley_bytearray': bytearray(b'\\xf0\\x9f\\x98\\xa4'),\n",
       " '_i39': 'hex_numbers = {\\n    \"0\": 0,\\n    \"1\": 1,\\n    \"2\": 2,\\n    \"3\": 3,\\n    \"4\": 4,\\n    \"5\": 5,\\n    \"6\": 6,\\n    \"7\": 7,\\n    \"8\": 8,\\n    \"9\": 9,\\n    \"a\": 10,\\n    \"b\": 11,\\n    \"c\": 12,\\n    \"d\": 13,\\n    \"e\": 14,\\n    \"f\": 15,\\n}\\n\\n\\ndef hexToDec(hexNum: str):\\n    hexNum = hexNum.lower()\\n    decNum = 0\\n    for i in range(len(hexNum)):\\n        if hexNum[i] not in hex_numbers:\\n            return None\\n        decNum += hex_numbers[hexNum[i]] * (16 ** (len(hexNum) - i - 1))\\n    return decNum',\n",
       " 'hex_numbers': {'0': 0,\n",
       "  '1': 1,\n",
       "  '2': 2,\n",
       "  '3': 3,\n",
       "  '4': 4,\n",
       "  '5': 5,\n",
       "  '6': 6,\n",
       "  '7': 7,\n",
       "  '8': 8,\n",
       "  '9': 9,\n",
       "  'a': 10,\n",
       "  'b': 11,\n",
       "  'c': 12,\n",
       "  'd': 13,\n",
       "  'e': 14,\n",
       "  'f': 15},\n",
       " 'hexToDec': <function __main__.hexToDec(hexNum)>,\n",
       " '_i40': 'hexNum = \"1a\"\\n\\nprint(hexToDec(hexNum))\\nprint(int(hexNum, 16))',\n",
       " 'hexNum': '1a',\n",
       " '_i41': 'def hexToDec(hexNum):\\n    decNum = 0\\n    exponent = 0\\n\\n    for c in hexNum[::-1]:\\n        if c not in hex_numbers:\\n            return None\\n        decNum += hex_numbers[c] * (16**exponent)\\n        exponent += 1\\n\\n    return decNum',\n",
       " '_i42': 'print(hexToDec(\"1a\"))',\n",
       " '_i43': 'my_list = [1, 2, 3, 4, 5, 6, 7]\\nprint(my_list)\\n\\nmy_list = list(range(20))\\nprint(my_list)\\n\\nprint(my_list[1:6:2])\\nprint(my_list[::2])\\n\\nprint(my_list[::-1])\\n\\nprint(my_list[0:-4:3])\\n\\nprint()',\n",
       " '_i44': 'my_list = [1, 2, 3, 4]\\n\\nmy_list.append(3)\\nprint(my_list)\\n\\nmy_list.insert(2, 5)\\nprint(my_list)\\n\\nmy_list.remove(3)\\nprint(my_list)\\n\\nprint(my_list.pop())\\nprint(my_list)\\n\\nprint(my_list.pop(2))\\nprint(my_list)\\n\\nprint(my_list.index(1))',\n",
       " '_i45': 'a = [1, 2, 3, 4, 5]\\nb = a\\na.append(6)\\nprint(b)',\n",
       " '_i46': 'a = [1, 2, 3, 4, 5]\\nb = a.copy()\\na.append(6)\\nprint(b)',\n",
       " '_i47': 'mylist = [1, 2, 3, 4, 5]\\nprint([2 * item for item in mylist])\\n\\n# Filter\\nmy_another_list = list(range(100))\\nprint([item for item in my_another_list if item % 10 == 0])\\n\\nmyString = \"My Name is Sherlock Holmes. I live in London\"\\nprint(myString.split())\\nprint(myString.split(\".\"))\\n\\n\\ndef cleanWord(word: str):\\n    # Chain Operations\\n    return word.replace(\",\", \" \").lower()\\n\\n\\nprint([cleanWord(word) for word in myString.split() if len(word) > 3])\\n\\n# Nested\\nprint(\\n    [[cleanWord(word) for word in sentence.split()] for sentence in myString.split(\".\")]\\n)',\n",
       " 'mylist': [1, 2, 3, 4, 5],\n",
       " 'my_another_list': [0,\n",
       "  1,\n",
       "  2,\n",
       "  3,\n",
       "  4,\n",
       "  5,\n",
       "  6,\n",
       "  7,\n",
       "  8,\n",
       "  9,\n",
       "  10,\n",
       "  11,\n",
       "  12,\n",
       "  13,\n",
       "  14,\n",
       "  15,\n",
       "  16,\n",
       "  17,\n",
       "  18,\n",
       "  19,\n",
       "  20,\n",
       "  21,\n",
       "  22,\n",
       "  23,\n",
       "  24,\n",
       "  25,\n",
       "  26,\n",
       "  27,\n",
       "  28,\n",
       "  29,\n",
       "  30,\n",
       "  31,\n",
       "  32,\n",
       "  33,\n",
       "  34,\n",
       "  35,\n",
       "  36,\n",
       "  37,\n",
       "  38,\n",
       "  39,\n",
       "  40,\n",
       "  41,\n",
       "  42,\n",
       "  43,\n",
       "  44,\n",
       "  45,\n",
       "  46,\n",
       "  47,\n",
       "  48,\n",
       "  49,\n",
       "  50,\n",
       "  51,\n",
       "  52,\n",
       "  53,\n",
       "  54,\n",
       "  55,\n",
       "  56,\n",
       "  57,\n",
       "  58,\n",
       "  59,\n",
       "  60,\n",
       "  61,\n",
       "  62,\n",
       "  63,\n",
       "  64,\n",
       "  65,\n",
       "  66,\n",
       "  67,\n",
       "  68,\n",
       "  69,\n",
       "  70,\n",
       "  71,\n",
       "  72,\n",
       "  73,\n",
       "  74,\n",
       "  75,\n",
       "  76,\n",
       "  77,\n",
       "  78,\n",
       "  79,\n",
       "  80,\n",
       "  81,\n",
       "  82,\n",
       "  83,\n",
       "  84,\n",
       "  85,\n",
       "  86,\n",
       "  87,\n",
       "  88,\n",
       "  89,\n",
       "  90,\n",
       "  91,\n",
       "  92,\n",
       "  93,\n",
       "  94,\n",
       "  95,\n",
       "  96,\n",
       "  97,\n",
       "  98,\n",
       "  99],\n",
       " 'myString': 'My Name is Sherlock Holmes. I live in London',\n",
       " 'cleanWord': <function __main__.cleanWord(word: str)>,\n",
       " '_i48': 'mySet = {\"a\", \"b\", \"c\"}\\nprint(mySet)\\n\\n# Set from List\\nmySecondSet = set([\"a\", \"b\", \"c\"])\\nprint(mySecondSet)\\n\\n# Set from Tuple\\nmyThirdSet = set((\"a\", \"b\", \"c\"))\\nprint(myThirdSet)\\n\\nmyList = [\"a\", \"b\", \"c\", \"b\", \"c\"]\\nmyDeDuplicatedList = list(set(myList))\\nprint(myDeDuplicatedList)',\n",
       " 'mySet': set(),\n",
       " 'mySecondSet': {'a', 'b', 'c'},\n",
       " 'myThirdSet': {'a', 'b', 'c'},\n",
       " 'myDeDuplicatedList': ['a', 'b', 'c'],\n",
       " '_i49': 'myset = {1, 2, 3}\\nprint(myset[1])',\n",
       " 'myset': {1, 2, 3},\n",
       " '_i50': 'number = 1\\nprint(number[0])',\n",
       " 'number': 1,\n",
       " '_i51': 'mySet = {1, 2, 3}\\nprint(mySet)\\n\\nmySet.add(4)\\nprint(mySet)\\n\\nprint(3 in mySet)\\n\\nprint(len(mySet))\\n\\nprint(mySet.pop())  # Is Completely Random\\nprint(mySet)\\n\\nmySet.discard(3)\\nprint(mySet)\\n\\nmySet = set(range(20))\\n\\nwhile len(mySet):\\n    print(mySet.pop(), end=\" \")',\n",
       " '_i52': 'myTuple = (\"a\", \"b\", \"c\")\\nprint(myTuple)\\n\\nmyTuple = 1, 2, 3  # Not considered best practice, but works!\\nprint(myTuple)\\n\\nprint(myTuple[2])',\n",
       " 'myTuple': (1, 2, 3),\n",
       " '_i53': 'myTuple[2] = 5',\n",
       " '_i54': 'def returnMultipleValues():\\n    return 1, 2, 3\\n\\n\\nprint(type(returnMultipleValues()))',\n",
       " 'returnMultipleValues': <function __main__.returnMultipleValues()>,\n",
       " '_i55': 'a, b, c = returnMultipleValues()\\nprint(a, b, c)',\n",
       " '_i56': 'animals = {\"a\": \"aardvark\", \"b\": \"bear\", \"c\": \"cat\"}\\nprint(animals)\\n\\nprint(animals[\"a\"])\\n\\nanimals[\"d\"] = \"dog\"\\nprint(animals)\\n\\nprint(animals.keys())',\n",
       " 'animals': {'a': 'aardvark', 'b': 'bear', 'c': 'cat', 'd': 'dog'},\n",
       " '_i57': 'animals[\"e\"]',\n",
       " '_i58': 'animals.get(\"e\")',\n",
       " '_i59': 'animals.get(\"e\", \"No Value, so here is a default one\")',\n",
       " '_59': 'No Value, so here is a default one',\n",
       " '_i60': 'animals = {\\n    \"a\": [\"aardvark\", \"antelope\"],\\n    \"b\": [\"bear\"],\\n}\\n\\nanimals[\"b\"].append(\"bison\")\\nprint(animals)',\n",
       " '_i61': 'animals[\"c\"].append(\"cat\")',\n",
       " '_i62': 'if c not in animals:\\n    animals[\"c\"] = []\\n\\nanimals[\"c\"].append(\"cat\")',\n",
       " '_i63': 'from collections import defaultdict\\n\\nanimals = defaultdict(list)\\nprint(animals)\\n\\nanimals[\"e\"].append(\"Elephant\")\\nprint(animals)\\n\\nprint(animals[\"b\"])',\n",
       " 'defaultdict': collections.defaultdict,\n",
       " '_i64': 'animalsList = [(\"a\", \"aardvark\"), (\"b\", \"bear\"), (\"c\", \"cat\"), (\"d\", \"dog\")]\\n\\nanimals = {item[0]: item[1] for item in animalsList}\\nprint(animals)\\n\\nanimals = {key: value for key, value in animalsList}\\nprint(animals)\\n\\nprint(animals.items())\\nprint(list(animals.items()))\\n\\nprint([{\"letter\": key, \"name\": value} for key, value in animals.items()])',\n",
       " 'animalsList': [('a', 'aardvark'), ('b', 'bear'), ('c', 'cat'), ('d', 'dog')],\n",
       " '_i65': 'def encodeString(string):\\n    listEncoded = []\\n    lastchar = string[0]\\n    count = 0\\n    for i in range(len(string)):\\n        if lastchar == string[i]:\\n            count += 1\\n        else:\\n            listEncoded.append((lastchar, count))\\n            count = 1\\n        lastchar = string[i]\\n\\n        if len(string) - 1 == i:\\n            listEncoded.append((lastchar, count))\\n\\n    return listEncoded\\n\\n\\ndef decodeString(encodedArr):\\n    string = \"\"\\n    for key, val in encodedArr:\\n        for _ in range(val):\\n            string += key\\n    return string',\n",
       " 'encodeString': <function __main__.encodeString(string)>,\n",
       " 'decodeString': <function __main__.decodeString(encodedArr)>,\n",
       " '_i66': '# From Solution: Further optimisations\\ndef encodeString(string):\\n    listEncoded = []\\n    lastchar = string[0]\\n    count = 0\\n    for i in range(len(string)):\\n        if lastchar != string[i]:\\n            listEncoded.append((lastchar, count))\\n            count = 0\\n        lastchar = string[i]\\n        count += 1\\n\\n    listEncoded.append((lastchar, count))\\n    return listEncoded\\n\\n\\ndef decodeString(encodedArr):\\n    string = \"\"\\n    for key, val in encodedArr:\\n        string += key * val\\n    return string',\n",
       " '_i67': 'encoded = encodeString(\"AABBBBAAAA\")\\ndecoded = decodeString(encoded)  # [(\\'A\\',2), (\\'B\\',4), (\"A\",4)]\\n\\nprint(encoded)\\nprint(decoded)',\n",
       " 'encoded': [('A', 2), ('B', 4), ('A', 4)],\n",
       " 'decoded': 'AABBBBAAAA',\n",
       " '_i68': 'def fizzBuzz(count):\\n    for i in range(1, count + 1):\\n        if i % 3 == 0 and i % 5 == 0:\\n            print(\"FizzBuzz\")\\n        elif i % 3 == 0:\\n            print(\"Fizz\")\\n        elif i % 5 == 0:\\n            print(\"Buzz\")\\n        else:\\n            print(i)\\n\\n\\nfizzBuzz(100)',\n",
       " 'fizzBuzz': <function __main__.fizzBuzz(count)>,\n",
       " '_i69': 'def fizzBuzz(count):\\n    return [\\n        \"FizzBuzz\"\\n        if (n % 3 == 0 and n % 5 == 0)\\n        else \"Fizz\"\\n        if n % 3 == 0\\n        else \"Buzz\"\\n        if n % 5 == 0\\n        else n\\n        for n in range(1, count + 1)\\n    ]\\n\\n\\nfizzBuzz(30)',\n",
       " '_69': [1,\n",
       "  2,\n",
       "  'Fizz',\n",
       "  4,\n",
       "  'Buzz',\n",
       "  'Fizz',\n",
       "  7,\n",
       "  8,\n",
       "  'Fizz',\n",
       "  'Buzz',\n",
       "  11,\n",
       "  'Fizz',\n",
       "  13,\n",
       "  14,\n",
       "  'FizzBuzz',\n",
       "  16,\n",
       "  17,\n",
       "  'Fizz',\n",
       "  19,\n",
       "  'Buzz',\n",
       "  'Fizz',\n",
       "  22,\n",
       "  23,\n",
       "  'Fizz',\n",
       "  'Buzz',\n",
       "  26,\n",
       "  'Fizz',\n",
       "  28,\n",
       "  29,\n",
       "  'FizzBuzz'],\n",
       " '_i70': 'from datetime import datetime\\n\\nduration = 2\\nwait_until = datetime.now().second + duration\\n\\nwhile datetime.now().second != wait_until:\\n    pass\\nprint(f\"We are at {duration} seconds!\")',\n",
       " 'datetime': datetime.datetime,\n",
       " 'duration': 2,\n",
       " 'wait_until': 30,\n",
       " '_i71': 'from datetime import datetime\\n\\nduration = 2\\nwait_until = datetime.now().second + duration\\n\\nwhile True:\\n    if datetime.now().second == wait_until:\\n        print(f\"We are at {duration} seconds!\")\\n        break',\n",
       " '_i72': 'from datetime import datetime\\n\\nduration = 2\\nwait_until = datetime.now().second + duration\\n\\nwhile datetime.now().second != wait_until:\\n    continue\\n    print(\"Still waiting\")\\nprint(f\"We are at {duration} seconds!\")',\n",
       " '_i73': 'from datetime import datetime\\n\\nduration = 2\\nwait_until = datetime.now().second + duration\\n\\nwhile True:\\n    if datetime.now().second < wait_until:\\n        continue\\n    break\\n\\nprint(f\"We are at {duration} seconds!\")',\n",
       " '_i74': 'from datetime import datetime\\n\\nduration = 2\\nwait_until = datetime.now().second + duration\\n\\nwhile True:\\n    if datetime.now().second < wait_until:\\n        continue\\n    break\\n\\nprint(f\"We are at {duration} seconds!\")',\n",
       " '_i75': 'def performOperation(num1, num2, operation=\"sum\"):\\n    print(locals())\\n\\nperformOperation(1, 2, operation=\"multiply\")',\n",
       " '_i76': 'def performOperation(num1, num2, operation=\"sum\"):\\n    print(locals())\\n\\nperformOperation(1, 2, operation=\"multiply\")\\nglobals()',\n",
       " '_76': {...},\n",
       " '_i77': 'message = \"some global data\"\\n\\ndef fn1(vrA, vrB):\\n    print(message)\\n    print(locals())\\n\\ndef fn2(vrc, vrB):\\n    print(locals())\\n    print(message)',\n",
       " 'message': 'some global data',\n",
       " 'fn1': <function __main__.fn1(varA, varB)>,\n",
       " 'fn2': <function __main__.fn2(vrc, vrB)>,\n",
       " '_i78': 'message = \"some global data\"\\n\\ndef fn1(vrA, vrB):\\n    print(message)\\n    print(locals())\\n\\ndef fn2(vrc, vrB):\\n    print(locals())\\n    print(message)\\n\\nfn1(1,2)',\n",
       " '_i79': 'message = \"some global data\"\\n\\ndef fn1(vrA, vrB):\\n    print(message)\\n    print(locals())\\n\\ndef fn2(vrc, vrB):\\n    print(locals())\\n    print(message)\\n\\nfn1(1,2)\\nfn2(3,4)',\n",
       " '_i80': 'message = \"some global data\"\\n\\n\\ndef fn1(vrA, vrB):\\n    print(vrA)\\n    print(message)\\n    print(locals())\\n\\n\\ndef fn2(vrc, vrB):\\n    print(vrA)\\n    print(message)\\n    print(locals())\\n\\n\\nfn1(1, 2)\\nfn2(3, 4)',\n",
       " '_i81': 'message = \"some global data\"\\n\\n\\ndef fn1(vrA, vrB):\\n    print(vrA)\\n    print(message)\\n    print(locals())\\n\\n\\ndef fn2(vrc, vrB):\\n    print(vrA or None)\\n    print(message)\\n    print(locals())\\n\\n\\nfn1(1, 2)\\nfn2(3, 4)',\n",
       " '_i82': 'message = \"some global data\"\\n\\n\\ndef fn1(vrA, vrB):\\n    print(vrA)\\n    print(message)\\n    print(locals())\\n\\n\\ndef fn2(vrc, vrB):\\n    # print(vrA)\\n    print(message)\\n    print(locals())\\n\\n\\nfn1(1, 2)\\nfn2(3, 4)',\n",
       " '_i83': 'def fn1(varA, varB):\\n  message = \"Some Local Data\"\\n  print(varA)\\n  def fnInner(varA, varB):\\n    print(f\"Inner Function Local Scope: {locals()}\")',\n",
       " '_i84': 'def fnOuter(varA, varB):\\n  message = \"Some Local Data\"\\n  print(varA)\\n  def fnInner(varA, varB):\\n    print(f\"Inner Function Local Scope: {locals()}\")\\n  \\n  fnInner(123,456)\\n\\nfnOuter(1,2)',\n",
       " 'fnOuter': <function __main__.fnOuter(varA, varB)>,\n",
       " '_i85': 'def fnOuter(varA, varB):\\n  message = \"Some Local Data\"\\n  print(varA)\\n  def fnInner(varA, varB):\\n    print(f\"Inner Function Local Scope: {locals()}\")\\n  print(locals())\\n  fnInner(123,456)\\n\\nfnOuter(1,2)',\n",
       " '_i86': 'def fnOuter(varA, varB):\\n  message = \"Some Local Data\"\\n  print(varA)\\n  def fnInner(varA, varB):\\n    print(f\"Inner Function Local Scope: {locals()}\")\\n  print(locals()) # fnInner is defined as a variable\\n  fnInner(123,456)\\n\\nfnOuter(1,2)',\n",
       " '_i87': 'def performOperation(num1, num2, operation=\"sum\"):\\n    print(locals())\\n\\nperformOperation(1, 2, operation=\"multiply\")\\nglobals()'}"
      ]
     },
     "execution_count": 87,
     "metadata": {},
     "output_type": "execute_result"
    }
   ],
   "source": [
    "def performOperation(num1, num2, operation=\"sum\"):\n",
    "    print(locals())\n",
    "\n",
    "performOperation(1, 2, operation=\"multiply\")\n",
    "globals()"
   ]
  },
  {
   "cell_type": "code",
   "execution_count": 88,
   "metadata": {},
   "outputs": [
    {
     "name": "stdout",
     "output_type": "stream",
     "text": [
      "1\n",
      "some global data\n",
      "{'vrA': 1, 'vrB': 2}\n",
      "some global data\n",
      "{'vrc': 3, 'vrB': 4}\n"
     ]
    }
   ],
   "source": [
    "message = \"some global data\"\n",
    "\n",
    "\n",
    "def fn1(vrA, vrB):\n",
    "    print(vrA)\n",
    "    print(message)\n",
    "    print(locals())\n",
    "\n",
    "\n",
    "def fn2(vrc, vrB):\n",
    "    # print(vrA)  # Error\n",
    "    print(message)\n",
    "    print(locals())\n",
    "\n",
    "\n",
    "fn1(1, 2)\n",
    "fn2(3, 4)"
   ]
  },
  {
   "cell_type": "code",
   "execution_count": 89,
   "metadata": {},
   "outputs": [
    {
     "name": "stdout",
     "output_type": "stream",
     "text": [
      "1\n",
      "{'varA': 1, 'varB': 2, 'message': 'Some Local Data', 'fnInner': <function fnOuter.<locals>.fnInner at 0x1052bfa60>}\n",
      "Inner Function Local Scope: {'varA': 123, 'varB': 456}\n"
     ]
    }
   ],
   "source": [
    "def fnOuter(varA, varB):\n",
    "  message = \"Some Local Data\"\n",
    "  print(varA)\n",
    "  def fnInner(varA, varB):\n",
    "    print(f\"Inner Function Local Scope: {locals()}\")\n",
    "  print(locals()) # fnInner is defined as a variable\n",
    "  fnInner(123,456)\n",
    "\n",
    "fnOuter(1,2)"
   ]
  },
  {
   "attachments": {},
   "cell_type": "markdown",
   "metadata": {},
   "source": [
    "#### Variables as Functions"
   ]
  },
  {
   "cell_type": "code",
   "execution_count": 95,
   "metadata": {},
   "outputs": [
    {
     "name": "stdout",
     "output_type": "stream",
     "text": [
      "()\n",
      "b'd\\x01S\\x00'\n"
     ]
    }
   ],
   "source": [
    "x = 5\n",
    "\n",
    "def x():\n",
    "  return 5\n",
    "\n",
    "print(x.__code__.co_varnames)\n",
    "print(x.__code__.co_code)"
   ]
  },
  {
   "cell_type": "code",
   "execution_count": 103,
   "metadata": {},
   "outputs": [
    {
     "name": "stdout",
     "output_type": "stream",
     "text": [
      "than ugly than than than flat than than dense cases break rules beats never pass face guess there only that first dutch than never never often than right hard it's idea easy good idea great idea let's more\n"
     ]
    }
   ],
   "source": [
    "text = \"\"\"\n",
    "Beautiful is better than ugly.\n",
    "Explicit is better than implicit.\n",
    "Simple is better than complex.\n",
    "Complex is better than complicated.\n",
    "Flat is better than nested.\n",
    "Sparse is better than dense.\n",
    "Readability counts.\n",
    "Special cases aren't special enough to break the rules.\n",
    "Although practicality beats purity.\n",
    "Errors should never pass silently.\n",
    "Unless explicitly silenced.\n",
    "In the face of ambiguity, refuse the temptation to guess.\n",
    "There should be one-- and preferably only one --obvious way to do it.\n",
    "Although that way may not be obvious at first unless you're Dutch.\n",
    "Now is better than never.\n",
    "Although never is often better than *right* now.\n",
    "If the implementation is hard to explain, it's a bad idea.\n",
    "If the implementation is easy to explain, it may be a good idea.\n",
    "Namespaces are one honking great idea -- let's do more of those!\n",
    "\"\"\"\n",
    "\n",
    "\n",
    "def lowercase(text):\n",
    "    return text.lower()\n",
    "\n",
    "\n",
    "def removePunctuation(text):\n",
    "    punctuations = [\".\", \"-\", \",\", \"*\"]\n",
    "    for punctuation in punctuations:\n",
    "        text = text.replace(punctuation, \"\")\n",
    "    return text\n",
    "\n",
    "\n",
    "def removeNewlines(text):\n",
    "    text = text.replace(\"\\n\", \" \")\n",
    "    return text\n",
    "\n",
    "\n",
    "def removeShortWords(text):\n",
    "    return \" \".join([word for word in text.split() if len(word) > 3])\n",
    "\n",
    "\n",
    "def removeLongWords(text):\n",
    "    return \" \".join([word for word in text.split() if len(word) < 6])\n",
    "\n",
    "\n",
    "processingFunctions = [\n",
    "    lowercase,\n",
    "    removePunctuation,\n",
    "    removeNewlines,\n",
    "    removeShortWords,\n",
    "    removeLongWords,\n",
    "]\n",
    "\n",
    "for func in processingFunctions:\n",
    "  text = func(text)\n",
    "\n",
    "print(text)"
   ]
  },
  {
   "attachments": {},
   "cell_type": "markdown",
   "metadata": {},
   "source": [
    "#### Lambda Functions"
   ]
  },
  {
   "cell_type": "code",
   "execution_count": 108,
   "metadata": {},
   "outputs": [
    {
     "name": "stdout",
     "output_type": "stream",
     "text": [
      "5\n",
      "4\n"
     ]
    }
   ],
   "source": [
    "fnPlus3 = lambda x: x + 3\n",
    "print(fnPlus3(2))\n",
    "\n",
    "print((lambda x: x * 2)(2))"
   ]
  },
  {
   "cell_type": "code",
   "execution_count": 115,
   "metadata": {},
   "outputs": [
    {
     "name": "stdout",
     "output_type": "stream",
     "text": [
      "[1, 2, 3, 4, 6]\n",
      "[{'num': 1}, {'num': 2}, {'num': 3}]\n"
     ]
    }
   ],
   "source": [
    "myList = [2,6,4,3,1]\n",
    "print(sorted(myList))\n",
    "\n",
    "myList = [\n",
    "    {\"num\": 3},\n",
    "    {\"num\": 2},\n",
    "    {\"num\": 1},\n",
    "]\n",
    "# print(sorted(myList)) # Error\n",
    "print(sorted(myList, key=lambda x: x['num']))"
   ]
  },
  {
   "attachments": {},
   "cell_type": "markdown",
   "metadata": {},
   "source": [
    "### CHALLENGE: Can You Hear Me Now?\n",
    "Create a function 'getWithRetry' that calls a function until it receives a response that is not None, and then returns that response. If it continues to get no response, it should give up after a certain number of tries (to be decided by you)\n",
    "\n",
    "After filling out the \"getWithRetry\" function, run all the cells in this notebook in order to test the following scenarios:\n",
    "- All services are up\n",
    "- All services are down\n",
    "- All services are down and making a request takes 0.1 seconds to execute\n",
    "\n",
    "What is the ideal number of retries before giving up? How do you know whether the service is down or you're just unlucky?"
   ]
  },
  {
   "cell_type": "code",
   "execution_count": 147,
   "metadata": {},
   "outputs": [
    {
     "name": "stdout",
     "output_type": "stream",
     "text": [
      "You got the data! That only happens 50% of the time!\n",
      "You got the data! That only happens 25% of the time!\n",
      "None\n"
     ]
    }
   ],
   "source": [
    "import random\n",
    "import time\n",
    "\n",
    "servicesAreUp = True\n",
    "\n",
    "\n",
    "def getData50():\n",
    "    if servicesAreUp and random.random() < 0.5:\n",
    "        time.sleep(.1)\n",
    "        return \"You got the data! That only happens 50% of the time!\"\n",
    "\n",
    "\n",
    "def getData25():\n",
    "    if servicesAreUp and random.random() < 0.25:\n",
    "        time.sleep(.1)\n",
    "        return \"You got the data! That only happens 25% of the time!\"\n",
    "\n",
    "\n",
    "def getData10():\n",
    "    if servicesAreUp and random.random() < 0.1:\n",
    "        time.sleep(.1)\n",
    "        return \"You got the data! That only happens 10% of the time!\"\n",
    "\n",
    "\n",
    "# Write code here:\n",
    "def getWithRetry(dataFunc):\n",
    "  if not servicesAreUp: return None\n",
    "  retries = 10\n",
    "  response = None\n",
    "  while response == None and retries > 0:\n",
    "    response = dataFunc()\n",
    "    retries -= 1\n",
    "    if response:\n",
    "      return response\n",
    "  pass\n",
    "\n",
    "# Should return'You got the data! That only happens 50% of the time!\n",
    "print(getWithRetry(getData50))\n",
    "\n",
    "# Should return'You got the data! That only happens 25% of the time!\n",
    "print(getWithRetry(getData25))\n",
    "\n",
    "# Should return'You got the data! That only happens 10% of the time!\n",
    "print(getWithRetry(getData10))\n"
   ]
  }
 ],
 "metadata": {
  "kernelspec": {
   "display_name": "Python 3",
   "language": "python",
   "name": "python3"
  },
  "language_info": {
   "codemirror_mode": {
    "name": "ipython",
    "version": 3
   },
   "file_extension": ".py",
   "mimetype": "text/x-python",
   "name": "python",
   "nbconvert_exporter": "python",
   "pygments_lexer": "ipython3",
   "version": "3.9.6"
  },
  "orig_nbformat": 4
 },
 "nbformat": 4,
 "nbformat_minor": 2
}
