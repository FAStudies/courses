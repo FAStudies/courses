{
 "cells": [
  {
   "cell_type": "markdown",
   "metadata": {},
   "source": [
    "# Chapter 10 - Hashing and Symbol Tables"
   ]
  },
  {
   "cell_type": "markdown",
   "metadata": {},
   "source": [
    "Dictionaries are built with hash tables that rely on a concept called hashing. "
   ]
  },
  {
   "cell_type": "markdown",
   "metadata": {},
   "source": [
    "## Hashing\n",
    "Hashing is a concept of converting a data of arbitrary size into a data of fixed size, commonly used in operations like converting strings or other datatypes into integers. "
   ]
  },
  {
   "cell_type": "markdown",
   "metadata": {},
   "source": [
    "In order to hash the expression `\"Hello World\"`, we want to get a numeric value that we could, say _represents_ the string. "
   ]
  },
  {
   "cell_type": "markdown",
   "metadata": {},
   "source": [
    "We can just sum the ordinal numbers of each character in the string:"
   ]
  },
  {
   "cell_type": "markdown",
   "metadata": {},
   "source": [
    "<table>\n",
    "    <tr>\n",
    "        <td>h</td>\n",
    "        <td>e</td>\n",
    "        <td>l</td>\n",
    "        <td>l</td>\n",
    "        <td>o</td>\n",
    "        <td></td>\n",
    "        <td>w</td>\n",
    "        <td>o</td>\n",
    "        <td>r</td>\n",
    "        <td>l</td>\n",
    "        <td>d</td>\n",
    "    </tr>\n",
    "    <tr>\n",
    "        <td>104</td>\n",
    "        <td>101</td>\n",
    "        <td>108</td>\n",
    "        <td>108</td>\n",
    "        <td>111</td>\n",
    "        <td>32</td>\n",
    "        <td>119</td>\n",
    "        <td>111</td>\n",
    "        <td>114</td>\n",
    "        <td>104</td>\n",
    "        <td>100</td>\n",
    "    </tr>\n",
    "</table>\n",
    "<center>\n",
    "    = 1116\n",
    "</center>"
   ]
  },
  {
   "cell_type": "code",
   "execution_count": 1,
   "metadata": {},
   "outputs": [
    {
     "data": {
      "text/plain": [
       "1116"
      ]
     },
     "execution_count": 1,
     "metadata": {},
     "output_type": "execute_result"
    }
   ],
   "source": [
    "sum(map(ord, 'hello world'))"
   ]
  },
  {
   "cell_type": "markdown",
   "metadata": {},
   "source": [
    "But we can change the order of string, and still get the same result."
   ]
  },
  {
   "cell_type": "code",
   "execution_count": 2,
   "metadata": {},
   "outputs": [
    {
     "data": {
      "text/plain": [
       "1116"
      ]
     },
     "execution_count": 2,
     "metadata": {},
     "output_type": "execute_result"
    }
   ],
   "source": [
    "sum(map(ord, 'wello horld'))"
   ]
  },
  {
   "cell_type": "markdown",
   "metadata": {},
   "source": [
    "<table>\n",
    "    <tr>\n",
    "        <td>w</td>\n",
    "        <td>e</td>\n",
    "        <td>l</td>\n",
    "        <td>l</td>\n",
    "        <td>o</td>\n",
    "        <td></td>\n",
    "        <td>h</td>\n",
    "        <td>o</td>\n",
    "        <td>r</td>\n",
    "        <td>l</td>\n",
    "        <td>d</td>\n",
    "    </tr>\n",
    "    <tr>\n",
    "        <td>119</td>\n",
    "        <td>101</td>\n",
    "        <td>108</td>\n",
    "        <td>108</td>\n",
    "        <td>111</td>\n",
    "        <td>32</td>\n",
    "        <td>104</td>\n",
    "        <td>111</td>\n",
    "        <td>114</td>\n",
    "        <td>104</td>\n",
    "        <td>100</td>\n",
    "    </tr>\n",
    "</table>\n",
    "<center>\n",
    "    = 1116\n",
    "</center>"
   ]
  },
  {
   "cell_type": "markdown",
   "metadata": {},
   "source": [
    "But we can also change a character from $x$ less, alongside $x$ more in the string, and still get the same result."
   ]
  },
  {
   "cell_type": "code",
   "execution_count": 3,
   "metadata": {},
   "outputs": [
    {
     "data": {
      "text/plain": [
       "1116"
      ]
     },
     "execution_count": 3,
     "metadata": {},
     "output_type": "execute_result"
    }
   ],
   "source": [
    "sum(map(ord, 'gello xorld'))"
   ]
  },
  {
   "cell_type": "markdown",
   "metadata": {},
   "source": [
    "<table>\n",
    "    <tr>\n",
    "        <td>g</td>\n",
    "        <td>e</td>\n",
    "        <td>l</td>\n",
    "        <td>l</td>\n",
    "        <td>o</td>\n",
    "        <td></td>\n",
    "        <td>x</td>\n",
    "        <td>o</td>\n",
    "        <td>r</td>\n",
    "        <td>l</td>\n",
    "        <td>d</td>\n",
    "    </tr>\n",
    "    <tr>\n",
    "        <td>103</td>\n",
    "        <td>101</td>\n",
    "        <td>108</td>\n",
    "        <td>108</td>\n",
    "        <td>111</td>\n",
    "        <td>32</td>\n",
    "        <td>120</td>\n",
    "        <td>111</td>\n",
    "        <td>114</td>\n",
    "        <td>104</td>\n",
    "        <td>100</td>\n",
    "    </tr><tr>\n",
    "        <td>-1</td>\n",
    "        <td></td>\n",
    "        <td></td>\n",
    "        <td></td>\n",
    "        <td></td>\n",
    "        <td></td>\n",
    "        <td>+1</td>\n",
    "        <td></td>\n",
    "        <td></td>\n",
    "        <td></td>\n",
    "        <td></td>\n",
    "    </tr>\n",
    "</table>\n",
    "<center>\n",
    "    = 1116\n",
    "</center>"
   ]
  },
  {
   "cell_type": "markdown",
   "metadata": {},
   "source": [
    "## Perfect Hashing Functions\n",
    "A perfect hashing function is one in which each String (in this context) guarranteed to be unique. It also need to be fast for realistic use. So, trying to create a function that will give each string a unique hash value is not possible. Instead, we live with the fact that sometimes, we get collisions, and come up with a strategy to resolve them.  "
   ]
  },
  {
   "cell_type": "markdown",
   "metadata": {},
   "source": [
    "We can come up with ways to avoid collision. We could, for example, add a multiplier, so that the hash value for each character becomes multiplier value, multiplied by the oridinal value of the character. The multiplier then increases as we progress through the string."
   ]
  },
  {
   "cell_type": "code",
   "execution_count": 4,
   "metadata": {},
   "outputs": [],
   "source": [
    "def myHash(s):\n",
    "    mult = 1\n",
    "    hv = 0\n",
    "    for ch in s:\n",
    "        hv+=mult*ord(ch)\n",
    "        mult+=1\n",
    "    return hv"
   ]
  },
  {
   "cell_type": "code",
   "execution_count": 5,
   "metadata": {},
   "outputs": [
    {
     "name": "stdout",
     "output_type": "stream",
     "text": [
      "91538\n"
     ]
    }
   ],
   "source": [
    "print(myHash('The quick brown fox jumps over the lazy dog.'))"
   ]
  },
  {
   "cell_type": "code",
   "execution_count": 6,
   "metadata": {},
   "outputs": [
    {
     "name": "stdout",
     "output_type": "stream",
     "text": [
      "6736\n",
      "6616\n",
      "6646\n",
      "6742\n"
     ]
    }
   ],
   "source": [
    "strgs = [\n",
    "    \"hello world\",\n",
    "    \"world hello\",\n",
    "    \"wello horld\",\n",
    "    \"gello xorld\",\n",
    "]\n",
    "\n",
    "for s in strgs:\n",
    "    print(myHash(s))"
   ]
  },
  {
   "cell_type": "markdown",
   "metadata": {},
   "source": [
    "<table>\n",
    "    <tr>\n",
    "        <td>h</td>\n",
    "        <td>e</td>\n",
    "        <td>l</td>\n",
    "        <td>l</td>\n",
    "        <td>o</td>\n",
    "        <td></td>\n",
    "        <td>w</td>\n",
    "        <td>o</td>\n",
    "        <td>r</td>\n",
    "        <td>l</td>\n",
    "        <td>d</td>\n",
    "        <td></td>\n",
    "    </tr>\n",
    "    <tr>\n",
    "        <td>103</td>\n",
    "        <td>101</td>\n",
    "        <td>108</td>\n",
    "        <td>108</td>\n",
    "        <td>111</td>\n",
    "        <td>32</td>\n",
    "        <td>120</td>\n",
    "        <td>111</td>\n",
    "        <td>114</td>\n",
    "        <td>104</td>\n",
    "        <td>100</td>\n",
    "        <td>= 1116</td>\n",
    "    </tr><tr>\n",
    "        <td>1</td>\n",
    "        <td>2</td>\n",
    "        <td>3</td>\n",
    "        <td>4</td>\n",
    "        <td>5</td>\n",
    "        <td>6</td>\n",
    "        <td>7</td>\n",
    "        <td>8</td>\n",
    "        <td>9</td>\n",
    "        <td>10</td>\n",
    "        <td>11</td>\n",
    "        <td></td>\n",
    "    <tr>\n",
    "        <td>103</td>\n",
    "        <td>202</td>\n",
    "        <td>324</td>\n",
    "        <td>432</td>\n",
    "        <td>555</td>\n",
    "        <td>192</td>\n",
    "        <td>833</td>\n",
    "        <td>888</td>\n",
    "        <td>1026</td>\n",
    "        <td>1080</td>\n",
    "        <td>1100</td>\n",
    "        <td>= 6736</td>\n",
    "    </tr>\n",
    "</table>"
   ]
  },
  {
   "cell_type": "markdown",
   "metadata": {},
   "source": [
    "This doesn't mean that we have a perfect hash."
   ]
  },
  {
   "cell_type": "code",
   "execution_count": 7,
   "metadata": {},
   "outputs": [
    {
     "name": "stdout",
     "output_type": "stream",
     "text": [
      "297\n",
      "297\n"
     ]
    }
   ],
   "source": [
    "strgs = [\n",
    "    'ad',\n",
    "    'ga'\n",
    "]\n",
    "\n",
    "for s in strgs:\n",
    "    print(myHash(s))"
   ]
  },
  {
   "cell_type": "markdown",
   "metadata": {},
   "source": [
    "## Hash Table"
   ]
  },
  {
   "cell_type": "markdown",
   "metadata": {},
   "source": [
    "A hash table is a form of list where elements are accessed by a keyword rather than an index number."
   ]
  },
  {
   "cell_type": "code",
   "execution_count": 8,
   "metadata": {},
   "outputs": [],
   "source": [
    "class HashItem:\n",
    "    def __init__(self, key, value):\n",
    "        self.key = key\n",
    "        self.value = value"
   ]
  },
  {
   "cell_type": "code",
   "execution_count": 11,
   "metadata": {},
   "outputs": [],
   "source": [
    "class HashTable:\n",
    "    def __init__(self):\n",
    "        self.size = 256\n",
    "        self.slots = [None for i in range(self.size)]\n",
    "        self.count = 0\n",
    "        \n",
    "    def _hash(self, key):\n",
    "        mult = 1\n",
    "        hv = 0\n",
    "        for ch in key:\n",
    "            hv += mult * ord(ch)\n",
    "            mult += 1\n",
    "        return hv % self.size\n",
    "    \n",
    "    def put(self, key, value):\n",
    "        item = HashItem(key, value)\n",
    "        h = self._hash(key)\n",
    "        while self.slots[h] is not None:\n",
    "            if self.slots[h].key is key:\n",
    "                break\n",
    "            h = (h+1) % self.size\n",
    "            if self.slots[h] is not None:\n",
    "                self.count+=1\n",
    "            self.slots[h] = item\n",
    "    \n",
    "    def get(self, key):\n",
    "        h = self._hash(key)\n",
    "        while self.slots[h] is not None:\n",
    "            if self.slots[h] is key:\n",
    "                return self.slots[h].value\n",
    "            h=(h+1) % self.size\n",
    "        return None"
   ]
  },
  {
   "cell_type": "markdown",
   "metadata": {},
   "source": [
    "Note that size and count are not the same thing. Size means the total number of slots and count means the slots that are filled. "
   ]
  },
  {
   "cell_type": "markdown",
   "metadata": {},
   "source": [
    "### Testing the Hash Table"
   ]
  },
  {
   "cell_type": "code",
   "execution_count": 10,
   "metadata": {},
   "outputs": [
    {
     "name": "stdout",
     "output_type": "stream",
     "text": [
      "None\n",
      "None\n",
      "None\n",
      "None\n",
      "None\n",
      "None\n"
     ]
    }
   ],
   "source": [
    "ht = HashTable()\n",
    "ht.put(\"good\", \"eggs\")\n",
    "ht.put(\"better\", \"ham\")\n",
    "ht.put(\"best\", \"spam\")\n",
    "ht.put(\"ad\", \"do not\")\n",
    "ht.put(\"ga\", \"collide\")\n",
    "for key in (\"good\", \"better\", \"best\", \"worst\", \"ad\", \"ga\"):\n",
    "    v = ht.get(key)\n",
    "    print(v)"
   ]
  },
  {
   "cell_type": "markdown",
   "metadata": {},
   "source": [
    "## Using [ ] with the hash table"
   ]
  },
  {
   "cell_type": "code",
   "execution_count": 1,
   "metadata": {},
   "outputs": [],
   "source": [
    "class HashTable:\n",
    "    def __init__(self):\n",
    "        self.size = 256\n",
    "        self.slots = [None for i in range(self.size)]\n",
    "        self.count = 0\n",
    "        \n",
    "    def _hash(self, key):\n",
    "        mult = 1\n",
    "        hv = 0\n",
    "        for ch in key:\n",
    "            hv += mult * ord(ch)\n",
    "            mult += 1\n",
    "        return hv % self.size\n",
    "    \n",
    "    def put(self, key, value):\n",
    "        item = HashItem(key, value)\n",
    "        h = self._hash(key)\n",
    "        while self.slots[h] is not None:\n",
    "            if self.slots[h].key is key:\n",
    "                break\n",
    "            h = (h+1) % self.size\n",
    "        if self.slots[h] is not None:\n",
    "            self.count+=1\n",
    "        self.slots[h] = item\n",
    "    \n",
    "    def get(self, key):\n",
    "        h = self._hash(key)\n",
    "        while self.slots[h] is not None:\n",
    "            if self.slots[h] is key:\n",
    "                return self.slots[h].value\n",
    "            h=(h+1) % self.size\n",
    "        return None\n",
    "    \n",
    "    # NEW:\n",
    "    def __setitem__(self, key, value):\n",
    "        self.put(key, value)\n",
    "        \n",
    "    def __getitem__(self, key):\n",
    "        return self.get(key)"
   ]
  },
  {
   "cell_type": "markdown",
   "metadata": {},
   "source": [
    "## Non-string Keys\n",
    "Other Python types can be used as a key. In case of creating own class to use as a key, you'll sometimes need to override the `__hash__()` to get reliable hash values. "
   ]
  },
  {
   "cell_type": "markdown",
   "metadata": {},
   "source": [
    "## Growing a hash table\n",
    "The hash table size was 256. To grow the table when it is getting full, we compare the size and the count. If `count == size`, we have filled up the table. \n",
    "\n",
    "The hash table's load factor gives an indication about how large a portion of the available slots are being used:\n",
    "\n",
    "$\\mbox{load factor} = \\frac{n}{k}$\n",
    "\n",
    "As load factor approaches 1, the table needs to grow. Doing before it reaches 1 may help performance. A value of 0.75 may be a good point to grow the table. "
   ]
  },
  {
   "cell_type": "markdown",
   "metadata": {},
   "source": [
    "## Open adressing\n",
    "The collision resolution mechanism used, Linear Probing, is an example of open adressing strategy. Linear Probing is really simple since we use a fixed interval between our probes. \n",
    "\n",
    "There are other open adressing strategies, but they all share the idea that there is an array of slots. When we want to insert a key, we check whether the slot already has an item or not. If it does, we look at the next available slot. \n",
    "\n",
    "As the load factor increases, it will take longer to find the insertion point for new element.\n",
    "\n",
    "Because of these limitations, a different strategy, such as chaining may be used. "
   ]
  },
  {
   "attachments": {
    "242275b0-6ba7-4cf8-9081-8958fee9cf58.jpeg": {
     "image/jpeg": "[encoded data removed]"
    }
   },
   "cell_type": "markdown",
   "metadata": {},
   "source": [
    "## Chaining\n",
    "Chaining is a strategy for resolving conflicts and avoiding the limit to the number of elements in a hash table. In chaining, the number of slots in the hash table are initialised with empty lists.\n",
    "\n",
    "![image.jpeg](attachment:242275b0-6ba7-4cf8-9081-8958fee9cf58.jpeg)\n",
    "\n",
    "When an element is inserted, it will be appended to the list that corresponds to the element's hash value, i.e. two elements that both have a hash value of 1167, these two elements will both be added to the list that exists in slot 1167 of the hash table.\n",
    "\n",
    "Chaining avoides conflicts by allowing multiple elements to have same hash value, avoids the problem of insertion as load factor increases as we don't have to look for a slot, and can hold more values than available slots due to list that can grow. \n",
    "\n",
    "Searching can be slow in a heavily populated slot due to linear search, slowing down retrieval. This is not good, as has tables are meant to be efficient. "
   ]
  },
  {
   "attachments": {
    "e5e09d3a-5dae-418b-91ef-bb40c72ff427.jpeg": {
     "image/jpeg": "[encoded data removed]"
    }
   },
   "cell_type": "markdown",
   "metadata": {},
   "source": [
    "Instead of lists, we can initialize an empty BST in each slot. \n",
    "\n",
    "![image.jpeg](attachment:e5e09d3a-5dae-418b-91ef-bb40c72ff427.jpeg)"
   ]
  },
  {
   "cell_type": "markdown",
   "metadata": {},
   "source": [
    "But depending upon the order, we can still end up with a search tree that is as inefficient as a list. To. avoid this, we need to ensure that the BST is self balancing. "
   ]
  },
  {
   "cell_type": "markdown",
   "metadata": {},
   "source": [
    "## Symbol Tables\n",
    "These are used by compilers and interpreters to track declared symbols and related information. These are often built using hash tables due to efficiency."
   ]
  },
  {
   "cell_type": "code",
   "execution_count": 2,
   "metadata": {},
   "outputs": [],
   "source": [
    "name=\"Joe\"\n",
    "age=27"
   ]
  },
  {
   "cell_type": "markdown",
   "metadata": {},
   "source": [
    "Here, we have 2 symbols, `name` & `age` in namespace `__main__`, or module if placed it there.\n",
    "\n",
    "Each has a value (`name` has `\"Joe\"` and `age` has `27`). A symbol table allows the compiler/interpreter to look these values up. The symbols `name` and `age` become keys in the hash table, and other information such as value becomes part of the symbol table entry."
   ]
  },
  {
   "attachments": {
    "54ec547b-d241-422d-9fdf-4a04bb15ebcb.jpeg": {
     "image/jpeg": "[encoded data removed]"
    }
   },
   "cell_type": "markdown",
   "metadata": {},
   "source": [
    "Just like variables, function and classes are symbols as well. \n",
    "\n",
    "![image.jpeg](attachment:54ec547b-d241-422d-9fdf-4a04bb15ebcb.jpeg)"
   ]
  },
  {
   "cell_type": "markdown",
   "metadata": {},
   "source": [
    "In Python, each module loaded has its own symbol table, given the name of the module, thereby modules acting as namespaces. We can have multiple symbols called `age`, as long as they exist in different symbol table. To access either one, we access it through the appropriate symbol table:"
   ]
  },
  {
   "attachments": {
    "5a37bf0b-c9d7-4285-a31a-d420cb5a791d.jpeg": {
     "image/jpeg": "[encoded data removed]"
    }
   },
   "cell_type": "markdown",
   "metadata": {},
   "source": [
    "![image.jpeg](attachment:5a37bf0b-c9d7-4285-a31a-d420cb5a791d.jpeg)"
   ]
  },
  {
   "cell_type": "markdown",
   "metadata": {},
   "source": [
    "## Summary\n",
    "We looked at: \n",
    "- Hash Tables\n",
    "- Hashing Functions\n",
    "- Using Hashed Keys\n",
    "- Imperfections of Hash Functions\n",
    "- Symbol Tables"
   ]
  },
  {
   "cell_type": "code",
   "execution_count": null,
   "metadata": {},
   "outputs": [],
   "source": []
  }
 ],
 "metadata": {
  "kernelspec": {
   "display_name": "Python 3",
   "language": "python",
   "name": "python3"
  },
  "language_info": {
   "codemirror_mode": {
    "name": "ipython",
    "version": 3
   },
   "file_extension": ".py",
   "mimetype": "text/x-python",
   "name": "python",
   "nbconvert_exporter": "python",
   "pygments_lexer": "ipython3",
   "version": "3.8.5"
  }
 },
 "nbformat": 4,
 "nbformat_minor": 4
}
