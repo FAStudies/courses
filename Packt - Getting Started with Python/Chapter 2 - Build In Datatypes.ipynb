{
 "cells": [
  {
   "cell_type": "markdown",
   "metadata": {},
   "source": [
    "# Chapter 2 - Built in Data Types"
   ]
  },
  {
   "cell_type": "markdown",
   "metadata": {},
   "source": [
    "## Everything is an Object\n",
    "Whenever you create a variable in python:\n",
    "\n",
    "    age = 42\n",
    "\n",
    "An object is created. It gets its ID, the type is set to int and the value to 42. A name age is placed in the global namespace, pointin"
   ]
  },
  {
   "cell_type": "markdown",
   "metadata": {},
   "source": [
    "## Mutable or immutable? That is the question\n",
    "Python makes a fundamental distinction on data about whether the data is Mutable, i.e. it's value can change, or it is Immutable, or whether its value can't change."
   ]
  },
  {
   "cell_type": "code",
   "execution_count": 7,
   "metadata": {},
   "outputs": [
    {
     "name": "stdout",
     "output_type": "stream",
     "text": [
      "42\n",
      "ID:  4469635488\n",
      "43\n",
      "ID:  4469635520\n"
     ]
    }
   ],
   "source": [
    "age = 42\n",
    "print(age)\n",
    "print('ID: ', id(age))\n",
    "age = 43\n",
    "print(age)\n",
    "print('ID: ', id(age))"
   ]
  },
  {
   "cell_type": "markdown",
   "metadata": {},
   "source": [
    "In the preceeding code, it may seem like the value of age was changed from 42 to 43, but in reality, first, an object with value 42 was created, and age pointed to that. When we set it to 43, a new object with a value of 43 was created, and the object was set to point to that instead. This can be further shown by change in IDs of the object pointed by age."
   ]
  },
  {
   "cell_type": "markdown",
   "metadata": {},
   "source": [
    "Note that age points to one object at a time: 42 first, then 43, but never together."
   ]
  },
  {
   "cell_type": "markdown",
   "metadata": {},
   "source": [
    "## Integers\n",
    "Python integers have unlimited range, limited by availabe virtual memory, can be positive, negative and 0, and support all basic mathematical operations."
   ]
  },
  {
   "cell_type": "code",
   "execution_count": 10,
   "metadata": {},
   "outputs": [
    {
     "data": {
      "text/plain": [
       "2744"
      ]
     },
     "execution_count": 10,
     "metadata": {},
     "output_type": "execute_result"
    }
   ],
   "source": [
    "a = 14\n",
    "b = 3"
   ]
  },
  {
   "cell_type": "markdown",
   "metadata": {},
   "source": [
    "### Addition"
   ]
  },
  {
   "cell_type": "code",
   "execution_count": 11,
   "metadata": {},
   "outputs": [
    {
     "data": {
      "text/plain": [
       "17"
      ]
     },
     "execution_count": 11,
     "metadata": {},
     "output_type": "execute_result"
    }
   ],
   "source": [
    "a + b"
   ]
  },
  {
   "cell_type": "markdown",
   "metadata": {},
   "source": [
    "### Subtraction"
   ]
  },
  {
   "cell_type": "code",
   "execution_count": 12,
   "metadata": {},
   "outputs": [
    {
     "data": {
      "text/plain": [
       "11"
      ]
     },
     "execution_count": 12,
     "metadata": {},
     "output_type": "execute_result"
    }
   ],
   "source": [
    "a - b"
   ]
  },
  {
   "cell_type": "markdown",
   "metadata": {},
   "source": [
    "### Multiplication"
   ]
  },
  {
   "cell_type": "code",
   "execution_count": 13,
   "metadata": {},
   "outputs": [
    {
     "data": {
      "text/plain": [
       "42"
      ]
     },
     "execution_count": 13,
     "metadata": {},
     "output_type": "execute_result"
    }
   ],
   "source": [
    "a * b"
   ]
  },
  {
   "cell_type": "markdown",
   "metadata": {},
   "source": [
    "### True Division"
   ]
  },
  {
   "cell_type": "code",
   "execution_count": 15,
   "metadata": {},
   "outputs": [
    {
     "data": {
      "text/plain": [
       "4.666666666666667"
      ]
     },
     "execution_count": 15,
     "metadata": {},
     "output_type": "execute_result"
    }
   ],
   "source": [
    "a / b"
   ]
  },
  {
   "cell_type": "markdown",
   "metadata": {},
   "source": [
    "### Integer Division"
   ]
  },
  {
   "cell_type": "code",
   "execution_count": 16,
   "metadata": {},
   "outputs": [
    {
     "data": {
      "text/plain": [
       "4"
      ]
     },
     "execution_count": 16,
     "metadata": {},
     "output_type": "execute_result"
    }
   ],
   "source": [
    "a // b"
   ]
  },
  {
   "cell_type": "markdown",
   "metadata": {},
   "source": [
    "Note: The Truncation is done towards zero."
   ]
  },
  {
   "cell_type": "markdown",
   "metadata": {},
   "source": [
    "### Modulo Operation"
   ]
  },
  {
   "cell_type": "code",
   "execution_count": 17,
   "metadata": {},
   "outputs": [
    {
     "data": {
      "text/plain": [
       "2"
      ]
     },
     "execution_count": 17,
     "metadata": {},
     "output_type": "execute_result"
    }
   ],
   "source": [
    "a % b"
   ]
  },
  {
   "cell_type": "markdown",
   "metadata": {},
   "source": [
    "### Power Operation"
   ]
  },
  {
   "cell_type": "code",
   "execution_count": 18,
   "metadata": {},
   "outputs": [
    {
     "data": {
      "text/plain": [
       "2744"
      ]
     },
     "execution_count": 18,
     "metadata": {},
     "output_type": "execute_result"
    }
   ],
   "source": [
    "a ** b"
   ]
  },
  {
   "cell_type": "markdown",
   "metadata": {},
   "source": [
    "### You can also add Underscores within number literals to make them easy to read. "
   ]
  },
  {
   "cell_type": "markdown",
   "metadata": {},
   "source": [
    "Example:"
   ]
  },
  {
   "cell_type": "code",
   "execution_count": 3,
   "metadata": {},
   "outputs": [
    {
     "name": "stdout",
     "output_type": "stream",
     "text": [
      "1000000000\n"
     ]
    }
   ],
   "source": [
    "n = 1_000_000_000\n",
    "print(n)"
   ]
  },
  {
   "cell_type": "markdown",
   "metadata": {},
   "source": [
    "## Booleans"
   ]
  },
  {
   "cell_type": "markdown",
   "metadata": {},
   "source": [
    "Booleans contains the truth values `true` and `false`.<br>\n",
    "Booleans are a subclass of integers and behave respectively like 1 and 0. "
   ]
  },
  {
   "cell_type": "markdown",
   "metadata": {},
   "source": [
    "They can be combined in boolean logic expressions using the logical operators `and`, `or` and `not`. "
   ]
  },
  {
   "cell_type": "code",
   "execution_count": 9,
   "metadata": {},
   "outputs": [
    {
     "name": "stdout",
     "output_type": "stream",
     "text": [
      "1\n",
      "0\n",
      "1\n",
      "-42\n",
      "0\n",
      "True\n",
      "False\n",
      "True\n"
     ]
    }
   ],
   "source": [
    "print(   int(True)         )\n",
    "print(   int(False)        )\n",
    "print(   int(1)            )\n",
    "print(   int(-42)          )\n",
    "print(   int(0)            )\n",
    "\n",
    "print(   not False         )\n",
    "print(   True and False    )\n",
    "print(   False or True     )"
   ]
  },
  {
   "cell_type": "code",
   "execution_count": 11,
   "metadata": {},
   "outputs": [
    {
     "name": "stdout",
     "output_type": "stream",
     "text": [
      "2\n",
      "42\n",
      "6\n"
     ]
    }
   ],
   "source": [
    "print(   1 + True      )\n",
    "print(   False + 42    )\n",
    "print(   7 - True      )"
   ]
  },
  {
   "cell_type": "markdown",
   "metadata": {},
   "source": [
    "## Real/Floating Point Numbers\n",
    "_Represented according to the IEEE 754 Double-Precision Binary Floating Point Format._ <br>\n",
    "_Data is stored in 64 zbits of information divided into sign, exponent and mantissa._\n",
    "\n",
    "Python only supports double (64-bit) format, and not the float (32-bit) format."
   ]
  },
  {
   "cell_type": "code",
   "execution_count": 14,
   "metadata": {},
   "outputs": [
    {
     "name": "stdout",
     "output_type": "stream",
     "text": [
      "63.617251235400005\n"
     ]
    }
   ],
   "source": [
    "pi = 3.1415926536\n",
    "radius = 4.5\n",
    "area = pi * (radius ** 2)\n",
    "print(area)"
   ]
  },
  {
   "cell_type": "markdown",
   "metadata": {},
   "source": [
    "### Size of float\n",
    "The `sys.float_info` struct holds informatin about how floating point numbers will behave on a particular system."
   ]
  },
  {
   "cell_type": "code",
   "execution_count": 15,
   "metadata": {},
   "outputs": [
    {
     "name": "stdout",
     "output_type": "stream",
     "text": [
      "sys.float_info(max=1.7976931348623157e+308, max_exp=1024, max_10_exp=308, min=2.2250738585072014e-308, min_exp=-1021, min_10_exp=-307, dig=15, mant_dig=53, epsilon=2.220446049250313e-16, radix=2, rounds=1)\n"
     ]
    }
   ],
   "source": [
    "import sys\n",
    "print(sys.float_info)"
   ]
  },
  {
   "cell_type": "markdown",
   "metadata": {},
   "source": [
    "### Approximation issues\n",
    "Floating point numbers suffer from approximation issues, even in simple numbers like 0.1 or 0.3."
   ]
  },
  {
   "cell_type": "code",
   "execution_count": 16,
   "metadata": {},
   "outputs": [
    {
     "data": {
      "text/plain": [
       "-5.551115123125783e-17"
      ]
     },
     "execution_count": 16,
     "metadata": {},
     "output_type": "execute_result"
    }
   ],
   "source": [
    "0.3 - 0.1 * 3"
   ]
  },
  {
   "cell_type": "markdown",
   "metadata": {},
   "source": [
    "This should have been zero. <br>\n",
    "Use `decimal` type to avoid approximation issues when doing precision-sensitive operations."
   ]
  },
  {
   "cell_type": "markdown",
   "metadata": {},
   "source": [
    "## Complex Numbers\n",
    "Python gives support for complex numbers out of the box. "
   ]
  },
  {
   "cell_type": "code",
   "execution_count": 19,
   "metadata": {},
   "outputs": [
    {
     "name": "stdout",
     "output_type": "stream",
     "text": [
      "3.14\n",
      "2.73\n",
      "(3.14-2.73j)\n",
      "(6.28+5.46j)\n",
      "(2.4067000000000007+17.1444j)\n",
      "(2.14+1.73j)\n"
     ]
    }
   ],
   "source": [
    "c = 3.14 + 2.73j\n",
    "print(c.real)\n",
    "print(c.imag)\n",
    "print(c.conjugate())\n",
    "print(c*2)\n",
    "print(c**2)\n",
    "d = 1 + 1j\n",
    "print(c-d)"
   ]
  },
  {
   "cell_type": "markdown",
   "metadata": {},
   "source": [
    "## Fractions\n",
    "Fractions hold rational numerator and denominator in their lowest forms."
   ]
  },
  {
   "cell_type": "code",
   "execution_count": 20,
   "metadata": {},
   "outputs": [
    {
     "data": {
      "text/plain": [
       "Fraction(5, 3)"
      ]
     },
     "execution_count": 20,
     "metadata": {},
     "output_type": "execute_result"
    }
   ],
   "source": [
    "from fractions import Fraction\n",
    "Fraction(10, 6)"
   ]
  },
  {
   "cell_type": "markdown",
   "metadata": {},
   "source": [
    "_Notice it's been simplified._"
   ]
  },
  {
   "cell_type": "code",
   "execution_count": 21,
   "metadata": {},
   "outputs": [
    {
     "data": {
      "text/plain": [
       "Fraction(1, 1)"
      ]
     },
     "execution_count": 21,
     "metadata": {},
     "output_type": "execute_result"
    }
   ],
   "source": [
    "Fraction(1, 3) + Fraction(2, 3)"
   ]
  },
  {
   "cell_type": "code",
   "execution_count": 23,
   "metadata": {},
   "outputs": [
    {
     "data": {
      "text/plain": [
       "(5, 3)"
      ]
     },
     "execution_count": 23,
     "metadata": {},
     "output_type": "execute_result"
    }
   ],
   "source": [
    "f = Fraction(10,6)\n",
    "f.numerator, f.denominator"
   ]
  },
  {
   "cell_type": "markdown",
   "metadata": {},
   "source": [
    "## Decimal"
   ]
  },
  {
   "cell_type": "code",
   "execution_count": 33,
   "metadata": {},
   "outputs": [],
   "source": [
    "from decimal import Decimal"
   ]
  },
  {
   "cell_type": "markdown",
   "metadata": {},
   "source": [
    "### Decimal from String"
   ]
  },
  {
   "cell_type": "code",
   "execution_count": 34,
   "metadata": {},
   "outputs": [
    {
     "data": {
      "text/plain": [
       "Decimal('0.2')"
      ]
     },
     "execution_count": 34,
     "metadata": {},
     "output_type": "execute_result"
    }
   ],
   "source": [
    "Decimal('0.2')"
   ]
  },
  {
   "cell_type": "markdown",
   "metadata": {},
   "source": [
    "### Decimal from Integer"
   ]
  },
  {
   "cell_type": "code",
   "execution_count": 35,
   "metadata": {},
   "outputs": [
    {
     "data": {
      "text/plain": [
       "Decimal('1')"
      ]
     },
     "execution_count": 35,
     "metadata": {},
     "output_type": "execute_result"
    }
   ],
   "source": [
    "Decimal(1)"
   ]
  },
  {
   "cell_type": "markdown",
   "metadata": {},
   "source": [
    "### Decimal from Floating Point Number"
   ]
  },
  {
   "cell_type": "code",
   "execution_count": 36,
   "metadata": {},
   "outputs": [
    {
     "data": {
      "text/plain": [
       "Decimal('0.299999999999999988897769753748434595763683319091796875')"
      ]
     },
     "execution_count": 36,
     "metadata": {},
     "output_type": "execute_result"
    }
   ],
   "source": [
    "Decimal(0.3)"
   ]
  },
  {
   "cell_type": "markdown",
   "metadata": {},
   "source": [
    "Decimal from Floating Point Numbers inherit from the same approximation issues as the Floating Point Numbers. "
   ]
  },
  {
   "cell_type": "markdown",
   "metadata": {},
   "source": [
    "## Immutable Sequences\n",
    "_Strings, Tuples and Bytes_"
   ]
  },
  {
   "cell_type": "markdown",
   "metadata": {},
   "source": [
    "### Strings\n",
    "Strings are immutable sequences of Unicode code points.<br>\n",
    "Python doesn't have a `char` datatype.    \n",
    "\n",
    "Unicode is excellent way to handle data, but in some cases, might need to be encoded, producing a `bytes` object, with syntax and behaviour similar to strings. "
   ]
  },
  {
   "cell_type": "markdown",
   "metadata": {},
   "source": [
    "Stringb literals can be written enclosed in single quotes (`''`), double quotes (`\"\"`), or triple quotes (`''' '''` or `\"\"\" \"\"\"`)"
   ]
  },
  {
   "cell_type": "code",
   "execution_count": 46,
   "metadata": {},
   "outputs": [
    {
     "name": "stdout",
     "output_type": "stream",
     "text": [
      "This is a string.\n",
      "This is also a string\n",
      "This is a \n",
      "multiline string.\n",
      "This is also a\n",
      "multiline string\n"
     ]
    }
   ],
   "source": [
    "str1 = 'This is a string.'\n",
    "str2 = \"This is also a string\"\n",
    "str3 = '''This is a \n",
    "multiline string.'''\n",
    "str4 = \"\"\"This is also a\n",
    "multiline string\"\"\"\n",
    "\n",
    "print(str1)\n",
    "print(str2)\n",
    "print(str3)\n",
    "print(str4)"
   ]
  },
  {
   "cell_type": "markdown",
   "metadata": {},
   "source": [
    "Strings, like any sequence, have a length."
   ]
  },
  {
   "cell_type": "code",
   "execution_count": 47,
   "metadata": {},
   "outputs": [
    {
     "data": {
      "text/plain": [
       "17"
      ]
     },
     "execution_count": 47,
     "metadata": {},
     "output_type": "execute_result"
    }
   ],
   "source": [
    "len(str1)"
   ]
  },
  {
   "cell_type": "code",
   "execution_count": 48,
   "metadata": {},
   "outputs": [
    {
     "name": "stdout",
     "output_type": "stream",
     "text": [
      "b'This is Unicode \\xf0\\x9f\\x92\\xa2\\xf0\\x9f\\x92\\xa2'\n",
      "<class 'bytes'>\n",
      "This is Unicode 💢💢\n"
     ]
    },
    {
     "data": {
      "text/plain": [
       "bytes"
      ]
     },
     "execution_count": 48,
     "metadata": {},
     "output_type": "execute_result"
    }
   ],
   "source": [
    "s = 'This is Unicode 💢💢'\n",
    "encoded_s = s.encode('utf-8')\n",
    "print(encoded_s)\n",
    "print(type(encoded_s))\n",
    "print(encoded_s.decode('utf-8'))\n",
    "bytes_obj = b\"A bytes object\"\n",
    "type(bytes_obj)"
   ]
  },
  {
   "cell_type": "markdown",
   "metadata": {},
   "source": [
    "#### Indexing and Slicing"
   ]
  },
  {
   "cell_type": "markdown",
   "metadata": {},
   "source": [
    "Indexing: `string[index]`"
   ]
  },
  {
   "cell_type": "code",
   "execution_count": 49,
   "metadata": {},
   "outputs": [
    {
     "data": {
      "text/plain": [
       "'o'"
      ]
     },
     "execution_count": 49,
     "metadata": {},
     "output_type": "execute_result"
    }
   ],
   "source": [
    "a = 'Hello World'\n",
    "a[4]"
   ]
  },
  {
   "cell_type": "markdown",
   "metadata": {},
   "source": [
    "Slicing: `string[startingIndex, endingIndex, steps]`.     `startingIndex, endingIndexsteps` and `steps`, when unspecified, defaults to 1."
   ]
  },
  {
   "cell_type": "code",
   "execution_count": 59,
   "metadata": {},
   "outputs": [
    {
     "name": "stdout",
     "output_type": "stream",
     "text": [
      "Samp\n",
      "le string for an example on slicing\n",
      "le s\n",
      "etnf\n",
      "Sml tigfra xml nsiig\n",
      "gnicils no elpmaxe na rof gnirts elpmaS\n",
      "giisn lmx arfgit lmS\n"
     ]
    }
   ],
   "source": [
    "a = \"Sample string for an example on slicing\"\n",
    "print(a[:4])\n",
    "print(a[4:])\n",
    "print(a[4:8])\n",
    "print(a[5:16:3])\n",
    "print(a[::2])\n",
    "print(a[::-1])\n",
    "print(a[::-2])"
   ]
  },
  {
   "cell_type": "markdown",
   "metadata": {},
   "source": [
    "#### Formatting"
   ]
  },
  {
   "cell_type": "code",
   "execution_count": 61,
   "metadata": {},
   "outputs": [
    {
     "name": "stdout",
     "output_type": "stream",
     "text": [
      "Hello Jane Doe\n",
      "The quick brown fox jumps over the lazy dog\n",
      "Customer name = John Doe\n",
      "Hello, Ms Jane Doe\n"
     ]
    }
   ],
   "source": [
    "fname = 'Jane'\n",
    "lname = 'Doe'\n",
    "s = \"Hello {} {}\"\n",
    "print(s.format(fname, lname))\n",
    "\n",
    "t = \"The quick brown {1} jumps over the lazy {0}\".format('dog', 'fox')\n",
    "print(t)\n",
    "\n",
    "r = \"Customer name = {first} {last}\".format(first='John', last='Doe')\n",
    "print(r)\n",
    "\n",
    "u = f\"Hello, Ms {fname} {lname}\"\n",
    "print(u)"
   ]
  },
  {
   "cell_type": "markdown",
   "metadata": {},
   "source": [
    "### Tuples\n",
    "_Sequence of Arbitrary. Python Objects_\n",
    "\n",
    "Tuples allow unique features like functions to return  multiple variable.\n",
    "Tuples are immutable, hence they can be used as keys in dictionary."
   ]
  },
  {
   "cell_type": "code",
   "execution_count": 75,
   "metadata": {},
   "outputs": [
    {
     "name": "stdout",
     "output_type": "stream",
     "text": [
      "<class 'tuple'>\n",
      "(1, 2, 3)\n",
      "<class 'tuple'>\n",
      "(7, 8, 9)\n",
      "7\n",
      "8\n",
      "9\n",
      "4\n",
      "5\n",
      "6\n",
      "2 1\n"
     ]
    }
   ],
   "source": [
    "a = ()\n",
    "print(type(a))\n",
    "b = 1, 2, 3\n",
    "print(b)\n",
    "\n",
    "def fa():\n",
    "    return 7, 8, 9\n",
    "\n",
    "c = fa()\n",
    "print(type(c))\n",
    "print(c)\n",
    "\n",
    "# Unpacking a tuple\n",
    "d, e, f = c\n",
    "print(d)\n",
    "print(e)\n",
    "print(f)\n",
    "\n",
    "def fb():\n",
    "    return 4,5,6\n",
    "\n",
    "x, y, z = fb()\n",
    "print(x)\n",
    "print(y)\n",
    "print(z)\n",
    "\n",
    "# Exchanging values of 2 variables\n",
    "ra = 1\n",
    "rb = 2\n",
    "ra, rb = rb, ra\n",
    "print(ra, rb)"
   ]
  },
  {
   "cell_type": "markdown",
   "metadata": {},
   "source": [
    "## Mutable Sequences"
   ]
  },
  {
   "cell_type": "markdown",
   "metadata": {},
   "source": [
    "Mutable sequences can be changed after creation.    \n",
    "There are two mutable sequence types in python: Lists and Byte arrays. "
   ]
  },
  {
   "cell_type": "markdown",
   "metadata": {},
   "source": [
    "### Lists\n",
    "Lists are very similar to tuples, but they are mutable.\n",
    "They are more commonly used to store collections of homogeneous objects, but there is nothing preventing you from storing heterogeoeous collections as well. "
   ]
  },
  {
   "cell_type": "code",
   "execution_count": 1,
   "metadata": {},
   "outputs": [
    {
     "name": "stdout",
     "output_type": "stream",
     "text": [
      "[]\n",
      "[]\n",
      "[1, 2, 3]\n",
      "[1, 2, 3]\n"
     ]
    },
    {
     "data": {
      "text/plain": [
       "['H', 'e', 'l', 'l', 'o']"
      ]
     },
     "execution_count": 1,
     "metadata": {},
     "output_type": "execute_result"
    }
   ],
   "source": [
    "# Empty List\n",
    "a = []\n",
    "print(a)\n",
    "\n",
    "# Empty List, same as []\n",
    "b = list()\n",
    "print(b)\n",
    "\n",
    "# Like Tuples, items in list are comma seperated\n",
    "c = [1, 2, 3]\n",
    "print(c)\n",
    "\n",
    "# List from an iterator\n",
    "d = [x + 5 for x in [2, 3, 4]]\n",
    "print(c)\n",
    "\n",
    "# List from a tuple\n",
    "e = list((1, 3, 5, 7, 9,)) \n",
    "\n",
    "# List from a string\n",
    "list('Hello')"
   ]
  },
  {
   "cell_type": "markdown",
   "metadata": {},
   "source": [
    "#### List Methods"
   ]
  },
  {
   "cell_type": "code",
   "execution_count": 10,
   "metadata": {},
   "outputs": [
    {
     "name": "stdout",
     "output_type": "stream",
     "text": [
      "[1, 2, 1, 3, 13]\n",
      "[1, 2, 1, 3, 13]\n",
      "[1, 2, 1, 3, 13, 6, 9, 4, 2, 0]\n",
      "[17, 1, 2, 1, 3, 13, 6, 9, 4, 2, 0]\n",
      "0\n",
      "[17, 1, 2, 1, 3, 13, 6, 9, 4, 2]\n",
      "1\n",
      "[17, 1, 2, 3, 13, 6, 9, 4, 2]\n",
      "[17, 2, 3, 13, 6, 9, 4, 2]\n",
      "[2, 4, 9, 6, 13, 3, 2, 17]\n",
      "[2, 2, 3, 4, 6, 9, 13, 17]\n",
      "[2, 2, 3, 4, 6, 9, 13, 17, 'E', 'x', 't', 'e', 'n', 'd', 'i', 'n', 'g', ' ', 'S', 't', 'r', 'i', 'n', 'g']\n",
      "[2, 2, 3, 4, 6, 9, 13, 17, 'E', 'x', 't', 'e', 'n', 'd', 'i', 'n', 'g', ' ', 'S', 't', 'r', 'i', 'n', 'g', 'S', 'e', 'c', 'o', 'n', 'd', ' ', 'L', 'i', 's', 't']\n",
      "[2, 2, 3, 4, 6, 9, 13, 17, 'E', 'x', 't', 'e', 'n', 'd', 'i', 'n', 'g', ' ', 'S', 't', 'r', 'i', 'n', 'g', 2, 2, 3, 4, 6, 9, 13, 17, 'E', 'x', 't', 'e', 'n', 'd', 'i', 'n', 'g', ' ', 'S', 't', 'r', 'i', 'n', 'g']\n",
      "0\n",
      "9\n",
      "21\n",
      "5\n"
     ]
    }
   ],
   "source": [
    "a = [1, 2, 1, 3]\n",
    "a.append(13)\n",
    "print(a)\n",
    "a.count(1)\n",
    "print(a)\n",
    "a.extend([6,9,4,2,0])\n",
    "print(a)\n",
    "a.insert(0, 17)\n",
    "print(a)\n",
    "print(a.pop())\n",
    "print(a)\n",
    "print(a.pop(3))\n",
    "print(a)\n",
    "a.remove(1)\n",
    "print(a)\n",
    "a.reverse()\n",
    "print(a)\n",
    "a.sort()\n",
    "print(a)\n",
    "a.extend(\"Extending String\")\n",
    "print(a)\n",
    "\n",
    "b = list('Second List')\n",
    "print(a + b)              # Concatenation\n",
    "print(a * 2)              # Repeation\n",
    "\n",
    "c = [6,9,4,2,0]\n",
    "print(min(c))\n",
    "print(max(c))\n",
    "print(sum(c))\n",
    "print(len(c))"
   ]
  },
  {
   "cell_type": "markdown",
   "metadata": {},
   "source": [
    "#### Sorted List"
   ]
  },
  {
   "cell_type": "code",
   "execution_count": 11,
   "metadata": {},
   "outputs": [
    {
     "name": "stdout",
     "output_type": "stream",
     "text": [
      "[(2, 3), (3, 6), (4, 7), (5, 2), (6, 8), (8, 9)]\n",
      "[(2, 3), (3, 6), (4, 7), (5, 2), (6, 8), (8, 9)]\n",
      "[(2, 3), (3, 6), (4, 7), (5, 2), (6, 8), (8, 9)]\n",
      "[(5, 2), (2, 3), (3, 6), (4, 7), (6, 8), (8, 9)]\n",
      "[(8, 9), (6, 8), (4, 7), (3, 6), (2, 3), (5, 2)]\n"
     ]
    }
   ],
   "source": [
    "from operator import itemgetter\n",
    "\n",
    "a = [(2,3), (5,2), (6,8), (3,6), (4,7), (8,9)]\n",
    "print(sorted(a))\n",
    "print(sorted(a, key=itemgetter(0)))\n",
    "print(sorted(a, key=itemgetter(0, 1)))\n",
    "print(sorted(a, key=itemgetter(1)))\n",
    "print(sorted(a, key=itemgetter(1), reverse=True))"
   ]
  },
  {
   "cell_type": "markdown",
   "metadata": {},
   "source": [
    "### Byte Arrays\n",
    "Byte arrays are mutable version of `bytes` object."
   ]
  },
  {
   "cell_type": "code",
   "execution_count": 14,
   "metadata": {},
   "outputs": [
    {
     "name": "stdout",
     "output_type": "stream",
     "text": [
      "bytearray(b'')\n"
     ]
    }
   ],
   "source": [
    "# Empty Bytearray Object\n",
    "a = bytearray()\n",
    "print(a)"
   ]
  },
  {
   "cell_type": "code",
   "execution_count": 15,
   "metadata": {},
   "outputs": [
    {
     "name": "stdout",
     "output_type": "stream",
     "text": [
      "bytearray(b'\\x00\\x00\\x00\\x00\\x00\\x00\\x00\\x00\\x00\\x00')\n"
     ]
    }
   ],
   "source": [
    "# Zero Filled Instance with given length\n",
    "print(bytearray(10))"
   ]
  },
  {
   "cell_type": "code",
   "execution_count": 16,
   "metadata": {},
   "outputs": [
    {
     "name": "stdout",
     "output_type": "stream",
     "text": [
      "bytearray(b'\\x00\\x01\\x02\\x03\\x04')\n"
     ]
    }
   ],
   "source": [
    "# Bytearray from interable of Integers\n",
    "print(bytearray(range(5)))"
   ]
  },
  {
   "cell_type": "code",
   "execution_count": 17,
   "metadata": {},
   "outputs": [],
   "source": [
    "# Bytearray from bytes\n",
    "name = bytearray(b'Jane Doe')"
   ]
  },
  {
   "cell_type": "code",
   "execution_count": 19,
   "metadata": {},
   "outputs": [
    {
     "name": "stdout",
     "output_type": "stream",
     "text": [
      "bytearray(b'jane Doe')\n",
      "True\n",
      "bytearray(b'JANE DOE')\n",
      "2\n"
     ]
    }
   ],
   "source": [
    "print(name.replace(b'J', b'j'))\n",
    "print(name.endswith(b'oe'))\n",
    "print(name.upper())\n",
    "print(name.count(b'e'))"
   ]
  },
  {
   "cell_type": "markdown",
   "metadata": {},
   "source": [
    "## Set Types\n",
    "Python provides two set types: `set` and `frozenset`.<br>\n",
    "`set` is mutable, and `frozenset` is immutable."
   ]
  },
  {
   "cell_type": "code",
   "execution_count": 61,
   "metadata": {},
   "outputs": [
    {
     "name": "stdout",
     "output_type": "stream",
     "text": [
      "{2, 3, 5}\n",
      "{1, 2, 3, 5}\n",
      "{2, 3, 5}\n",
      "{2, 3, 5}\n",
      "True\n",
      "False\n",
      "True\n",
      "{2, 3, 5, 7, 11, 13}\n",
      "{19, 17, 11, 13}\n",
      "{2, 3, 5, 7, 11, 13, 17, 19}\n",
      "{11, 13}\n",
      "{2, 3, 5, 7}\n"
     ]
    }
   ],
   "source": [
    "primes = set()\n",
    "type(primes)\n",
    "\n",
    "primes.add(2)\n",
    "primes.add(3)\n",
    "primes.add(5)\n",
    "print(primes)\n",
    "primes.add(1)\n",
    "print(primes)\n",
    "primes.remove(1)\n",
    "print(primes)\n",
    "primes.add(3)\n",
    "print(primes)\n",
    "print(3 in primes)\n",
    "print(4 in primes)\n",
    "print(4 not in primes)\n",
    "primes.add(7)\n",
    "primes.add(11)\n",
    "primes.add(13)\n",
    "print(primes)\n",
    "\n",
    "bigger_primes = set([11,13,17,19])\n",
    "print(bigger_primes)\n",
    "\n",
    "print(primes | bigger_primes)          # Union\n",
    "print(primes & bigger_primes)          # Intersection\n",
    "print(primes - bigger_primes)          # Difference"
   ]
  },
  {
   "cell_type": "code",
   "execution_count": 62,
   "metadata": {},
   "outputs": [
    {
     "name": "stdout",
     "output_type": "stream",
     "text": [
      "{37, 31, 29, 23}\n"
     ]
    }
   ],
   "source": [
    "evenBiggerPrimes = {23, 29, 29, 29, 23, 31, 37}\n",
    "print(evenBiggerPrimes)"
   ]
  },
  {
   "cell_type": "code",
   "execution_count": 63,
   "metadata": {},
   "outputs": [
    {
     "name": "stdout",
     "output_type": "stream",
     "text": [
      "frozenset({2, 3, 5, 7, 9, 11, 13})\n",
      "frozenset({2, 3, 5, 7})\n",
      "{11, 13}\n"
     ]
    }
   ],
   "source": [
    "a = frozenset((2,3,5,7,9))\n",
    "# frozenset.add(4)                     # Error\n",
    "# frozenset.remove(2)                  # Error\n",
    "\n",
    "print(a | primes)\n",
    "print(a & primes)\n",
    "print(primes - a)"
   ]
  },
  {
   "cell_type": "markdown",
   "metadata": {},
   "source": [
    "## Dictionary"
   ]
  },
  {
   "cell_type": "code",
   "execution_count": 68,
   "metadata": {},
   "outputs": [
    {
     "name": "stdout",
     "output_type": "stream",
     "text": [
      "True\n"
     ]
    }
   ],
   "source": [
    "a = dict(A=1, Z=-1)\n",
    "b = {'A':1, 'Z':-1}\n",
    "c = dict(zip(['A', 'Z'], [1, -1]))\n",
    "d = dict(([('A', 1),('Z', -1)]))\n",
    "e = dict({'Z': -1, 'A': 1})\n",
    "print(a == b == c == d == e)"
   ]
  },
  {
   "cell_type": "code",
   "execution_count": 75,
   "metadata": {},
   "outputs": [
    {
     "name": "stdout",
     "output_type": "stream",
     "text": [
      "{'H': 0, 'e': 1, 'l': 3, 'o': 4}\n",
      "0\n",
      "4\n",
      "dict_keys(['H', 'e', 'l', 'o'])\n",
      "dict_values([0, 1, 3, 4])\n",
      "dict_items([('H', 0), ('e', 1), ('l', 3), ('o', 4)])\n",
      "True\n",
      "True\n",
      "True\n",
      "{'H': 0, 'e': 1, 'o': 4}\n",
      "{}\n"
     ]
    }
   ],
   "source": [
    "a = dict(zip('Hello', range(5)))\n",
    "print(a)\n",
    "\n",
    "print(a['H'])\n",
    "print(len(a))\n",
    "print(a.keys())\n",
    "print(a.values())\n",
    "print(a.items())\n",
    "print(3 in a.values())\n",
    "print('H' in a.keys())\n",
    "print(('e', 1) in a.items())\n",
    "del a['l']\n",
    "print(a)\n",
    "a.clear()\n",
    "print(a)"
   ]
  },
  {
   "cell_type": "code",
   "execution_count": 93,
   "metadata": {},
   "outputs": [
    {
     "name": "stdout",
     "output_type": "stream",
     "text": [
      "('o', 4)\n",
      "{'H': 0, 'e': 1, 'l': 3}\n",
      "3\n",
      "default_value\n",
      "{'H': 12, 'e': 1}\n",
      "12\n",
      "15\n",
      "2\n",
      "{'H': 12, 'e': 1, 'l': 2}\n"
     ]
    }
   ],
   "source": [
    "a = dict(zip('Hello', range(5)))\n",
    "print(a.popitem())                     # Removes random item and returns it\n",
    "print(a)\n",
    "\n",
    "print(a.pop('l'))\n",
    "# print(a.pop('not key lol'))          # Traceback: KeyError: 'not key lol'\n",
    "print(a.pop('not key lol', 'default_value'))\n",
    "\n",
    "a.update({'H': 12})\n",
    "print(a)\n",
    "print(a.get('H'))                     # Same as a['H'], but no error if key is missing\n",
    "print(a.get('l', 15))                 # Default value if key is missing\n",
    "\n",
    "print(a.setdefault('l', 2))           # Same as a.get() with default value, but also adds the missing pair\n",
    "print(a)"
   ]
  },
  {
   "cell_type": "markdown",
   "metadata": {},
   "source": [
    "## The Collections Module\n",
    "Specialised container datatypes are present in the collections header:\n",
    "\n",
    "- `namedtuple` : Tuple subclasses with named fields.    \n",
    "- `deque` : List like container with fast appends and pops on either ends.    \n",
    "- `ChainMap` : Dictionary like class for creating single view of multiple mappings.    \n",
    "- `Counter` : Dictionary subclass for counting hashable objects.    \n",
    "- `Ordered-Dict` : Dictionary subclass that preserves the order enteries are added.    \n",
    "- `default-dict` : Dictionary subclass that calls a factory function to supply missing values.     \n",
    "- `UserDict` : Wrapper around list objects for easier list subclassing.    \n",
    "- `User-String` : Wrapper around string objects for easier string subclassing.    \n",
    "\n"
   ]
  },
  {
   "cell_type": "markdown",
   "metadata": {},
   "source": [
    "### `namedtuple`"
   ]
  },
  {
   "cell_type": "code",
   "execution_count": 102,
   "metadata": {},
   "outputs": [
    {
     "name": "stdout",
     "output_type": "stream",
     "text": [
      "9.5\n",
      "8.8\n",
      "9.5\n",
      "8.8\n"
     ]
    }
   ],
   "source": [
    "from collections import namedtuple\n",
    "\n",
    "Vision = namedtuple('Vision', ['left', 'right'])\n",
    "vision = Vision(9.5, 8.8)\n",
    "print(vision.left)\n",
    "print(vision.right)\n",
    "\n",
    "Vision = namedtuple('Vision', ['left', 'combined', 'right'])\n",
    "vision = Vision(9.5, 9.2, 8.8)\n",
    "print(vision.left)  # Still correct\n",
    "print(vision.right)  # Still correct (though now is vision[2])\n"
   ]
  },
  {
   "cell_type": "markdown",
   "metadata": {},
   "source": [
    "### `defaultdict`"
   ]
  },
  {
   "cell_type": "code",
   "execution_count": 111,
   "metadata": {},
   "outputs": [
    {
     "name": "stdout",
     "output_type": "stream",
     "text": [
      "{'age': 1}\n",
      "{'age': 40}\n"
     ]
    }
   ],
   "source": [
    "d = {}\n",
    "d['age'] = d.get('age', 0) + 1\n",
    "print(d)\n",
    "\n",
    "d = {'age' : 39}\n",
    "d['age'] = d.get('age', 0) + 1\n",
    "print(d)"
   ]
  },
  {
   "cell_type": "markdown",
   "metadata": {},
   "source": [
    "Trying the same with `defaultdict`:"
   ]
  },
  {
   "cell_type": "code",
   "execution_count": 112,
   "metadata": {},
   "outputs": [
    {
     "data": {
      "text/plain": [
       "defaultdict(int, {'age': 1})"
      ]
     },
     "execution_count": 112,
     "metadata": {},
     "output_type": "execute_result"
    }
   ],
   "source": [
    "from collections import defaultdict\n",
    "\n",
    "dd = defaultdict(int)\n",
    "dd['age'] += 1\n",
    "dd"
   ]
  },
  {
   "cell_type": "markdown",
   "metadata": {},
   "source": [
    "We just had to instruct the `defaultdict` to use an `int` number in case the key is missing. (Default `int` value is 0)"
   ]
  },
  {
   "cell_type": "markdown",
   "metadata": {},
   "source": [
    "### `ChainMap`"
   ]
  },
  {
   "cell_type": "markdown",
   "metadata": {},
   "source": [
    "_Chainmap is provided for quickly linking a number of mappings so that they can be treated as a single unit._\n",
    "\n",
    "`ChainMap` can be used to simulate nested scopes and is useful in templating.\n",
    "The underlying mappings are stored in a public accessible list which can be accessed and updated using the `maps` attribute. Lookups search the underlying mappings successively until a key is found. Writes, updates and and deletions only operate on the first mapping."
   ]
  },
  {
   "cell_type": "code",
   "execution_count": 145,
   "metadata": {},
   "outputs": [
    {
     "name": "stdout",
     "output_type": "stream",
     "text": [
      "5678\n",
      "localhost\n",
      "[{'port': 5678}, {'host': 'localhost', 'port': 4567}]\n",
      "[{'port': 5678, 'host': 'sample.com'}, {'host': 'localhost', 'port': 4567}]\n"
     ]
    }
   ],
   "source": [
    "from collections import ChainMap\n",
    "default_connection = {'host' : 'localhost', 'port' : 4567}\n",
    "connection = {'port' : 5678}\n",
    "conn = ChainMap(connection, default_connection)          # Creating ChainMap\n",
    "print(conn['port'])                                      # \"port\" is found in the 1st dict.\n",
    "print(conn['host'])                                      # 'host' is fetched from the 2nd dict.\n",
    "print(conn.maps)                                         # Printing Mapping Objects\n",
    "conn['host'] = 'sample.com'                              # Adding 'host'\n",
    "print(conn.maps)                                         \n"
   ]
  },
  {
   "cell_type": "markdown",
   "metadata": {},
   "source": [
    "## Enumerations\n",
    "_An Enumeration is a set of symbolic names (members) bound to unique, constant calues. Within an enumeration, the members can be compared by identity, and the enumeration itself can be iterated over._\n"
   ]
  },
  {
   "cell_type": "markdown",
   "metadata": {},
   "source": [
    "Technically not a built-in datatype, as you need to import it from the `enums` module."
   ]
  },
  {
   "cell_type": "code",
   "execution_count": 147,
   "metadata": {},
   "outputs": [
    {
     "name": "stdout",
     "output_type": "stream",
     "text": [
      "TrafficLights.GREEN\n",
      "GREEN\n",
      "1\n",
      "TrafficLights.GREEN\n"
     ]
    }
   ],
   "source": [
    "from enum import Enum\n",
    "\n",
    "class TrafficLights(Enum):\n",
    "    GREEN = 1\n",
    "    YELLOW = 2\n",
    "    RED = 4\n",
    "\n",
    "print(TrafficLights.GREEN)\n",
    "print(TrafficLights.GREEN.name)\n",
    "print(TrafficLights.GREEN.value)\n",
    "print(TrafficLights(1))"
   ]
  },
  {
   "cell_type": "markdown",
   "metadata": {},
   "source": [
    "## Small Values Caching\n",
    "When we assign a name to an object, Python creates an Object, sets it's value, and then points the name to it."
   ]
  },
  {
   "cell_type": "markdown",
   "metadata": {},
   "source": [
    "We can assign different names and same values and we expect different objects to be created."
   ]
  },
  {
   "cell_type": "code",
   "execution_count": 149,
   "metadata": {},
   "outputs": [
    {
     "data": {
      "text/plain": [
       "False"
      ]
     },
     "execution_count": 149,
     "metadata": {},
     "output_type": "execute_result"
    }
   ],
   "source": [
    "a = 1000\n",
    "b = 1000\n",
    "\n",
    "id(a) == id(b)"
   ]
  },
  {
   "cell_type": "markdown",
   "metadata": {},
   "source": [
    "Let's Do it again..."
   ]
  },
  {
   "cell_type": "code",
   "execution_count": 150,
   "metadata": {},
   "outputs": [
    {
     "data": {
      "text/plain": [
       "True"
      ]
     },
     "execution_count": 150,
     "metadata": {},
     "output_type": "execute_result"
    }
   ],
   "source": [
    "a = 5\n",
    "b = 5\n",
    "id(a) == id(b)"
   ]
  },
  {
   "cell_type": "markdown",
   "metadata": {},
   "source": [
    "We didn't do `a = b = 5`, we set them up seperately. Still the objects end up being same.\n",
    "This is due to performances. Python caches short strings and small numbers to avoid having multiple copies clogging up memory.    \n",
    "Everything is handled properly under the hood, but it is important to remember this behavoiur when working with IDs. "
   ]
  },
  {
   "attachments": {
    "image.png": {
     "image/png": "[encoded data removed]"
    }
   },
   "cell_type": "markdown",
   "metadata": {},
   "source": [
    "## Indexing and Slicing\n",
    "Indexing and slicing can be done on any sequence (`tuple`, `list`, `str` and so on...).\n",
    "Indexing starts from 0, and goes upto the length of sequence - 1, in either direction. When going from last to first, a neegative int is used, and it is called negative indexing.\n",
    "![image.png](attachment:image.png)"
   ]
  },
  {
   "cell_type": "code",
   "execution_count": 151,
   "metadata": {},
   "outputs": [
    {
     "name": "stdout",
     "output_type": "stream",
     "text": [
      "[0, 1, 2, 3, 4, 5, 6, 7, 8, 9]\n"
     ]
    }
   ],
   "source": [
    "a = list(range(10))\n",
    "print(a)"
   ]
  },
  {
   "cell_type": "code",
   "execution_count": 152,
   "metadata": {},
   "outputs": [
    {
     "data": {
      "text/plain": [
       "10"
      ]
     },
     "execution_count": 152,
     "metadata": {},
     "output_type": "execute_result"
    }
   ],
   "source": [
    "len(a)"
   ]
  },
  {
   "cell_type": "markdown",
   "metadata": {},
   "source": [
    "The last item is accessed like this in other languages:"
   ]
  },
  {
   "cell_type": "code",
   "execution_count": 153,
   "metadata": {},
   "outputs": [
    {
     "data": {
      "text/plain": [
       "9"
      ]
     },
     "execution_count": 153,
     "metadata": {},
     "output_type": "execute_result"
    }
   ],
   "source": [
    "a[len(a) - 1]"
   ]
  },
  {
   "cell_type": "markdown",
   "metadata": {},
   "source": [
    "In python, we can do it like this:"
   ]
  },
  {
   "cell_type": "code",
   "execution_count": 154,
   "metadata": {},
   "outputs": [
    {
     "data": {
      "text/plain": [
       "9"
      ]
     },
     "execution_count": 154,
     "metadata": {},
     "output_type": "execute_result"
    }
   ],
   "source": [
    "a[-1]"
   ]
  },
  {
   "cell_type": "markdown",
   "metadata": {},
   "source": [
    "Similarly:"
   ]
  },
  {
   "cell_type": "code",
   "execution_count": 156,
   "metadata": {},
   "outputs": [
    {
     "data": {
      "text/plain": [
       "8"
      ]
     },
     "execution_count": 156,
     "metadata": {},
     "output_type": "execute_result"
    }
   ],
   "source": [
    "a[-2]"
   ]
  },
  {
   "cell_type": "code",
   "execution_count": 158,
   "metadata": {},
   "outputs": [
    {
     "data": {
      "text/plain": [
       "7"
      ]
     },
     "execution_count": 158,
     "metadata": {},
     "output_type": "execute_result"
    }
   ],
   "source": [
    "a[-3]"
   ]
  },
  {
   "cell_type": "markdown",
   "metadata": {},
   "source": [
    "## Summary\n",
    "- We looked at different datatypes we get in python.\n",
    "- We looked at different immutable datatypes like `int`, `bool`, `double`, `fraction`, `decimal`, `complex`.\n",
    "- We also looked at different immutable sequences and collections like `str`, `bytes`, `tuple`.\n",
    "- We also looked at different mutable types like `bytearray`, `list`, `set` and `dict`.\n",
    "- We also looked at some specialised container datatypes present in the `collections` datatypes.\n",
    "- We also looked at caching, indexing, slicing, etc."
   ]
  }
 ],
 "metadata": {
  "kernelspec": {
   "display_name": "Python 3",
   "language": "python",
   "name": "python3"
  },
  "language_info": {
   "codemirror_mode": {
    "name": "ipython",
    "version": 3
   },
   "file_extension": ".py",
   "mimetype": "text/x-python",
   "name": "python",
   "nbconvert_exporter": "python",
   "pygments_lexer": "ipython3",
   "version": "3.8.3"
  }
 },
 "nbformat": 4,
 "nbformat_minor": 4
}
