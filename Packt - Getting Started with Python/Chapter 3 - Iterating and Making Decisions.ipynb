{
 "cells": [
  {
   "cell_type": "markdown",
   "metadata": {},
   "source": [
    "# Chapter 3 - Iterating and Making Decisions\n",
    "_In computer science, control flow (or alternatively, flow of control) refers to the specification of the order in which the individual statements, instructions or function calls of an imperative program are executed or evaluated._"
   ]
  },
  {
   "cell_type": "markdown",
   "metadata": {},
   "source": [
    "Flow of a progrqam is controlled by two things:\n",
    "1. Conditional Programming / Branching\n",
    "2. Looping"
   ]
  },
  {
   "cell_type": "markdown",
   "metadata": {},
   "source": [
    "## Conditional Programming / Branching"
   ]
  },
  {
   "cell_type": "markdown",
   "metadata": {},
   "source": [
    "### The `if` statement\n",
    "The `if` statement evaluates a condition, and based on the result, chooses which part of the code to execute."
   ]
  },
  {
   "cell_type": "code",
   "execution_count": 1,
   "metadata": {},
   "outputs": [
    {
     "name": "stdout",
     "output_type": "stream",
     "text": [
      "I need to call my manager\n"
     ]
    }
   ],
   "source": [
    "late = True\n",
    "if late:\n",
    "    print(\"I need to call my manager\")"
   ]
  },
  {
   "cell_type": "code",
   "execution_count": 2,
   "metadata": {},
   "outputs": [],
   "source": [
    "late = False\n",
    "if late:\n",
    "    print(\"I need to call my manager\")"
   ]
  },
  {
   "cell_type": "code",
   "execution_count": 3,
   "metadata": {},
   "outputs": [
    {
     "name": "stdout",
     "output_type": "stream",
     "text": [
      "I need to call my manager\n"
     ]
    }
   ],
   "source": [
    "late = True\n",
    "if late:\n",
    "    print(\"I need to call my manager\")\n",
    "else:\n",
    "    print(\"No need to call my manager\")"
   ]
  },
  {
   "cell_type": "code",
   "execution_count": 4,
   "metadata": {},
   "outputs": [
    {
     "name": "stdout",
     "output_type": "stream",
     "text": [
      "No need to call my manager\n"
     ]
    }
   ],
   "source": [
    "late = False\n",
    "if late:\n",
    "    print(\"I need to call my manager\")\n",
    "else:\n",
    "    print(\"No need to call my manager\")"
   ]
  },
  {
   "cell_type": "code",
   "execution_count": 5,
   "metadata": {},
   "outputs": [
    {
     "name": "stdout",
     "output_type": "stream",
     "text": [
      "I will pay 3000.0 in taxes.\n"
     ]
    }
   ],
   "source": [
    "income = 15000\n",
    "if income < 10000:\n",
    "    tax_coeff = 0.0\n",
    "elif income < 30000:\n",
    "    tax_coeff = 0.2\n",
    "elif income < 100000:\n",
    "    tax_coeff = 0.35\n",
    "else:\n",
    "    tax_coeff - 0.45\n",
    "    \n",
    "print(f\"I will pay {income * tax_coeff} in taxes.\")"
   ]
  },
  {
   "cell_type": "code",
   "execution_count": 6,
   "metadata": {},
   "outputs": [
    {
     "name": "stdout",
     "output_type": "stream",
     "text": [
      "Something terrible happened!\n"
     ]
    }
   ],
   "source": [
    "alert_system = 'console'\n",
    "error_severity = 'critical'\n",
    "error_message = 'Something terrible happened!'\n",
    "\n",
    "if alert_system == 'console':\n",
    "    print(error_message)\n",
    "elif alert_system == 'mail':\n",
    "    if error_severity == 'critical':\n",
    "        print(\"Sending email with error message to admin@example.com\")        \n",
    "    elif error_severity == 'medium':\n",
    "        print(\"Sending email with error message to support1@example.com\")     \n",
    "    else:\n",
    "        print(\"Sending email with error message to support2@example.com\")"
   ]
  },
  {
   "cell_type": "markdown",
   "metadata": {},
   "source": [
    "### Ternary Operator"
   ]
  },
  {
   "cell_type": "code",
   "execution_count": 7,
   "metadata": {},
   "outputs": [
    {
     "name": "stdout",
     "output_type": "stream",
     "text": [
      "247 25\n"
     ]
    }
   ],
   "source": [
    "order_total = 247\n",
    "\n",
    "discount = 25 if order_total > 100 else 0\n",
    "print(order_total, discount)"
   ]
  },
  {
   "cell_type": "code",
   "execution_count": 8,
   "metadata": {},
   "outputs": [
    {
     "name": "stdout",
     "output_type": "stream",
     "text": [
      "24 0\n"
     ]
    }
   ],
   "source": [
    "order_total = 24\n",
    "\n",
    "discount = 25 if order_total > 100 else 0\n",
    "print(order_total, discount)"
   ]
  },
  {
   "cell_type": "markdown",
   "metadata": {},
   "source": [
    "## Looping"
   ]
  },
  {
   "cell_type": "markdown",
   "metadata": {},
   "source": [
    "### The `for` loop\n",
    "The `for` loop is used to loop over a sequence, such as am list, tuple, or collection of objects."
   ]
  },
  {
   "cell_type": "code",
   "execution_count": 9,
   "metadata": {},
   "outputs": [
    {
     "name": "stdout",
     "output_type": "stream",
     "text": [
      "1\n",
      "2\n",
      "3\n",
      "4\n",
      "5\n",
      "===========\n",
      "0\n",
      "1\n",
      "2\n",
      "3\n",
      "4\n",
      "5\n",
      "6\n",
      "7\n",
      "8\n",
      "9\n",
      "===========\n",
      "H\n",
      "e\n",
      "l\n",
      "l\n",
      "o\n",
      "!\n",
      "===========\n"
     ]
    }
   ],
   "source": [
    "for i in {1,2,3,4,5}:\n",
    "    print(i)\n",
    "print(\"===========\") \n",
    "for i in range(10):\n",
    "    print(i)\n",
    "print(\"===========\")\n",
    "for i in \"Hello!\":\n",
    "    print(i)\n",
    "print(\"===========\")"
   ]
  },
  {
   "cell_type": "code",
   "execution_count": 10,
   "metadata": {},
   "outputs": [
    {
     "name": "stdout",
     "output_type": "stream",
     "text": [
      "Conrad 29 Poland\n",
      "Deepak 30 India\n",
      "Heinrich 34 South Africa\n",
      "Tom 36 England\n"
     ]
    }
   ],
   "source": [
    "people = ['Conrad', 'Deepak', 'Heinrich', 'Tom']\n",
    "ages = [29, 30, 34, 36]\n",
    "nationalities = ['Poland', 'India', 'South Africa', 'England']\n",
    "\n",
    "for person, age, nationality in zip(people, ages, nationalities):\n",
    "    print(person, age, nationality)"
   ]
  },
  {
   "cell_type": "markdown",
   "metadata": {},
   "source": [
    "### The `while` loop"
   ]
  },
  {
   "cell_type": "code",
   "execution_count": 12,
   "metadata": {},
   "outputs": [
    {
     "name": "stdout",
     "output_type": "stream",
     "text": [
      "1\n",
      "2\n",
      "3\n",
      "4\n",
      "5\n",
      "6\n",
      "7\n",
      "8\n",
      "9\n",
      "10\n"
     ]
    }
   ],
   "source": [
    "i = 1\n",
    "while(i<=10):\n",
    "    print(i)\n",
    "    i+=1"
   ]
  },
  {
   "cell_type": "markdown",
   "metadata": {},
   "source": [
    "### The `break` and `continue`  statements\n",
    "- `break`: Used to stop and finish the loop from point of calling.\n",
    "- `continue`: Used to skip the current run, and move on to the next step/repeat of the loop from point of calling."
   ]
  },
  {
   "cell_type": "code",
   "execution_count": 24,
   "metadata": {},
   "outputs": [
    {
     "name": "stdout",
     "output_type": "stream",
     "text": [
      "1\n",
      "2\n",
      "3\n",
      "4\n"
     ]
    }
   ],
   "source": [
    "i = 1\n",
    "while(i < 11):\n",
    "    print(i)\n",
    "    i+=1\n",
    "    if (i==5):\n",
    "        break"
   ]
  },
  {
   "cell_type": "code",
   "execution_count": 26,
   "metadata": {},
   "outputs": [
    {
     "name": "stdout",
     "output_type": "stream",
     "text": [
      "1\n",
      "2\n",
      "4\n",
      "5\n",
      "7\n",
      "8\n",
      "10\n",
      "11\n",
      "13\n",
      "14\n"
     ]
    }
   ],
   "source": [
    "for i in range(15):\n",
    "    if i%3==0:\n",
    "        continue\n",
    "    print(i)"
   ]
  },
  {
   "cell_type": "markdown",
   "metadata": {},
   "source": [
    "### The `else` clause with `for` and `while` loop\n",
    "The `else` clause executes after a `for` or `while` loop if the loop runs entirely and exhausts instead of being stopped by a `break statement`."
   ]
  },
  {
   "cell_type": "code",
   "execution_count": 18,
   "metadata": {},
   "outputs": [
    {
     "name": "stdout",
     "output_type": "stream",
     "text": [
      "Driver not found\n"
     ]
    }
   ],
   "source": [
    "people = [('James', 17), ('Kirk', 9), ('Lars', 13), ('Robert', 8)]\n",
    "driver = None\n",
    "\n",
    "for person, age in people:\n",
    "    if age>=18:\n",
    "        driver = person, age\n",
    "        break\n",
    "else:\n",
    "    print(\"Driver not found\")"
   ]
  },
  {
   "cell_type": "markdown",
   "metadata": {},
   "source": [
    "## A quick peek at the itertools module\n",
    "_This module which implements a number of iterator building blocks inspired by constructs from APL, Haskell, and SML. Each has been recast in a form suitable for Python. The module standardizes a core set of fast, memory efficient tools that are useful by themselves or in combination. Together, they form an “iterator algebra” making it possible to construct specialized tools succinctly and efficiently in pure Python._"
   ]
  },
  {
   "cell_type": "markdown",
   "metadata": {},
   "source": [
    "### Infinite iterators"
   ]
  },
  {
   "cell_type": "code",
   "execution_count": 29,
   "metadata": {},
   "outputs": [
    {
     "name": "stdout",
     "output_type": "stream",
     "text": [
      "12\n",
      "14\n",
      "16\n",
      "18\n",
      "20\n",
      "22\n",
      "24\n"
     ]
    }
   ],
   "source": [
    "from itertools import count\n",
    "\n",
    "for i in count(12, 2):\n",
    "    if i > 24:\n",
    "        break\n",
    "    print(i)"
   ]
  },
  {
   "cell_type": "markdown",
   "metadata": {},
   "source": [
    "### Iterators terminating at shortest input sequence\n",
    "Allows creating iterator based on multiple iterators, combining their values according to some logic. In case any of them is shorter than the rest, the resulting iterator won't break. \n",
    "\n",
    "For Example: The `Compress` iterator"
   ]
  },
  {
   "cell_type": "code",
   "execution_count": 31,
   "metadata": {},
   "outputs": [
    {
     "name": "stdout",
     "output_type": "stream",
     "text": [
      "Even Selector:  [1, 0, 1, 0, 1, 0, 1, 0, 1, 0, 1, 0, 1, 0, 1, 0, 1, 0, 1, 0]\n",
      "Odd Selector:  [0, 1, 0, 1, 0, 1, 0, 1, 0, 1, 0, 1, 0, 1, 0, 1, 0, 1, 0, 1]\n",
      "Data:  range(0, 10)\n",
      "==============\n",
      "Even Numbers:  [0, 2, 4, 6, 8]\n",
      "Odd Numbers:  [1, 3, 5, 7, 9]\n"
     ]
    }
   ],
   "source": [
    "from itertools import compress\n",
    "\n",
    "data = range(10)\n",
    "\n",
    "even_selector = [1,0] * 10\n",
    "odd_selector = [0, 1] * 10\n",
    "\n",
    "even_numbers = list(compress(data, even_selector))\n",
    "odd_numbers = list(compress(data, odd_selector))\n",
    "\n",
    "print('Even Selector: ', even_selector)\n",
    "print('Odd Selector: ', odd_selector)\n",
    "print('Data: ', data)\n",
    "print('==============\\nEven Numbers: ', even_numbers)\n",
    "print('Odd Numbers: ', odd_numbers)"
   ]
  },
  {
   "cell_type": "markdown",
   "metadata": {},
   "source": [
    "Note that `odd_selector` and `even_selector` are 20 elements long, while data is just 10 elements long. `compress` will stop as soon as `data` has yielded it's last element."
   ]
  },
  {
   "cell_type": "markdown",
   "metadata": {},
   "source": [
    "### Combinatoric Generator"
   ]
  },
  {
   "cell_type": "markdown",
   "metadata": {},
   "source": [
    "If a set has n elements, the number of permutations of them is N!. For the ABC string, the permutations are 3! = 3 * 2 * 1 = 6."
   ]
  },
  {
   "cell_type": "code",
   "execution_count": 33,
   "metadata": {},
   "outputs": [
    {
     "name": "stdout",
     "output_type": "stream",
     "text": [
      "[('A', 'B', 'C'), ('A', 'C', 'B'), ('B', 'A', 'C'), ('B', 'C', 'A'), ('C', 'A', 'B'), ('C', 'B', 'A')]\n"
     ]
    }
   ],
   "source": [
    "from itertools import permutations\n",
    "print(list(permutations('ABC')))"
   ]
  },
  {
   "cell_type": "markdown",
   "metadata": {},
   "source": [
    "## Summary\n",
    "We looked at: \n",
    "- Branching\n",
    "  - If/elseif/else\n",
    "- Looping\n",
    "  - The `for` loop\n",
    "  - The `While` loop\n",
    "  - `break` and `continue` statements\n",
    "  - The `else` clause in loops\n",
    "-  The `itertools` module\n",
    "  - Infinite iterators\n",
    "  - Iterators terminating at shortest input sequence\n",
    "  - Combinatoric Generator"
   ]
  }
 ],
 "metadata": {
  "kernelspec": {
   "display_name": "Python 3",
   "language": "python",
   "name": "python3"
  },
  "language_info": {
   "codemirror_mode": {
    "name": "ipython",
    "version": 3
   },
   "file_extension": ".py",
   "mimetype": "text/x-python",
   "name": "python",
   "nbconvert_exporter": "python",
   "pygments_lexer": "ipython3",
   "version": "3.8.3"
  }
 },
 "nbformat": 4,
 "nbformat_minor": 4
}
