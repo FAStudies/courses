{
 "cells": [
  {
   "cell_type": "markdown",
   "metadata": {},
   "source": [
    "# Chapter 5 - Files and Data Persistance\n"
   ]
  },
  {
   "cell_type": "markdown",
   "metadata": {},
   "source": [
    "## Working with files and directories\n",
    "### Opening Files\n",
    "    file = open(File)"
   ]
  },
  {
   "cell_type": "code",
   "execution_count": 13,
   "metadata": {},
   "outputs": [
    {
     "name": "stdout",
     "output_type": "stream",
     "text": [
      "ACT I\n",
      "\n",
      "SCENE I. Venice. A street.\n",
      "\n",
      "Enter ANTONIO, SALARINO, and SALANIO\n",
      "ANTONIO\n",
      "In sooth, I know not why I am so sad:\n",
      "It wearies me; you say it wearies you;\n",
      "But how I caught it, found it, or came by it,\n",
      "What stuff 'tis made of, whereof it is born,\n",
      "I am to learn;\n",
      "    ** Rest ommited, file is too long **\n"
     ]
    }
   ],
   "source": [
    "fh = open('Assets/Files/Merchant of Venice.txt', \"rt\")\n",
    "c = 0\n",
    "\n",
    "for line in fh.readlines():\n",
    "    print(line.strip())\n",
    "    \n",
    "    # To end after 10 line, the file is too long. \n",
    "    if c==10:\n",
    "        print('    ** Rest ommited, file is too long **')\n",
    "        break\n",
    "    c+=1"
   ]
  },
  {
   "cell_type": "markdown",
   "metadata": {},
   "source": [
    "It is important to close a file, in order to prevent failing to release the handle on it. "
   ]
  },
  {
   "cell_type": "code",
   "execution_count": 14,
   "metadata": {},
   "outputs": [
    {
     "name": "stdout",
     "output_type": "stream",
     "text": [
      "ACT I\n",
      "\n",
      "SCENE I. Venice. A street.\n",
      "\n",
      "Enter ANTONIO, SALARINO, and SALANIO\n",
      "ANTONIO\n",
      "In sooth, I know not why I am so sad:\n",
      "It wearies me; you say it wearies you;\n",
      "But how I caught it, found it, or came by it,\n",
      "What stuff 'tis made of, whereof it is born,\n",
      "I am to learn;\n",
      "    ** Rest ommited, file is too long **\n"
     ]
    }
   ],
   "source": [
    "fh = open('Assets/Files/Merchant of Venice.txt', \"rt\")\n",
    "c = 0\n",
    "\n",
    "for line in fh.readlines():\n",
    "    print(line.strip())\n",
    "    \n",
    "    # To end after 10 line, the file is too long. \n",
    "    if c==10:\n",
    "        print('    ** Rest ommited, file is too long **')\n",
    "        break\n",
    "    c+=1"
   ]
  },
  {
   "cell_type": "markdown",
   "metadata": {},
   "source": [
    "Simplifying:"
   ]
  },
  {
   "cell_type": "code",
   "execution_count": 15,
   "metadata": {},
   "outputs": [
    {
     "name": "stdout",
     "output_type": "stream",
     "text": [
      "ACT I\n",
      "\n",
      "SCENE I. Venice. A street.\n",
      "\n",
      "Enter ANTONIO, SALARINO, and SALANIO\n",
      "ANTONIO\n",
      "In sooth, I know not why I am so sad:\n",
      "It wearies me; you say it wearies you;\n",
      "But how I caught it, found it, or came by it,\n",
      "What stuff 'tis made of, whereof it is born,\n",
      "I am to learn;\n",
      "    ** Rest ommited, file is too long **\n"
     ]
    }
   ],
   "source": [
    "try:\n",
    "    fh = open('Assets/Files/Merchant of Venice.txt', \"rt\")\n",
    "    c = 0\n",
    "\n",
    "    for line in fh:\n",
    "        print(line.strip())\n",
    "\n",
    "        # To end after 10 line, the file is too long. \n",
    "        if c==10:\n",
    "            print('    ** Rest ommited, file is too long **')\n",
    "            break\n",
    "        c+=1\n",
    "        \n",
    "finally:\n",
    "    fh.close()"
   ]
  },
  {
   "cell_type": "markdown",
   "metadata": {},
   "source": [
    "### Using Context-Manager to open files:"
   ]
  },
  {
   "cell_type": "code",
   "execution_count": 18,
   "metadata": {},
   "outputs": [
    {
     "name": "stdout",
     "output_type": "stream",
     "text": [
      "ACT I\n",
      "\n",
      "SCENE I. Venice. A street.\n",
      "\n",
      "Enter ANTONIO, SALARINO, and SALANIO\n",
      "ANTONIO\n",
      "In sooth, I know not why I am so sad:\n",
      "It wearies me; you say it wearies you;\n",
      "But how I caught it, found it, or came by it,\n",
      "What stuff 'tis made of, whereof it is born,\n",
      "I am to learn;\n",
      "    ** Rest ommited, file is too long **\n"
     ]
    }
   ],
   "source": [
    "c=0\n",
    "with open('Assets/Files/Merchant of Venice.txt') as fh:\n",
    "    for line in fh:\n",
    "        print(line.rstrip())\n",
    "        \n",
    "        # To end after 10 line, the file is too long. \n",
    "        if c==10:\n",
    "            print('    ** Rest ommited, file is too long **')\n",
    "            break\n",
    "        c+=1"
   ]
  },
  {
   "cell_type": "markdown",
   "metadata": {},
   "source": [
    "### Reading and Writing to a file"
   ]
  },
  {
   "cell_type": "code",
   "execution_count": 22,
   "metadata": {},
   "outputs": [],
   "source": [
    "with open('Assets/Files/Merchant of Venice.txt') as f:\n",
    "    lines = [line.rstrip() for line in f]\n",
    "\n",
    "with open('Assets/Files/[Copy - Modified 1] Merchant of Venice.txt', 'w') as fr:\n",
    "    fr.write('\\n'.join(lines))"
   ]
  },
  {
   "cell_type": "markdown",
   "metadata": {},
   "source": [
    "### Reading and Writing in Binary Mode\n",
    "If bytes are to be written in a file, it can be opened in binary mode."
   ]
  },
  {
   "cell_type": "code",
   "execution_count": 3,
   "metadata": {},
   "outputs": [
    {
     "name": "stdout",
     "output_type": "stream",
     "text": [
      "This is binary data...\n"
     ]
    }
   ],
   "source": [
    "with open('Assets/Files/example.bin', 'wb') as fw:\n",
    "    fw.write(b'This is binary data...')\n",
    "\n",
    "with open('Assets/Files/example.bin') as f:\n",
    "    print(f.read())"
   ]
  },
  {
   "cell_type": "markdown",
   "metadata": {},
   "source": [
    "### Protecting against overriding an existing file\n",
    "Using `x` flag, the file will only be opened for writing if the file doesn't exist."
   ]
  },
  {
   "cell_type": "code",
   "execution_count": 7,
   "metadata": {},
   "outputs": [
    {
     "ename": "FileExistsError",
     "evalue": "[Errno 17] File exists: 'Assets/Files/write_x.txt'",
     "output_type": "error",
     "traceback": [
      "\u001b[0;31m---------------------------------------------------------------------------\u001b[0m",
      "\u001b[0;31mFileExistsError\u001b[0m                           Traceback (most recent call last)",
      "\u001b[0;32m<ipython-input-7-f6ee0d2ad6fd>\u001b[0m in \u001b[0;36m<module>\u001b[0;34m\u001b[0m\n\u001b[1;32m      1\u001b[0m \u001b[0;32mwith\u001b[0m \u001b[0mopen\u001b[0m\u001b[0;34m(\u001b[0m\u001b[0;34m'Assets/Files/write_x.txt'\u001b[0m\u001b[0;34m,\u001b[0m \u001b[0;34m'x'\u001b[0m\u001b[0;34m)\u001b[0m \u001b[0;32mas\u001b[0m \u001b[0mfw\u001b[0m\u001b[0;34m:\u001b[0m\u001b[0;34m\u001b[0m\u001b[0;34m\u001b[0m\u001b[0m\n\u001b[1;32m      2\u001b[0m     \u001b[0mfw\u001b[0m\u001b[0;34m.\u001b[0m\u001b[0mwrite\u001b[0m\u001b[0;34m(\u001b[0m\u001b[0;34m'Writing Line 1'\u001b[0m \u001b[0;34m)\u001b[0m\u001b[0;34m\u001b[0m\u001b[0;34m\u001b[0m\u001b[0m\n\u001b[0;32m----> 3\u001b[0;31m \u001b[0;32mwith\u001b[0m \u001b[0mopen\u001b[0m\u001b[0;34m(\u001b[0m\u001b[0;34m'Assets/Files/write_x.txt'\u001b[0m\u001b[0;34m,\u001b[0m \u001b[0;34m'x'\u001b[0m\u001b[0;34m)\u001b[0m \u001b[0;32mas\u001b[0m \u001b[0mfw\u001b[0m\u001b[0;34m:\u001b[0m\u001b[0;34m\u001b[0m\u001b[0;34m\u001b[0m\u001b[0m\n\u001b[0m\u001b[1;32m      4\u001b[0m     \u001b[0mfw\u001b[0m\u001b[0;34m.\u001b[0m\u001b[0mwrite\u001b[0m\u001b[0;34m(\u001b[0m\u001b[0;34m'Writing Line 2'\u001b[0m \u001b[0;34m)\u001b[0m\u001b[0;34m\u001b[0m\u001b[0;34m\u001b[0m\u001b[0m\n",
      "\u001b[0;31mFileExistsError\u001b[0m: [Errno 17] File exists: 'Assets/Files/write_x.txt'"
     ]
    }
   ],
   "source": [
    "with open('Assets/Files/write_x.txt', 'x') as fw:\n",
    "    fw.write('Writing Line 1' )\n",
    "with open('Assets/Files/write_x.txt', 'x') as fw:    # Error\n",
    "    fw.write('Writing Line 2' )"
   ]
  },
  {
   "cell_type": "markdown",
   "metadata": {},
   "source": [
    "### Checking for file and directory existance"
   ]
  },
  {
   "cell_type": "code",
   "execution_count": 9,
   "metadata": {},
   "outputs": [
    {
     "name": "stdout",
     "output_type": "stream",
     "text": [
      "True\n",
      "True\n",
      "/Users/harshchaturvedi/OneDrive/Source/Projects/Study/Getting Started with Python/Assets/Files\n",
      "/Users/harshchaturvedi/OneDrive/Source/Projects/Study/Getting Started with Python/Assets/Files/Merchant of Venice.txt\n"
     ]
    }
   ],
   "source": [
    "import os\n",
    "\n",
    "filename = 'Assets/Files/Merchant of Venice.txt'\n",
    "\n",
    "path = os.path.dirname(os.path.abspath(filename))\n",
    "\n",
    "print(os.path.isfile(filename))\n",
    "print(os.path.isdir(path))\n",
    "print(path)\n",
    "print(os.path.abspath(filename))"
   ]
  },
  {
   "cell_type": "markdown",
   "metadata": {},
   "source": [
    "### Manipulating files and directories"
   ]
  },
  {
   "cell_type": "code",
   "execution_count": 13,
   "metadata": {},
   "outputs": [
    {
     "name": "stdout",
     "output_type": "stream",
     "text": [
      "[('the', 831), ('i', 658), ('and', 610)]\n"
     ]
    }
   ],
   "source": [
    "from collections import Counter\n",
    "from string import ascii_letters\n",
    "\n",
    "chars = ascii_letters + ' '\n",
    "\n",
    "def sanitize(s, chars):\n",
    "    return ''.join(c for c in s if c in chars)\n",
    "\n",
    "def reverse(s):\n",
    "    return s[::-1]\n",
    "\n",
    "with open('Assets/Files/Merchant of Venice.txt') as stream:\n",
    "    lines = [line.rstrip() for line in stream]\n",
    "    \n",
    "with open('Assets/Files/ecineV fo tnahcreM.txt', 'w') as stream:\n",
    "    stream.write('\\n'.join(reverse(line) for line in lines))\n",
    "    \n",
    "lines = [sanitize(line, chars) for line in lines]\n",
    "whole = ' '.join(lines)\n",
    "cnt = Counter(whole.lower().split())\n",
    "print(cnt.most_common(3))"
   ]
  },
  {
   "cell_type": "code",
   "execution_count": 16,
   "metadata": {},
   "outputs": [
    {
     "data": {
      "text/plain": [
       "'ops_example/A/D/ex1d.txt'"
      ]
     },
     "execution_count": 16,
     "metadata": {},
     "output_type": "execute_result"
    }
   ],
   "source": [
    "import shutil\n",
    "import os\n",
    "\n",
    "BASE_PATH = 'ops_example'\n",
    "os.mkdir(BASE_PATH)\n",
    "\n",
    "path_b = os.path.join(BASE_PATH, 'A', 'B')\n",
    "path_c = os.path.join(BASE_PATH, 'A', 'C')\n",
    "path_d = os.path.join(BASE_PATH, 'A', 'D')\n",
    "\n",
    "os.makedirs(path_b)\n",
    "os.makedirs(path_c)\n",
    "\n",
    "for filename in ('ex1.txt', 'ex2.txt', 'ex3.txt'):\n",
    "    with open(os.path.join(path_b, filename), 'w') as stream:\n",
    "        stream.write(f'Some content here in {filename}\\n')\n",
    "\n",
    "shutil.move(path_b, path_d)\n",
    "\n",
    "shutil.move(\n",
    "    os.path.join(path_d, 'ex1.txt'),\n",
    "    os.path.join(path_d, 'ex1d.txt')\n",
    ")"
   ]
  },
  {
   "cell_type": "markdown",
   "metadata": {},
   "source": [
    "### Manipulating pathnames"
   ]
  },
  {
   "cell_type": "code",
   "execution_count": 17,
   "metadata": {},
   "outputs": [
    {
     "name": "stdout",
     "output_type": "stream",
     "text": [
      "/Users/harshchaturvedi/OneDrive/Source/Projects/Study/Getting Started with Python/Assets/Files/Merchant of Venice.txt\n",
      "Merchant of Venice.txt\n",
      "/Users/harshchaturvedi/OneDrive/Source/Projects/Study/Getting Started with Python/Assets/Files\n",
      "('/Users/harshchaturvedi/OneDrive/Source/Projects/Study/Getting Started with Python/Assets/Files/Merchant of Venice', '.txt')\n",
      "('/Users/harshchaturvedi/OneDrive/Source/Projects/Study/Getting Started with Python/Assets/Files', 'Merchant of Venice.txt')\n",
      "/Users/harshchaturvedi/OneDrive/Source/Projects/Study/Getting Started with Python/Assets/Files/../../README.rst\n",
      "/Users/harshchaturvedi/OneDrive/Source/Projects/Study/Getting Started with Python/README.rst\n"
     ]
    }
   ],
   "source": [
    "import os\n",
    "\n",
    "filename = 'Assets/Files/Merchant of Venice.txt'\n",
    "path = os.path.abspath(filename)\n",
    "\n",
    "print(path)\n",
    "print(os.path.basename(path))\n",
    "print(os.path.dirname(path))\n",
    "print(os.path.splitext(path))\n",
    "print(os.path.split(path))\n",
    "\n",
    "readme_path = os.path.join(\n",
    "    os.path.dirname(path), '..', '..', 'README.rst'\n",
    ")\n",
    "\n",
    "print(readme_path)\n",
    "print(os.path.normpath(readme_path))"
   ]
  },
  {
   "cell_type": "markdown",
   "metadata": {},
   "source": [
    "### Temporary files and directories"
   ]
  },
  {
   "cell_type": "code",
   "execution_count": 19,
   "metadata": {},
   "outputs": [
    {
     "name": "stdout",
     "output_type": "stream",
     "text": [
      "Temp directory: Assets/Files/tmpkpbloxc7\n",
      "/Users/harshchaturvedi/OneDrive/Source/Projects/Study/Getting Started with Python/Assets/Files/tmpkpbloxc7/tmpy87p53bg\n"
     ]
    }
   ],
   "source": [
    "import os\n",
    "from tempfile import NamedTemporaryFile, TemporaryDirectory\n",
    "\n",
    "with TemporaryDirectory(dir='Assets/Files') as td:\n",
    "    print('Temp directory:', td)\n",
    "    with NamedTemporaryFile(dir=td) as t:\n",
    "        name = t.name\n",
    "        print(os.path.abspath(name))\n"
   ]
  },
  {
   "cell_type": "markdown",
   "metadata": {},
   "source": [
    "### Directory Content"
   ]
  },
  {
   "cell_type": "code",
   "execution_count": 21,
   "metadata": {},
   "outputs": [
    {
     "name": "stdout",
     "output_type": "stream",
     "text": [
      ".DS_Store ./.DS_Store File\n",
      "Chapter 3 - Iterating and Making Decisions.ipynb ./Chapter 3 - Iterating and Making Decisions.ipynb File\n",
      "cache ./cache Folder\n",
      "Archive ./Archive Folder\n",
      "Chapter 1 - A Gentle Introduction to Python.ipynb ./Chapter 1 - A Gentle Introduction to Python.ipynb File\n",
      "Chapter 2 - Build In Datatypes.ipynb ./Chapter 2 - Build In Datatypes.ipynb File\n",
      "Chapter 4 - Functions - The Building Blocks of Code.ipynb ./Chapter 4 - Functions - The Building Blocks of Code.ipynb File\n",
      ".ipynb_checkpoints ./.ipynb_checkpoints Folder\n",
      "Assets ./Assets Folder\n",
      "Chapter 5 - Files and Data Persistance.ipynb ./Chapter 5 - Files and Data Persistance.ipynb File\n"
     ]
    }
   ],
   "source": [
    "import os\n",
    "\n",
    "with os.scandir('.') as it:\n",
    "    for entry in it:\n",
    "        print(\n",
    "            entry.name, entry.path,\n",
    "            'File' if entry.is_file() else 'Folder'\n",
    "        )"
   ]
  },
  {
   "cell_type": "markdown",
   "metadata": {},
   "source": [
    "### Files and Directory compression"
   ]
  },
  {
   "cell_type": "markdown",
   "metadata": {},
   "source": [
    "#### Working with ZIPs"
   ]
  },
  {
   "cell_type": "code",
   "execution_count": null,
   "metadata": {},
   "outputs": [],
   "source": [
    "from zipfile import ZipFile\n",
    "\n",
    "with ZipFile('example.zip', 'w') as zp:\n",
    "    zp.write('content1.txt')\n",
    "    zp.write('content2.txt')\n",
    "    zp.write('subfolder/content3.txt')\n",
    "    zp.write('subfolder/content4.txt')\n",
    "    \n",
    "with ZipFile('example.zip') as zp:\n",
    "    zp.extract('content1.txt', 'extract_zip')\n",
    "    zp.extract('subfolder/content3.txt', 'extract_zip')"
   ]
  },
  {
   "cell_type": "markdown",
   "metadata": {},
   "source": [
    "## Data Interchange Formats\n",
    "Most commonly used data interchange formats are JSON, XML, and YAML. Python has modules `xml`, `json`, and PyPI contains packages for working with YAML."
   ]
  },
  {
   "cell_type": "markdown",
   "metadata": {},
   "source": [
    "## Working with JSON\n",
    "JSON is based on two structures:\n",
    "- Collection of name/value pairs, mapping to dictionaries.\n",
    "- Ordered list of values, mapping to lists."
   ]
  },
  {
   "cell_type": "code",
   "execution_count": 28,
   "metadata": {},
   "outputs": [
    {
     "name": "stdout",
     "output_type": "stream",
     "text": [
      "True\n"
     ]
    }
   ],
   "source": [
    "import sys\n",
    "import json\n",
    "\n",
    "data = {\n",
    "    'big_number' : 2**6969,\n",
    "    'max_float' : sys.float_info.max,\n",
    "    'a_list' : [2,3,5,7]\n",
    "}\n",
    "\n",
    "json_data = json.dumps(data)\n",
    "\n",
    "data_out = json.loads(json_data)\n",
    "assert data==data_out\n",
    "print(data==data_out)"
   ]
  },
  {
   "cell_type": "markdown",
   "metadata": {},
   "source": [
    "JSON is quite similar to python."
   ]
  },
  {
   "cell_type": "code",
   "execution_count": 29,
   "metadata": {},
   "outputs": [
    {
     "name": "stdout",
     "output_type": "stream",
     "text": [
      "{\n",
      "  \"address\": {\n",
      "    \"city\": \"london\",\n",
      "    \"country\": \"UK\",\n",
      "    \"street\": \"221B Baker St\",\n",
      "    \"zip\": \"NW1 6XE\"\n",
      "  },\n",
      "  \"full_name\": \"Sherlock Holmes\"\n",
      "}\n"
     ]
    }
   ],
   "source": [
    "import json\n",
    "\n",
    "info = {\n",
    "    'full_name' : 'Sherlock Holmes',\n",
    "    'address' : {\n",
    "        'street' : '221B Baker St',\n",
    "        'zip' : 'NW1 6XE',\n",
    "        'city' : 'london',\n",
    "        'country' : 'UK',\n",
    "    }\n",
    "}\n",
    "\n",
    "print(json.dumps(info, indent=2, sort_keys=True))"
   ]
  },
  {
   "cell_type": "markdown",
   "metadata": {},
   "source": [
    "Note that unlike python, JSON doesn't support commas after the last item."
   ]
  },
  {
   "cell_type": "code",
   "execution_count": 31,
   "metadata": {},
   "outputs": [
    {
     "name": "stdout",
     "output_type": "stream",
     "text": [
      "{\"a_tuple\": [1, 2, 3, 4, 5]}\n",
      "{'a_tuple': [1, 2, 3, 4, 5]}\n"
     ]
    }
   ],
   "source": [
    "import json\n",
    "\n",
    "data_in = {\n",
    "    'a_tuple' : (1,2,3,4,5),\n",
    "}\n",
    "\n",
    "json_data = json.dumps(data_in)\n",
    "print(json_data)\n",
    "data_out = json.loads(json_data)\n",
    "print(data_out)"
   ]
  },
  {
   "cell_type": "markdown",
   "metadata": {},
   "source": [
    "Since JSON doesn't support tuples, which are, conceptually, quite similar to lists, `json.dumps` converts it into a list in JSON, and the info about it being a tuple is lost. This is a common problem that occurs with more datatypes and cases."
   ]
  },
  {
   "cell_type": "markdown",
   "metadata": {},
   "source": [
    "#### Custom Encoding and Decoding with JSON\n",
    "The cls parameter can be used to specify a custom encoder."
   ]
  },
  {
   "cell_type": "code",
   "execution_count": 33,
   "metadata": {},
   "outputs": [
    {
     "name": "stdout",
     "output_type": "stream",
     "text": [
      "{\"an_int\": 42, \"a_float\": 3.14159265, \"a_complex\": {\"_meta\": \"_complex\", \"num\": [3.0, 4.0]}}\n",
      "{'an_int': 42, 'a_float': 3.14159265, 'a_complex': {'_meta': '_complex', 'num': [3.0, 4.0]}}\n"
     ]
    }
   ],
   "source": [
    "import json\n",
    "class ComplexEncoder(json.JSONEncoder):\n",
    "    def default(self, obj):\n",
    "        if isinstance(obj, complex):\n",
    "            return {\n",
    "                '_meta' : '_complex',\n",
    "                'num' : [obj.real, obj.imag],\n",
    "            }\n",
    "        return json.JSONEncoder.default(self, obj)\n",
    "\n",
    "data = {\n",
    "    'an_int' : 42,\n",
    "    'a_float' : 3.14159265,\n",
    "    'a_complex' :  3+4j\n",
    "}\n",
    "\n",
    "json_data = json.dumps(data, cls=ComplexEncoder)\n",
    "print(json_data)\n",
    "\n",
    "def object_hook(obj):\n",
    "    try:\n",
    "        if obj['_meta'] == '_complex':\n",
    "            return complex(*obj['num'])\n",
    "    except (KeyError, TypeError):\n",
    "        return obj\n",
    "\n",
    "data_out = json.loads(json_data)\n",
    "print(data_out)"
   ]
  },
  {
   "cell_type": "markdown",
   "metadata": {},
   "source": [
    "## IO, streams and requests"
   ]
  },
  {
   "cell_type": "markdown",
   "metadata": {},
   "source": [
    "### Using an in-memory stream\n",
    "`io.StringIO` is an in-memory stream for text IO."
   ]
  },
  {
   "cell_type": "code",
   "execution_count": 36,
   "metadata": {},
   "outputs": [
    {
     "name": "stdout",
     "output_type": "stream",
     "text": [
      "Subscribe to PewDiePie.\n",
      "Saving people, hunting things, the family buisness...\n",
      "\n"
     ]
    }
   ],
   "source": [
    "import io\n",
    "\n",
    "stream = io.StringIO()\n",
    "stream.write('Subscribe to PewDiePie.\\n')      # One Way of writing to stream\n",
    "print('Saving people, hunting things, the family buisness...', file=stream)    # Another way to write to stream\n",
    "\n",
    "contents = stream.getvalue()\n",
    "print(contents)\n",
    "\n",
    "stream.close()"
   ]
  },
  {
   "cell_type": "code",
   "execution_count": 37,
   "metadata": {},
   "outputs": [
    {
     "name": "stdout",
     "output_type": "stream",
     "text": [
      "You hide your drugs in a Lupus textbook?\n",
      "Its never lupus.\n",
      "\n"
     ]
    }
   ],
   "source": [
    "with io.StringIO() as stream:\n",
    "    stream.write('You hide your drugs in a Lupus textbook?\\n')\n",
    "    print('Its never lupus.', file=stream)\n",
    "    contents = stream.getvalue()\n",
    "    print(contents)"
   ]
  },
  {
   "cell_type": "markdown",
   "metadata": {},
   "source": [
    "Memory is much faster than disk, and can be a good choice to save small amounts of data."
   ]
  },
  {
   "cell_type": "markdown",
   "metadata": {},
   "source": [
    "### Making HTTP Requests\n",
    "#### GET Request\n",
    "A GET request is made when getting data from a server."
   ]
  },
  {
   "cell_type": "code",
   "execution_count": 1,
   "metadata": {},
   "outputs": [
    {
     "name": "stdout",
     "output_type": "stream",
     "text": [
      "Response for get\n",
      "{'args': {'title': 'learn python programming'}, 'headers': {'Accept': '*/*', 'Accept-Encoding': 'gzip, deflate', 'Host': 'httpbin.org', 'User-Agent': 'python-requests/2.24.0', 'X-Amzn-Trace-Id': 'Root=1-5f7a7c6f-4c671e2f2b48ab67502692e4'}, 'origin': '49.36.173.60', 'url': 'https://httpbin.org/get?title=learn+python+programming'}\n",
      "----------------------------------------\n",
      "Response for headers\n",
      "{'headers': {'Accept': '*/*', 'Accept-Encoding': 'gzip, deflate', 'Host': 'httpbin.org', 'User-Agent': 'python-requests/2.24.0', 'X-Amzn-Trace-Id': 'Root=1-5f7a7c70-3143adda547e624126274bc8'}}\n",
      "----------------------------------------\n",
      "Response for ip\n",
      "{'origin': '49.36.173.60'}\n",
      "----------------------------------------\n"
     ]
    },
    {
     "ename": "ConnectionError",
     "evalue": "HTTPSConnectionPool(host='now.httpbin.org', port=443): Max retries exceeded with url: / (Caused by NewConnectionError('<urllib3.connection.HTTPSConnection object at 0x7f940450a940>: Failed to establish a new connection: [Errno 8] nodename nor servname provided, or not known'))",
     "output_type": "error",
     "traceback": [
      "\u001b[0;31m---------------------------------------------------------------------------\u001b[0m",
      "\u001b[0;31mgaierror\u001b[0m                                  Traceback (most recent call last)",
      "\u001b[0;32m~/opt/anaconda3/lib/python3.8/site-packages/urllib3/connection.py\u001b[0m in \u001b[0;36m_new_conn\u001b[0;34m(self)\u001b[0m\n\u001b[1;32m    158\u001b[0m         \u001b[0;32mtry\u001b[0m\u001b[0;34m:\u001b[0m\u001b[0;34m\u001b[0m\u001b[0;34m\u001b[0m\u001b[0m\n\u001b[0;32m--> 159\u001b[0;31m             conn = connection.create_connection(\n\u001b[0m\u001b[1;32m    160\u001b[0m                 \u001b[0;34m(\u001b[0m\u001b[0mself\u001b[0m\u001b[0;34m.\u001b[0m\u001b[0m_dns_host\u001b[0m\u001b[0;34m,\u001b[0m \u001b[0mself\u001b[0m\u001b[0;34m.\u001b[0m\u001b[0mport\u001b[0m\u001b[0;34m)\u001b[0m\u001b[0;34m,\u001b[0m \u001b[0mself\u001b[0m\u001b[0;34m.\u001b[0m\u001b[0mtimeout\u001b[0m\u001b[0;34m,\u001b[0m \u001b[0;34m**\u001b[0m\u001b[0mextra_kw\u001b[0m\u001b[0;34m\u001b[0m\u001b[0;34m\u001b[0m\u001b[0m\n",
      "\u001b[0;32m~/opt/anaconda3/lib/python3.8/site-packages/urllib3/util/connection.py\u001b[0m in \u001b[0;36mcreate_connection\u001b[0;34m(address, timeout, source_address, socket_options)\u001b[0m\n\u001b[1;32m     60\u001b[0m \u001b[0;34m\u001b[0m\u001b[0m\n\u001b[0;32m---> 61\u001b[0;31m     \u001b[0;32mfor\u001b[0m \u001b[0mres\u001b[0m \u001b[0;32min\u001b[0m \u001b[0msocket\u001b[0m\u001b[0;34m.\u001b[0m\u001b[0mgetaddrinfo\u001b[0m\u001b[0;34m(\u001b[0m\u001b[0mhost\u001b[0m\u001b[0;34m,\u001b[0m \u001b[0mport\u001b[0m\u001b[0;34m,\u001b[0m \u001b[0mfamily\u001b[0m\u001b[0;34m,\u001b[0m \u001b[0msocket\u001b[0m\u001b[0;34m.\u001b[0m\u001b[0mSOCK_STREAM\u001b[0m\u001b[0;34m)\u001b[0m\u001b[0;34m:\u001b[0m\u001b[0;34m\u001b[0m\u001b[0;34m\u001b[0m\u001b[0m\n\u001b[0m\u001b[1;32m     62\u001b[0m         \u001b[0maf\u001b[0m\u001b[0;34m,\u001b[0m \u001b[0msocktype\u001b[0m\u001b[0;34m,\u001b[0m \u001b[0mproto\u001b[0m\u001b[0;34m,\u001b[0m \u001b[0mcanonname\u001b[0m\u001b[0;34m,\u001b[0m \u001b[0msa\u001b[0m \u001b[0;34m=\u001b[0m \u001b[0mres\u001b[0m\u001b[0;34m\u001b[0m\u001b[0;34m\u001b[0m\u001b[0m\n",
      "\u001b[0;32m~/opt/anaconda3/lib/python3.8/socket.py\u001b[0m in \u001b[0;36mgetaddrinfo\u001b[0;34m(host, port, family, type, proto, flags)\u001b[0m\n\u001b[1;32m    917\u001b[0m     \u001b[0maddrlist\u001b[0m \u001b[0;34m=\u001b[0m \u001b[0;34m[\u001b[0m\u001b[0;34m]\u001b[0m\u001b[0;34m\u001b[0m\u001b[0;34m\u001b[0m\u001b[0m\n\u001b[0;32m--> 918\u001b[0;31m     \u001b[0;32mfor\u001b[0m \u001b[0mres\u001b[0m \u001b[0;32min\u001b[0m \u001b[0m_socket\u001b[0m\u001b[0;34m.\u001b[0m\u001b[0mgetaddrinfo\u001b[0m\u001b[0;34m(\u001b[0m\u001b[0mhost\u001b[0m\u001b[0;34m,\u001b[0m \u001b[0mport\u001b[0m\u001b[0;34m,\u001b[0m \u001b[0mfamily\u001b[0m\u001b[0;34m,\u001b[0m \u001b[0mtype\u001b[0m\u001b[0;34m,\u001b[0m \u001b[0mproto\u001b[0m\u001b[0;34m,\u001b[0m \u001b[0mflags\u001b[0m\u001b[0;34m)\u001b[0m\u001b[0;34m:\u001b[0m\u001b[0;34m\u001b[0m\u001b[0;34m\u001b[0m\u001b[0m\n\u001b[0m\u001b[1;32m    919\u001b[0m         \u001b[0maf\u001b[0m\u001b[0;34m,\u001b[0m \u001b[0msocktype\u001b[0m\u001b[0;34m,\u001b[0m \u001b[0mproto\u001b[0m\u001b[0;34m,\u001b[0m \u001b[0mcanonname\u001b[0m\u001b[0;34m,\u001b[0m \u001b[0msa\u001b[0m \u001b[0;34m=\u001b[0m \u001b[0mres\u001b[0m\u001b[0;34m\u001b[0m\u001b[0;34m\u001b[0m\u001b[0m\n",
      "\u001b[0;31mgaierror\u001b[0m: [Errno 8] nodename nor servname provided, or not known",
      "\nDuring handling of the above exception, another exception occurred:\n",
      "\u001b[0;31mNewConnectionError\u001b[0m                        Traceback (most recent call last)",
      "\u001b[0;32m~/opt/anaconda3/lib/python3.8/site-packages/urllib3/connectionpool.py\u001b[0m in \u001b[0;36murlopen\u001b[0;34m(self, method, url, body, headers, retries, redirect, assert_same_host, timeout, pool_timeout, release_conn, chunked, body_pos, **response_kw)\u001b[0m\n\u001b[1;32m    669\u001b[0m             \u001b[0;31m# Make the request on the httplib connection object.\u001b[0m\u001b[0;34m\u001b[0m\u001b[0;34m\u001b[0m\u001b[0;34m\u001b[0m\u001b[0m\n\u001b[0;32m--> 670\u001b[0;31m             httplib_response = self._make_request(\n\u001b[0m\u001b[1;32m    671\u001b[0m                 \u001b[0mconn\u001b[0m\u001b[0;34m,\u001b[0m\u001b[0;34m\u001b[0m\u001b[0;34m\u001b[0m\u001b[0m\n",
      "\u001b[0;32m~/opt/anaconda3/lib/python3.8/site-packages/urllib3/connectionpool.py\u001b[0m in \u001b[0;36m_make_request\u001b[0;34m(self, conn, method, url, timeout, chunked, **httplib_request_kw)\u001b[0m\n\u001b[1;32m    380\u001b[0m         \u001b[0;32mtry\u001b[0m\u001b[0;34m:\u001b[0m\u001b[0;34m\u001b[0m\u001b[0;34m\u001b[0m\u001b[0m\n\u001b[0;32m--> 381\u001b[0;31m             \u001b[0mself\u001b[0m\u001b[0;34m.\u001b[0m\u001b[0m_validate_conn\u001b[0m\u001b[0;34m(\u001b[0m\u001b[0mconn\u001b[0m\u001b[0;34m)\u001b[0m\u001b[0;34m\u001b[0m\u001b[0;34m\u001b[0m\u001b[0m\n\u001b[0m\u001b[1;32m    382\u001b[0m         \u001b[0;32mexcept\u001b[0m \u001b[0;34m(\u001b[0m\u001b[0mSocketTimeout\u001b[0m\u001b[0;34m,\u001b[0m \u001b[0mBaseSSLError\u001b[0m\u001b[0;34m)\u001b[0m \u001b[0;32mas\u001b[0m \u001b[0me\u001b[0m\u001b[0;34m:\u001b[0m\u001b[0;34m\u001b[0m\u001b[0;34m\u001b[0m\u001b[0m\n",
      "\u001b[0;32m~/opt/anaconda3/lib/python3.8/site-packages/urllib3/connectionpool.py\u001b[0m in \u001b[0;36m_validate_conn\u001b[0;34m(self, conn)\u001b[0m\n\u001b[1;32m    975\u001b[0m         \u001b[0;32mif\u001b[0m \u001b[0;32mnot\u001b[0m \u001b[0mgetattr\u001b[0m\u001b[0;34m(\u001b[0m\u001b[0mconn\u001b[0m\u001b[0;34m,\u001b[0m \u001b[0;34m\"sock\"\u001b[0m\u001b[0;34m,\u001b[0m \u001b[0;32mNone\u001b[0m\u001b[0;34m)\u001b[0m\u001b[0;34m:\u001b[0m  \u001b[0;31m# AppEngine might not have  `.sock`\u001b[0m\u001b[0;34m\u001b[0m\u001b[0;34m\u001b[0m\u001b[0m\n\u001b[0;32m--> 976\u001b[0;31m             \u001b[0mconn\u001b[0m\u001b[0;34m.\u001b[0m\u001b[0mconnect\u001b[0m\u001b[0;34m(\u001b[0m\u001b[0;34m)\u001b[0m\u001b[0;34m\u001b[0m\u001b[0;34m\u001b[0m\u001b[0m\n\u001b[0m\u001b[1;32m    977\u001b[0m \u001b[0;34m\u001b[0m\u001b[0m\n",
      "\u001b[0;32m~/opt/anaconda3/lib/python3.8/site-packages/urllib3/connection.py\u001b[0m in \u001b[0;36mconnect\u001b[0;34m(self)\u001b[0m\n\u001b[1;32m    307\u001b[0m         \u001b[0;31m# Add certificate verification\u001b[0m\u001b[0;34m\u001b[0m\u001b[0;34m\u001b[0m\u001b[0;34m\u001b[0m\u001b[0m\n\u001b[0;32m--> 308\u001b[0;31m         \u001b[0mconn\u001b[0m \u001b[0;34m=\u001b[0m \u001b[0mself\u001b[0m\u001b[0;34m.\u001b[0m\u001b[0m_new_conn\u001b[0m\u001b[0;34m(\u001b[0m\u001b[0;34m)\u001b[0m\u001b[0;34m\u001b[0m\u001b[0;34m\u001b[0m\u001b[0m\n\u001b[0m\u001b[1;32m    309\u001b[0m         \u001b[0mhostname\u001b[0m \u001b[0;34m=\u001b[0m \u001b[0mself\u001b[0m\u001b[0;34m.\u001b[0m\u001b[0mhost\u001b[0m\u001b[0;34m\u001b[0m\u001b[0;34m\u001b[0m\u001b[0m\n",
      "\u001b[0;32m~/opt/anaconda3/lib/python3.8/site-packages/urllib3/connection.py\u001b[0m in \u001b[0;36m_new_conn\u001b[0;34m(self)\u001b[0m\n\u001b[1;32m    170\u001b[0m         \u001b[0;32mexcept\u001b[0m \u001b[0mSocketError\u001b[0m \u001b[0;32mas\u001b[0m \u001b[0me\u001b[0m\u001b[0;34m:\u001b[0m\u001b[0;34m\u001b[0m\u001b[0;34m\u001b[0m\u001b[0m\n\u001b[0;32m--> 171\u001b[0;31m             raise NewConnectionError(\n\u001b[0m\u001b[1;32m    172\u001b[0m                 \u001b[0mself\u001b[0m\u001b[0;34m,\u001b[0m \u001b[0;34m\"Failed to establish a new connection: %s\"\u001b[0m \u001b[0;34m%\u001b[0m \u001b[0me\u001b[0m\u001b[0;34m\u001b[0m\u001b[0;34m\u001b[0m\u001b[0m\n",
      "\u001b[0;31mNewConnectionError\u001b[0m: <urllib3.connection.HTTPSConnection object at 0x7f940450a940>: Failed to establish a new connection: [Errno 8] nodename nor servname provided, or not known",
      "\nDuring handling of the above exception, another exception occurred:\n",
      "\u001b[0;31mMaxRetryError\u001b[0m                             Traceback (most recent call last)",
      "\u001b[0;32m~/opt/anaconda3/lib/python3.8/site-packages/requests/adapters.py\u001b[0m in \u001b[0;36msend\u001b[0;34m(self, request, stream, timeout, verify, cert, proxies)\u001b[0m\n\u001b[1;32m    438\u001b[0m             \u001b[0;32mif\u001b[0m \u001b[0;32mnot\u001b[0m \u001b[0mchunked\u001b[0m\u001b[0;34m:\u001b[0m\u001b[0;34m\u001b[0m\u001b[0;34m\u001b[0m\u001b[0m\n\u001b[0;32m--> 439\u001b[0;31m                 resp = conn.urlopen(\n\u001b[0m\u001b[1;32m    440\u001b[0m                     \u001b[0mmethod\u001b[0m\u001b[0;34m=\u001b[0m\u001b[0mrequest\u001b[0m\u001b[0;34m.\u001b[0m\u001b[0mmethod\u001b[0m\u001b[0;34m,\u001b[0m\u001b[0;34m\u001b[0m\u001b[0;34m\u001b[0m\u001b[0m\n",
      "\u001b[0;32m~/opt/anaconda3/lib/python3.8/site-packages/urllib3/connectionpool.py\u001b[0m in \u001b[0;36murlopen\u001b[0;34m(self, method, url, body, headers, retries, redirect, assert_same_host, timeout, pool_timeout, release_conn, chunked, body_pos, **response_kw)\u001b[0m\n\u001b[1;32m    723\u001b[0m \u001b[0;34m\u001b[0m\u001b[0m\n\u001b[0;32m--> 724\u001b[0;31m             retries = retries.increment(\n\u001b[0m\u001b[1;32m    725\u001b[0m                 \u001b[0mmethod\u001b[0m\u001b[0;34m,\u001b[0m \u001b[0murl\u001b[0m\u001b[0;34m,\u001b[0m \u001b[0merror\u001b[0m\u001b[0;34m=\u001b[0m\u001b[0me\u001b[0m\u001b[0;34m,\u001b[0m \u001b[0m_pool\u001b[0m\u001b[0;34m=\u001b[0m\u001b[0mself\u001b[0m\u001b[0;34m,\u001b[0m \u001b[0m_stacktrace\u001b[0m\u001b[0;34m=\u001b[0m\u001b[0msys\u001b[0m\u001b[0;34m.\u001b[0m\u001b[0mexc_info\u001b[0m\u001b[0;34m(\u001b[0m\u001b[0;34m)\u001b[0m\u001b[0;34m[\u001b[0m\u001b[0;36m2\u001b[0m\u001b[0;34m]\u001b[0m\u001b[0;34m\u001b[0m\u001b[0;34m\u001b[0m\u001b[0m\n",
      "\u001b[0;32m~/opt/anaconda3/lib/python3.8/site-packages/urllib3/util/retry.py\u001b[0m in \u001b[0;36mincrement\u001b[0;34m(self, method, url, response, error, _pool, _stacktrace)\u001b[0m\n\u001b[1;32m    438\u001b[0m         \u001b[0;32mif\u001b[0m \u001b[0mnew_retry\u001b[0m\u001b[0;34m.\u001b[0m\u001b[0mis_exhausted\u001b[0m\u001b[0;34m(\u001b[0m\u001b[0;34m)\u001b[0m\u001b[0;34m:\u001b[0m\u001b[0;34m\u001b[0m\u001b[0;34m\u001b[0m\u001b[0m\n\u001b[0;32m--> 439\u001b[0;31m             \u001b[0;32mraise\u001b[0m \u001b[0mMaxRetryError\u001b[0m\u001b[0;34m(\u001b[0m\u001b[0m_pool\u001b[0m\u001b[0;34m,\u001b[0m \u001b[0murl\u001b[0m\u001b[0;34m,\u001b[0m \u001b[0merror\u001b[0m \u001b[0;32mor\u001b[0m \u001b[0mResponseError\u001b[0m\u001b[0;34m(\u001b[0m\u001b[0mcause\u001b[0m\u001b[0;34m)\u001b[0m\u001b[0;34m)\u001b[0m\u001b[0;34m\u001b[0m\u001b[0;34m\u001b[0m\u001b[0m\n\u001b[0m\u001b[1;32m    440\u001b[0m \u001b[0;34m\u001b[0m\u001b[0m\n",
      "\u001b[0;31mMaxRetryError\u001b[0m: HTTPSConnectionPool(host='now.httpbin.org', port=443): Max retries exceeded with url: / (Caused by NewConnectionError('<urllib3.connection.HTTPSConnection object at 0x7f940450a940>: Failed to establish a new connection: [Errno 8] nodename nor servname provided, or not known'))",
      "\nDuring handling of the above exception, another exception occurred:\n",
      "\u001b[0;31mConnectionError\u001b[0m                           Traceback (most recent call last)",
      "\u001b[0;32m<ipython-input-1-aa403216b1fd>\u001b[0m in \u001b[0;36m<module>\u001b[0;34m\u001b[0m\n\u001b[1;32m     16\u001b[0m \u001b[0;34m\u001b[0m\u001b[0m\n\u001b[1;32m     17\u001b[0m \u001b[0;32mfor\u001b[0m \u001b[0mtitle\u001b[0m\u001b[0;34m,\u001b[0m \u001b[0murl\u001b[0m \u001b[0;32min\u001b[0m \u001b[0murls\u001b[0m\u001b[0;34m.\u001b[0m\u001b[0mitems\u001b[0m\u001b[0;34m(\u001b[0m\u001b[0;34m)\u001b[0m\u001b[0;34m:\u001b[0m\u001b[0;34m\u001b[0m\u001b[0;34m\u001b[0m\u001b[0m\n\u001b[0;32m---> 18\u001b[0;31m     \u001b[0mget_content\u001b[0m\u001b[0;34m(\u001b[0m\u001b[0mtitle\u001b[0m\u001b[0;34m,\u001b[0m \u001b[0murl\u001b[0m\u001b[0;34m)\u001b[0m\u001b[0;34m\u001b[0m\u001b[0;34m\u001b[0m\u001b[0m\n\u001b[0m\u001b[1;32m     19\u001b[0m     \u001b[0mprint\u001b[0m\u001b[0;34m(\u001b[0m\u001b[0;34m'-'\u001b[0m\u001b[0;34m*\u001b[0m\u001b[0;36m40\u001b[0m\u001b[0;34m)\u001b[0m\u001b[0;34m\u001b[0m\u001b[0;34m\u001b[0m\u001b[0m\n",
      "\u001b[0;32m<ipython-input-1-aa403216b1fd>\u001b[0m in \u001b[0;36mget_content\u001b[0;34m(title, url)\u001b[0m\n\u001b[1;32m     11\u001b[0m \u001b[0;34m\u001b[0m\u001b[0m\n\u001b[1;32m     12\u001b[0m \u001b[0;32mdef\u001b[0m \u001b[0mget_content\u001b[0m\u001b[0;34m(\u001b[0m\u001b[0mtitle\u001b[0m\u001b[0;34m,\u001b[0m\u001b[0murl\u001b[0m\u001b[0;34m)\u001b[0m\u001b[0;34m:\u001b[0m\u001b[0;34m\u001b[0m\u001b[0;34m\u001b[0m\u001b[0m\n\u001b[0;32m---> 13\u001b[0;31m     \u001b[0mresp\u001b[0m \u001b[0;34m=\u001b[0m \u001b[0mrequests\u001b[0m\u001b[0;34m.\u001b[0m\u001b[0mget\u001b[0m\u001b[0;34m(\u001b[0m\u001b[0murl\u001b[0m\u001b[0;34m)\u001b[0m\u001b[0;34m\u001b[0m\u001b[0;34m\u001b[0m\u001b[0m\n\u001b[0m\u001b[1;32m     14\u001b[0m     \u001b[0mprint\u001b[0m\u001b[0;34m(\u001b[0m\u001b[0;34mf'Response for {title}'\u001b[0m\u001b[0;34m)\u001b[0m\u001b[0;34m\u001b[0m\u001b[0;34m\u001b[0m\u001b[0m\n\u001b[1;32m     15\u001b[0m     \u001b[0mprint\u001b[0m\u001b[0;34m(\u001b[0m\u001b[0mresp\u001b[0m\u001b[0;34m.\u001b[0m\u001b[0mjson\u001b[0m\u001b[0;34m(\u001b[0m\u001b[0;34m)\u001b[0m\u001b[0;34m)\u001b[0m\u001b[0;34m\u001b[0m\u001b[0;34m\u001b[0m\u001b[0m\n",
      "\u001b[0;32m~/opt/anaconda3/lib/python3.8/site-packages/requests/api.py\u001b[0m in \u001b[0;36mget\u001b[0;34m(url, params, **kwargs)\u001b[0m\n\u001b[1;32m     74\u001b[0m \u001b[0;34m\u001b[0m\u001b[0m\n\u001b[1;32m     75\u001b[0m     \u001b[0mkwargs\u001b[0m\u001b[0;34m.\u001b[0m\u001b[0msetdefault\u001b[0m\u001b[0;34m(\u001b[0m\u001b[0;34m'allow_redirects'\u001b[0m\u001b[0;34m,\u001b[0m \u001b[0;32mTrue\u001b[0m\u001b[0;34m)\u001b[0m\u001b[0;34m\u001b[0m\u001b[0;34m\u001b[0m\u001b[0m\n\u001b[0;32m---> 76\u001b[0;31m     \u001b[0;32mreturn\u001b[0m \u001b[0mrequest\u001b[0m\u001b[0;34m(\u001b[0m\u001b[0;34m'get'\u001b[0m\u001b[0;34m,\u001b[0m \u001b[0murl\u001b[0m\u001b[0;34m,\u001b[0m \u001b[0mparams\u001b[0m\u001b[0;34m=\u001b[0m\u001b[0mparams\u001b[0m\u001b[0;34m,\u001b[0m \u001b[0;34m**\u001b[0m\u001b[0mkwargs\u001b[0m\u001b[0;34m)\u001b[0m\u001b[0;34m\u001b[0m\u001b[0;34m\u001b[0m\u001b[0m\n\u001b[0m\u001b[1;32m     77\u001b[0m \u001b[0;34m\u001b[0m\u001b[0m\n\u001b[1;32m     78\u001b[0m \u001b[0;34m\u001b[0m\u001b[0m\n",
      "\u001b[0;32m~/opt/anaconda3/lib/python3.8/site-packages/requests/api.py\u001b[0m in \u001b[0;36mrequest\u001b[0;34m(method, url, **kwargs)\u001b[0m\n\u001b[1;32m     59\u001b[0m     \u001b[0;31m# cases, and look like a memory leak in others.\u001b[0m\u001b[0;34m\u001b[0m\u001b[0;34m\u001b[0m\u001b[0;34m\u001b[0m\u001b[0m\n\u001b[1;32m     60\u001b[0m     \u001b[0;32mwith\u001b[0m \u001b[0msessions\u001b[0m\u001b[0;34m.\u001b[0m\u001b[0mSession\u001b[0m\u001b[0;34m(\u001b[0m\u001b[0;34m)\u001b[0m \u001b[0;32mas\u001b[0m \u001b[0msession\u001b[0m\u001b[0;34m:\u001b[0m\u001b[0;34m\u001b[0m\u001b[0;34m\u001b[0m\u001b[0m\n\u001b[0;32m---> 61\u001b[0;31m         \u001b[0;32mreturn\u001b[0m \u001b[0msession\u001b[0m\u001b[0;34m.\u001b[0m\u001b[0mrequest\u001b[0m\u001b[0;34m(\u001b[0m\u001b[0mmethod\u001b[0m\u001b[0;34m=\u001b[0m\u001b[0mmethod\u001b[0m\u001b[0;34m,\u001b[0m \u001b[0murl\u001b[0m\u001b[0;34m=\u001b[0m\u001b[0murl\u001b[0m\u001b[0;34m,\u001b[0m \u001b[0;34m**\u001b[0m\u001b[0mkwargs\u001b[0m\u001b[0;34m)\u001b[0m\u001b[0;34m\u001b[0m\u001b[0;34m\u001b[0m\u001b[0m\n\u001b[0m\u001b[1;32m     62\u001b[0m \u001b[0;34m\u001b[0m\u001b[0m\n\u001b[1;32m     63\u001b[0m \u001b[0;34m\u001b[0m\u001b[0m\n",
      "\u001b[0;32m~/opt/anaconda3/lib/python3.8/site-packages/requests/sessions.py\u001b[0m in \u001b[0;36mrequest\u001b[0;34m(self, method, url, params, data, headers, cookies, files, auth, timeout, allow_redirects, proxies, hooks, stream, verify, cert, json)\u001b[0m\n\u001b[1;32m    528\u001b[0m         }\n\u001b[1;32m    529\u001b[0m         \u001b[0msend_kwargs\u001b[0m\u001b[0;34m.\u001b[0m\u001b[0mupdate\u001b[0m\u001b[0;34m(\u001b[0m\u001b[0msettings\u001b[0m\u001b[0;34m)\u001b[0m\u001b[0;34m\u001b[0m\u001b[0;34m\u001b[0m\u001b[0m\n\u001b[0;32m--> 530\u001b[0;31m         \u001b[0mresp\u001b[0m \u001b[0;34m=\u001b[0m \u001b[0mself\u001b[0m\u001b[0;34m.\u001b[0m\u001b[0msend\u001b[0m\u001b[0;34m(\u001b[0m\u001b[0mprep\u001b[0m\u001b[0;34m,\u001b[0m \u001b[0;34m**\u001b[0m\u001b[0msend_kwargs\u001b[0m\u001b[0;34m)\u001b[0m\u001b[0;34m\u001b[0m\u001b[0;34m\u001b[0m\u001b[0m\n\u001b[0m\u001b[1;32m    531\u001b[0m \u001b[0;34m\u001b[0m\u001b[0m\n\u001b[1;32m    532\u001b[0m         \u001b[0;32mreturn\u001b[0m \u001b[0mresp\u001b[0m\u001b[0;34m\u001b[0m\u001b[0;34m\u001b[0m\u001b[0m\n",
      "\u001b[0;32m~/opt/anaconda3/lib/python3.8/site-packages/requests/sessions.py\u001b[0m in \u001b[0;36msend\u001b[0;34m(self, request, **kwargs)\u001b[0m\n\u001b[1;32m    641\u001b[0m \u001b[0;34m\u001b[0m\u001b[0m\n\u001b[1;32m    642\u001b[0m         \u001b[0;31m# Send the request\u001b[0m\u001b[0;34m\u001b[0m\u001b[0;34m\u001b[0m\u001b[0;34m\u001b[0m\u001b[0m\n\u001b[0;32m--> 643\u001b[0;31m         \u001b[0mr\u001b[0m \u001b[0;34m=\u001b[0m \u001b[0madapter\u001b[0m\u001b[0;34m.\u001b[0m\u001b[0msend\u001b[0m\u001b[0;34m(\u001b[0m\u001b[0mrequest\u001b[0m\u001b[0;34m,\u001b[0m \u001b[0;34m**\u001b[0m\u001b[0mkwargs\u001b[0m\u001b[0;34m)\u001b[0m\u001b[0;34m\u001b[0m\u001b[0;34m\u001b[0m\u001b[0m\n\u001b[0m\u001b[1;32m    644\u001b[0m \u001b[0;34m\u001b[0m\u001b[0m\n\u001b[1;32m    645\u001b[0m         \u001b[0;31m# Total elapsed time of the request (approximately)\u001b[0m\u001b[0;34m\u001b[0m\u001b[0;34m\u001b[0m\u001b[0;34m\u001b[0m\u001b[0m\n",
      "\u001b[0;32m~/opt/anaconda3/lib/python3.8/site-packages/requests/adapters.py\u001b[0m in \u001b[0;36msend\u001b[0;34m(self, request, stream, timeout, verify, cert, proxies)\u001b[0m\n\u001b[1;32m    514\u001b[0m                 \u001b[0;32mraise\u001b[0m \u001b[0mSSLError\u001b[0m\u001b[0;34m(\u001b[0m\u001b[0me\u001b[0m\u001b[0;34m,\u001b[0m \u001b[0mrequest\u001b[0m\u001b[0;34m=\u001b[0m\u001b[0mrequest\u001b[0m\u001b[0;34m)\u001b[0m\u001b[0;34m\u001b[0m\u001b[0;34m\u001b[0m\u001b[0m\n\u001b[1;32m    515\u001b[0m \u001b[0;34m\u001b[0m\u001b[0m\n\u001b[0;32m--> 516\u001b[0;31m             \u001b[0;32mraise\u001b[0m \u001b[0mConnectionError\u001b[0m\u001b[0;34m(\u001b[0m\u001b[0me\u001b[0m\u001b[0;34m,\u001b[0m \u001b[0mrequest\u001b[0m\u001b[0;34m=\u001b[0m\u001b[0mrequest\u001b[0m\u001b[0;34m)\u001b[0m\u001b[0;34m\u001b[0m\u001b[0;34m\u001b[0m\u001b[0m\n\u001b[0m\u001b[1;32m    517\u001b[0m \u001b[0;34m\u001b[0m\u001b[0m\n\u001b[1;32m    518\u001b[0m         \u001b[0;32mexcept\u001b[0m \u001b[0mClosedPoolError\u001b[0m \u001b[0;32mas\u001b[0m \u001b[0me\u001b[0m\u001b[0;34m:\u001b[0m\u001b[0;34m\u001b[0m\u001b[0;34m\u001b[0m\u001b[0m\n",
      "\u001b[0;31mConnectionError\u001b[0m: HTTPSConnectionPool(host='now.httpbin.org', port=443): Max retries exceeded with url: / (Caused by NewConnectionError('<urllib3.connection.HTTPSConnection object at 0x7f940450a940>: Failed to establish a new connection: [Errno 8] nodename nor servname provided, or not known'))"
     ]
    }
   ],
   "source": [
    "import requests\n",
    "\n",
    "urls = {\n",
    "    'get' : 'https://httpbin.org/get?title=learn+python+programming',\n",
    "    'headers' : 'https://httpbin.org/headers',\n",
    "    'ip' : 'https://httpbin.org/ip',\n",
    "    'now' : 'https://now.httpbin.org/',\n",
    "    'user-agent':'https://httpbin.org/user-agent',\n",
    "    'UUID':'https://httpbin.org/uuid',\n",
    "}\n",
    "\n",
    "def get_content(title,url):\n",
    "    resp = requests.get(url)\n",
    "    print(f'Response for {title}')\n",
    "    print(resp.json())\n",
    "\n",
    "for title, url in urls.items():\n",
    "    get_content(title, url)\n",
    "    print('-'*40)"
   ]
  },
  {
   "cell_type": "markdown",
   "metadata": {},
   "source": [
    "#### POST Request\n",
    "A POST Request is made when sending data to the server."
   ]
  },
  {
   "cell_type": "code",
   "execution_count": 41,
   "metadata": {},
   "outputs": [
    {
     "name": "stdout",
     "output_type": "stream",
     "text": [
      "Response for POST\n",
      "{'args': {}, 'data': '', 'files': {}, 'form': {'title': 'Coffee is better than Tea'}, 'headers': {'Accept': '*/*', 'Accept-Encoding': 'gzip, deflate', 'Content-Length': '31', 'Content-Type': 'application/x-www-form-urlencoded', 'Host': 'httpbin.org', 'User-Agent': 'python-requests/2.22.0', 'X-Amzn-Trace-Id': 'Root=1-5f48474a-19ddff69265faa1a09f43a29'}, 'json': None, 'origin': '49.36.169.58', 'url': 'https://httpbin.org/post'}\n"
     ]
    }
   ],
   "source": [
    "import requests\n",
    "\n",
    "url = 'https://httpbin.org/post'\n",
    "data = dict(title = 'Coffee is better than Tea')\n",
    "\n",
    "resp = requests.post(url, data=data)\n",
    "print('Response for POST')\n",
    "print(resp.json())"
   ]
  },
  {
   "cell_type": "markdown",
   "metadata": {},
   "source": [
    "## Persiting data on disk\n",
    "We will be using `pickle`, `selve`, and SQLAlchemy, the most widely adopted ORM Library in Python ecosystem."
   ]
  },
  {
   "cell_type": "markdown",
   "metadata": {},
   "source": [
    "### Serialising Data with `pickle`\n",
    "`pickle` module offers tools to convert Python objects into byte objects and vice versa.    \n",
    "> Even though there is a partial overlap in the API that `pickle` and `json` expose, they are quite different. JSON is a human-readable text format, and the pickle module is not human readable and translates to bytes, and is Python-specific, and supports extremely large number of datatypes.    \n",
    "\n",
    "WARNING: `pickle` poses a Security Threat, in the sense  that *unpickling* malicious code can be very dangerous. "
   ]
  },
  {
   "cell_type": "code",
   "execution_count": 47,
   "metadata": {},
   "outputs": [
    {
     "name": "stdout",
     "output_type": "stream",
     "text": [
      "I am Obi-Wan Kenobi and my ID is123\n",
      "I am Anakin Skywalker and my ID is456\n"
     ]
    }
   ],
   "source": [
    "import pickle\n",
    "from dataclasses import dataclass\n",
    "\n",
    "@dataclass\n",
    "class Person:\n",
    "    first_name: str\n",
    "    last_name: str\n",
    "    id: int\n",
    "    \n",
    "    def greet(self):\n",
    "        print(f'I am {self.first_name} {self.last_name}',\n",
    "             f'and my ID is{self.id}'\n",
    "        )\n",
    "        \n",
    "people = [\n",
    "    Person('Obi-Wan', 'Kenobi', 123),\n",
    "    Person('Anakin', 'Skywalker', 456),\n",
    "]\n",
    "\n",
    "# save data to binary format to a file\n",
    "with open('data.pickle', 'wb') as stream:\n",
    "    pickle.dump(people, stream)\n",
    "    \n",
    "# load data from file\n",
    "with open('data.pickle', 'rb') as stream:\n",
    "    peeps = pickle.load(stream)\n",
    "    \n",
    "for person in peeps:\n",
    "    person.greet()"
   ]
  },
  {
   "cell_type": "markdown",
   "metadata": {},
   "source": [
    "### Saving data with `shelve`\n",
    "A shelve is a persistant dictionary like object with values that can be anything that can be pickled, unlike a database. Abeit useful, the `shelve` module is rarely used in practice."
   ]
  },
  {
   "cell_type": "code",
   "execution_count": 53,
   "metadata": {},
   "outputs": [
    {
     "name": "stdout",
     "output_type": "stream",
     "text": [
      "['d', 'a_list', 'delete_me', 's', 'c']\n",
      "['d', 'a_list', 's', 'c']\n",
      "False\n",
      "True\n",
      "[2, 3, 5, 7]\n"
     ]
    }
   ],
   "source": [
    "import shelve\n",
    "\n",
    "class Person:\n",
    "    def __init__(self, name, id):\n",
    "        self.name = name\n",
    "        self.id = id\n",
    "    \n",
    "with shelve.open('shelf1.shelve') as db:\n",
    "    db['s'] = Person('Sam Winchester', 123)\n",
    "    db['d'] = Person('Dean Winchester', 456)\n",
    "    db['c'] = Person('Castiel', 789)\n",
    "    db['a_list'] = [2,3,5]\n",
    "    db['delete_me'] = 'delet dis'\n",
    "    \n",
    "    print(list(db.keys()))\n",
    "    del db['delete_me']\n",
    "    \n",
    "    print(list(db.keys()))\n",
    "    \n",
    "    print('delete_me' in db)\n",
    "    print('c' in db)\n",
    "    \n",
    "    a_list = db['a_list']\n",
    "    a_list.append(7)\n",
    "    db['a_list'] = a_list\n",
    "    print(db['a_list'])"
   ]
  },
  {
   "cell_type": "markdown",
   "metadata": {},
   "source": [
    "The parameter `writeback` allows data to be modified. It is disabled by default to optimize memory usage and security. "
   ]
  },
  {
   "cell_type": "code",
   "execution_count": 56,
   "metadata": {},
   "outputs": [
    {
     "name": "stdout",
     "output_type": "stream",
     "text": [
      "[11, 13, 17, 19]\n"
     ]
    }
   ],
   "source": [
    "with shelve.open('shelf2.selve', writeback=True) as db:\n",
    "    db['a_list'] = [11,13,17]\n",
    "    db['a_list'].append(19)\n",
    "    print(db['a_list'])"
   ]
  },
  {
   "cell_type": "markdown",
   "metadata": {},
   "source": [
    "### Saving data to database: SQLAlchemy\n",
    "A **Relational Database** is a database that saves data following the **Relational Model**. In this model, data is stored in one or more tables, each having rows (aka _records_ or _tuples_), each representing an entry in the table, and columns (aka _attributes_), each of which represents an attribute of the records. Each record is identified through a unique key, more commonly known as the **Primary Key**, which is a union of one or more columns in a table.    \n",
    "The model is called **Relational** is becuase a relationship can be established between tables.    \n",
    "For Example: In a table `Users` with attributes `id`, `username`, `password`, `name`, and `surname`, a new table `PhoneNumbers` can be added, and then through relation, it can be established which phone number belongs to which user. \n",
    "\n",
    "In order to query a relational database, we need a special language. The main standard is **SQL (Structured Query Language)**, born out of **relational algebra**. \n",
    "\n",
    "Each Database comes with its own flavor of SQL. Most respects the standard upto an extent, but none respects it fully. It can be quite painful, as SQL Queries become very complicated very quickly. Therefore, Computer Scientists created code that maps objects of a particular language to tables of a relational database, named Object-Relational Mapping (ORMs).\n",
    "\n",
    "SQLAlchemy is the most popular python ORM.\n",
    "\n",
    "##### Example of SQLAlchemy:"
   ]
  },
  {
   "cell_type": "markdown",
   "metadata": {},
   "source": [
    "First, import some functions and Create an Engine:"
   ]
  },
  {
   "cell_type": "code",
   "execution_count": 59,
   "metadata": {},
   "outputs": [],
   "source": [
    "from sqlalchemy.ext.declarative import declarative_base\n",
    "from sqlalchemy import(\n",
    "    Column,\n",
    "    Integer,\n",
    "    String,\n",
    "    ForeignKey,\n",
    "    create_engine\n",
    ")\n",
    "\n",
    "from sqlalchemy.orm import relationship"
   ]
  },
  {
   "cell_type": "code",
   "execution_count": 62,
   "metadata": {},
   "outputs": [],
   "source": [
    "engine = create_engine('sqlite:///:memory:')\n",
    "Base = declarative_base()\n",
    "\n",
    "class Person(Base):\n",
    "    __tablename__ = 'person'\n",
    "    \n",
    "    id = Column(Integer, primary_key=True)\n",
    "    name = Column(String)\n",
    "    age = Column(Integer)\n",
    "    \n",
    "    address = relationship(\n",
    "        'Address', back_populates='person', \n",
    "        order_by='Address.email', \n",
    "        cascade='all, delete-orphan'\n",
    "    )\n",
    "    \n",
    "    def __repr__(self):\n",
    "        return f'{self.name}(id={self.id})'\n",
    "class Address(Base):\n",
    "    __tablename__ = 'address'\n",
    "    id = Column(Integer, primary_key=True)\n",
    "    email = Column(String)\n",
    "    person_id = Column(ForeignKey('person.id'))\n",
    "    person = relationship('Person', back_populates='addresses')\n",
    "    \n",
    "    def __str__(self):\n",
    "        return self.email\n",
    "    __repr__ = __str__\n",
    "    \n",
    "Base.metadata.create_all(engine)"
   ]
  },
  {
   "cell_type": "markdown",
   "metadata": {},
   "source": [
    "## Summary\n",
    "- Files and directories\n",
    "- Compression\n",
    "- Networks and streams\n",
    "- The JSON data-interchange format\n",
    "- Data persistence with pickle and shelve, from the standard library\n",
    "- Data persistence with SQLAlchemy"
   ]
  }
 ],
 "metadata": {
  "kernelspec": {
   "display_name": "Python 3",
   "language": "python",
   "name": "python3"
  },
  "language_info": {
   "codemirror_mode": {
    "name": "ipython",
    "version": 3
   },
   "file_extension": ".py",
   "mimetype": "text/x-python",
   "name": "python",
   "nbconvert_exporter": "python",
   "pygments_lexer": "ipython3",
   "version": "3.8.3"
  }
 },
 "nbformat": 4,
 "nbformat_minor": 4
}
