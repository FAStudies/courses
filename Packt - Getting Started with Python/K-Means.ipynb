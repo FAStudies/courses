{
 "cells": [
  {
   "cell_type": "markdown",
   "metadata": {},
   "source": [
    "# Clustering\n",
    "- Hierarchial\n",
    "    - Agglomerative\n",
    "    - Divisive\n",
    "- Partition\n",
    "    - KMeans\n",
    "    - Fuzzy CMeans"
   ]
  },
  {
   "cell_type": "code",
   "execution_count": 62,
   "metadata": {},
   "outputs": [],
   "source": [
    "import numpy as np\n",
    "import pandas as pd\n",
    "\n",
    "import matplotlib.pyplot as plt\n",
    "\n",
    "from sklearn.cluster import KMeans\n",
    "from sklearn.preprocessing import MinMaxScaler"
   ]
  },
  {
   "cell_type": "code",
   "execution_count": 63,
   "metadata": {},
   "outputs": [],
   "source": [
    "dataset = pd.read_csv('Iris.csv')\n",
    "\n",
    "dataset.drop('Species', axis='columns', inplace=True)\n",
    "dataset.drop('SepalLengthCm', axis='columns', inplace=True)\n",
    "dataset.drop('SepalWidthCm', axis='columns', inplace=True)\n",
    "\n",
    "\n",
    "scaler = MinMaxScaler()\n",
    "scaler.fit(dataset[['PetalLengthCm']])\n",
    "dataset['PetalLengthCm'] = scaler.transform(dataset[['PetalLengthCm']])\n",
    "scaler.fit(dataset[['PetalWidthCm']])\n",
    "dataset['PetalWidthCm'] = scaler.transform(dataset[['PetalWidthCm']])\n",
    "\n",
    "model = KMeans(n_clusters=3)\n",
    "predicted = model.fit_predict(dataset)"
   ]
  },
  {
   "cell_type": "code",
   "execution_count": 65,
   "metadata": {},
   "outputs": [
    {
     "data": {
      "text/plain": [
       "<matplotlib.collections.PathCollection at 0x7f86e587abb0>"
      ]
     },
     "execution_count": 65,
     "metadata": {},
     "output_type": "execute_result"
    },
    {
     "data": {
      "image/png": "[encoded data removed]",
      "text/plain": [
       "<Figure size 1080x720 with 1 Axes>"
      ]
     },
     "metadata": {
      "needs_background": "light"
     },
     "output_type": "display_data"
    }
   ],
   "source": [
    "dataset['Cluster'] = predicted\n",
    "dataset1 = dataset[dataset['Cluster'] == 0]\n",
    "dataset2 = dataset[dataset['Cluster'] == 1]\n",
    "dataset3 = dataset[dataset['Cluster'] == 2]\n",
    "plt.figure(figsize=(15,10))\n",
    "plt.scatter(dataset1['PetalLengthCm'], dataset1['PetalWidthCm'],s=100, color='magenta', marker='.')\n",
    "plt.scatter(dataset2['PetalLengthCm'], dataset2['PetalWidthCm'],s=100, color='blue', marker='*')\n",
    "plt.scatter(dataset3['PetalLengthCm'], dataset3['PetalWidthCm'],s=100, color='skyblue', marker='^')\n",
    "\n",
    "# plt.scatter(model.cluster_centers_[0][0], model.cluster_centers_[0][1], s=300, color='red', marker='x')\n",
    "# plt.scatter(model.cluster_centers_[1][0], model.cluster_centers_[1][1], s=300, color='red', marker='x')\n",
    "# plt.scatter(model.cluster_centers_[2][0], model.cluster_centers_[2][1], s=300, color='red', marker='x')"
   ]
  },
  {
   "cell_type": "code",
   "execution_count": null,
   "metadata": {},
   "outputs": [],
   "source": []
  }
 ],
 "metadata": {
  "kernelspec": {
   "display_name": "Python 3",
   "language": "python",
   "name": "python3"
  },
  "language_info": {
   "codemirror_mode": {
    "name": "ipython",
    "version": 3
   },
   "file_extension": ".py",
   "mimetype": "text/x-python",
   "name": "python",
   "nbconvert_exporter": "python",
   "pygments_lexer": "ipython3",
   "version": "3.8.5"
  }
 },
 "nbformat": 4,
 "nbformat_minor": 4
}
