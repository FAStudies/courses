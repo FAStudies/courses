{
 "cells": [
  {
   "cell_type": "markdown",
   "metadata": {},
   "source": [
    "# Chapter 4 - Functions, the Building Blocks of Code"
   ]
  },
  {
   "cell_type": "markdown",
   "metadata": {},
   "source": [
    "A function is a sequence of instructions to do something, contained in a unit."
   ]
  },
  {
   "cell_type": "markdown",
   "metadata": {},
   "source": [
    "## Why use functions\n",
    "- They reduce code duplication in a program. By having a specific task taken care of by a nice block of packaged code that we can import and call whenever we want, we don't need to duplicate its implementation.\n",
    "- They help in splitting a complex task or procedure into smaller blocks, each of which becomes a function.\n",
    "- They hide the implementation details from their users.\n",
    "- They improve traceability.\n",
    "- They improve readability."
   ]
  },
  {
   "cell_type": "markdown",
   "metadata": {},
   "source": [
    "## Scopes and Name Resolution"
   ]
  },
  {
   "cell_type": "code",
   "execution_count": 3,
   "metadata": {},
   "outputs": [
    {
     "name": "stdout",
     "output_type": "stream",
     "text": [
      "MyFunction::Test:  1\n",
      "Global::Test:  0\n"
     ]
    }
   ],
   "source": [
    "def myFunction():\n",
    "    test=1\n",
    "    print(\"MyFunction::Test: \", test)\n",
    "    \n",
    "test=0\n",
    "myFunction()\n",
    "print('Global::Test: ', test)"
   ]
  },
  {
   "cell_type": "markdown",
   "metadata": {},
   "source": [
    "Python searches for Object in the next enclosing namespace at each step until it's found, as specified by the ***LEGB*** Rule: ***Local, Enclosing, Global, Built-in***. "
   ]
  },
  {
   "cell_type": "code",
   "execution_count": 8,
   "metadata": {},
   "outputs": [
    {
     "name": "stdout",
     "output_type": "stream",
     "text": [
      "Inner::test:  2\n",
      "Outer::test:  1\n",
      "Global::test:  0\n"
     ]
    }
   ],
   "source": [
    "def outer():\n",
    "    test = 1\n",
    "    def inner():\n",
    "        test = 2\n",
    "        print(\"Inner::test: \",test)\n",
    "    inner()\n",
    "    print('Outer::test: ', test)\n",
    "    \n",
    "test=0\n",
    "outer()\n",
    "print('Global::test: ', test)"
   ]
  },
  {
   "cell_type": "code",
   "execution_count": 9,
   "metadata": {},
   "outputs": [
    {
     "name": "stdout",
     "output_type": "stream",
     "text": [
      "Inner::test:  2\n",
      "Outer::test:  0\n",
      "Global::test:  0\n"
     ]
    }
   ],
   "source": [
    "def outer():\n",
    "    # test = 1\n",
    "    def inner():\n",
    "        test = 2\n",
    "        print(\"Inner::test: \",test)\n",
    "    inner()\n",
    "    print('Outer::test: ', test)\n",
    "    \n",
    "test=0\n",
    "outer()\n",
    "print('Global::test: ', test)"
   ]
  },
  {
   "cell_type": "markdown",
   "metadata": {},
   "source": [
    "## The global and nonlocal statements"
   ]
  },
  {
   "cell_type": "code",
   "execution_count": 12,
   "metadata": {},
   "outputs": [
    {
     "name": "stdout",
     "output_type": "stream",
     "text": [
      "inner:  2\n",
      "outer: 2\n",
      "global 0\n"
     ]
    }
   ],
   "source": [
    "def outer():\n",
    "    test=1\n",
    "    def inner():\n",
    "        nonlocal test\n",
    "        test = 2\n",
    "        print('inner: ', test)\n",
    "    inner()\n",
    "    print('outer:', test)\n",
    "test = 0\n",
    "outer()\n",
    "print('global', test)\n"
   ]
  },
  {
   "cell_type": "code",
   "execution_count": 13,
   "metadata": {},
   "outputs": [
    {
     "name": "stdout",
     "output_type": "stream",
     "text": [
      "inner:  2\n",
      "outer: 1\n",
      "global 2\n"
     ]
    }
   ],
   "source": [
    "def outer():\n",
    "    test=1\n",
    "    def inner():\n",
    "        global test\n",
    "        test = 2\n",
    "        print('inner: ', test)\n",
    "    inner()\n",
    "    print('outer:', test)\n",
    "test = 0\n",
    "outer()\n",
    "print('global', test)\n",
    "\n"
   ]
  },
  {
   "cell_type": "markdown",
   "metadata": {},
   "source": [
    "# Input parameters"
   ]
  },
  {
   "cell_type": "code",
   "execution_count": 15,
   "metadata": {},
   "outputs": [
    {
     "name": "stdout",
     "output_type": "stream",
     "text": [
      "3\n"
     ]
    }
   ],
   "source": [
    "def add(a,b):\n",
    "    print(a+b)\n",
    "    \n",
    "add(1,2)"
   ]
  },
  {
   "cell_type": "markdown",
   "metadata": {},
   "source": [
    "### Changing a immutable doesn't affect the caller"
   ]
  },
  {
   "cell_type": "code",
   "execution_count": 16,
   "metadata": {},
   "outputs": [
    {
     "name": "stdout",
     "output_type": "stream",
     "text": [
      "2\n"
     ]
    }
   ],
   "source": [
    "def modify(a):\n",
    "    a = 3\n",
    "\n",
    "a = 2\n",
    "modify(a)\n",
    "print(a)"
   ]
  },
  {
   "cell_type": "markdown",
   "metadata": {},
   "source": [
    "### Changing a mutable does affect the caller"
   ]
  },
  {
   "cell_type": "code",
   "execution_count": 19,
   "metadata": {},
   "outputs": [
    {
     "name": "stdout",
     "output_type": "stream",
     "text": [
      "[69, 420, 666]\n"
     ]
    }
   ],
   "source": [
    "def modify(x):\n",
    "    x[0] = 69\n",
    "    \n",
    "x = [1,420,666]\n",
    "modify(x)\n",
    "print(x)"
   ]
  },
  {
   "cell_type": "markdown",
   "metadata": {},
   "source": [
    "## Ways of specifying the input parameters\n",
    "There are five different ways to specify input parameters:\n",
    "- Positional Arguments\n",
    "- Keyword Arguments\n",
    "- Variable Positional Arguments\n",
    "- Variable Keyword Arguments\n",
    "- Keyword-Only arguments"
   ]
  },
  {
   "cell_type": "markdown",
   "metadata": {},
   "source": [
    "## Positional Arguments\n",
    "They are read from left to right."
   ]
  },
  {
   "cell_type": "code",
   "execution_count": 20,
   "metadata": {},
   "outputs": [
    {
     "name": "stdout",
     "output_type": "stream",
     "text": [
      "6\n"
     ]
    }
   ],
   "source": [
    "def add(a,b,c):\n",
    "    return a+b+c\n",
    "\n",
    "print(add(1,2,3))"
   ]
  },
  {
   "cell_type": "markdown",
   "metadata": {},
   "source": [
    "## Keyword Arguments and Default Values\n",
    "They are assigned by keyword using the `name=value` syntax."
   ]
  },
  {
   "cell_type": "code",
   "execution_count": 23,
   "metadata": {},
   "outputs": [
    {
     "name": "stdout",
     "output_type": "stream",
     "text": [
      "6\n"
     ]
    }
   ],
   "source": [
    "def add(a,b,c):\n",
    "    return a+b+c\n",
    "\n",
    "print(add(a=1, b=2, c=3))"
   ]
  },
  {
   "cell_type": "markdown",
   "metadata": {},
   "source": [
    "You can also use default values by this method, which can also be overriden."
   ]
  },
  {
   "cell_type": "code",
   "execution_count": 27,
   "metadata": {},
   "outputs": [
    {
     "name": "stdout",
     "output_type": "stream",
     "text": [
      "1155\n",
      "909\n",
      "558\n"
     ]
    }
   ],
   "source": [
    "def add(a,b=69,c=420):\n",
    "    return a+b+c\n",
    "\n",
    "print(add(666))\n",
    "print(add(a = 420))\n",
    "print(add(a = 69, b=69))"
   ]
  },
  {
   "cell_type": "markdown",
   "metadata": {},
   "source": [
    "## Variable Positional Arguments\n",
    "You can use a Variable number of Positional Arguments."
   ]
  },
  {
   "cell_type": "code",
   "execution_count": 32,
   "metadata": {},
   "outputs": [
    {
     "name": "stdout",
     "output_type": "stream",
     "text": [
      "<class 'tuple'>\n",
      "0\n"
     ]
    }
   ],
   "source": [
    "def minimum(*n):\n",
    "    print(type(n))\n",
    "    if n:\n",
    "        mn = n[0]\n",
    "        for val in n[1:]:\n",
    "            if val < mn:\n",
    "                mn = val\n",
    "        print(mn)\n",
    "        \n",
    "minimum(1,2,3,4,45,32,2,0)"
   ]
  },
  {
   "cell_type": "markdown",
   "metadata": {},
   "source": [
    "All the arguments are stored in a tuple."
   ]
  },
  {
   "cell_type": "markdown",
   "metadata": {},
   "source": [
    "## Variable Keyword Arguments\n",
    "They are similar to Variable Positional Arguments, with difference in syntax (\\** instead of \\*).\n"
   ]
  },
  {
   "cell_type": "code",
   "execution_count": 34,
   "metadata": {},
   "outputs": [
    {
     "name": "stdout",
     "output_type": "stream",
     "text": [
      "{'a': 1, 'b': 2}\n",
      "{'a': 1, 'b': 2}\n",
      "{'a': 1, 'b': 2}\n"
     ]
    }
   ],
   "source": [
    "def func(**kwargs):\n",
    "    print(kwargs)\n",
    "    \n",
    "func(a=1, b=2)\n",
    "func(**{'a':1, 'b':2})\n",
    "func(**dict(a=1, b=2))"
   ]
  },
  {
   "cell_type": "markdown",
   "metadata": {},
   "source": [
    "All the arguments are stored in a dictionary."
   ]
  },
  {
   "cell_type": "markdown",
   "metadata": {},
   "source": [
    "Another, this time a real-world Example:"
   ]
  },
  {
   "cell_type": "code",
   "execution_count": 36,
   "metadata": {},
   "outputs": [
    {
     "name": "stdout",
     "output_type": "stream",
     "text": [
      "{'host': '127.0.0.1', 'port': 5432, 'user': '', 'pwd': ''}\n",
      "{'host': '127.0.0.42', 'port': 5433, 'user': '', 'pwd': ''}\n",
      "{'host': '127.0.0.1', 'port': 5431, 'user': 'fab', 'pwd': 'gandalf'}\n"
     ]
    }
   ],
   "source": [
    "def connect(**options):\n",
    "    conn_params = {\n",
    "        'host': options.get('host', '127.0.0.1'),\n",
    "        'port': options.get('port', 5432),\n",
    "        'user': options.get('user', ''),\n",
    "        'pwd': options.get('pwd', ''),\n",
    "    }\n",
    "    print(conn_params)\n",
    "    # we then connect to the db (commented out)\n",
    "    # db.connect(**conn_params)\n",
    "\n",
    "connect()\n",
    "connect(host='127.0.0.42', port=5433)\n",
    "connect(port=5431, user='fab', pwd='gandalf')"
   ]
  },
  {
   "cell_type": "markdown",
   "metadata": {},
   "source": [
    "## Keyword-Only Arguments"
   ]
  },
  {
   "cell_type": "code",
   "execution_count": 46,
   "metadata": {},
   "outputs": [
    {
     "name": "stdout",
     "output_type": "stream",
     "text": [
      "(1, 2) 5\n",
      "3 7 98\n",
      "3 2 13\n"
     ]
    }
   ],
   "source": [
    "def kwo(*a, c):\n",
    "    print(a,c)\n",
    "    \n",
    "kwo(1,2, c= 5)\n",
    "# kwo(1,2) # Error: 'kwo() missing 1 required keyword-only argument: 'c''\n",
    "\n",
    "def kwo2(a, b=2, *, c):\n",
    "    print(a,b,c)\n",
    "    \n",
    "kwo2(3, b=7, c=98)\n",
    "kwo2(3, c=13)\n",
    "# kwo2(69,420) # Error: 'kwo2() missing 1 required keyword-only argument: 'c'"
   ]
  },
  {
   "cell_type": "markdown",
   "metadata": {},
   "source": [
    "## Combining Input Parameters\n",
    "**When Defining a Function:** Normal positional arguemnts come first, then default arguments,then the variable positional arguments, then the keyword-only arguments, then the variable keyword arguments.\n",
    "**When Calling a Function:** Positional Arguments first, then any combination of keyword arguments, then variable positional arguments, then variable keyword arguments"
   ]
  },
  {
   "cell_type": "code",
   "execution_count": 47,
   "metadata": {},
   "outputs": [
    {
     "name": "stdout",
     "output_type": "stream",
     "text": [
      "a, b, c: 1 2 3\n",
      "args: (5, 7, 9)\n",
      "kwargs: {'A': 'a', 'B': 'b'}\n",
      "a, b, c: 1 2 3\n",
      "args: (5, 7, 9)\n",
      "kwargs: {'A': 'a', 'B': 'b'}\n"
     ]
    }
   ],
   "source": [
    "def func(a, b, c=7, *args, **kwargs):\n",
    "    print('a, b, c:', a, b, c)\n",
    "    print('args:', args)\n",
    "    print('kwargs:', kwargs)\n",
    "\n",
    "func(1, 2, 3, *(5, 7, 9), **{'A': 'a', 'B': 'b'})\n",
    "func(1, 2, 3, 5, 7, 9, A='a', B='b')  # same as previous one"
   ]
  },
  {
   "cell_type": "markdown",
   "metadata": {},
   "source": [
    "## Additional Unpacking Generalisations"
   ]
  },
  {
   "cell_type": "code",
   "execution_count": 48,
   "metadata": {},
   "outputs": [
    {
     "name": "stdout",
     "output_type": "stream",
     "text": [
      "(1, 2, 3, 4, 5)\n",
      "{'option1': 10, 'option2': 20, 'option3': 30}\n"
     ]
    }
   ],
   "source": [
    "def additional(*args, **kwargs):\n",
    "    print(args)\n",
    "    print(kwargs)\n",
    "    \n",
    "args1 = (1, 2, 3)\n",
    "args2 = [4, 5]\n",
    "kwargs1 = dict(option1=10, option2=20)\n",
    "kwargs2 = {'option3': 30}\n",
    "additional(*args1, *args2, **kwargs1, **kwargs2)"
   ]
  },
  {
   "cell_type": "markdown",
   "metadata": {},
   "source": [
    "## Avoid the Trap - Mutable Defaults\n",
    "Default values are created at `def` time, therefore, subsequent calls will possibly behave differently according to the mutability of their default values. "
   ]
  },
  {
   "cell_type": "code",
   "execution_count": 51,
   "metadata": {},
   "outputs": [
    {
     "name": "stdout",
     "output_type": "stream",
     "text": [
      "[]\n",
      "{}\n",
      "############\n",
      "[0]\n",
      "{1: 1}\n",
      "############\n",
      "[0, 1]\n",
      "{1: 1, 2: 2}\n",
      "############\n"
     ]
    }
   ],
   "source": [
    "def func(a=[], b={}):\n",
    "    print(a)\n",
    "    print(b)\n",
    "    print('#'*12)\n",
    "    a.append(len(a))\n",
    "    b[len(a)] = len(a)\n",
    "    \n",
    "func()\n",
    "func()\n",
    "func()"
   ]
  },
  {
   "cell_type": "markdown",
   "metadata": {},
   "source": [
    "This functionality is useful in things like Memorisation Techniques."
   ]
  },
  {
   "cell_type": "markdown",
   "metadata": {},
   "source": [
    "To get a fresh empty value every time, the convention is following:"
   ]
  },
  {
   "cell_type": "code",
   "execution_count": null,
   "metadata": {},
   "outputs": [],
   "source": [
    "def func(a=None):\n",
    "    if a is None:\n",
    "        a = []\n",
    "    # Do whatever you want with a"
   ]
  },
  {
   "cell_type": "markdown",
   "metadata": {},
   "source": [
    "## Return Values"
   ]
  },
  {
   "cell_type": "markdown",
   "metadata": {},
   "source": [
    "In python, a function always returns a value. Default is `None`, but it can be overridden to return a result."
   ]
  },
  {
   "cell_type": "code",
   "execution_count": 52,
   "metadata": {},
   "outputs": [
    {
     "name": "stdout",
     "output_type": "stream",
     "text": [
      "Sherlock Holmes\n"
     ]
    }
   ],
   "source": [
    "def getName():\n",
    "    return 'Sherlock Holmes'\n",
    "\n",
    "print(getName())"
   ]
  },
  {
   "cell_type": "markdown",
   "metadata": {},
   "source": [
    "In Python, Multiple values can also be returned (with the help of a `tuple`), which can be stored in a collection, or unpacked into seperate variables."
   ]
  },
  {
   "cell_type": "code",
   "execution_count": 55,
   "metadata": {},
   "outputs": [
    {
     "name": "stdout",
     "output_type": "stream",
     "text": [
      "Sherlock Holmes lives in 221B Baker St.\n"
     ]
    }
   ],
   "source": [
    "def getDetails():\n",
    "    return 'Sherlock Holmes', '221B Baker St.'\n",
    "\n",
    "name, address = getDetails()\n",
    "print(name, 'lives in', address)"
   ]
  },
  {
   "cell_type": "markdown",
   "metadata": {},
   "source": [
    "## Recursive Functions\n",
    "A recursive function is a function that calls itself, until a condition is met (or until a `stack overflow` error is thrown)."
   ]
  },
  {
   "cell_type": "code",
   "execution_count": 58,
   "metadata": {},
   "outputs": [
    {
     "name": "stdout",
     "output_type": "stream",
     "text": [
      "120\n"
     ]
    }
   ],
   "source": [
    "def factorial(n):\n",
    "    if n in (0,1):\n",
    "        return 1\n",
    "    return n * factorial(n-1)\n",
    "\n",
    "print(factorial(5))"
   ]
  },
  {
   "cell_type": "markdown",
   "metadata": {},
   "source": [
    "## Anonymus Functions\n",
    "Anonymus Functions, called __Lambdas__ in python, are one-linear functions."
   ]
  },
  {
   "cell_type": "code",
   "execution_count": 63,
   "metadata": {},
   "outputs": [
    {
     "name": "stdout",
     "output_type": "stream",
     "text": [
      "[0, 5, 10, 15, 20, 25, 30, 35, 40, 45, 50, 55, 60, 65]\n"
     ]
    }
   ],
   "source": [
    "def isMultiple(n):\n",
    "    return not n % 5\n",
    "\n",
    "def getMultiplesof5(n):\n",
    "    return list(filter(isMultiple, range(n)))\n",
    "\n",
    "print(getMultiplesof5(69))"
   ]
  },
  {
   "cell_type": "markdown",
   "metadata": {},
   "source": [
    "Implementing this using lambdas:"
   ]
  },
  {
   "cell_type": "code",
   "execution_count": 64,
   "metadata": {},
   "outputs": [],
   "source": [
    "def getMultiplesOf5Lambda(n):\n",
    "    return list(filter(lambda k : not k%5, range(n)))"
   ]
  },
  {
   "cell_type": "code",
   "execution_count": 69,
   "metadata": {},
   "outputs": [
    {
     "data": {
      "text/plain": [
       "[0, 5, 10, 15, 20, 25, 30, 35, 40, 45, 50, 55, 60, 65]"
      ]
     },
     "execution_count": 69,
     "metadata": {},
     "output_type": "execute_result"
    }
   ],
   "source": [
    "getMultiplesOf5Lambda(69)"
   ]
  },
  {
   "cell_type": "markdown",
   "metadata": {},
   "source": [
    "## Function Attributes"
   ]
  },
  {
   "cell_type": "markdown",
   "metadata": {},
   "source": [
    "Every function is a fully fledged object, and hence, can have many attributes."
   ]
  },
  {
   "cell_type": "code",
   "execution_count": 3,
   "metadata": {},
   "outputs": [
    {
     "name": "stdout",
     "output_type": "stream",
     "text": [
      "__doc__ -> Return a multiplied by b.\n",
      "__name__ -> multiplicatoin\n",
      "__qualname__ -> multiplicatoin\n",
      "__module__ -> __main__\n",
      "__defaults__ -> (1,)\n",
      "__code__ -> <code object multiplicatoin at 0x7f8575eca8a0, file \"<ipython-input-3-c85c98a40ca3>\", line 1>\n",
      "__globals__ -> {'__name__': '__main__', '__doc__': 'Automatically created module for IPython interactive environment', '__package__': None, '__loader__': None, '__spec__': None, '__builtin__': <module 'builtins' (built-in)>, '__builtins__': <module 'builtins' (built-in)>, '_ih': ['', 'def multiplicatoin(a, b=1):\\n    \"\"\"Return a multiplied by b.\"\"\"\\n    return a*b\\n\\nspecial_attributes = [\\n    \"__doc__\", \"__name__\", \"__qualname__\", \"__module__\", \"__defaulys\"\\n]', 'def multiplicatoin(a, b=1):\\n    \"\"\"Return a multiplied by b.\"\"\"\\n    return a*b\\n\\nspecial_attributes = [\\n    \"__doc__\", \"__name__\", \"__qualname__\", \\n    \"__module__\", \"__defaults\", \"__code__\", \\n    \"__globals__\", \"__dict__\", \"__closure__\", \\n    \"__annotations__\", \"__kwdefaults__\",\\n]\\n\\nfor attribute in special_attributes:\\n    print(attribute, \\'->\\', getattr(multiplicatoin, attribute))', 'def multiplicatoin(a, b=1):\\n    \"\"\"Return a multiplied by b.\"\"\"\\n    return a*b\\n\\nspecial_attributes = [\\n    \"__doc__\", \"__name__\", \"__qualname__\", \\n    \"__module__\", \"__defaults__\", \"__code__\", \\n    \"__globals__\", \"__dict__\", \"__closure__\", \\n    \"__annotations__\", \"__kwdefaults__\",\\n]\\n\\nfor attribute in special_attributes:\\n    print(attribute, \\'->\\', getattr(multiplicatoin, attribute))'], '_oh': {}, '_dh': ['/Users/harshchaturvedi/OneDrive/Source/Projects/Study/Getting Started with Python'], 'In': ['', 'def multiplicatoin(a, b=1):\\n    \"\"\"Return a multiplied by b.\"\"\"\\n    return a*b\\n\\nspecial_attributes = [\\n    \"__doc__\", \"__name__\", \"__qualname__\", \"__module__\", \"__defaulys\"\\n]', 'def multiplicatoin(a, b=1):\\n    \"\"\"Return a multiplied by b.\"\"\"\\n    return a*b\\n\\nspecial_attributes = [\\n    \"__doc__\", \"__name__\", \"__qualname__\", \\n    \"__module__\", \"__defaults\", \"__code__\", \\n    \"__globals__\", \"__dict__\", \"__closure__\", \\n    \"__annotations__\", \"__kwdefaults__\",\\n]\\n\\nfor attribute in special_attributes:\\n    print(attribute, \\'->\\', getattr(multiplicatoin, attribute))', 'def multiplicatoin(a, b=1):\\n    \"\"\"Return a multiplied by b.\"\"\"\\n    return a*b\\n\\nspecial_attributes = [\\n    \"__doc__\", \"__name__\", \"__qualname__\", \\n    \"__module__\", \"__defaults__\", \"__code__\", \\n    \"__globals__\", \"__dict__\", \"__closure__\", \\n    \"__annotations__\", \"__kwdefaults__\",\\n]\\n\\nfor attribute in special_attributes:\\n    print(attribute, \\'->\\', getattr(multiplicatoin, attribute))'], 'Out': {}, 'get_ipython': <bound method InteractiveShell.get_ipython of <ipykernel.zmqshell.ZMQInteractiveShell object at 0x7f857454f050>>, 'exit': <IPython.core.autocall.ZMQExitAutocall object at 0x7f85745c0910>, 'quit': <IPython.core.autocall.ZMQExitAutocall object at 0x7f85745c0910>, '_': '', '__': '', '___': '', '_i': 'def multiplicatoin(a, b=1):\\n    \"\"\"Return a multiplied by b.\"\"\"\\n    return a*b\\n\\nspecial_attributes = [\\n    \"__doc__\", \"__name__\", \"__qualname__\", \\n    \"__module__\", \"__defaults\", \"__code__\", \\n    \"__globals__\", \"__dict__\", \"__closure__\", \\n    \"__annotations__\", \"__kwdefaults__\",\\n]\\n\\nfor attribute in special_attributes:\\n    print(attribute, \\'->\\', getattr(multiplicatoin, attribute))', '_ii': 'def multiplicatoin(a, b=1):\\n    \"\"\"Return a multiplied by b.\"\"\"\\n    return a*b\\n\\nspecial_attributes = [\\n    \"__doc__\", \"__name__\", \"__qualname__\", \"__module__\", \"__defaulys\"\\n]', '_iii': '', '_i1': 'def multiplicatoin(a, b=1):\\n    \"\"\"Return a multiplied by b.\"\"\"\\n    return a*b\\n\\nspecial_attributes = [\\n    \"__doc__\", \"__name__\", \"__qualname__\", \"__module__\", \"__defaulys\"\\n]', 'multiplicatoin': <function multiplicatoin at 0x7f8575eca9e0>, 'special_attributes': ['__doc__', '__name__', '__qualname__', '__module__', '__defaults__', '__code__', '__globals__', '__dict__', '__closure__', '__annotations__', '__kwdefaults__'], '_i2': 'def multiplicatoin(a, b=1):\\n    \"\"\"Return a multiplied by b.\"\"\"\\n    return a*b\\n\\nspecial_attributes = [\\n    \"__doc__\", \"__name__\", \"__qualname__\", \\n    \"__module__\", \"__defaults\", \"__code__\", \\n    \"__globals__\", \"__dict__\", \"__closure__\", \\n    \"__annotations__\", \"__kwdefaults__\",\\n]\\n\\nfor attribute in special_attributes:\\n    print(attribute, \\'->\\', getattr(multiplicatoin, attribute))', 'attribute': '__globals__', '_i3': 'def multiplicatoin(a, b=1):\\n    \"\"\"Return a multiplied by b.\"\"\"\\n    return a*b\\n\\nspecial_attributes = [\\n    \"__doc__\", \"__name__\", \"__qualname__\", \\n    \"__module__\", \"__defaults__\", \"__code__\", \\n    \"__globals__\", \"__dict__\", \"__closure__\", \\n    \"__annotations__\", \"__kwdefaults__\",\\n]\\n\\nfor attribute in special_attributes:\\n    print(attribute, \\'->\\', getattr(multiplicatoin, attribute))'}\n",
      "__dict__ -> {}\n",
      "__closure__ -> None\n",
      "__annotations__ -> {}\n",
      "__kwdefaults__ -> None\n"
     ]
    }
   ],
   "source": [
    "def multiplicatoin(a, b=1):\n",
    "    \"\"\"Return a multiplied by b.\"\"\"\n",
    "    return a*b\n",
    "\n",
    "special_attributes = [\n",
    "    \"__doc__\", \"__name__\", \"__qualname__\", \n",
    "    \"__module__\", \"__defaults__\", \"__code__\", \n",
    "    \"__globals__\", \"__dict__\", \"__closure__\", \n",
    "    \"__annotations__\", \"__kwdefaults__\",\n",
    "]\n",
    "\n",
    "for attribute in special_attributes:\n",
    "    print(attribute, '->', getattr(multiplicatoin, attribute))"
   ]
  },
  {
   "cell_type": "markdown",
   "metadata": {},
   "source": [
    "## Built-in Functions\n",
    "Python comes with a lot of built-in functions. They are available anywhere and you can get a list of them by inspecting the builtins module with dir(\\_\\_builtins__), or by going to the official Python documentation."
   ]
  },
  {
   "cell_type": "markdown",
   "metadata": {},
   "source": [
    "## Importing Objects\n",
    "\n",
    "    from module import function as renamedFunction\n",
    "Example:"
   ]
  },
  {
   "cell_type": "code",
   "execution_count": 7,
   "metadata": {},
   "outputs": [],
   "source": [
    "from sklearn.cluster import AgglomerativeClustering as ac\n",
    "\n",
    "a = ac()"
   ]
  },
  {
   "cell_type": "markdown",
   "metadata": {},
   "source": [
    "### Relative Imports\n",
    "    from .module import func"
   ]
  },
  {
   "cell_type": "markdown",
   "metadata": {},
   "source": [
    "## Summary\n",
    "This chapter consisted of:\n",
    "- Scopes\n",
    "- Functions\n",
    "  - Parameters\n",
    "   - Positional\n",
    "   - Keyword\n",
    "   - Variable Positional\n",
    "   - Variable Keyword\n",
    "  - Return Type\n",
    "  - Attributes\n",
    "  - Recursive Functions\n",
    "- Imports"
   ]
  },
  {
   "cell_type": "code",
   "execution_count": null,
   "metadata": {},
   "outputs": [],
   "source": []
  }
 ],
 "metadata": {
  "kernelspec": {
   "display_name": "Python 3",
   "language": "python",
   "name": "python3"
  },
  "language_info": {
   "codemirror_mode": {
    "name": "ipython",
    "version": 3
   },
   "file_extension": ".py",
   "mimetype": "text/x-python",
   "name": "python",
   "nbconvert_exporter": "python",
   "pygments_lexer": "ipython3",
   "version": "3.8.3"
  }
 },
 "nbformat": 4,
 "nbformat_minor": 4
}
