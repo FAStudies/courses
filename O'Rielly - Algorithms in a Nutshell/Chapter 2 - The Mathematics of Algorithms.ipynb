{
 "cells": [
  {
   "cell_type": "markdown",
   "metadata": {},
   "source": [
    "# Chapter 2 - The Mathematics of Algorithms"
   ]
  },
  {
   "cell_type": "markdown",
   "metadata": {},
   "source": [
    "## Size of a Problem Instance\n",
    "An instance problem is a particular input data set given to a program. In most problems, the execution time increases with the size of this dataset. Also, overly compact representation (such as those using compression) may unnecessarily slow down things too. "
   ]
  },
  {
   "cell_type": "markdown",
   "metadata": {},
   "source": [
    "- When evaluating an algorithm, make sure as much as possible to assume that the encoding is not the determining factor in whether an algorithm can be implemented as efficiently as possible. \n",
    "- The representation of problem instance should just depend upon the type and variety of operations that need to be performed. \n",
    "- Designing efficient algorithms often start with selecting the proper data structures in which to represent the problem. "
   ]
  },
  {
   "cell_type": "markdown",
   "metadata": {},
   "source": [
    "Because we cannot formally define the size of an instance, we assume an instance is encoded in some generally accepted and consize manner.\n"
   ]
  },
  {
   "cell_type": "markdown",
   "metadata": {},
   "source": [
    "**Example:** Sorting $n$ integers, we adopt the general convension that each number fits in a 32-bit word in the computing platform, and size of instance to be sorted is $n$. In case some numbers require more than one word, but only a constant, fixed number of words, then measure of the size of an instance is off only by a multiplicative constant. Therefore using 64-bits, the algorithm takes twice as long. "
   ]
  },
  {
   "cell_type": "markdown",
   "metadata": {},
   "source": [
    "## Rate of Growth of Functions\n",
    "The function of rate of growth of execution time as the size of input problem instance increases is the rate of growth of functions.\n",
    "\n",
    "Characterising algorithm's peformance this way is a common abstraction ignoring numerous details like:\n",
    "- Computer running it, CPU, data cache, FPU, and other on-chip features. \n",
    "- Programming Language and Compiler/Interpreter and optimization settings for generated code. \n",
    "- OS\n",
    "- Background Processes\n",
    "\n",
    "We assume that changing the platform will change the execution time by a constant factor, and that we can therefore ignore platform differences in conformance with the asymptotically equivalent principle described earlier. "
   ]
  },
  {
   "cell_type": "markdown",
   "metadata": {},
   "source": [
    "**Example:** Sequential Search:\n",
    "- There are $n$ distinct elements in the list. \n",
    "- The list contains the desired value $v$.\n",
    "- Each elememt in the list is equally likely to be the desired value $v$.\n",
    "To understand the performance of sequential search, we must know how many elements it examines on average. Since $v$ is known to be in the list and each element is equally likely to be $v$, the average number of elements examined for each of the $n$ values divided by $n$. Mathematically:\n",
    "$$ E(n) = \\frac{1}{n} \\sum_{i=1}^{n} i = \\frac{n(n+1)}{2n} = \\frac{1}{2}n + \\frac{1}{2} $$"
   ]
  },
  {
   "cell_type": "markdown",
   "metadata": {},
   "source": [
    "Thus, sequential search examines half of the elements in a list of $n$ distinct elements subject to these assumptions. If no. of elements doubles, then sequential search should examine twice as many elements. The expected number of probes is a linear function of $n$, i.e. $c \\times n$ for some constant $c$, here, $c=0.5$."
   ]
  },
  {
   "cell_type": "markdown",
   "metadata": {},
   "source": [
    "Fundamental fact is that $c$ is unimportant in the long run. "
   ]
  },
  {
   "cell_type": "markdown",
   "metadata": {},
   "source": [
    "As $n$ gets larger, error in claiming that:\n",
    "\n",
    "$ \\frac{1}{2}n \\approx \\frac{1}{2}n+\\frac{1}{2}$\n",
    "\n",
    "becomes less significant. The ratio between the two sides of this approximation approaches 1. i.e.:\n",
    "$$ \\lim_{n \\to \\infty} \\frac{\\big(\\frac{1}{2}n\\big)}{\\big(\\frac{1}{2}n+\\frac{1}{2}\\big)} = 1$$"
   ]
  },
  {
   "cell_type": "markdown",
   "metadata": {},
   "source": [
    "When using abstraction of rate of growth, remember:\n",
    "- Constants Matter : That is why we use supercomputers and upgrade our computers on a regular basis. \n",
    "- Size of $n$ is not always large : **Example:** Quick Sort grows slower than Insertion Sort, yet Insertion Sort outperforms Quick Sort for small arrays. "
   ]
  },
  {
   "attachments": {
    "2765393d-e52d-4a1e-8cb6-134946cdcadb.png": {
     "image/png": "[encoded data removed]"
    }
   },
   "cell_type": "markdown",
   "metadata": {},
   "source": [
    "Consider 4 sorting algorithms sorting a block of *n* random strings. 50 trials were run, and average running time is plotted below:\n",
    "\n",
    "![image.png](attachment:2765393d-e52d-4a1e-8cb6-134946cdcadb.png)\n",
    "\n",
    "The variance between runs is surprising. \n",
    "\n",
    "One way to interpret these results is to try and design a function that will predict the performance of each on a problem instance sized $n$. \n",
    "We use commercially available software to compute a trend line with a statistical process **Regression Analysys**. \n",
    "\n",
    "The fitness of a trend line to the actual data is based on a value between 0 and 1, known as $R^2$ value. Values near 1 indicate high fitness, and 0 indicate lower fitness.\n",
    "\n",
    "**Example:** If $R^2 = 0.9948$, then there is only $0.52%$ chance the fitness is due to random variations in the data. "
   ]
  },
  {
   "cell_type": "markdown",
   "metadata": {},
   "source": [
    "Sort 4 ($y=0.0053n^2 - 0.3601n + 39.212$, $R^2 = 0.9948$) is clearly the worst performing of these sorting algorithms. $R^2$ so close to 1 indicates that this is an accurate estimate. \n",
    "\n",
    "Sort 2 ($y=0.05765n\\log(n)+7.9653$) offers the fastest implementation over given range of data points.\n",
    "Sort 2 marginally outperforms Sort 3 initially, and its ultimate behaviour is perhaps 10% faster than Sort-3.  "
   ]
  },
  {
   "cell_type": "markdown",
   "metadata": {},
   "source": [
    "Sort 3 has 2 distinct behavioural patters: For blocks of 39 or fewer strings, the  behaviour is classified as $y = 0.0016n^2+0.2939n+3.1838$, $R^2 = 0.9761$. However with 40 or more strings, it is $y = 0.0798n\\log(n)+142.7818$"
   ]
  },
  {
   "cell_type": "markdown",
   "metadata": {},
   "source": [
    "Numeric Coefficients are platform dependent. Long term trend of increasing $n$ dominates the computation of these behavoiurs. \n",
    "\n",
    "The real world behaviour may not be apparent until $n$ is large enough. "
   ]
  },
  {
   "cell_type": "markdown",
   "metadata": {},
   "source": [
    "## Analysis in Best, Average and Worst Case\n",
    "Will the result be true for all problem instances? How will the behaviour of, say Sort 2, change with different input problem of same size?\n",
    "- Data could contain large runs of elements already in sorted order. \n",
    "- Input could contain duplicate values. \n",
    "- Regardless of size, the elements could be drawn from much smaller set and contain significant amount of duplicates. \n"
   ]
  },
  {
   "cell_type": "markdown",
   "metadata": {},
   "source": [
    "### Worst Case\n",
    "Problem case where algorithm exhibits worst runtime behaviour.\n",
    "\n",
    "For a given program and a given value n, the worst-case execution time is the maximum execution time, where the maximum is taken over all instances of size n.\n",
    "If $S_n$ is the set of instances $s_i$ of size $n$, and $t()$ is a function that measures the work done by an algorithm on each instance, then work done by an algorithm on $S_n$ in the worst case is the maximum of t(si) over all $s_i$ ∈ $S_n$. Denoting this worst-case performance on Sn by Twc(n), the rate of growth of $T_{wc}(n)$ defines the worst-case complexity of the algorithm."
   ]
  },
  {
   "cell_type": "markdown",
   "metadata": {},
   "source": [
    "### Average Case\n",
    "Defines expected behaviour when executing algorithm on random problem instances. "
   ]
  },
  {
   "cell_type": "markdown",
   "metadata": {},
   "source": [
    "### Best Case\n",
    "Problem instance where algorithm exhibits best runtime behaviour. "
   ]
  },
  {
   "cell_type": "markdown",
   "metadata": {},
   "source": []
  }
 ],
 "metadata": {
  "kernelspec": {
   "display_name": "Python 3",
   "language": "python",
   "name": "python3"
  },
  "language_info": {
   "codemirror_mode": {
    "name": "ipython",
    "version": 3
   },
   "file_extension": ".py",
   "mimetype": "text/x-python",
   "name": "python",
   "nbconvert_exporter": "python",
   "pygments_lexer": "ipython3",
   "version": "3.8.5"
  }
 },
 "nbformat": 4,
 "nbformat_minor": 4
}
